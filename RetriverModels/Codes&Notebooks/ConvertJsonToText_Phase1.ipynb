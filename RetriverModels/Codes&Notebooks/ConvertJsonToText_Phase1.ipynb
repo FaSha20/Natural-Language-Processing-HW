{
  "cells": [
    {
      "cell_type": "markdown",
      "metadata": {
        "id": "ge3h86qp0AHD"
      },
      "source": [
        "## Data Preprocessing"
      ]
    },
    {
      "cell_type": "code",
      "execution_count": null,
      "metadata": {
        "colab": {
          "base_uri": "https://localhost:8080/"
        },
        "id": "Nsjb8bu2qGD7",
        "outputId": "7d1ac079-09e8-4cb7-87ac-dcc7c8f9c27e"
      },
      "outputs": [
        {
          "name": "stdout",
          "output_type": "stream",
          "text": [
            "Archive:  /content/drive/MyDrive/NLP_HW2/History.zip\n",
            "  inflating: /content/drive/MyDrive/NLP_HW2/History/EVENTS.json  \n",
            "  inflating: /content/drive/MyDrive/NLP_HW2/History/filtered_extracted_contents.json  \n",
            "  inflating: /content/drive/MyDrive/NLP_HW2/History/Treaties.json  \n",
            "  inflating: /content/drive/MyDrive/NLP_HW2/History/WAR_1.json  \n",
            "  inflating: /content/drive/MyDrive/NLP_HW2/History/WAR_2.json  \n"
          ]
        }
      ],
      "source": [
        "!unzip /content/drive/MyDrive/NLP_HW2/History.zip -d /content/drive/MyDrive/NLP_HW2/History"
      ]
    },
    {
      "cell_type": "code",
      "execution_count": null,
      "metadata": {
        "collapsed": true,
        "id": "Ad-cmfWgzVE_"
      },
      "outputs": [],
      "source": [
        "import json\n",
        "from tqdm import tqdm\n"
      ]
    },
    {
      "cell_type": "code",
      "execution_count": null,
      "metadata": {
        "id": "r-FVnHEu1lpk"
      },
      "outputs": [],
      "source": [
        "import openai\n",
        "\n",
        "api_key1 = \"\"\n",
        "api_key2 = \"\"\n",
        "base_url=\"https://generativelanguage.googleapis.com/v1beta/openai/\"\n",
        "\n",
        "client = openai.OpenAI(\n",
        "    api_key=api_key1,\n",
        "    base_url=base_url\n",
        ")\n",
        "\n",
        "LLM_API_MODEL = \"gemini-2.0-flash-lite\"\n",
        "\n",
        "def ask_gemini(user_input):\n",
        "  global client\n",
        "  try:\n",
        "    response = client.chat.completions.create(\n",
        "                model=LLM_API_MODEL,\n",
        "                messages=[{\"role\": \"user\", \"content\": user_input}]\n",
        "            )\n",
        "  except:\n",
        "    print(\"*** client2 activated\")\n",
        "    client = openai.OpenAI(\n",
        "        api_key=api_key2,\n",
        "        base_url=base_url\n",
        "    )\n",
        "    response = client.chat.completions.create(\n",
        "                model=LLM_API_MODEL,\n",
        "                messages=[{\"role\": \"user\", \"content\": user_input}]\n",
        "            )\n",
        "  content = response.choices[0].message.content\n",
        "  return content"
      ]
    },
    {
      "cell_type": "code",
      "execution_count": null,
      "metadata": {
        "colab": {
          "base_uri": "https://localhost:8080/",
          "height": 269
        },
        "id": "tYCkyvtYzIeF",
        "outputId": "7ec2f5e9-e4df-41fa-cc91-c16b115ae078"
      },
      "outputs": [
        {
          "ename": "KeyboardInterrupt",
          "evalue": "",
          "output_type": "error",
          "traceback": [
            "\u001b[0;31m---------------------------------------------------------------------------\u001b[0m",
            "\u001b[0;31mKeyboardInterrupt\u001b[0m                         Traceback (most recent call last)",
            "\u001b[0;32m/tmp/ipython-input-5-3855370329.py\u001b[0m in \u001b[0;36m<cell line: 0>\u001b[0;34m()\u001b[0m\n\u001b[0;32m----> 1\u001b[0;31m \u001b[0;32mfrom\u001b[0m \u001b[0mtransformers\u001b[0m \u001b[0;32mimport\u001b[0m \u001b[0mAutoTokenizer\u001b[0m\u001b[0;34m,\u001b[0m \u001b[0mAutoModelForCausalLM\u001b[0m\u001b[0;34m,\u001b[0m \u001b[0mpipeline\u001b[0m\u001b[0;34m\u001b[0m\u001b[0;34m\u001b[0m\u001b[0m\n\u001b[0m\u001b[1;32m      2\u001b[0m \u001b[0;32mimport\u001b[0m \u001b[0mtorch\u001b[0m\u001b[0;34m\u001b[0m\u001b[0;34m\u001b[0m\u001b[0m\n\u001b[1;32m      3\u001b[0m \u001b[0;34m\u001b[0m\u001b[0m\n\u001b[1;32m      4\u001b[0m \u001b[0mmodel_id\u001b[0m \u001b[0;34m=\u001b[0m \u001b[0;34m\"unsloth/Llama-3.2-3B-Instruct\"\u001b[0m\u001b[0;34m\u001b[0m\u001b[0;34m\u001b[0m\u001b[0m\n\u001b[1;32m      5\u001b[0m pipe = pipeline(\n",
            "\u001b[0;32m/usr/local/lib/python3.11/dist-packages/transformers/__init__.py\u001b[0m in \u001b[0;36m<module>\u001b[0;34m\u001b[0m\n\u001b[1;32m     25\u001b[0m \u001b[0;34m\u001b[0m\u001b[0m\n\u001b[1;32m     26\u001b[0m \u001b[0;31m# Check the dependencies satisfy the minimal versions required.\u001b[0m\u001b[0;34m\u001b[0m\u001b[0;34m\u001b[0m\u001b[0m\n\u001b[0;32m---> 27\u001b[0;31m \u001b[0;32mfrom\u001b[0m \u001b[0;34m.\u001b[0m \u001b[0;32mimport\u001b[0m \u001b[0mdependency_versions_check\u001b[0m\u001b[0;34m\u001b[0m\u001b[0;34m\u001b[0m\u001b[0m\n\u001b[0m\u001b[1;32m     28\u001b[0m from .utils import (\n\u001b[1;32m     29\u001b[0m     \u001b[0mOptionalDependencyNotAvailable\u001b[0m\u001b[0;34m,\u001b[0m\u001b[0;34m\u001b[0m\u001b[0;34m\u001b[0m\u001b[0m\n",
            "\u001b[0;32m/usr/local/lib/python3.11/dist-packages/transformers/dependency_versions_check.py\u001b[0m in \u001b[0;36m<module>\u001b[0;34m\u001b[0m\n\u001b[1;32m     14\u001b[0m \u001b[0;34m\u001b[0m\u001b[0m\n\u001b[1;32m     15\u001b[0m \u001b[0;32mfrom\u001b[0m \u001b[0;34m.\u001b[0m\u001b[0mdependency_versions_table\u001b[0m \u001b[0;32mimport\u001b[0m \u001b[0mdeps\u001b[0m\u001b[0;34m\u001b[0m\u001b[0;34m\u001b[0m\u001b[0m\n\u001b[0;32m---> 16\u001b[0;31m \u001b[0;32mfrom\u001b[0m \u001b[0;34m.\u001b[0m\u001b[0mutils\u001b[0m\u001b[0;34m.\u001b[0m\u001b[0mversions\u001b[0m \u001b[0;32mimport\u001b[0m \u001b[0mrequire_version\u001b[0m\u001b[0;34m,\u001b[0m \u001b[0mrequire_version_core\u001b[0m\u001b[0;34m\u001b[0m\u001b[0;34m\u001b[0m\u001b[0m\n\u001b[0m\u001b[1;32m     17\u001b[0m \u001b[0;34m\u001b[0m\u001b[0m\n\u001b[1;32m     18\u001b[0m \u001b[0;34m\u001b[0m\u001b[0m\n",
            "\u001b[0;32m/usr/local/lib/python3.11/dist-packages/transformers/utils/__init__.py\u001b[0m in \u001b[0;36m<module>\u001b[0;34m\u001b[0m\n\u001b[1;32m     22\u001b[0m \u001b[0;34m\u001b[0m\u001b[0m\n\u001b[1;32m     23\u001b[0m \u001b[0;32mfrom\u001b[0m \u001b[0;34m.\u001b[0m\u001b[0;34m.\u001b[0m \u001b[0;32mimport\u001b[0m \u001b[0m__version__\u001b[0m\u001b[0;34m\u001b[0m\u001b[0;34m\u001b[0m\u001b[0m\n\u001b[0;32m---> 24\u001b[0;31m from .args_doc import (\n\u001b[0m\u001b[1;32m     25\u001b[0m     \u001b[0mClassAttrs\u001b[0m\u001b[0;34m,\u001b[0m\u001b[0;34m\u001b[0m\u001b[0;34m\u001b[0m\u001b[0m\n\u001b[1;32m     26\u001b[0m     \u001b[0mClassDocstring\u001b[0m\u001b[0;34m,\u001b[0m\u001b[0;34m\u001b[0m\u001b[0;34m\u001b[0m\u001b[0m\n",
            "\u001b[0;32m/usr/local/lib/python3.11/dist-packages/transformers/utils/args_doc.py\u001b[0m in \u001b[0;36m<module>\u001b[0;34m\u001b[0m\n\u001b[1;32m     28\u001b[0m     \u001b[0m_prepare_output_docstrings\u001b[0m\u001b[0;34m,\u001b[0m\u001b[0;34m\u001b[0m\u001b[0;34m\u001b[0m\u001b[0m\n\u001b[1;32m     29\u001b[0m )\n\u001b[0;32m---> 30\u001b[0;31m \u001b[0;32mfrom\u001b[0m \u001b[0;34m.\u001b[0m\u001b[0mgeneric\u001b[0m \u001b[0;32mimport\u001b[0m \u001b[0mModelOutput\u001b[0m\u001b[0;34m\u001b[0m\u001b[0;34m\u001b[0m\u001b[0m\n\u001b[0m\u001b[1;32m     31\u001b[0m \u001b[0;34m\u001b[0m\u001b[0m\n\u001b[1;32m     32\u001b[0m \u001b[0;34m\u001b[0m\u001b[0m\n",
            "\u001b[0;32m/usr/local/lib/python3.11/dist-packages/transformers/utils/generic.py\u001b[0m in \u001b[0;36m<module>\u001b[0;34m\u001b[0m\n\u001b[1;32m     44\u001b[0m \u001b[0;32mif\u001b[0m \u001b[0mis_torch_available\u001b[0m\u001b[0;34m(\u001b[0m\u001b[0;34m)\u001b[0m\u001b[0;34m:\u001b[0m\u001b[0;34m\u001b[0m\u001b[0;34m\u001b[0m\u001b[0m\n\u001b[1;32m     45\u001b[0m     \u001b[0;31m# required for @can_return_tuple decorator to work with torchdynamo\u001b[0m\u001b[0;34m\u001b[0m\u001b[0;34m\u001b[0m\u001b[0m\n\u001b[0;32m---> 46\u001b[0;31m     \u001b[0;32mimport\u001b[0m \u001b[0mtorch\u001b[0m  \u001b[0;31m# noqa: F401\u001b[0m\u001b[0;34m\u001b[0m\u001b[0;34m\u001b[0m\u001b[0m\n\u001b[0m\u001b[1;32m     47\u001b[0m \u001b[0;34m\u001b[0m\u001b[0m\n\u001b[1;32m     48\u001b[0m \u001b[0;34m\u001b[0m\u001b[0m\n",
            "\u001b[0;32m/usr/local/lib/python3.11/dist-packages/torch/__init__.py\u001b[0m in \u001b[0;36m<module>\u001b[0;34m\u001b[0m\n\u001b[1;32m   2220\u001b[0m \u001b[0;31m# quantization depends on torch.fx and torch.ops\u001b[0m\u001b[0;34m\u001b[0m\u001b[0;34m\u001b[0m\u001b[0m\n\u001b[1;32m   2221\u001b[0m \u001b[0;31m# Import quantization\u001b[0m\u001b[0;34m\u001b[0m\u001b[0;34m\u001b[0m\u001b[0m\n\u001b[0;32m-> 2222\u001b[0;31m \u001b[0;32mfrom\u001b[0m \u001b[0mtorch\u001b[0m \u001b[0;32mimport\u001b[0m \u001b[0mquantization\u001b[0m \u001b[0;32mas\u001b[0m \u001b[0mquantization\u001b[0m  \u001b[0;31m# usort: skip\u001b[0m\u001b[0;34m\u001b[0m\u001b[0;34m\u001b[0m\u001b[0m\n\u001b[0m\u001b[1;32m   2223\u001b[0m \u001b[0;34m\u001b[0m\u001b[0m\n\u001b[1;32m   2224\u001b[0m \u001b[0;31m# Import the quasi random sampler\u001b[0m\u001b[0;34m\u001b[0m\u001b[0;34m\u001b[0m\u001b[0m\n",
            "\u001b[0;32m/usr/local/lib/python3.11/dist-packages/torch/quantization/__init__.py\u001b[0m in \u001b[0;36m<module>\u001b[0;34m\u001b[0m\n\u001b[1;32m      1\u001b[0m \u001b[0;31m# mypy: allow-untyped-defs\u001b[0m\u001b[0;34m\u001b[0m\u001b[0;34m\u001b[0m\u001b[0m\n\u001b[0;32m----> 2\u001b[0;31m \u001b[0;32mfrom\u001b[0m \u001b[0;34m.\u001b[0m\u001b[0mfake_quantize\u001b[0m \u001b[0;32mimport\u001b[0m \u001b[0;34m*\u001b[0m  \u001b[0;31m# noqa: F403\u001b[0m\u001b[0;34m\u001b[0m\u001b[0;34m\u001b[0m\u001b[0m\n\u001b[0m\u001b[1;32m      3\u001b[0m \u001b[0;32mfrom\u001b[0m \u001b[0;34m.\u001b[0m\u001b[0mfuse_modules\u001b[0m \u001b[0;32mimport\u001b[0m \u001b[0mfuse_modules\u001b[0m\u001b[0;34m\u001b[0m\u001b[0;34m\u001b[0m\u001b[0m\n\u001b[1;32m      4\u001b[0m \u001b[0;32mfrom\u001b[0m \u001b[0;34m.\u001b[0m\u001b[0mfuser_method_mappings\u001b[0m \u001b[0;32mimport\u001b[0m \u001b[0;34m*\u001b[0m  \u001b[0;31m# noqa: F403\u001b[0m\u001b[0;34m\u001b[0m\u001b[0;34m\u001b[0m\u001b[0m\n\u001b[1;32m      5\u001b[0m \u001b[0;32mfrom\u001b[0m \u001b[0;34m.\u001b[0m\u001b[0mobserver\u001b[0m \u001b[0;32mimport\u001b[0m \u001b[0;34m*\u001b[0m  \u001b[0;31m# noqa: F403\u001b[0m\u001b[0;34m\u001b[0m\u001b[0;34m\u001b[0m\u001b[0m\n",
            "\u001b[0;32m/usr/local/lib/python3.11/dist-packages/torch/quantization/fake_quantize.py\u001b[0m in \u001b[0;36m<module>\u001b[0;34m\u001b[0m\n\u001b[1;32m      8\u001b[0m \"\"\"\n\u001b[1;32m      9\u001b[0m \u001b[0;34m\u001b[0m\u001b[0m\n\u001b[0;32m---> 10\u001b[0;31m from torch.ao.quantization.fake_quantize import (\n\u001b[0m\u001b[1;32m     11\u001b[0m     \u001b[0m_is_fake_quant_script_module\u001b[0m\u001b[0;34m,\u001b[0m\u001b[0;34m\u001b[0m\u001b[0;34m\u001b[0m\u001b[0m\n\u001b[1;32m     12\u001b[0m     \u001b[0m_is_per_channel\u001b[0m\u001b[0;34m,\u001b[0m\u001b[0;34m\u001b[0m\u001b[0;34m\u001b[0m\u001b[0m\n",
            "\u001b[0;32m/usr/local/lib/python3.11/dist-packages/torch/ao/quantization/__init__.py\u001b[0m in \u001b[0;36m<module>\u001b[0;34m\u001b[0m\n\u001b[1;32m     10\u001b[0m \u001b[0;32mfrom\u001b[0m \u001b[0;34m.\u001b[0m\u001b[0mfuser_method_mappings\u001b[0m \u001b[0;32mimport\u001b[0m \u001b[0;34m*\u001b[0m  \u001b[0;31m# noqa: F403\u001b[0m\u001b[0;34m\u001b[0m\u001b[0;34m\u001b[0m\u001b[0m\n\u001b[1;32m     11\u001b[0m \u001b[0;32mfrom\u001b[0m \u001b[0;34m.\u001b[0m\u001b[0mobserver\u001b[0m \u001b[0;32mimport\u001b[0m \u001b[0;34m*\u001b[0m  \u001b[0;31m# noqa: F403\u001b[0m\u001b[0;34m\u001b[0m\u001b[0;34m\u001b[0m\u001b[0m\n\u001b[0;32m---> 12\u001b[0;31m from .pt2e._numeric_debugger import (  # noqa: F401\n\u001b[0m\u001b[1;32m     13\u001b[0m     \u001b[0mcompare_results\u001b[0m\u001b[0;34m,\u001b[0m\u001b[0;34m\u001b[0m\u001b[0;34m\u001b[0m\u001b[0m\n\u001b[1;32m     14\u001b[0m     \u001b[0mCUSTOM_KEY\u001b[0m\u001b[0;34m,\u001b[0m\u001b[0;34m\u001b[0m\u001b[0;34m\u001b[0m\u001b[0m\n",
            "\u001b[0;32m/usr/local/lib/python3.11/dist-packages/torch/ao/quantization/pt2e/_numeric_debugger.py\u001b[0m in \u001b[0;36m<module>\u001b[0;34m\u001b[0m\n\u001b[1;32m      5\u001b[0m \u001b[0;34m\u001b[0m\u001b[0m\n\u001b[1;32m      6\u001b[0m \u001b[0;32mimport\u001b[0m \u001b[0mtorch\u001b[0m\u001b[0;34m\u001b[0m\u001b[0;34m\u001b[0m\u001b[0m\n\u001b[0;32m----> 7\u001b[0;31m \u001b[0;32mfrom\u001b[0m \u001b[0mtorch\u001b[0m\u001b[0;34m.\u001b[0m\u001b[0mao\u001b[0m\u001b[0;34m.\u001b[0m\u001b[0mns\u001b[0m\u001b[0;34m.\u001b[0m\u001b[0mfx\u001b[0m\u001b[0;34m.\u001b[0m\u001b[0mutils\u001b[0m \u001b[0;32mimport\u001b[0m \u001b[0mcompute_sqnr\u001b[0m\u001b[0;34m\u001b[0m\u001b[0;34m\u001b[0m\u001b[0m\n\u001b[0m\u001b[1;32m      8\u001b[0m \u001b[0;32mfrom\u001b[0m \u001b[0mtorch\u001b[0m\u001b[0;34m.\u001b[0m\u001b[0mao\u001b[0m\u001b[0;34m.\u001b[0m\u001b[0mquantization\u001b[0m\u001b[0;34m.\u001b[0m\u001b[0mpt2e\u001b[0m\u001b[0;34m.\u001b[0m\u001b[0mgraph_utils\u001b[0m \u001b[0;32mimport\u001b[0m \u001b[0mget_control_flow_submodules\u001b[0m\u001b[0;34m\u001b[0m\u001b[0;34m\u001b[0m\u001b[0m\n\u001b[1;32m      9\u001b[0m \u001b[0;32mfrom\u001b[0m \u001b[0mtorch\u001b[0m\u001b[0;34m.\u001b[0m\u001b[0mexport\u001b[0m \u001b[0;32mimport\u001b[0m \u001b[0mExportedProgram\u001b[0m\u001b[0;34m\u001b[0m\u001b[0;34m\u001b[0m\u001b[0m\n",
            "\u001b[0;32m/usr/lib/python3.11/importlib/_bootstrap.py\u001b[0m in \u001b[0;36m_find_and_load\u001b[0;34m(name, import_)\u001b[0m\n",
            "\u001b[0;32m/usr/lib/python3.11/importlib/_bootstrap.py\u001b[0m in \u001b[0;36m_find_and_load_unlocked\u001b[0;34m(name, import_)\u001b[0m\n",
            "\u001b[0;32m/usr/lib/python3.11/importlib/_bootstrap.py\u001b[0m in \u001b[0;36m_load_unlocked\u001b[0;34m(spec)\u001b[0m\n",
            "\u001b[0;32m/usr/lib/python3.11/importlib/_bootstrap_external.py\u001b[0m in \u001b[0;36mexec_module\u001b[0;34m(self, module)\u001b[0m\n",
            "\u001b[0;32m/usr/lib/python3.11/importlib/_bootstrap_external.py\u001b[0m in \u001b[0;36mget_code\u001b[0;34m(self, fullname)\u001b[0m\n",
            "\u001b[0;32m/usr/lib/python3.11/importlib/_bootstrap_external.py\u001b[0m in \u001b[0;36mget_data\u001b[0;34m(self, path)\u001b[0m\n",
            "\u001b[0;31mKeyboardInterrupt\u001b[0m: "
          ]
        }
      ],
      "source": [
        "from transformers import AutoTokenizer, AutoModelForCausalLM, pipeline\n",
        "import torch\n",
        "\n",
        "model_id = \"unsloth/Llama-3.2-3B-Instruct\"\n",
        "pipe = pipeline(\n",
        "    \"text-generation\",\n",
        "    model=model_id,\n",
        "    torch_dtype=torch.bfloat16,\n",
        "    device_map=\"auto\",\n",
        ")\n",
        "\n",
        "def ask_llama(question):\n",
        "  messages = [\n",
        "   {\"role\": \"user\", \"content\": question}\n",
        "  ]\n",
        "  outputs = pipe(\n",
        "      messages,\n",
        "      max_new_tokens=2048\n",
        "  )\n",
        "  return (outputs[0][\"generated_text\"][-1]['content'])"
      ]
    },
    {
      "cell_type": "markdown",
      "metadata": {
        "id": "5A3NcKdoz5se"
      },
      "source": [
        "### Using LLM to convert JSON into readable format"
      ]
    },
    {
      "cell_type": "code",
      "execution_count": null,
      "metadata": {
        "id": "3kD2VUAF0Pgl"
      },
      "outputs": [],
      "source": [
        "PROMPT = \"\"\"\n",
        "You are a skilled language model specialized in converting structured JSON records into fluent, natural Persian text.\n",
        "\n",
        "Your task is to read each JSON object and generate a paragraph that:\n",
        "- Accurately includes key information from the data.\n",
        "- Is readable and natural for Persian speakers.\n",
        "- Sounds like it was written by a human (not robotic or repetitive).\n",
        "- Emphasizes diverse sentence structures across generations.\n",
        "- JUST use PERSIAN! Do not use any other language\n",
        "\n",
        "{{shot}}\n",
        "\n",
        "### Input JSON:\n",
        "{{json_str}}\n",
        "\"\"\""
      ]
    },
    {
      "cell_type": "code",
      "execution_count": null,
      "metadata": {
        "id": "Ugn8doUP1sCW"
      },
      "outputs": [],
      "source": [
        "name = \"EVENTS\"\n",
        "\n",
        "shot = \"\"\"\n",
        "### Example Input JSON:\n",
        "{\n",
        "  \"title\": \"ولادت سید ابراهیم ضیاء الواعظین مدیر مسئول روزنامه ایران آزاد در شیراز در ۲۲ خرداد سال ۱۲۳۷ ش (۲۹ شوال ۱۲۷۴ ق)\",\n",
        "  \"description\": \"روزنامه ایران آزاد روزنامه‌ای بود با گرایش سیاسی، اجتماعی که از ۱۳۰۰ ش در تهران منتشر می‌شد. ایران آزاد از همان ابتدا با انتشار مقالات تند مورد توجه مردم قرار گرفت و به طرز کم‌سابقه‌ای خواننده پیدا کرد و به دلیل چاپ مقالاتی علیه حکومت چند بار توقیف گردید و مدیر مسئول آن تبعید شد. روزنامه ایران آزاد با مدیریت و صاحب‌امتیازی سید ابراهیم ضیاء الواعظین انتشار می‌یافت. سید ابراهیم ضیاء الواعظین در ۲۲ خرداد ۱۲۳۷ در شیراز دیده به جهان گشود.\",\n",
        "  \"period\": {\n",
        "    \"start_year\": \"۲۸۲۴۹۶\",\n",
        "    \"end_year\": \"۲۸۲۴۹۶\"\n",
        "  },\n",
        "  \"location\": {\n",
        "    \"province\": \"شیراز\",\n",
        "    \"city\": \"شیراز\",\n",
        "    \"coordinates\": {\n",
        "      \"latitude\": 29.61,\n",
        "      \"longitude\": 52.5425\n",
        "    }\n",
        "  },\n",
        "  \"refrences\": {\n",
        "    \"title\": \"روز شمار تاریخ معاصر ایران، ج ۲، ص ۲۹۶\",\n",
        "    \"author\": \"حسن فراهانی\",\n",
        "    \"year\": \"۱۳۸۵\"\n",
        "  },\n",
        "  \"source\": {\n",
        "    \"title\": \"ولادت ضیاء الواعظین\",\n",
        "    \"author\": \"پایگاه جامع تاریخ\",\n",
        "    \"url\": \"https://tarikh.inoor.ir/fa/event/page/1K355M/ولادت_ضیاء_الواعظین\"\n",
        "  }\n",
        "}\n",
        "\n",
        "### Output Text:\n",
        "سید ابراهیم ضیاء الواعظین، روزنامه‌نگار و فعال سیاسی، در ۲۲ خرداد سال ۱۲۳۷ هجری شمسی در شیراز دیده به جهان گشود. او مدیرمسئول و صاحب‌امتیاز روزنامه \"ایران آزاد\" بود که از سال ۱۳۰۰ شمسی در تهران با رویکردی سیاسی و اجتماعی منتشر می‌شد. این روزنامه با انتشار مطالب انتقادی علیه حکومت، توجه گسترده‌ای را به خود جلب کرد و چندین بار توقیف و سانسور شد. ضیاء الواعظین نیز به دلیل مطالب جنجالی روزنامه‌اش، تبعید گردید. اطلاعات بیشتر در این زمینه در کتاب \"روزشمار تاریخ معاصر ایران\" اثر حسن فراهانی آمده است.\n",
        "\"\"\"\n",
        "\n",
        "PROMPT = PROMPT.replace(\"{{shot}}\", shot)\n",
        "\n",
        "data = json.load(open(f'/content/drive/MyDrive/NLP_HW2/History/{name}.json'))\n",
        "\n",
        "output_file = f\"/content/drive/MyDrive/NLP_HW2/History/ReadableFormats/{name}.txt\"\n",
        "\n",
        "with open(output_file, \"a\", encoding=\"utf-8\") as f:\n",
        "  for event_record in data[50:]:\n",
        "    json_str = str(event_record[\"data\"])\n",
        "    res = ask_gemini(PROMPT.replace(\"{{json_str}}\", json_str))\n",
        "    f.write(res.strip())\n",
        "    f.write(\"\\n\\n\")"
      ]
    },
    {
      "cell_type": "code",
      "execution_count": null,
      "metadata": {
        "colab": {
          "base_uri": "https://localhost:8080/"
        },
        "id": "amlPhZin21i_",
        "outputId": "5e4b4549-2df9-4ede-ee6f-71df64339208"
      },
      "outputs": [
        {
          "name": "stderr",
          "output_type": "stream",
          "text": [
            "100%|██████████| 41/41 [01:26<00:00,  2.11s/it]\n"
          ]
        }
      ],
      "source": [
        "name = \"Treaties\"\n",
        "\n",
        "shot = \"\"\"\n",
        "### Example Input JSON:\n",
        "{\n",
        "  \"title\": \"پیمان مونترال\",\n",
        "  \"description\": \"پیمان مونترال در سال ۱۹۸۷ انجام شد و پس از نخستین جلسه در هلسینکی، مه ۱۹۸۹، در ۱۶ سپتامبر ۱۹۸۹ به اجرا درآمد.\",\n",
        "  \"period\": {\n",
        "      \"year\": \"۱۹۸۷\"\n",
        "  },\n",
        "  \"location\": {\n",
        "      \"city\": \"مونترال\",\n",
        "      \"coordinates\": {\n",
        "          \"latitude\": 0,\n",
        "          \"longitude\": 0\n",
        "      }\n",
        "  },\n",
        "  \"causes\": \"دلیل امضای این قرارداد: محافظت از لایه ازون و کاهش تولید مواد که باعث تخریب آن می‌شوند.\",\n",
        "  \"belligerents\": [\n",
        "      \"پیمان مونترال\",\n",
        "      \"کنوانسیون وین برای محافظت از لایه ازون\"\n",
        "  ],\n",
        "  \"result\": \"پیمان مونترال در سال ۱۹۸۷ امضا شد و پس از نخستین جلسه در هلسینکی، مه ۱۹۸۹، در ۱۶ سپتامبر ۱۹۸۹ به اجرا درآمد.\",\n",
        "  \"impact\": \"تأثیرات: کاهش سوراخ ازون در قطب جنوب، بهبود وضعیت لایه ازون تا سال ۱۹۸۰، موفق‌ترین توافق بین‌المللی تا به امروز، نمونه‌ای از همکاری‌های بین‌المللی، نخستین معاهده‌های جهانی تصویب شده در تاریخ سازمان ملل متحد، فرایند سیاست‌گزاری در مقیاس جهانی.\",\n",
        "  \"historical_significance\": \"پیمان مونترال به دلیل اهمیت تاریخی و موفقیت آن در کاهش سوراخ ازون، به عنوان نمونه‌ای از همکاری‌های بین‌المللی استثنایی شناخته می‌شود. این معاهده به نخستین معاهده‌های جهانی تصویب شده در تاریخ سازمان ملل متحد تبدیل شده است.\",\n",
        "  \"references\": [\n",
        "      \"<TBD>\",\n",
        "      {\n",
        "          \"title\": \"\\\"Kigali Amendment Enters into Force, Bringing Promise of Reduced Global Warming | News | SDG Knowledge Hub | IISD\\\"\",\n",
        "          \"author\": \"Hub, IISD's SDG Knowledge.\\\"Kigali Amendment Enters into Force, Bringing Promise of Reduced Global Warming | News | SDG Knowledge Hub | IISD\\\"(به انگلیسی). Retrieved2019-03-07.\",\n",
        "          \"year\": \"Unknown\"\n",
        "      },\n",
        "      {\n",
        "          \"title\": \"\\\"Deal reached on HFC greenhouse gases\\\"\",\n",
        "          \"author\": \"McGrath, Matt (15 October 2016).\\\"Deal reached on HFC greenhouse gases\\\"– via www.bbc.co.uk.\",\n",
        "          \"year\": \"Unknown\"\n",
        "      }\n",
        "  ],\n",
        "  \"source\": {\n",
        "      \"title\": \"پیمان مونترال\",\n",
        "      \"author\": \"Wikipedia\",\n",
        "      \"publication_date\": \"Unknown\",\n",
        "      \"url\": \"https:\\/\\/fa.wikipedia.org\\/wiki\\/%D9%BE%DB%8C%D9%85%D8%A7%D9%86_%D9%85%D9%88%D9%86%D8%AA%D8%B1%D8%A7%D9%84\"\n",
        "  }\n",
        "}\n",
        "\n",
        "### Output Text:\n",
        "«پیمان مونترال»، یکی از مهم‌ترین توافق‌نامه‌های زیست‌محیطی جهان، در سال ۱۹۸۷ در شهر مونترال کانادا منعقد شد. این پیمان با هدف اصلی محافظت از لایه ازون و کاهش تولید مواد مخرب آن مانند CFCها، به‌عنوان یکی از موفق‌ترین معاهده‌های بین‌المللی در تاریخ سازمان ملل شناخته می‌شود. پس از نخستین جلسه پیگیری در هلسینکی در مه ۱۹۸۹، این توافق در ۱۶ سپتامبر همان سال به مرحله اجرا درآمد. این معاهده در کنار کنوانسیون وین برای محافظت از لایه ازون، الگویی از همکاری جهانی برای مقابله با بحران‌های زیست‌محیطی ارائه داد. پیامدهای مثبت پیمان شامل کاهش قابل توجه سوراخ ازون در قطب جنوب و روند بهبود وضعیت لایه ازون تا سطح سال ۱۹۸۰ است. پیمان مونترال در تاریخ به‌عنوان نمونه‌ای استثنایی از سیاست‌گذاری جهانی و اجماع بین‌المللی برای حفظ محیط زیست ثبت شده است.\"\"\"\n",
        "\n",
        "PROMPT = PROMPT.replace(\"{{shot}}\", shot)\n",
        "\n",
        "data = json.load(open(f'/content/drive/MyDrive/NLP_HW2/History/{name}.json'))\n",
        "# len(data)\n",
        "output_file = f\"/content/drive/MyDrive/NLP_HW2/History/ReadableFormats/{name}.txt\"\n",
        "\n",
        "with open(output_file, \"a\", encoding=\"utf-8\") as f:\n",
        "  for event_record in tqdm(data[86:]):\n",
        "    json_str = str(event_record[\"data\"])\n",
        "    res = ask_gemini(PROMPT.replace(\"{{json_str}}\", json_str))\n",
        "    f.write(res.strip())\n",
        "    f.write(\"\\n\\n\")"
      ]
    },
    {
      "cell_type": "code",
      "execution_count": null,
      "metadata": {
        "colab": {
          "base_uri": "https://localhost:8080/"
        },
        "collapsed": true,
        "id": "NLsuJJE19uYj",
        "outputId": "9eeed40d-bd22-4ab0-9b5f-6629fc6da370"
      },
      "outputs": [
        {
          "name": "stderr",
          "output_type": "stream",
          "text": [
            "100%|██████████| 100/100 [05:30<00:00,  3.30s/it]\n"
          ]
        }
      ],
      "source": [
        "name = \"WAR_1\"\n",
        "\n",
        "shot = \"\"\"\n",
        "### Example Input JSON:\n",
        "{'title': 'تهاجم آشور به مادها',\n",
        " 'description': 'نامشخص',\n",
        " 'period': {'start_year': '', 'end_year': ''},\n",
        " 'position': 'نامشخص',\n",
        " 'causes': [],\n",
        " 'belligerents': {'names': '', 'leaders': ''},\n",
        " 'result': 'شکست: آشوریان، پادشاهی\\u200cها و دولت-شهرهای غرب ایران را تصرف کردند.',\n",
        " 'casualties': {},\n",
        " 'impact': 'نامشخص',\n",
        " 'historical_significance': 'نامشخص',\n",
        " 'references': [],\n",
        " 'source': {'title': 'تهاجم آشور به مادها',\n",
        "  'author': 'Wikipedia',\n",
        "  'publication_date': 'Unknown',\n",
        "  'url': 'https://fa.wikipedia.org/wiki/%D8%AA%D9%87%D8%A7%D8%AC%D9%85_%D8%A2%D8%B4%D9%88%D8%B1_%D8%A8%D9%87_%D9%85%D8%A7%D8%AF%D9%87%D8%A7'}}\n",
        "\n",
        "### Output Text:\n",
        "تهاجم آشور به مادها» یکی از رویدادهای تاریخی مهم در دوران باستان ایران به‌شمار می‌رود. با وجود ناشناخته بودن جزئیات دقیق این تهاجم از جمله زمان دقیق وقوع یا دلایل آن، می‌دانیم که این حمله منجر به شکست مادها شد. در نتیجه، آشوریان توانستند بخش‌هایی از غرب ایران، از جمله پادشاهی‌ها و دولت‌شهرها را به تصرف خود درآورند. اطلاعات بیشتری درباره رهبران، انگیزه‌ها یا پیامدهای بلندمدت این حمله در دست نیست، اما این رویداد به عنوان یکی از برخوردهای تأثیرگذار بین تمدن‌های منطقه شناخته می‌شود.\n",
        "\"\"\"\n",
        "\n",
        "PROMPT = PROMPT.replace(\"{{shot}}\", shot)\n",
        "\n",
        "data = json.load(open(f'/content/drive/MyDrive/NLP_HW2/History/{name}.json'))\n",
        "\n",
        "output_file = f\"/content/drive/MyDrive/NLP_HW2/History/ReadableFormats/{name}.txt\"\n",
        "\n",
        "with open(output_file, \"a\", encoding=\"utf-8\") as f:\n",
        "  for event_record in tqdm(data):\n",
        "    json_str = str(event_record[\"data\"])\n",
        "    res = ask_gemini(PROMPT.replace(\"{{json_str}}\", json_str))\n",
        "    f.write(res.strip())\n",
        "    f.write(\"\\n\\n\")"
      ]
    },
    {
      "cell_type": "code",
      "execution_count": null,
      "metadata": {
        "colab": {
          "base_uri": "https://localhost:8080/"
        },
        "id": "ChH4vh-vZKr4",
        "outputId": "e80b204d-0e7c-4c7b-c0ec-33f3bc750365"
      },
      "outputs": [
        {
          "name": "stderr",
          "output_type": "stream",
          "text": [
            "100%|██████████| 7/7 [00:19<00:00,  2.86s/it]\n"
          ]
        }
      ],
      "source": [
        "name = \"WAR_2\"\n",
        "\n",
        "shot = \"\"\"\n",
        "### Example Input JSON:\n",
        "{'title': 'تهاجم آشور به مادها',\n",
        " 'description': 'نامشخص',\n",
        " 'period': {'start_year': '', 'end_year': ''},\n",
        " 'position': 'نامشخص',\n",
        " 'causes': [],\n",
        " 'belligerents': {'names': '', 'leaders': ''},\n",
        " 'result': 'شکست: آشوریان، پادشاهی\\u200cها و دولت-شهرهای غرب ایران را تصرف کردند.',\n",
        " 'casualties': {},\n",
        " 'impact': 'نامشخص',\n",
        " 'historical_significance': 'نامشخص',\n",
        " 'references': [],\n",
        " 'source': {'title': 'تهاجم آشور به مادها',\n",
        "  'author': 'Wikipedia',\n",
        "  'publication_date': 'Unknown',\n",
        "  'url': 'https://fa.wikipedia.org/wiki/%D8%AA%D9%87%D8%A7%D8%AC%D9%85_%D8%A2%D8%B4%D9%88%D8%B1_%D8%A8%D9%87_%D9%85%D8%A7%D8%AF%D9%87%D8%A7'}}\n",
        "\n",
        "### Output Text:\n",
        "تهاجم آشور به مادها» یکی از رویدادهای تاریخی مهم در دوران باستان ایران به‌شمار می‌رود. با وجود ناشناخته بودن جزئیات دقیق این تهاجم از جمله زمان دقیق وقوع یا دلایل آن، می‌دانیم که این حمله منجر به شکست مادها شد. در نتیجه، آشوریان توانستند بخش‌هایی از غرب ایران، از جمله پادشاهی‌ها و دولت‌شهرها را به تصرف خود درآورند. اطلاعات بیشتری درباره رهبران، انگیزه‌ها یا پیامدهای بلندمدت این حمله در دست نیست، اما این رویداد به عنوان یکی از برخوردهای تأثیرگذار بین تمدن‌های منطقه شناخته می‌شود.\n",
        "\"\"\"\n",
        "\n",
        "PROMPT = PROMPT.replace(\"{{shot}}\", shot)\n",
        "\n",
        "data = json.load(open(f'/content/drive/MyDrive/NLP_HW2/History/{name}.json'))\n",
        "\n",
        "output_file = f\"/content/drive/MyDrive/NLP_HW2/History/ReadableFormats/{name}.txt\"\n",
        "\n",
        "with open(output_file, \"a\", encoding=\"utf-8\") as f:\n",
        "  for event_record in tqdm(data):\n",
        "    json_str = str(event_record[\"data\"])\n",
        "    res = ask_gemini(PROMPT.replace(\"{{json_str}}\", json_str))\n",
        "    f.write(res.strip())\n",
        "    f.write(\"\\n\\n\")"
      ]
    },
    {
      "cell_type": "code",
      "execution_count": null,
      "metadata": {
        "colab": {
          "base_uri": "https://localhost:8080/"
        },
        "id": "sTAWmROIg8BM",
        "outputId": "987901cf-39ed-453b-a4dd-e697a74ff4b9"
      },
      "outputs": [
        {
          "name": "stderr",
          "output_type": "stream",
          "text": [
            " 21%|██        | 21/100 [09:36<30:13, 22.96s/it]"
          ]
        }
      ],
      "source": [
        "name = \"filtered_extracted_contents\"\n",
        "\n",
        "PROMPT = PROMPT.replace(\"{{shot}}\", \"\")\n",
        "\n",
        "data = json.load(open(f'/content/drive/MyDrive/NLP_HW2/History/{name}.json'))\n",
        "\n",
        "output_file = f\"/content/drive/MyDrive/NLP_HW2/History/ReadableFormats/{name}2.txt\"\n",
        "\n",
        "with open(output_file, \"a\", encoding=\"utf-8\") as f:\n",
        "  for event_record in tqdm(data[121:200]):\n",
        "    json_str = str(event_record)\n",
        "    res = ask_llama(PROMPT.replace(\"{{json_str}}\", json_str))\n",
        "    # print(\"\\n*Event record: \", json_str)\n",
        "    # print(\"\\n*Res: \", res.strip())\n",
        "    res = res.replace(\"\\n\", \"\")\n",
        "    f.write(res.strip())\n",
        "    f.write(\"\\n\\n\")"
      ]
    },
    {
      "cell_type": "markdown",
      "metadata": {
        "id": "o55fYAsLhaXG"
      },
      "source": [
        "### Diverse Question Generation"
      ]
    },
    {
      "cell_type": "code",
      "execution_count": null,
      "metadata": {
        "id": "CLr8KN1LpZ2V"
      },
      "outputs": [],
      "source": [
        "import os\n",
        "\n",
        "folder_path = '/content/drive/MyDrive/NLP_HW2/History/ReadableFormats'\n",
        "all_sentences = []\n",
        "\n",
        "for filename in os.listdir(folder_path):\n",
        "    if filename.endswith('.txt') and \"filtered_extracted_contents\" not in filename:\n",
        "        file_path = os.path.join(folder_path, filename)\n",
        "        with open(file_path, 'r', encoding='utf-8') as f:\n",
        "            for line in f:\n",
        "                sentence = line.strip()\n",
        "                if sentence:  # Ignore empty lines\n",
        "                    all_sentences.append(sentence)"
      ]
    },
    {
      "cell_type": "code",
      "execution_count": null,
      "metadata": {
        "colab": {
          "base_uri": "https://localhost:8080/"
        },
        "id": "uzjCo4jrulkA",
        "outputId": "58b5a8e6-8aa3-40e0-95a5-90de66367fcd"
      },
      "outputs": [
        {
          "data": {
            "text/plain": [
              "342"
            ]
          },
          "execution_count": 2,
          "metadata": {},
          "output_type": "execute_result"
        }
      ],
      "source": [
        "len(all_sentences)"
      ]
    },
    {
      "cell_type": "code",
      "execution_count": null,
      "metadata": {
        "id": "bJ1vsUcHvgD5"
      },
      "outputs": [],
      "source": [
        "keywords = [\"اسرائیل\", \"کوروش\", \"رضاشاه\",\"مشروطه\", \"پهلوی\", \"ترکمانچای\",\n",
        "            \"مظفرالدین شاه\", \"هسته‌ای\", \"ایالات متحده\", \"داعش\", \"ساسانیان\", \"عثمانی\"]\n",
        "clusters = {keyword:[] for keyword in keywords}\n",
        "for key in clusters.keys():\n",
        "  for i in all_sentences:\n",
        "    if  key in i:\n",
        "      clusters[key].append(i)\n"
      ]
    },
    {
      "cell_type": "code",
      "execution_count": null,
      "metadata": {
        "colab": {
          "base_uri": "https://localhost:8080/"
        },
        "id": "3cyV4bbmyegJ",
        "outputId": "e7613f5e-1b5f-45d8-a3dd-457e98bfb36c"
      },
      "outputs": [
        {
          "name": "stdout",
          "output_type": "stream",
          "text": [
            "اسرائیل 8\n",
            "کوروش 9\n",
            "رضاشاه 4\n",
            "مشروطه 16\n",
            "پهلوی 22\n",
            "ترکمانچای 4\n",
            "مظفرالدین شاه 6\n",
            "هسته‌ای 4\n",
            "ایالات متحده 21\n",
            "داعش 3\n",
            "ساسانیان 20\n",
            "عثمانی 33\n"
          ]
        }
      ],
      "source": [
        "for i , j in clusters.items():\n",
        "  print(i, len(j))\n"
      ]
    },
    {
      "cell_type": "code",
      "execution_count": null,
      "metadata": {
        "id": "v85fNncX2NHZ"
      },
      "outputs": [],
      "source": [
        "questions = []"
      ]
    },
    {
      "cell_type": "code",
      "execution_count": null,
      "metadata": {
        "colab": {
          "base_uri": "https://localhost:8080/",
          "height": 139
        },
        "collapsed": true,
        "id": "aU5xYM-aRze8",
        "outputId": "6a067d3c-527a-4357-d199-2bb21d0a1bf8"
      },
      "outputs": [
        {
          "data": {
            "application/vnd.google.colaboratory.intrinsic+json": {
              "type": "string"
            },
            "text/plain": [
              "'کوروش بزرگ، بنیان\\u200cگذار و نخستین شاهنشاه امپراتوری هخامنشی، شخصیتی برجسته در تاریخ باستان است که در حدود سال\\u200cهای ۶۰۰ تا ۵۳۰ پیش از میلاد می\\u200cزیست. او که با نام\\u200cهای کوروش دوم و کوروش کبیر نیز شناخته می\\u200cشود، در ابتدا با ایشتوویگو، پادشاه ماد، به نبرد پرداخت و سپس با فتح هگمتانه، پایتخت ماد، قدرت خود را تثبیت کرد. کوروش پس از شکست کرزوس، شاه لیدیه، و فتح سارد، به توسعه قلمرو خود ادامه داد و سرزمین\\u200cهای وسیعی از آسیا را تحت سلطه خود درآورد. در سال ۵۳۹ پیش از میلاد، کوروش به بابل حمله کرد و با فتح این شهر، امپراتوری خود را گسترش داد. این پیروزی زمینه\\u200cساز بازگشت یهودیان تبعیدی به سرزمین اسرائیل شد و دستور بازسازی پرستش\\u200cگاه اورشلیم و بازگرداندن اشیای گرانبهای آن را صادر کرد. استوانه کوروش، سندی تاریخی از این دوران است که پس از فتح بابل نگاشته شده است. او یک نظامی نابغه بود که در سال\\u200cهای ۵۵۰ تا ۵۳۹ پیش از میلاد، پیروزی\\u200cهای متعددی کسب کرد و قلمرو حکومتش از شرق تا رود سند و از غرب تا آسیای کوچک گسترش یافت.'"
            ]
          },
          "execution_count": 49,
          "metadata": {},
          "output_type": "execute_result"
        }
      ],
      "source": [
        "clusters[\"اسرائیل\"][4]"
      ]
    },
    {
      "cell_type": "code",
      "execution_count": null,
      "metadata": {
        "colab": {
          "base_uri": "https://localhost:8080/"
        },
        "collapsed": true,
        "id": "hqije0IxQQPx",
        "outputId": "47d2d945-4b7f-40a9-f40c-ab3db733f43a"
      },
      "outputs": [
        {
          "name": "stdout",
          "output_type": "stream",
          "text": [
            "رضا قلی خان نظام السلطنه در سال ۱۲۸۴ قمری چشم به جهان گشود. او فرزند حیدر قلی خان برهان الدوله بود و\n",
            "در سال ۱۸۹۰، قانون کنفرانس بروکسل با هدف پایان دادن به تجارت برده و بهبود شرایط زندگی مردم بومی تدوی\n",
            "به فرمان شاه عباس یکم صفوی، سفارت ایران در سال ۱۵۹۹ میلادی (۹۷۸ خورشیدی) به منظور یافتن متحدی علیه ا\n",
            "در سال ۹۸۸ هجری قمری، ایران به منظور یافتن متحدی علیه امپراتوری عثمانی، اقدام به اعزام سفیرانی به ار\n",
            "در سال ۱۷۴۶ میلادی، عهدنامه گردان در نزدیکی شهر قزوین به امضا رسید. این پیمان که به منظور پایان دادن\n",
            "پیمان آماسیه، که در سال ۱۵۵۵ میلادی در شهر آماسیه به امضا رسید، نقطه عطفی در روابط بین ایران صفوی و \n",
            "در سال ۱۵۹۰ میلادی، پیمان فرهاد پاشا، که با نام عهدنامه استانبول نیز شناخته می‌شود، به امضا رسید. ای\n",
            "در ۹ اکتبر سال ۱۸۷۴، معاهده برن در سوئیس به امضا رسید. این پیمان که با هدف ایجاد اتحادیه پستی عمومی \n",
            "در سال ۱۷۳۶، معاهده‌ای مهم با عنوان معاهده استانبول میان ایران و امپراتوری عثمانی به امضا رسید. این \n",
            "عهدنامه زهاب، که در سال ۱۶۳۹ میلادی در قصر شیرین به امضا رسید، نقطه‌ی عطفی در روابط ایران و امپراتور\n",
            "در سال ۱۹۱۳، پیمان قسطنطنیه میان ایران و امپراتوری عثمانی به امضا رسید. این پیمان که در پی مذاکرات ط\n",
            "عهدنامه سراب که در سال ۱۶۱۲ در تبریز منعقد شد، نقطه عطفی در پایان جنگ‌های طولانی‌مدت بین ایران صفوی \n",
            "اتحاد ایران–هابسبورگ، رویدادی مهم در سده دهم خورشیدی (شانزدهم میلادی) بود که با هدف مقابله با امپرات\n",
            "عهدنامه‌های ارزروم، مجموعه‌ای از توافقات تاریخی میان ایران و امپراتوری عثمانی است که در سال‌های ۱۸۲۳\n",
            "«عهدنامه نصوح پاشا» در تاریخ ۲۰ نوامبر ۱۶۱۲ در تبریز به امضا رسید. این عهدنامه که در پی جنگ‌های طولا\n",
            "عهدنامه احمد پاشا، توافقی تاریخی میان امپراتوری صفوی و امپراتوری عثمانی بود که در سال ۱۷۳۲ میلادی در\n",
            "«قرارداد وین درباره روابط سیاسی»، یک توافقنامه بین‌المللی مهم، با هدف بهبود مناسبات دوستانه میان کشو\n",
            "پیمان گنجه، توافقی مهم میان امپراتوری روسیه و ایران، در ۱۹ اسفند ۱۱۱۳ خورشیدی (مطابق با ۱۰ مارس ۱۷۳۵\n",
            "بغداد، پایتخت عراق و دومین شهر بزرگ جهان عرب پس از قاهره، شهری با تاریخی غنی و فرهنگی دیرینه است. ای\n",
            "جنگ چالدران، نبردی سرنوشت‌ساز که در ۲۳ اوت ۱۵۱۴ میلادی (۲ رجب ۹۲۰ هجری قمری) میان شاه اسماعیل یکم، ب\n",
            "جنگ ایران و عثمانی (۱۵۵۵-۱۵۳۲)، که میان شاه طهماسب یکم صفوی و سلطان سلیمان یکم عثمانی رخ داد، از جمل\n",
            "جنگ ایران و عثمانی (۱۵۷۸-۱۵۹۰) نبردی طولانی‌مدت بین امپراتوری صفوی به رهبری شاه محمد خدابنده و پس از\n",
            "جنگ ایران و عثمانی (۱۶۱۸-۱۶۰۳) درگیری مهمی بود که از سال ۱۶۰۳ تا ۱۶۱۸ میلادی میان صفویان به رهبری شا\n",
            "جنگ ایران و عثمانی (۱۶۳۹-۱۶۲۳)، از جمله منازعات مهم در تاریخ دو امپراتوری صفوی و عثمانی بود که برای \n",
            "جنگ ایران و روسیه (۱۷۲۲-۱۷۲۳)، که با عنوان لشکرکشی پتر کبیر به ایران نیز شناخته می‌شود، در دوران صفو\n",
            "جنگ ایران و عثمانی (۱۷۲۷-۱۷۲۳) مجموعه‌ای از درگیری‌ها بود که در سال‌های پایانی حکومت صفویه آغاز شد. \n",
            "جنگ‌ها و تحولات هوتکیان، با شروعی نامعلوم در سال ۱۷۰۹ و پایان در سال ۱۷۳۸، دوره‌ای مهم از تاریخ ایرا\n",
            "در اواخر سال ۱۷۲۹، رویدادی با عنوان «بازگرداندن تهماسب دوم به تخت شاهی» رخ داد که مجموعه‌ای از نبرده\n",
            "جنگ ایران و عثمانی (۱۷۳۵-۱۷۳۰)، نبردی مهم در تاریخ ایران، بین سال‌های ۱۷۳۰ تا ۱۷۳۵ میلادی (۱۱۰۸ تا ۱\n",
            "در سال ۱۴۰۲ هجری شمسی، نادرشاه با هدف تحکیم سلطه خود بر مناطق غربی هند، دست به «اردوکشی به سند» زد. \n",
            "جنگ ایران و عثمانی بین سال‌های ۱۷۴۳ تا ۱۷۴۶ میلادی، میان امپراتوری عثمانی و ایران افشاری، به‌وقوع پی\n",
            "جنگ ایران و عثمانی در سال‌های ۱۷۷۵ تا ۱۷۷۶ میلادی، در دوران حکومت کریم‌خان زند و درگیری میان ایران و\n",
            "جنگ ایران و عثمانی که از سال ۱۸۲۱ تا ۱۸۲۳ میلادی به طول انجامید، نزاعی بود میان قاجاریان و امپراتوری\n"
          ]
        }
      ],
      "source": [
        "for i in clusters[\"عثمانی\"]:\n",
        "  print(i[:100])"
      ]
    },
    {
      "cell_type": "code",
      "execution_count": null,
      "metadata": {
        "id": "LRjX8_eZYjw6"
      },
      "outputs": [],
      "source": [
        "questions2 = []"
      ]
    },
    {
      "cell_type": "code",
      "execution_count": null,
      "metadata": {
        "id": "y39b_xR2ZKLN"
      },
      "outputs": [],
      "source": [
        "import re\n",
        "import json\n",
        "\n",
        "def extract_qa(text):\n",
        "    \"\"\"\n",
        "    Extracts question and answer from a Persian Q&A formatted string.\n",
        "    Returns a dictionary with 'question' and 'answer'.\n",
        "    \"\"\"\n",
        "    match = re.search(r'سؤال[:：]?\\s*(.*?)\\s*پاسخ[:：]?\\s*(.*)', text, re.DOTALL)\n",
        "    if not match:\n",
        "        return {\"text\": text}  # Return None if format doesn't match\n",
        "    question = match.group(1).strip()\n",
        "    answer = match.group(2).strip()\n",
        "    return {\n",
        "        \"question\": question,\n",
        "        \"answer\": answer\n",
        "    }"
      ]
    },
    {
      "cell_type": "code",
      "execution_count": null,
      "metadata": {
        "colab": {
          "base_uri": "https://localhost:8080/",
          "height": 1000
        },
        "id": "NA5nn-A0zoJZ",
        "outputId": "71c74b00-40b6-45f7-ea4d-f0d59fa0cc19"
      },
      "outputs": [
        {
          "name": "stdout",
          "output_type": "stream",
          "text": [
            "اسرائیل\n",
            "کوروش\n",
            "رضاشاه\n",
            "مشروطه\n",
            "پهلوی\n",
            "ترکمانچای\n",
            "مظفرالدین شاه\n",
            "هسته‌ای\n",
            "ایالات متحده\n",
            "********************** ایالات متحده\n",
            "{'question': 'ایالات متحده آمریکا در کدام یک از پیمان های ذکر شده، عضو بود و چه اهدافی را دنبال می کرد؟', 'answer': 'ایالات متحده آمریکا عضو پیمان بریان–کلوگ بود که هدف آن جلوگیری از وقوع جنگ بود. آمریکا در سنتو عضو نبود، ولی از این پیمان حمایت می کرد.'}\n",
            "********************** ایالات متحده\n",
            "{'question': 'ایالات متحده آمریکا در چه رویدادهای بین\\u200cالمللی در اواخر قرن نوزدهم میلادی نقش داشت و این رویدادها چه تأثیری بر عرصه بین\\u200cالمللی داشتند؟', 'answer': 'ایالات متحده در سال ۱۸۹۰ قانون کنفرانس بروکسل را امضا کرد که هدف آن پایان دادن به تجارت برده و بهبود شرایط زندگی بومیان بود. همچنین، در سال ۱۸۹۹ در کنوانسیون\\u200cهای لاهه شرکت کرد که هدف آن\\u200cها رفع اشکالات نظام داوری بین\\u200cالمللی و تشویق دولت\\u200cها به امضای موافقت\\u200cنامه\\u200cهای بین\\u200cالمللی بود. این اقدامات نشان\\u200cدهنده مشارکت ایالات متحده در تلاش\\u200cهای بین\\u200cالمللی برای ایجاد صلح و بهبود شرایط انسانی و همچنین توسعه قوانین بین\\u200cالمللی بود.'}\n",
            "********************** ایالات متحده\n",
            "{'question': 'ایالات متحده آمریکا در چه توافق\\u200cنامه\\u200cهای بین\\u200cالمللی، و با چه اهدافی، نقش داشته است؟', 'answer': 'ایالات متحده آمریکا در پیمان کیوتو (با هدف کاهش انتشار گازهای گلخانه\\u200cای) و کنوانسیون حقوق افراد دارای ناتوانی (با هدف حمایت از حقوق و حفظ کرامت افراد معلول) نقش داشته است.'}\n",
            "********************** ایالات متحده\n",
            "{'question': 'آیا ایالات متحده در پیمان منع گسترش سلاح\\u200cهای هسته\\u200cای (NPT) و معاهده برن حضور داشته است؟', 'answer': 'بله، ایالات متحده یکی از کشورهای دارای سلاح هسته\\u200cای در پیمان NPT بوده و همچنین از امضاکنندگان معاهده برن نیز بوده است.'}\n",
            "********************** ایالات متحده\n",
            "{'question': 'ایالات متحده آمریکا در کدام یک از پیمان\\u200cهای نظامی و صلح\\u200cطلبانه معرفی شده در متن حضور داشته است و تاریخ تقریبی مشارکت آن\\u200cها در هر کدام چه زمانی بوده است؟', 'answer': 'ایالات متحده آمریکا در پیمان بریان-کلوگ (۱۹۲۸) و سازمان پیمان مرکزی (سنتو) در دوران جنگ سرد حضور داشت.'}\n",
            "********************** ایالات متحده\n",
            "{'question': 'با توجه به اطلاعات موجود، ایالات متحده آمریکا در کدام یک از پیمان\\u200cهای بین\\u200cالمللی ذکر شده، نقش فعالی داشته و اهداف این پیمان\\u200cها چه بوده است؟', 'answer': 'ایالات متحده آمریکا در هر دو پیمان پاریس (مربوط به تغییرات اقلیمی) و مارپل (مربوط به آلودگی دریایی) نقش داشته است. هدف اصلی توافق پاریس، مقابله با تغییرات اقلیمی و کاهش انتشار گازهای گلخانه\\u200cای بود، در حالی که هدف اصلی پیمان مارپل، کاهش آلودگی آب\\u200cها، به ویژه ناشی از تخلیه زباله و مواد نفتی بود.'}\n",
            "********************** ایالات متحده\n",
            "{'question': 'با توجه به محتوای ارائه شده، آمریکا در چه زمینه\\u200cهایی با چالش\\u200cهایی در منطقه خاورمیانه مواجه است و برای چه منظوری در یک پیمان بین\\u200cالمللی مانند کنوانسیون وین شرکت کرده است؟', 'answer': 'بر اساس اطلاعات ارائه شده، ایالات متحده در خاورمیانه با چالش\\u200cهایی از سوی \"محور مقاومت\" مواجه است که گروه\\u200cهایی تحت حمایت ایران هستند و با هدف مقابله با آمریکا و اسرائیل متحد شده\\u200cاند. از طرفی، آمریکا در کنوانسیون وین برای تسهیل ترافیک جاده\\u200cای بین\\u200cالمللی و افزایش ایمنی راه\\u200cها شرکت کرده است.'}\n",
            "********************** ایالات متحده\n",
            "{'question': 'ایالات متحده آمریکا در کدام یک از معاهدات بین\\u200cالمللی نام برده شده در متن، عضو است و چه اهدافی را دنبال می\\u200cکند؟', 'answer': 'ایالات متحده آمریکا عضو هر دو معاهده کنوانسیون لندن برای جلوگیری از آلودگی دریایی (LC72) و معاهده هوانوردی غیرنظامی بین\\u200cالمللی (شیکاگو) است. LC72 به مدیریت پسماندهای دریایی و زباله\\u200cها می\\u200cپردازد، در حالی که معاهده شیکاگو به تنظیم هوانوردی بین\\u200cالمللی می\\u200cپردازد و منجر به تأسیس ایکائو شده است.'}\n",
            "********************** ایالات متحده\n",
            "{'question': 'چرا ایالات متحده آمریکا پیمان\\u200cنامه حقوق کودک را تصویب نکرده و چه توافق دیگری در سال های گذشته با یک کشور دیگر داشته است؟', 'answer': 'ایالات متحده آمریکا پیمان\\u200cنامه حقوق کودک را تصویب نکرده است. در سال ۱۹۸۱، ایالات متحده آمریکا عهدنامه الجزایر را با جمهوری اسلامی ایران امضا کرد که با هدف پایان دادن به بحران گروگان\\u200cگیری سفارت آمریکا در تهران منعقد شده بود.'}\n",
            "********************** ایالات متحده\n",
            "{'question': 'نقش ایالات متحده در درگیری\\u200cهای نظامی خاورمیانه، با اشاره به دو درگیری خاص، چگونه بوده است؟', 'answer': 'ایالات متحده در جنگ داخلی سوریه از نیروهای دموکراتیک سوریه حمایت می\\u200cکرد. همچنین، در جنگ داخلی یمن، ایالات متحده از عملیات نظامی به رهبری عربستان سعودی حمایت اطلاعاتی و لجستیکی کرد.'}\n",
            "داعش\n",
            "********************** داعش\n",
            "{'question': 'با توجه به محتوای ارائه شده، چه عواملی به شکل\\u200cگیری ائتلاف \"۴+۱\" و شدت گرفتن درگیری\\u200cها با داعش در عراق کمک کردند و این درگیری\\u200cها چه پیامدهایی داشتند؟', 'answer': 'ائتلاف \"۴+۱\" در سال ۲۰۰۰ با هدف مبارزه با داعش شکل گرفت و جنگ داخلی سوریه از عوامل زمینه\\u200cساز آن بود. درگیری\\u200cها با داعش در عراق که از سال ۲۰۰۳ آغاز شد و در سال ۲۰۱۳ شدت گرفت، منجر به اشغال موصل در سال ۲۰۱۴ توسط داعش، آوارگی حدود ۵۰۰ هزار نفر و استعفای نخست\\u200cوزیر وقت عراق شد. این جنگ با بازپس\\u200cگیری کامل قلمرو داعش به پایان رسید و نشان\\u200cدهنده گسترش نفوذ داعش و تهدیدی جدی برای امنیت منطقه بود.'}\n",
            "ساسانیان\n",
            "********************** ساسانیان\n",
            "{'question': 'با توجه به دو پیمان ذکر شده، چه عواملی باعث شد تا ساسانیان در روابط خود با همسایگان، انعطاف و سازش از خود نشان دهند و به امضای پیمان\\u200cهایی مانند پیمان صلح پنجاه ساله و پیمان\\u200cنامه نوارساک روی آورند؟', 'answer': 'ساسانیان برای دستیابی به صلح نسبی و کاهش درگیری\\u200cهای نظامی طولانی\\u200cمدت با روم شرقی، و همچنین برای حفظ آرامش و جلوگیری از شورش در مناطق تحت سلطه خود (مانند ارمنستان)، به سازش و انعطاف روی آوردند. در پیمان صلح پنجاه ساله، ساسانیان با دریافت باج و تضمین آزادی مسیحیان ایران، به این هدف رسیدند. در پیمان\\u200cنامه نوارساک نیز، ساسانیان با اعطای خودمختاری و آزادی دینی به ارمنیان، از بروز درگیری و ناآرامی جلوگیری کردند.'}\n",
            "********************** ساسانیان\n",
            "{'question': 'با توجه به محتوای ارائه شده، صلح اسیلیسن چه تأثیری بر گسترش نفوذ ساسانیان در منطقه داشت و این موضوع چگونه با روابط ساسانیان با چین ارتباط دارد؟', 'answer': 'صلح اسیلیسن به افزایش نفوذ ایران (ساسانیان) در منطقه، به ویژه از طریق تصاحب سهم بیشتری از ارمنستان و گسترش آیین زرتشتی، انجامید. این در حالی است که روابط با چین بیشتر بر مراودات تجاری و استفاده از مسیر ابریشم متمرکز بود و مستقیماً به گسترش جغرافیایی نفوذ ساسانیان ارتباط نداشت، هرچند این روابط تجاری می\\u200cتوانست بر قدرت اقتصادی و در نتیجه نفوذ غیرمستقیم ساسانیان تأثیرگذار باشد.'}\n",
            "********************** ساسانیان\n",
            "{'question': 'با توجه به اطلاعات ارائه شده، دو رویداد نظامی مهم که در دوران ساسانیان اتفاق افتاد را نام ببرید و تفاوت نتیجه و پیامدهای آن\\u200cها را مقایسه کنید.', 'answer': 'دو رویداد نظامی مهم در دوران ساسانیان عبارتند از:\\n1.  **لشکرکشی کاراکالا به ایران:** نتیجه این نبرد پیروزی ایران بود و امپراتوری روم مجبور به پرداخت خراج شد. پیامدها شامل ادامه درگیری\\u200cها بین ساسانیان و رومیان و همچنین جنگ\\u200cهای ساسانیان و بیزانسی بود. این رویداد نشان دهنده قدرت نظامی ساسانیان در برابر رومیان در آن مقطع بود.\\n2.  **نبرد هرمزدگان:** این نبرد با پیروزی ساسانیان به رهبری اردشیر بابکان همراه بود که به سقوط اشکانیان و آغاز عصر ساسانی انجامید. نتیجه این نبرد، تأسیس سلسله ساسانیان و پایان دادن به حکومت حدوداً پنج قرنه\\u200cی اشکانیان بود که یک تحول اساسی در تاریخ ایران به شمار می\\u200cرود.'}\n",
            "********************** ساسانیان\n",
            "{'question': 'جنگ باربالیسوس در چه دوره\\u200cای از جنگ\\u200cهای ایران و روم رخ داد و پیروزی در این نبرد چه تأثیری بر ساسانیان و روم داشت؟', 'answer': 'جنگ باربالیسوس در زمان حکومت شاپور یکم و در جریان جنگ\\u200cهای ایران و روم رخ داد. پیروزی در این نبرد راه را برای حملات بعدی ساسانیان به مناطق شرقی روم هموار کرد و به محاصره و اشغال انطاکیه و دورا اروپوس انجامید.'}\n",
            "********************** ساسانیان\n",
            "{'question': 'در مقایسه با درگیری های شاپور یکم با رومیان، پیروزی های شاپور دوم بر اعراب چه تأثیری بر مرزهای امپراتوری ساسانی و استراتژی های دفاعی آن داشت؟', 'answer': 'در حالی که شاپور یکم با شکست دادن رومیان و تصرف سرزمین های آنان، به توسعه قلمرو ساسانیان در آسیا صغیر پرداخت و از اسیران رومی برای ساخت بناهای مهم استفاده کرد، شاپور دوم با پیروزی بر اعراب، کنترل مناطق عرب نشین را به دست گرفت. این پیروزی ها منجر به ساخت دیوار شاهپور و ایجاد پادگان های ایرانی در عربستان شد که نشان دهنده تغییر در استراتژی دفاعی ساسانیان و تثبیت مرزهای جنوبی امپراتوری بود. در واقع، شاپور دوم با اقدامات خود، به دنبال جلوگیری از تهاجمات آینده اعراب و حفظ استقلال امپراتوری در برابر تهدیدات جدید بود.'}\n",
            "********************** ساسانیان\n",
            "{'question': 'با توجه به درگیری\\u200cهای ساسانیان و امپراتوری روم، چه عواملی به صلح\\u200cهای موقت و پرداخت غرامت از سوی روم به ساسانیان منجر شد و این صلح\\u200cها چه پیامدهایی برای هر دو امپراتوری داشت؟', 'answer': 'عواملی که به صلح\\u200cهای موقت و پرداخت غرامت از سوی روم به ساسانیان منجر شد، شامل نیاز ساسانیان به منابع مالی (مانند کمک قباد یکم از آناستازیوس) و نتیجه\\u200cبخش نبودن جنگ\\u200cها برای هر دو طرف بود. این صلح\\u200cها منجر به تغییراتی در راهبردهای نظامی و تنظیم پیمان\\u200cنامه\\u200cهای صلح برای هر دو امپراتوری شد.'}\n",
            "********************** ساسانیان\n",
            "{'question': 'جنگ\\u200cهای ساسانیان با رومیان و هپتالیان چه تأثیری بر شکل\\u200cگیری مرزها و اتحادهای منطقه\\u200cای داشت؟', 'answer': 'جنگ با رومیان، که بخشی از آن جنگ ایبری بود، به حفظ ایبری برای ساسانیان و لازستان برای بیزانسی\\u200cها منجر شد و بر مرزهای دو امپراتوری تأثیر گذاشت. نبرد بخارا علیه هپتالیان نیز باعث نابودی امپراتوری هپتالی و تقسیم سرزمین\\u200cهای آن شد، در حالی که اتحاد ساسانیان و ترکان شکل گرفت و شمال آمودریا به تصرف ترکان و جنوب آن به تصرف ساسانیان درآمد و تغییرات ژئوپلیتیکی مهمی را در منطقه رقم زد.'}\n",
            "********************** ساسانیان\n",
            "{'question': 'نقش رقابت\\u200cهای منطقه\\u200cای در تعیین نتیجه جنگ\\u200cهای ساسانیان و تأثیر آن بر قلمرو این شاهنشاهی را با استناد به جنگ\\u200cهای ذکر شده در محتوا مقایسه کنید.', 'answer': 'در جنگ با حبشه، رقابت قدرت\\u200cها بر سر کنترل یمن، به پیروزی ساسانیان و بیرون راندن حبشیان انجامید و منجر به کنترل کامل یمن توسط ساسانیان شد. در جنگ با روم، رقابت بر سر مناطق مرزی و قدرت\\u200cنمایی بود، اما هیچ\\u200cیک از طرفین نتوانستند سرزمین\\u200cهای دشمن را به طور دائمی اشغال کنند و در نهایت، این جنگ بیشتر به یک پیش\\u200cدرآمد برای درگیری\\u200cهای بزرگتر در آینده تبدیل شد.'}\n",
            "********************** ساسانیان\n",
            "{'question': 'جنگ\\u200cهای ساسانیان با ترکان و روم شرقی چه تأثیراتی بر قدرت و قلمرو این امپراتوری داشت؟', 'answer': 'جنگ با ترکان، اگرچه با پیروزی ساسانیان همراه بود و به تصرف بلخ و سمرقند انجامید، اما نشان\\u200cدهنده تلاش برای حفظ و گسترش قلمرو در برابر یک قدرت نوظهور بود و بر سر کنترل مسیرهای تجاری مهم مانند راه ابریشم نیز تأثیرگذار بود. جنگ با روم شرقی، که طولانی\\u200cترین و بزرگ\\u200cترین درگیری بین این دو امپراتوری بود، در ابتدا با پیروزی\\u200cهای ساسانیان همراه بود و منجر به تصرف سرزمین\\u200cهایی مانند شام و اسکندریه شد. با این حال، این جنگ در نهایت به شکست ساسانیان و از دست رفتن سرزمین\\u200cهای اشغالی انجامید و هر دو امپراتوری را به شدت تضعیف کرد. این تضعیف، زمینه را برای فتوحات مسلمانان فراهم کرد.'}\n",
            "********************** ساسانیان\n",
            "{'question': 'در مقایسه با جنگ ساسانیان با ترکان، حمله اعراب چه تأثیرات بلندمدت و سرنوشت\\u200cسازتری بر تاریخ ایران گذاشت؟', 'answer': 'حمله اعراب، در مقایسه با جنگ با ترکان، تأثیرات بسیار عمیق\\u200cتری داشت. این حملات منجر به فروپاشی کامل حکومت ساسانیان، از دست رفتن استقلال سیاسی ایران، و آغاز فرایند تدریجی گرویدن ایرانیان به اسلام شد. در حالی که جنگ با ترکان عمدتاً بر وضعیت مرزهای شرقی تأثیر گذاشت و نشان\\u200cدهنده ضعف ساسانیان بود، حمله اعراب تغییرات بنیادینی در حوزه\\u200cهای فرهنگی، سیاسی و اجتماعی ایجاد کرد و مسیر تاریخ ایران را برای همیشه دگرگون کرد.'}\n",
            "عثمانی\n",
            "********************** عثمانی\n",
            "{'question': 'نقش دولت عثمانی در دو رویداد تاریخی ذکر شده در متن چه بود؟', 'answer': 'دولت عثمانی یکی از امضاکنندگان قانون کنفرانس بروکسل در سال ۱۸۹۰ بود که با هدف پایان دادن به تجارت برده و بهبود شرایط زندگی مردم بومی تدوین شد. همچنین، در جریان جنگ جهانی اول، رضا قلی خان نظام السلطنه با کمک دولت عثمانی علیه نیروهای روس و انگلیس جنگید.'}\n",
            "********************** عثمانی\n",
            "{'question': 'دو سفارت ایران به اروپا در دوره شاه عباس اول با چه اهدافی و چه نتایجی همراه بود و چه تفاوت\\u200cهایی با یکدیگر داشتند؟', 'answer': 'هر دو سفارت با هدف یافتن متحدی علیه امپراتوری عثمانی به اروپا اعزام شدند. سفارت اول در سال 1599 میلادی (978 خورشیدی) به رهبری آنتونی شرلی با هدف ایجاد اتحاد نظامی و تجاری به اروپا رفت و نتوانست اتحاد موثری ایجاد کند. سفارت دوم که در سال\\u200cهای 1609 تا 1615 میلادی به رهبری رابرت شرلی صورت گرفت، موفق به گسترش روابط تجاری و نظامی با کشورهای اروپایی شد و قراردادهایی به امضا رسید.'}\n",
            "********************** عثمانی\n",
            "{'question': 'چه عواملی باعث شد که عثمانی در سال\\u200cهای مختلف با ایران پیمان صلح امضا کند و این پیمان\\u200cها چه تأثیری بر مرزهای دو امپراتوری داشتند؟', 'answer': 'امپراتوری عثمانی در سال ۱۵۵۵ میلادی با پیمان آماسیه به جنگ\\u200cهای ۲۰ ساله با ایران صفوی پایان داد و ۲۰ سال صلح را به ارمغان آورد. این پیمان مرزهای دو طرف را تعیین کرد. در سال ۱۷۴۶ میلادی نیز عهدنامه گردان به منظور پایان دادن به مناقشات امضا شد، اما این پیمان بیشتر به دلیل نیاز ایران به حمایت در برابر حملات عثمانی\\u200cها بود و به انحلال صفویه و تأسیس افشاریه انجامید.'}\n",
            "********************** عثمانی\n",
            "{'question': 'در کدام یک از معاهدات ذکر شده، امپراتوری عثمانی به عنوان یکی از امضاکنندگان حضور داشته است و این معاهده چه تاثیری در روابط بین\\u200cالملل داشت؟', 'answer': 'امپراتوری عثمانی در معاهده برن (۹ اکتبر ۱۸۷۴) به عنوان یکی از امضاکنندگان حضور داشت. این معاهده به تأسیس اتحادیه پستی عمومی (UPU) منجر شد که نقش مهمی در یکپارچه\\u200cسازی خدمات و مقررات پستی بین\\u200cالمللی و تسهیل مبادلات پستی آزادانه بین کشورها داشت.'}\n",
            "********************** عثمانی\n",
            "{'question': 'نقش دو معاهده استانبول (۱۷۳۶) و زهاب (۱۶۳۹) در تعیین مرزها و پایان دادن به جنگ\\u200cهای ایران و عثمانی چگونه بود؟', 'answer': 'عهدنامه زهاب، با تعیین مرزها و واگذاری عراق به عثمانی، به جنگ\\u200cهای طولانی و اختلافات مرزی ۱۵۰ ساله پایان داد. معاهده استانبول نیز با عقب\\u200cنشینی ایران از قفقاز و خروج عثمانی از تبریز، به پایان جنگ\\u200cهای ایران و عثمانی انجامید و به اختلافات خاتمه داد.'}\n",
            "********************** عثمانی\n",
            "{'question': 'چه تفاوت هایی در مفاد و پیامدهای پیمان قسطنطنیه (1913) و عهدنامه سراب (1612) وجود دارد؟', 'answer': 'پیمان قسطنطنیه (1913) بر تعیین حدود مرزی و جلوگیری از اختلافات آتی متمرکز بود و به دنبال مذاکرات و نقشه\\u200cبرداری\\u200cهای دقیق به ثمر نشست. این پیمان منجر به مشخص شدن مناطق تحت کنترل هر کشور و تشکیل کمیسیونی برای اجرای آن شد. در مقابل، عهدنامه سراب (1612) به پایان دادن به جنگ\\u200cهای طولانی مدت بین ایران و عثمانی و تعیین تکلیف مناطق مورد مناقشه می\\u200cپرداخت. این پیمان شامل پرداخت خراج توسط ایران به عثمانی بود و علاوه بر بازگرداندن مناطقی، تأثیرات اقتصادی قابل توجهی داشت. به عبارت دیگر، پیمان قسطنطنیه بیشتر بر مسائل مرزی تمرکز داشت، در حالی که عهدنامه سراب شامل مسائل مرزی، سیاسی و اقتصادی بود.'}\n",
            "********************** عثمانی\n",
            "{'question': 'با توجه به اطلاعات ارائه شده، دو رویداد مهم در روابط ایران و امپراتوری عثمانی را که در بازه\\u200cهای زمانی متفاوت رخ داده\\u200cاند، نام ببرید و هر کدام را به اختصار شرح دهید.', 'answer': '*   **اتحاد ایران–هابسبورگ (سده دهم خورشیدی/شانزدهم میلادی):** این اتحاد با هدف مقابله با عثمانی شکل گرفت و شامل تلاش\\u200cهایی برای ایجاد روابط دیپلماتیک و همکاری نظامی بین ایران صفوی و امپراتوری هابسبورگ (به رهبری کارل پنجم) بود. این اتحاد به دلیل مرگ شاه اسماعیل دوم قبل از تحقق کامل، به طور موقت به تعلیق افتاد، اما اولین نامه رسمی دولت صفوی به یک دولت اروپایی بود.\\n*   **عهدنامه\\u200cهای ارزروم (۱۸۲۳ و ۱۸۴۷):** این عهدنامه\\u200cها برای تعیین مرزها و حل اختلافات دیرینه بین ایران و عثمانی امضا شدند. این پیمان\\u200cها پس از مناقشات مرزی ناشی از عدم تعیین دقیق مرزها در گذشته، به تقسیم مناطق مورد اختلاف، تعیین حدود مرزی، و ایجاد ثبات در منطقه کمک کردند و حاکمیت عثمانی بر سلیمانیه را به رسمیت شناختند.'}\n",
            "********************** عثمانی\n",
            "{'question': 'دو عهدنامه ذکر شده در متن (عهدنامه نصوح پاشا و عهدنامه احمد پاشا) از نظر بازگرداندن اراضی اشغالی به چه شکل با یکدیگر تفاوت داشتند؟', 'answer': 'عهدنامه نصوح پاشا (۱۶۱۲) شامل بازگرداندن مناطق وسیعی از جمله گرجستان، آذربایجان و قفقاز به ایران بود که توسط عثمانی اشغال شده بودند و به عنوان نخستین توافقی شناخته می\\u200cشود که در آن عثمانی اراضی اشغالی را بازگرداند. عهدنامه احمد پاشا (۱۷۳۲) صرفا به پایان دادن جنگ\\u200cها و برقراری ثبات مرزی مربوط می\\u200cشد و اشاره\\u200cای به بازگرداندن اراضی ندارد.'}\n",
            "********************** عثمانی\n",
            "{'question': 'بر اساس محتوای ارائه شده، عثمانی در چه پیمان\\u200cهایی حضور داشته و این حضور چه تأثیری بر روابط بین\\u200cالمللی و منطقه\\u200cای داشته است؟', 'answer': 'عثمانی در پیمان وین حضور داشته، که به تنظیم روابط دیپلماتیک کمک کرده است. همچنین، این امپراتوری طرف مقابل در پیمان گنجه بوده که این پیمان برای ایجاد یک اتحاد دفاعی علیه آن منعقد شد و به بازگشت سرزمین\\u200cهایی به ایران انجامید.'}\n",
            "********************** عثمانی\n",
            "{'question': 'با توجه به اطلاعات ارائه شده، چه عواملی باعث شد که بغداد تحت سلطه عثمانی\\u200cها قرار گیرد و چه تأثیری بر آن داشت؟', 'answer': 'بغداد پس از سقوط به دست هلاکوخان، تحت سلطه ترکمانان، عثمانی\\u200cها و صفویان قرار گرفت. عثمانی\\u200cها پس از جنگ چالدران و با پیروزی بر صفویان توانستند بخش\\u200cهایی از شمال عراق را تصرف کنند که شامل بغداد نیز می\\u200cشد. این سلطه بخشی از یک دوره طولانی\\u200cتر بود که در آن بغداد بین قدرت\\u200cهای مختلف منطقه\\u200cای دست به دست می\\u200cشد.'}\n",
            "*** client2 activated\n"
          ]
        },
        {
          "ename": "RateLimitError",
          "evalue": "Error code: 429 - [{'error': {'code': 429, 'message': 'You exceeded your current quota, please check your plan and billing details. For more information on this error, head to: https://ai.google.dev/gemini-api/docs/rate-limits.', 'status': 'RESOURCE_EXHAUSTED', 'details': [{'@type': 'type.googleapis.com/google.rpc.QuotaFailure', 'violations': [{'quotaMetric': 'generativelanguage.googleapis.com/generate_content_free_tier_requests', 'quotaId': 'GenerateRequestsPerMinutePerProjectPerModel-FreeTier', 'quotaDimensions': {'model': 'gemini-2.0-flash-lite', 'location': 'global'}, 'quotaValue': '30'}]}, {'@type': 'type.googleapis.com/google.rpc.Help', 'links': [{'description': 'Learn more about Gemini API quotas', 'url': 'https://ai.google.dev/gemini-api/docs/rate-limits'}]}, {'@type': 'type.googleapis.com/google.rpc.RetryInfo', 'retryDelay': '0s'}]}}]",
          "output_type": "error",
          "traceback": [
            "\u001b[0;31m---------------------------------------------------------------------------\u001b[0m",
            "\u001b[0;31mRateLimitError\u001b[0m                            Traceback (most recent call last)",
            "\u001b[0;32m/tmp/ipython-input-78-679480929.py\u001b[0m in \u001b[0;36m<cell line: 0>\u001b[0;34m()\u001b[0m\n\u001b[1;32m     23\u001b[0m       \u001b[0mپاسخ\u001b[0m\u001b[0;34m:\u001b[0m\u001b[0;34m\u001b[0m\u001b[0;34m\u001b[0m\u001b[0m\n\u001b[1;32m     24\u001b[0m       \"\"\"\n\u001b[0;32m---> 25\u001b[0;31m       \u001b[0mres\u001b[0m \u001b[0;34m=\u001b[0m \u001b[0mask_gemini\u001b[0m\u001b[0;34m(\u001b[0m\u001b[0mprompt\u001b[0m\u001b[0;34m)\u001b[0m\u001b[0;34m\u001b[0m\u001b[0;34m\u001b[0m\u001b[0m\n\u001b[0m\u001b[1;32m     26\u001b[0m       \u001b[0mprint\u001b[0m\u001b[0;34m(\u001b[0m\u001b[0;34m\"**********************\"\u001b[0m\u001b[0;34m,\u001b[0m \u001b[0mk\u001b[0m\u001b[0;34m)\u001b[0m\u001b[0;34m\u001b[0m\u001b[0;34m\u001b[0m\u001b[0m\n\u001b[1;32m     27\u001b[0m       \u001b[0mformated_res\u001b[0m \u001b[0;34m=\u001b[0m \u001b[0mextract_qa\u001b[0m\u001b[0;34m(\u001b[0m\u001b[0mres\u001b[0m\u001b[0;34m)\u001b[0m\u001b[0;34m\u001b[0m\u001b[0;34m\u001b[0m\u001b[0m\n",
            "\u001b[0;32m/tmp/ipython-input-23-1497649276.py\u001b[0m in \u001b[0;36mask_gemini\u001b[0;34m(user_input)\u001b[0m\n\u001b[1;32m     25\u001b[0m         \u001b[0mbase_url\u001b[0m\u001b[0;34m=\u001b[0m\u001b[0mbase_url\u001b[0m\u001b[0;34m\u001b[0m\u001b[0;34m\u001b[0m\u001b[0m\n\u001b[1;32m     26\u001b[0m     )\n\u001b[0;32m---> 27\u001b[0;31m     response = client.chat.completions.create(\n\u001b[0m\u001b[1;32m     28\u001b[0m                 \u001b[0mmodel\u001b[0m\u001b[0;34m=\u001b[0m\u001b[0mLLM_API_MODEL\u001b[0m\u001b[0;34m,\u001b[0m\u001b[0;34m\u001b[0m\u001b[0;34m\u001b[0m\u001b[0m\n\u001b[1;32m     29\u001b[0m                 \u001b[0mmessages\u001b[0m\u001b[0;34m=\u001b[0m\u001b[0;34m[\u001b[0m\u001b[0;34m{\u001b[0m\u001b[0;34m\"role\"\u001b[0m\u001b[0;34m:\u001b[0m \u001b[0;34m\"user\"\u001b[0m\u001b[0;34m,\u001b[0m \u001b[0;34m\"content\"\u001b[0m\u001b[0;34m:\u001b[0m \u001b[0muser_input\u001b[0m\u001b[0;34m}\u001b[0m\u001b[0;34m]\u001b[0m\u001b[0;34m\u001b[0m\u001b[0;34m\u001b[0m\u001b[0m\n",
            "\u001b[0;32m/usr/local/lib/python3.11/dist-packages/openai/_utils/_utils.py\u001b[0m in \u001b[0;36mwrapper\u001b[0;34m(*args, **kwargs)\u001b[0m\n\u001b[1;32m    285\u001b[0m                         \u001b[0mmsg\u001b[0m \u001b[0;34m=\u001b[0m \u001b[0;34mf\"Missing required argument: {quote(missing[0])}\"\u001b[0m\u001b[0;34m\u001b[0m\u001b[0;34m\u001b[0m\u001b[0m\n\u001b[1;32m    286\u001b[0m                 \u001b[0;32mraise\u001b[0m \u001b[0mTypeError\u001b[0m\u001b[0;34m(\u001b[0m\u001b[0mmsg\u001b[0m\u001b[0;34m)\u001b[0m\u001b[0;34m\u001b[0m\u001b[0;34m\u001b[0m\u001b[0m\n\u001b[0;32m--> 287\u001b[0;31m             \u001b[0;32mreturn\u001b[0m \u001b[0mfunc\u001b[0m\u001b[0;34m(\u001b[0m\u001b[0;34m*\u001b[0m\u001b[0margs\u001b[0m\u001b[0;34m,\u001b[0m \u001b[0;34m**\u001b[0m\u001b[0mkwargs\u001b[0m\u001b[0;34m)\u001b[0m\u001b[0;34m\u001b[0m\u001b[0;34m\u001b[0m\u001b[0m\n\u001b[0m\u001b[1;32m    288\u001b[0m \u001b[0;34m\u001b[0m\u001b[0m\n\u001b[1;32m    289\u001b[0m         \u001b[0;32mreturn\u001b[0m \u001b[0mwrapper\u001b[0m  \u001b[0;31m# type: ignore\u001b[0m\u001b[0;34m\u001b[0m\u001b[0;34m\u001b[0m\u001b[0m\n",
            "\u001b[0;32m/usr/local/lib/python3.11/dist-packages/openai/resources/chat/completions/completions.py\u001b[0m in \u001b[0;36mcreate\u001b[0;34m(self, messages, model, audio, frequency_penalty, function_call, functions, logit_bias, logprobs, max_completion_tokens, max_tokens, metadata, modalities, n, parallel_tool_calls, prediction, presence_penalty, reasoning_effort, response_format, seed, service_tier, stop, store, stream, stream_options, temperature, tool_choice, tools, top_logprobs, top_p, user, web_search_options, extra_headers, extra_query, extra_body, timeout)\u001b[0m\n\u001b[1;32m   1085\u001b[0m     ) -> ChatCompletion | Stream[ChatCompletionChunk]:\n\u001b[1;32m   1086\u001b[0m         \u001b[0mvalidate_response_format\u001b[0m\u001b[0;34m(\u001b[0m\u001b[0mresponse_format\u001b[0m\u001b[0;34m)\u001b[0m\u001b[0;34m\u001b[0m\u001b[0;34m\u001b[0m\u001b[0m\n\u001b[0;32m-> 1087\u001b[0;31m         return self._post(\n\u001b[0m\u001b[1;32m   1088\u001b[0m             \u001b[0;34m\"/chat/completions\"\u001b[0m\u001b[0;34m,\u001b[0m\u001b[0;34m\u001b[0m\u001b[0;34m\u001b[0m\u001b[0m\n\u001b[1;32m   1089\u001b[0m             body=maybe_transform(\n",
            "\u001b[0;32m/usr/local/lib/python3.11/dist-packages/openai/_base_client.py\u001b[0m in \u001b[0;36mpost\u001b[0;34m(self, path, cast_to, body, options, files, stream, stream_cls)\u001b[0m\n\u001b[1;32m   1247\u001b[0m             \u001b[0mmethod\u001b[0m\u001b[0;34m=\u001b[0m\u001b[0;34m\"post\"\u001b[0m\u001b[0;34m,\u001b[0m \u001b[0murl\u001b[0m\u001b[0;34m=\u001b[0m\u001b[0mpath\u001b[0m\u001b[0;34m,\u001b[0m \u001b[0mjson_data\u001b[0m\u001b[0;34m=\u001b[0m\u001b[0mbody\u001b[0m\u001b[0;34m,\u001b[0m \u001b[0mfiles\u001b[0m\u001b[0;34m=\u001b[0m\u001b[0mto_httpx_files\u001b[0m\u001b[0;34m(\u001b[0m\u001b[0mfiles\u001b[0m\u001b[0;34m)\u001b[0m\u001b[0;34m,\u001b[0m \u001b[0;34m**\u001b[0m\u001b[0moptions\u001b[0m\u001b[0;34m\u001b[0m\u001b[0;34m\u001b[0m\u001b[0m\n\u001b[1;32m   1248\u001b[0m         )\n\u001b[0;32m-> 1249\u001b[0;31m         \u001b[0;32mreturn\u001b[0m \u001b[0mcast\u001b[0m\u001b[0;34m(\u001b[0m\u001b[0mResponseT\u001b[0m\u001b[0;34m,\u001b[0m \u001b[0mself\u001b[0m\u001b[0;34m.\u001b[0m\u001b[0mrequest\u001b[0m\u001b[0;34m(\u001b[0m\u001b[0mcast_to\u001b[0m\u001b[0;34m,\u001b[0m \u001b[0mopts\u001b[0m\u001b[0;34m,\u001b[0m \u001b[0mstream\u001b[0m\u001b[0;34m=\u001b[0m\u001b[0mstream\u001b[0m\u001b[0;34m,\u001b[0m \u001b[0mstream_cls\u001b[0m\u001b[0;34m=\u001b[0m\u001b[0mstream_cls\u001b[0m\u001b[0;34m)\u001b[0m\u001b[0;34m)\u001b[0m\u001b[0;34m\u001b[0m\u001b[0;34m\u001b[0m\u001b[0m\n\u001b[0m\u001b[1;32m   1250\u001b[0m \u001b[0;34m\u001b[0m\u001b[0m\n\u001b[1;32m   1251\u001b[0m     def patch(\n",
            "\u001b[0;32m/usr/local/lib/python3.11/dist-packages/openai/_base_client.py\u001b[0m in \u001b[0;36mrequest\u001b[0;34m(self, cast_to, options, stream, stream_cls)\u001b[0m\n\u001b[1;32m   1035\u001b[0m \u001b[0;34m\u001b[0m\u001b[0m\n\u001b[1;32m   1036\u001b[0m                 \u001b[0mlog\u001b[0m\u001b[0;34m.\u001b[0m\u001b[0mdebug\u001b[0m\u001b[0;34m(\u001b[0m\u001b[0;34m\"Re-raising status error\"\u001b[0m\u001b[0;34m)\u001b[0m\u001b[0;34m\u001b[0m\u001b[0;34m\u001b[0m\u001b[0m\n\u001b[0;32m-> 1037\u001b[0;31m                 \u001b[0;32mraise\u001b[0m \u001b[0mself\u001b[0m\u001b[0;34m.\u001b[0m\u001b[0m_make_status_error_from_response\u001b[0m\u001b[0;34m(\u001b[0m\u001b[0merr\u001b[0m\u001b[0;34m.\u001b[0m\u001b[0mresponse\u001b[0m\u001b[0;34m)\u001b[0m \u001b[0;32mfrom\u001b[0m \u001b[0;32mNone\u001b[0m\u001b[0;34m\u001b[0m\u001b[0;34m\u001b[0m\u001b[0m\n\u001b[0m\u001b[1;32m   1038\u001b[0m \u001b[0;34m\u001b[0m\u001b[0m\n\u001b[1;32m   1039\u001b[0m             \u001b[0;32mbreak\u001b[0m\u001b[0;34m\u001b[0m\u001b[0;34m\u001b[0m\u001b[0m\n",
            "\u001b[0;31mRateLimitError\u001b[0m: Error code: 429 - [{'error': {'code': 429, 'message': 'You exceeded your current quota, please check your plan and billing details. For more information on this error, head to: https://ai.google.dev/gemini-api/docs/rate-limits.', 'status': 'RESOURCE_EXHAUSTED', 'details': [{'@type': 'type.googleapis.com/google.rpc.QuotaFailure', 'violations': [{'quotaMetric': 'generativelanguage.googleapis.com/generate_content_free_tier_requests', 'quotaId': 'GenerateRequestsPerMinutePerProjectPerModel-FreeTier', 'quotaDimensions': {'model': 'gemini-2.0-flash-lite', 'location': 'global'}, 'quotaValue': '30'}]}, {'@type': 'type.googleapis.com/google.rpc.Help', 'links': [{'description': 'Learn more about Gemini API quotas', 'url': 'https://ai.google.dev/gemini-api/docs/rate-limits'}]}, {'@type': 'type.googleapis.com/google.rpc.RetryInfo', 'retryDelay': '0s'}]}}]"
          ]
        }
      ],
      "source": [
        "from itertools import combinations\n",
        "\n",
        "start_iterating = False\n",
        "r = 0\n",
        "for k , j in clusters.items():\n",
        "  r += 1\n",
        "  print(k)\n",
        "  if k == \"ایالات متحده\":\n",
        "        start_iterating = True\n",
        "  if start_iterating:\n",
        "    comb_list = [(j[i], j[i+1]) for i in range(0, len(j) - 1, 2)]\n",
        "    for a,b in comb_list:\n",
        "      context = \"\"\n",
        "      context += \"\\n 1 بخش\"\n",
        "      context += f\"{a}\\n\"\n",
        "      context += \"\\n 2 بخش\"\n",
        "      context += f\"{b}\\n\"\n",
        "\n",
        "      prompt = f\"\"\" یک سوال درباره {k} از محتوایی که در اختیارت قرار می دهم مطرح کن. به گونه ای که برای پاسخ به آن نیاز به بخش های مختلف محتوا باشد.\n",
        "      محتوا:\\n{context}\n",
        "      فقط سوال نهایی و جواب آن را به فرمت زیر برگردان و در سوال از عبارت هایی مثل \"بر اساس اطلاعات ارائه شده ...\" استفاده نکن\n",
        "      سؤال:\n",
        "      پاسخ:\n",
        "      \"\"\"\n",
        "      res = ask_gemini(prompt)\n",
        "      print(\"**********************\", k)\n",
        "      formated_res = extract_qa(res)\n",
        "      print(formated_res)\n",
        "      questions.append(res)\n",
        "      questions2.append(formated_res)\n"
      ]
    },
    {
      "cell_type": "code",
      "execution_count": null,
      "metadata": {
        "colab": {
          "base_uri": "https://localhost:8080/"
        },
        "id": "alpg_WnmaFp6",
        "outputId": "e82c2aa0-fa27-498f-f292-b7fa07462aa4"
      },
      "outputs": [
        {
          "data": {
            "text/plain": [
              "64"
            ]
          },
          "execution_count": 79,
          "metadata": {},
          "output_type": "execute_result"
        }
      ],
      "source": [
        "len(questions2)"
      ]
    },
    {
      "cell_type": "code",
      "execution_count": null,
      "metadata": {
        "id": "OSaVdk6WjXSd"
      },
      "outputs": [],
      "source": []
    },
    {
      "cell_type": "code",
      "execution_count": null,
      "metadata": {
        "colab": {
          "base_uri": "https://localhost:8080/"
        },
        "id": "0dLqHL-rcvmM",
        "outputId": "cb0dc68b-d2a5-4ace-be08-f4b449adc90a"
      },
      "outputs": [
        {
          "name": "stdout",
          "output_type": "stream",
          "text": [
            "{'question': 'نقش دو چهره سیاسی رضا قلی هدایت و نصرالله خان خلعتبری در دوران پهلوی چه بود و کدام یک زودتر درگذشت؟', 'answer': 'رضا قلی هدایت در دوران پهلوی وزیر بود و در تشکیل حزب اراده ملی نقش داشت. نصرالله خان خلعتبری نیز در دوران پهلوی فعال بود. رضا قلی هدایت در سال ۱۳۲۴ درگذشت. با توجه به تاریخ تولد نصرالله خان خلعتبری و عدم ذکر تاریخ وفات او در متن، مشخص نیست کدام یک زودتر درگذشت.'}\n",
            "{'question': 'با توجه به اطلاعات موجود، دو شخصیت سیاسی که در دوران پهلوی فعالیت داشتند را نام ببرید و محل تولد هر یک را مشخص کنید.', 'answer': 'دو شخصیت سیاسی که در دوران پهلوی فعالیت داشتند، داود مفتاح السلطنه که در تهران متولد شد و میرزا علی\\u200cمحمد خان بنی\\u200cآدم ملقب به شریف\\u200cالدوله که در کاشان چشم به جهان گشود.'}\n"
          ]
        }
      ],
      "source": [
        "for q in questions2[20:22]:\n",
        "  print(q)"
      ]
    },
    {
      "cell_type": "code",
      "execution_count": null,
      "metadata": {
        "id": "dJUchHDYb-TG"
      },
      "outputs": [],
      "source": [
        "with open(\"/content/drive/MyDrive/NLP_HW2/History/ReadableFormats/QA_records_2.json\", \"w\", encoding=\"utf-8\") as f:\n",
        "  json.dump(questions2, f, ensure_ascii=False, indent=2)"
      ]
    },
    {
      "cell_type": "code",
      "execution_count": null,
      "metadata": {
        "id": "SHFy4FEQ0doD"
      },
      "outputs": [],
      "source": [
        "import re\n",
        "\n",
        "def qan_parser(sentence: str, qa_text: str) -> dict:\n",
        "    \"\"\"\n",
        "    Converts a sentence and corresponding Q&A pairs (formatted in text)\n",
        "    into a structured JSON-like dictionary.\n",
        "\n",
        "    Parameters:\n",
        "        sentence (str): The original text the questions are based on.\n",
        "        qa_text (str): Multiline string containing questions and answers.\n",
        "                       Format:\n",
        "                       سؤال: ...\n",
        "                       پاسخ: ...\n",
        "\n",
        "    Returns:\n",
        "        dict: A dictionary with the sentence and a list of question-answer pairs.\n",
        "    \"\"\"\n",
        "    qas = []\n",
        "    qa_pairs = re.findall(r\"سؤال:\\s*(.*?)\\s*پاسخ:\\s*(.*?)(?=(?:\\n\\s*سؤال:|\\Z))\", qa_text, flags=re.DOTALL)\n",
        "\n",
        "    for question, answer in qa_pairs:\n",
        "        qas.append({\n",
        "            \"question\": question.strip(),\n",
        "            \"answer\": answer.strip()\n",
        "        })\n",
        "\n",
        "    return {\n",
        "        \"sentence\": sentence.strip(),\n",
        "        \"Q&A\": qas\n",
        "    }\n"
      ]
    },
    {
      "cell_type": "code",
      "execution_count": null,
      "metadata": {
        "colab": {
          "base_uri": "https://localhost:8080/"
        },
        "id": "5PXKZVWRibgo",
        "outputId": "a2df9537-78e6-4fa6-8d5e-241ab7dfacf5"
      },
      "outputs": [
        {
          "name": "stderr",
          "output_type": "stream",
          "text": [
            "  1%|          | 1/181 [00:02<08:40,  2.89s/it]"
          ]
        },
        {
          "name": "stdout",
          "output_type": "stream",
          "text": [
            "{'sentence': 'در تاریخ ۲۲ خرداد سال ۱۲۳۷ هجری شمسی در شهر شیراز، سید ابراهیم ضیاء الواعظین چشم به جهان گشود. وی بعدها به عنوان مدیر مسئول روزنامه \"ایران آزاد\" شناخته شد، روزنامه\\u200cای که از سال ۱۳۰۰ شمسی در تهران با موضوعات سیاسی و اجتماعی منتشر می\\u200cشد. این روزنامه که به دلیل چاپ مقالات تند و انتقادی از همان ابتدا مورد توجه فراوان قرار گرفت، با تیراژی بالا خوانندگان زیادی را جذب کرد. اما به دلیل همین انتقادات، چند بار توقیف شد و مدیر مسئول آن نیز تبعید گردید. برای کسب اطلاعات بیشتر در این باره می\\u200cتوانید به کتاب \"روز شمار تاریخ معاصر ایران\" نوشته حسن فراهانی مراجعه فرمایید.', 'Q&A': [{'question': 'سید ابراهیم ضیاء الواعظین چه زمانی و در کجا متولد شد؟', 'answer': 'سید ابراهیم ضیاء الواعظین در تاریخ ۲۲ خرداد سال ۱۲۳۷ هجری شمسی در شهر شیراز به دنیا آمد.'}, {'question': 'روزنامه \"ایران آزاد\" به چه موضوعاتی می\\u200cپرداخت و چه تأثیری بر مخاطبان داشت؟', 'answer': 'روزنامه \"ایران آزاد\" با موضوعات سیاسی و اجتماعی منتشر می\\u200cشد و با چاپ مقالات تند و انتقادی، توجه بسیاری از مخاطبان را به خود جلب کرد و تیراژ بالایی داشت.'}, {'question': 'چرا روزنامه \"ایران آزاد\" چندین بار توقیف شد و چه سرنوشتی برای مدیر مسئول آن رقم خورد؟', 'answer': 'روزنامه \"ایران آزاد\" به دلیل چاپ مقالات تند و انتقادی چندین بار توقیف شد و مدیر مسئول آن نیز تبعید شد.'}, {'question': 'نقش سید ابراهیم ضیاء الواعظین در روزنامه \"ایران آزاد\" چه بود و این روزنامه چه اهمیتی داشت؟', 'answer': 'سید ابراهیم ضیاء الواعظین مدیر مسئول روزنامه \"ایران آزاد\" بود. این روزنامه به دلیل چاپ مقالات انتقادی و آگاهی\\u200cبخشی، نقش مهمی در تاریخ مطبوعات ایران داشت.'}, {'question': 'برای کسب اطلاعات بیشتر در مورد تاریخچه روزنامه \"ایران آزاد\" به کدام منبع می\\u200cتوان مراجعه کرد؟', 'answer': 'برای کسب اطلاعات بیشتر در مورد تاریخچه روزنامه \"ایران آزاد\" می\\u200cتوان به کتاب \"روز شمار تاریخ معاصر ایران\" نوشته حسن فراهانی مراجعه کرد.'}]}\n"
          ]
        },
        {
          "name": "stderr",
          "output_type": "stream",
          "text": [
            "\r  1%|          | 2/181 [00:05<08:01,  2.69s/it]"
          ]
        },
        {
          "name": "stdout",
          "output_type": "stream",
          "text": [
            "{'sentence': 'آیت\\u200cالله شیخ عبدالکریم حائری یزدی، بنیانگذار حوزه علمیه قم و از علمای برجسته شیعه، در سال ۱۲۷۶ قمری در روستای مهرجرد از توابع میبد یزد چشم به جهان گشود. ایشان تحصیلات مقدماتی را در اردکان آغاز کرد و سپس در یزد به فراگیری علوم دینی پرداخت. برای ادامه تحصیل راهی عراق شد و در حوزه\\u200cهای علمیه سامرا و نجف از محضر اساتید بزرگی بهره برد. پس از درگذشت میرزای شیرازی بزرگ، به نجف رفت و به درس آخوند خراسانی پیوست. آیت\\u200cالله حائری در کربلا نیز به تربیت طلاب و تشکیل حوزه درسی اهتمام ورزید و در نهایت، پس از رحلت مراجع تقلید در عراق، مرجعیت شیعیان ایران و دیگر کشورها را عهده\\u200cدار شد. اطلاعات بیشتر در این خصوص در کتاب \"روزشمار تاریخ معاصر ایران\" تالیف حسن فراهانی قابل دسترس است.', 'Q&A': [{'question': 'آیت\\u200cالله حائری یزدی در چه سالی و در کجا متولد شد؟', 'answer': 'آیت\\u200cالله حائری یزدی در سال ۱۲۷۶ قمری در روستای مهرجرد از توابع میبد یزد متولد شد.'}, {'question': 'آیت\\u200cالله حائری یزدی چرا به حوزه علمیه نجف رفت؟', 'answer': 'ایشان برای ادامه تحصیل علوم دینی به حوزه علمیه نجف رفت و از محضر اساتید بزرگی بهره برد.'}, {'question': 'چه چیزی آیت\\u200cالله حائری یزدی را به سمت مرجعیت شیعیان سوق داد؟', 'answer': 'پس از رحلت مراجع تقلید در عراق، آیت\\u200cالله حائری یزدی مرجعیت شیعیان ایران و دیگر کشورها را عهده\\u200cدار شد.'}, {'question': 'تأسیس حوزه علمیه قم توسط آیت\\u200cالله حائری یزدی چه تأثیری در تاریخ تشیع داشت؟', 'answer': 'تأسیس حوزه علمیه قم توسط آیت\\u200cالله حائری یزدی، نقش بسزایی در احیای حوزه\\u200cهای علمیه و گسترش علوم دینی در ایران ایفا کرد.'}, {'question': 'اگر به دنبال اطلاعات بیشتری درباره آیت\\u200cالله حائری یزدی باشیم، به کدام منبع می\\u200cتوانیم مراجعه کنیم؟', 'answer': 'اطلاعات بیشتر در این خصوص در کتاب \"روزشمار تاریخ معاصر ایران\" تالیف حسن فراهانی قابل دسترس است.'}]}\n"
          ]
        },
        {
          "name": "stderr",
          "output_type": "stream",
          "text": [
            "\r  2%|▏         | 3/181 [00:07<07:34,  2.55s/it]"
          ]
        },
        {
          "name": "stdout",
          "output_type": "stream",
          "text": [
            "{'sentence': 'میرزا یحیی امام جمعه خویی، از علمای برجسته مشروطه خواه، در سال ۱۲۳۹ هجری شمسی در شهر خوی آذربایجان متولد شد. او فرزند حاج میرزا اسدالله امام جمعه بود و تحصیلات خود را در شهرهای خوی، تبریز و نجف به پایان رساند. میرزا یحیی در دوره اول مجلس شورای ملی، با حمایت علماي آذربایجان به مجلس راه یافت. پس از به توپ بستن مجلس توسط محمدعلی شاه در سال ۱۲۸۷ شمسی، امام جمعه خویی و دیگر رهبران مشروطه خواه به پارک امین الدوله پناه بردند، اما متاسفانه محسن خان امین الدوله، که با شاه نیز ارتباط داشت، خبرچین مستبدین شد و آنان را تحویل داد. اطلاعات بیشتر در این زمینه را می توانید در کتاب \"روزشمار تاریخ معاصر ایران\" اثر حسن فراهانی بیابید.', 'Q&A': [{'question': 'چه کسی در سال ۱۲۳۹ هجری شمسی در شهر خوی متولد شد؟', 'answer': 'میرزا یحیی امام جمعه خویی در سال ۱۲۳۹ هجری شمسی در شهر خوی متولد شد.'}, {'question': 'میرزا یحیی امام جمعه خویی چه نقشی در دوره مشروطه داشت؟', 'answer': 'میرزا یحیی امام جمعه خویی از علمای برجسته مشروطه خواه بود و در دوره اول مجلس شورای ملی حضور داشت.'}, {'question': 'چرا میرزا یحیی امام جمعه خویی پس از به توپ بستن مجلس به پارک امین الدوله پناه برد؟', 'answer': 'میرزا یحیی امام جمعه خویی و دیگر مشروطه خواهان پس از به توپ بستن مجلس توسط محمدعلی شاه، برای در امان ماندن به پارک امین الدوله پناه بردند.'}, {'question': 'چه عاملی باعث دستگیری میرزا یحیی امام جمعه خویی و دیگر مشروطه خواهان شد؟', 'answer': 'محسن خان امین الدوله، که با شاه ارتباط داشت، به مستبدین خبر داد و باعث دستگیری میرزا یحیی و دیگر مشروطه خواهان شد.'}, {'question': 'اهمیت و جایگاه میرزا یحیی امام جمعه خویی در تاریخ ایران از چه منظری قابل بررسی است؟', 'answer': 'اهمیت او را می توان به عنوان یک عالم برجسته، فعال مشروطه خواه و نماینده مردم در مجلس شورای ملی در تاریخ معاصر ایران مورد بررسی قرار داد.'}]}\n"
          ]
        },
        {
          "name": "stderr",
          "output_type": "stream",
          "text": [
            "\r  2%|▏         | 4/181 [00:10<08:02,  2.73s/it]"
          ]
        },
        {
          "name": "stdout",
          "output_type": "stream",
          "text": [
            "{'sentence': 'اسحاق خان مفخم\\u200cالدوله، سیاستمدار برجسته عصر قاجار که به پرنس شهرت داشت، در دی ماه سال ۱۲۳۹ هجری شمسی در تبریز چشم به جهان گشود. او که پسر میرزا عبدالغنی بود، پس از تحصیل در مدرسه نظامی تبریز و اخذ لیسانس در علوم سیاسی از اروپا، به وزارت امور خارجه پیوست. مفخم\\u200cالدوله در مقام\\u200cهای مختلفی چون آتـاشه (وابسته) سفارت ایران در روسیه، ژنرال قنسول ایران در مصر و وزیر مختار ایران در چندین کشور از جمله واشنگتن، مکزیک، برزیل و آرژانتین خدمت کرد. در دوران مشروطیت، وی به عنوان وزیر مختار ایران در روسیه مشغول به کار شد و سپس در ایتالیا، اتریش، سوئد، نروژ، انگلستان و بار دیگر ایتالیا نیز خدمت کرد. آخرین منصب او سفیر کبیر ایران در ترکیه بود که پس از دو سال به سید محمد صادق طباطبایی واگذار شد. اطلاعات بیشتر در این زمینه در کتاب \"روزشمار تاریخ معاصر ایران\" اثر حسن فراهانی قابل دسترسی است.', 'Q&A': [{'question': 'چه کسی در سال ۱۲۳۹ هجری شمسی در تبریز متولد شد و به پرنس شهرت داشت؟', 'answer': 'اسحاق خان مفخم\\u200cالدوله، سیاستمدار برجسته عصر قاجار.'}, {'question': 'تحصیلات اسحاق خان مفخم\\u200cالدوله در زمینه علوم سیاسی از کجا و چگونه تأثیری بر فعالیت\\u200cهای سیاسی او داشت؟', 'answer': 'او در اروپا لیسانس علوم سیاسی گرفت و این دانش به او در مناصب مختلف دیپلماتیکش در کشورهای گوناگون کمک کرد.'}, {'question': 'چرا اسحاق خان مفخم\\u200cالدوله در دوران مشروطیت به عنوان وزیر مختار ایران در روسیه منصوب شد؟', 'answer': 'این اطلاعات در خلاصه موجود نیست، اما از مقام\\u200cهای مختلف او می\\u200cتوان حدس زد که این انتصاب به دلیل تجربه و دانش او در زمینه روابط بین\\u200cالملل بوده است.'}, {'question': 'مهم\\u200cترین مناصب دیپلماتیک اسحاق خان مفخم\\u200cالدوله چه بودند و این مناصب چه نقشی در تاریخ روابط خارجی ایران داشتند؟', 'answer': 'او در مقام\\u200cهای آتـاشه در روسیه، ژنرال قنسول در مصر، وزیر مختار در کشورهای مختلف و سفیر کبیر در ترکیه خدمت کرد. این مناصب نقش مهمی در برقراری و توسعه روابط ایران با کشورهای مختلف داشتند.'}, {'question': 'آخرین منصب اسحاق خان مفخم\\u200cالدوله چه بود و چرا این منصب به سید محمد صادق طباطبایی واگذار شد؟', 'answer': 'آخرین منصب او سفیر کبیر ایران در ترکیه بود. در متن اشاره\\u200cای به دلیل واگذاری این منصب نشده است.'}]}\n"
          ]
        },
        {
          "name": "stderr",
          "output_type": "stream",
          "text": [
            "\r  3%|▎         | 5/181 [00:13<08:16,  2.82s/it]"
          ]
        },
        {
          "name": "stdout",
          "output_type": "stream",
          "text": [
            "{'sentence': 'میرزا اسماعیل خان، ملقب به معتصم الملک، از رجال سیاسی برجسته ایران، در سال ۱۲۷۷ یا به روایتی ۱۲۷۸ هجری قمری در شیراز متولد شد. او که فرزند میرزا محمد خان مؤتمن الوزاره بود، ابتدا ریاست جبه\\u200cخانه فارس و سپس کارگزاری بنادر فارس را بر عهده داشت. معتصم الملک در سال ۱۳۰۶ قمری به وزارت خارجه پیوست و در سال ۱۳۱۱ قمری به ریاست اداره تجارت شیراز منصوب شد. وی همچنین در سال ۱۳۲۳ قمری، کارگزار استرآباد و پس از آن کنسول ایران در عشق\\u200cآباد بود. اطلاعات بیشتری در مورد زندگی او را می\\u200cتوان در کتاب \"روز شمار تاریخ معاصر ایران\" اثر حسن فراهانی یافت.', 'Q&A': [{'question': 'میرزا اسماعیل خان معتصم الملک در چه سالی و در کجا متولد شد؟', 'answer': 'میرزا اسماعیل خان معتصم الملک در سال ۱۲۷۷ یا ۱۲۷۸ هجری قمری در شیراز متولد شد.'}, {'question': 'میرزا اسماعیل خان پس از پیوستن به وزارت خارجه، چه منصبی داشت و این انتصاب در چه سالی صورت گرفت؟', 'answer': 'وی در سال ۱۳۱۱ هجری قمری به ریاست اداره تجارت شیراز منصوب شد.'}, {'question': 'چه عاملی باعث شد میرزا اسماعیل خان به فعالیت\\u200cهای سیاسی روی آورد و در پست\\u200cهای دولتی مشغول به کار شود؟', 'answer': 'با توجه به متن، اطلاعاتی در مورد علت دقیق پیوستن میرزا اسماعیل خان به فعالیت\\u200cهای سیاسی و دولتی ارائه نشده است، اما او به دلیل جایگاه خانوادگی\\u200cاش و توانایی\\u200cهای فردی\\u200cاش در پست\\u200cهای مختلف دولتی منصوب شد.'}, {'question': 'مهم\\u200cترین سمت\\u200cهای میرزا اسماعیل خان در طول زندگی\\u200cاش چه بود و این سمت\\u200cها چه اهمیتی داشتند؟', 'answer': 'میرزا اسماعیل خان ریاست جبه\\u200cخانه فارس، کارگزاری بنادر فارس، مقام وزارت خارجه، ریاست اداره تجارت شیراز، کارگزار استرآباد و کنسول ایران در عشق\\u200cآباد را بر عهده داشت. این سمت\\u200cها نشان\\u200cدهنده فعالیت گسترده او در حوزه\\u200cهای مختلف سیاسی و اقتصادی بود.'}, {'question': 'اگر بخواهیم اطلاعات بیشتری درباره زندگی میرزا اسماعیل خان به دست آوریم، به کدام منبع مراجعه کنیم؟', 'answer': 'برای کسب اطلاعات بیشتر درباره زندگی میرزا اسماعیل خان، می\\u200cتوان به کتاب \"روز شمار تاریخ معاصر ایران\" اثر حسن فراهانی مراجعه کرد.'}]}\n"
          ]
        },
        {
          "name": "stderr",
          "output_type": "stream",
          "text": [
            "\r  3%|▎         | 6/181 [00:15<07:23,  2.53s/it]"
          ]
        },
        {
          "name": "stdout",
          "output_type": "stream",
          "text": [
            "{'sentence': 'سلیمان میرزا اسکندری، از چهره\\u200cهای برجسته سیاسی و از نمایندگان مجلس شورای ملی، در سال ۱۲۷۸ قمری در تهران متولد شد. او که به نام سلیمان محسن اسکندری نیز شناخته می\\u200cشود، در پایتخت دیده به جهان گشود. برای کسب اطلاعات بیشتر دربارهٔ این شخصیت، می\\u200cتوان به کتاب \"روزشمار تاریخ معاصر ایران\" نوشته حسن فراهانی مراجعه کرد.', 'Q&A': [{'question': 'سلیمان میرزا اسکندری در چه سالی و در کجا متولد شد؟', 'answer': 'سلیمان میرزا اسکندری در سال ۱۲۷۸ قمری در تهران متولد شد.'}, {'question': 'سلیمان میرزا اسکندری چه نقش سیاسی مهمی داشت؟', 'answer': 'او از چهره\\u200cهای برجسته سیاسی و از نمایندگان مجلس شورای ملی بود.'}, {'question': 'چرا نام سلیمان میرزا اسکندری، سلیمان محسن اسکندری هم بود؟', 'answer': 'این یک نام مستعار یا نام دیگر او بود، اما اطلاعات دقیقی در این خلاصه ارائه نشده است.'}, {'question': 'کدام منبع برای کسب اطلاعات بیشتر دربارهٔ سلیمان میرزا اسکندری پیشنهاد شده است؟', 'answer': 'کتاب \"روزشمار تاریخ معاصر ایران\" نوشته حسن فراهانی.'}, {'question': 'تولد سلیمان میرزا اسکندری در تهران چه اهمیتی دارد؟', 'answer': 'تولد او در تهران نشان\\u200cدهندهٔ تعلق او به پایتخت و احتمالاً دسترسی او به فرصت\\u200cهای سیاسی و اجتماعی آن زمان است.'}]}\n"
          ]
        },
        {
          "name": "stderr",
          "output_type": "stream",
          "text": [
            "\r  4%|▍         | 7/181 [00:17<06:38,  2.29s/it]"
          ]
        },
        {
          "name": "stdout",
          "output_type": "stream",
          "text": [
            "{'sentence': 'حاج حسین اقتصادی، ملقب به مستشارالممالک، از رجال سیاسی دوره قاجار و مدیر مسئول روزنامه \"اقتصاد ایران\"، در سال ۱۲۴۰ هجری شمسی در تبریز چشم به جهان گشود. او تحصیلات خود در علوم قدیمه را از نوجوانی آغاز کرد و برای کسب دانش نوین، راهی استانبول شد، جایی که در رشته\\u200cهای اقتصادی و سیاسی تحصیل کرد و سفرهایی به شهرهای اروپایی داشت. مستشارالممالک در سال ۱۳۱۲ قمری به ریاست تجارت آذربایجان منصوب شد و سپس به عنوان مشاور تجاری در وزارت امور خارجه مشغول به کار شد. او با انتشار روزنامه \"اقتصاد ایران\"، ایرانیان را با علم اقتصاد و روش\\u200cهای نوین تجارت آشنا کرد. وی پس از ۸۲ سال زندگی، در ۱۲ بهمن ۱۳۲۳ در تهران درگذشت. در دوران حضورش در استانبول، با همکاری جمعی از فرهنگیان، مدرسه\\u200cای به نام دبستان ایرانیان تأسیس کرد و مدتی در آن به تدریس پرداخت. اطلاعات بیشتر درباره زندگی و فعالیت\\u200cهای او در کتاب \"روزشمار تاریخ معاصر ایران\" نوشته حسن فراهانی یافت می\\u200cشود.', 'Q&A': [{'question': 'مستشارالممالک، چه کسی بود و در چه دوره\\u200cای فعالیت می\\u200cکرد؟', 'answer': 'مستشارالممالک از رجال سیاسی دوره قاجار و مدیر مسئول روزنامه \"اقتصاد ایران\" بود.'}, {'question': 'چرا مستشارالممالک به استانبول سفر کرد؟', 'answer': 'او برای کسب دانش نوین در رشته\\u200cهای اقتصادی و سیاسی به استانبول رفت.'}, {'question': 'چه چیزی باعث شد تا مستشارالممالک به عنوان شخصیتی مهم در دوران خود شناخته شود؟', 'answer': 'انتشار روزنامه \"اقتصاد ایران\" و آشنا کردن ایرانیان با علم اقتصاد و روش\\u200cهای نوین تجارت.'}, {'question': 'مستشارالممالک چه زمانی و در کجا درگذشت؟', 'answer': 'مستشارالممالک در ۱۲ بهمن ۱۳۲۳ در تهران درگذشت.'}, {'question': 'چگونه می\\u200cتوان اطلاعات بیشتری درباره زندگی و فعالیت\\u200cهای مستشارالممالک کسب کرد؟', 'answer': 'با مراجعه به کتاب \"روزشمار تاریخ معاصر ایران\" نوشته حسن فراهانی.'}]}\n"
          ]
        },
        {
          "name": "stderr",
          "output_type": "stream",
          "text": [
            "\r  4%|▍         | 8/181 [00:19<06:36,  2.29s/it]"
          ]
        },
        {
          "name": "stdout",
          "output_type": "stream",
          "text": [
            "{'sentence': 'شیخ محمدحسین استرآبادی، عالم مشهور به مجتهد استرآبادی، در حدود سال ۱۲۴۰ هجری شمسی (مطابق با ۱۲۷۸ قمری) به دنیا آمد. او که فرزند شیخ نصرالله بود، از علمای مشروطه خواه به شمار می\\u200cرفت. در سال\\u200cهای آغازین انقلاب مشروطه، وی در استرآباد از این جنبش حمایت کرد و با ایراد سخنرانی\\u200cها و ارسال تلگرام\\u200cها، به تقویت مجلس مشروطه پرداخت. برای کسب اطلاعات بیشتر درباره زندگی و فعالیت\\u200cهای ایشان، به کتاب \"روزشمار تاریخ معاصر ایران\" نوشته حسن فراهانی مراجعه کنید.', 'Q&A': [{'question': 'شیخ محمدحسین استرآبادی چه کسی بود و چه نقشی در تاریخ ایران داشت؟', 'answer': 'شیخ محمدحسین استرآبادی، عالم دینی و از علمای مشروطه خواه بود که در اوایل انقلاب مشروطه از این جنبش حمایت کرد.'}, {'question': 'تاریخ تولد شیخ محمدحسین استرآبادی چه سالی بود؟', 'answer': 'شیخ محمدحسین استرآبادی در حدود سال ۱۲۴۰ هجری شمسی (مطابق با ۱۲۷۸ قمری) متولد شد.'}, {'question': 'چرا شیخ محمدحسین استرآبادی از جنبش مشروطه حمایت کرد؟', 'answer': 'با توجه به متن، دلیل مستقیمی ذکر نشده، اما او به عنوان یک عالم مشروطه خواه، احتمالاً به دنبال اصلاحات سیاسی و اجتماعی در ایران بود.'}, {'question': 'شیخ محمدحسین استرآبادی چگونه از انقلاب مشروطه حمایت کرد؟', 'answer': 'او با ایراد سخنرانی\\u200cها و ارسال تلگرام\\u200cها در استرآباد، به تقویت مجلس مشروطه پرداخت.'}, {'question': 'برای کسب اطلاعات بیشتر درباره فعالیت\\u200cهای شیخ محمدحسین استرآبادی، به کدام منبع می\\u200cتوان مراجعه کرد؟', 'answer': 'برای کسب اطلاعات بیشتر، می\\u200cتوان به کتاب \"روزشمار تاریخ معاصر ایران\" نوشته حسن فراهانی مراجعه کرد.'}]}\n"
          ]
        },
        {
          "name": "stderr",
          "output_type": "stream",
          "text": [
            "\r  5%|▍         | 9/181 [00:22<06:31,  2.27s/it]"
          ]
        },
        {
          "name": "stdout",
          "output_type": "stream",
          "text": [
            "{'sentence': 'مهدی قلی خان مخبرالسلطنه، از رجال سیاسی برجسته و نخست وزیران دوران قاجار، در سال ۱۲۴۲ هجری شمسی چشم به جهان گشود. او فرزند علی قلی خان مخبرالدوله و نوه رضا قلی خان هدایت بود. زادگاه ایشان، طبق منابع موجود، در سال تولد در جی، از توابع تهران، بوده است. برای کسب اطلاعات بیشتر در مورد زندگی و فعالیت\\u200cهای ایشان، می\\u200cتوان به کتاب \"روزشمار تاریخ معاصر ایران\" اثر حسن فراهانی، جلد اول، صفحه ۹۳ مراجعه کرد.', 'Q&A': [{'question': 'مهدی قلی خان مخبرالسلطنه در چه سالی متولد شد؟', 'answer': 'مهدی قلی خان مخبرالسلطنه در سال ۱۲۴۲ هجری شمسی متولد شد.'}, {'question': 'چه کسی پدر مهدی قلی خان مخبرالسلطنه بود؟', 'answer': 'علی قلی خان مخبرالدوله پدر مهدی قلی خان مخبرالسلطنه بود.'}, {'question': 'محل تولد مهدی قلی خان مخبرالسلطنه در سال تولد ایشان کجا بود؟', 'answer': 'طبق منابع موجود، محل تولد مهدی قلی خان مخبرالسلطنه در سال تولد در جی، از توابع تهران، بوده است.'}, {'question': 'برای کسب اطلاعات بیشتر درباره زندگی مهدی قلی خان مخبرالسلطنه به چه منبعی می\\u200cتوان مراجعه کرد؟', 'answer': 'برای کسب اطلاعات بیشتر می\\u200cتوان به کتاب \"روزشمار تاریخ معاصر ایران\" اثر حسن فراهانی، جلد اول، صفحه ۹۳ مراجعه کرد.'}, {'question': 'با توجه به جایگاه مهدی قلی خان مخبرالسلطنه به عنوان نخست وزیر دوران قاجار، اهمیت زندگی ایشان در تاریخ معاصر ایران چه بود؟', 'answer': 'اهمیت زندگی مهدی قلی خان مخبرالسلطنه در تاریخ معاصر ایران به دلیل نقش او در سیاست و دولت دوران قاجار و تصمیمات و اقدامات او در آن دوران بوده است.'}]}\n"
          ]
        },
        {
          "name": "stderr",
          "output_type": "stream",
          "text": [
            "\r  6%|▌         | 10/181 [00:24<06:25,  2.25s/it]"
          ]
        },
        {
          "name": "stdout",
          "output_type": "stream",
          "text": [
            "{'sentence': 'میرزا طاهر تنکابنی، از رجال سرشناس سیاسی در دوران قاجار و پهلوی، در سال ۱۲۴۲ هجری شمسی در کلاردشت مازندران متولد شد. او فرزند فرج\\u200cالله بود و دوران کودکی خود را در این منطقه سپری کرد. میرزا طاهر یکی از برجسته\\u200cترین شاگردان میرزا ابوالحسن جلوه به شمار می\\u200cرفت. پس از درگذشت استادش، بسیاری از طلاب برای کسب فیض و فراگیری مسائل فلسفی به محضر او روی آوردند. اطلاعات بیشتر در مورد زندگی ایشان در کتاب \"روزشمار تاریخ معاصر ایران\" نوشته حسن فراهانی موجود است.', 'Q&A': [{'question': 'میرزا طاهر تنکابنی چه شخصیتی بود؟', 'answer': 'میرزا طاهر تنکابنی از رجال سرشناس سیاسی در دوران قاجار و پهلوی بود.'}, {'question': 'میرزا طاهر تنکابنی در چه سال و مکانی متولد شد؟', 'answer': 'میرزا طاهر تنکابنی در سال ۱۲۴۲ هجری شمسی در کلاردشت مازندران متولد شد.'}, {'question': 'چرا طلاب پس از درگذشت میرزا ابوالحسن جلوه به محضر میرزا طاهر روی آوردند؟', 'answer': 'به دلیل آنکه میرزا طاهر یکی از برجسته\\u200cترین شاگردان میرزا ابوالحسن جلوه بود و طلاب برای کسب فیض و فراگیری مسائل فلسفی به او مراجعه می\\u200cکردند.'}, {'question': 'تأثیر تحصیل میرزا طاهر نزد میرزا ابوالحسن جلوه چه بود؟', 'answer': 'تحصیل نزد میرزا ابوالحسن جلوه باعث شد تا میرزا طاهر به یکی از شخصیت\\u200cهای برجسته در حوزه فلسفه و سیاست تبدیل شود و طلاب بسیاری را جذب کند.'}, {'question': 'برای کسب اطلاعات بیشتر درباره زندگی میرزا طاهر تنکابنی به کدام منبع می\\u200cتوان مراجعه کرد؟', 'answer': 'کتاب \"روزشمار تاریخ معاصر ایران\" نوشته حسن فراهانی.'}]}\n"
          ]
        },
        {
          "name": "stderr",
          "output_type": "stream",
          "text": [
            "\r  6%|▌         | 11/181 [00:26<06:10,  2.18s/it]"
          ]
        },
        {
          "name": "stdout",
          "output_type": "stream",
          "text": [
            "{'sentence': 'میرزا ابراهیم خان رکن\\u200cالوزاره، از رجال سیاسی دوره قاجار، در سال ۱۲۸۰ هجری قمری دیده به جهان گشود. زادگاه او در سال ۱۲۴۲ هجری شمسی، جیسان، منطقه\\u200cای در استان تهران بوده است. اطلاعات بیشتری درباره این شخصیت و تولد او را می\\u200cتوانید در کتاب \"روزشمار تاریخ معاصر ایران\" نوشته حسن فراهانی بیابید.', 'Q&A': [{'question': 'میرزا ابراهیم خان رکن\\u200cالوزاره در چه سالی متولد شد؟', 'answer': 'میرزا ابراهیم خان رکن\\u200cالوزاره در سال ۱۲۸۰ هجری قمری متولد شد.'}, {'question': 'زادگاه میرزا ابراهیم خان رکن\\u200cالوزاره در چه سالی در جیسان تعیین شد؟', 'answer': 'زادگاه او در سال ۱۲۴۲ هجری شمسی در جیسان تعیین شد.'}, {'question': 'جیسان در کدام استان واقع شده است؟', 'answer': 'جیسان در استان تهران واقع شده است.'}, {'question': 'اطلاعات بیشتر درباره زندگی میرزا ابراهیم خان رکن\\u200cالوزاره را در کدام کتاب می\\u200cتوان یافت؟', 'answer': 'اطلاعات بیشتر درباره زندگی میرزا ابراهیم خان رکن\\u200cالوزاره را می\\u200cتوان در کتاب \"روزشمار تاریخ معاصر ایران\" نوشته حسن فراهانی یافت.'}, {'question': 'با توجه به ذکر تاریخ تولد میرزا ابراهیم خان رکن\\u200cالوزاره، این شخصیت در چه دوره\\u200cای از تاریخ ایران می\\u200cزیسته است؟', 'answer': 'با توجه به تاریخ تولد، میرزا ابراهیم خان رکن\\u200cالوزاره در دوره قاجار می\\u200cزیسته است.'}]}\n"
          ]
        },
        {
          "name": "stderr",
          "output_type": "stream",
          "text": [
            "\r  7%|▋         | 12/181 [00:28<06:15,  2.22s/it]"
          ]
        },
        {
          "name": "stdout",
          "output_type": "stream",
          "text": [
            "{'sentence': 'شیخ خزعل بن حاج جابر کعبی عامری، حاکم خوزستان، در سال ۱۲۸۱ قمری (برابر با ۱۸۶۲ میلادی) در خوزستان متولد شد. او از شخصیت\\u200cهای برجسته در تاریخ این منطقه به شمار می\\u200cرود. تولد وی در سال ۱۲۸۱ ق، نقطه عطفی در تاریخ خوزستان محسوب می\\u200cشود. برای کسب اطلاعات بیشتر در مورد زندگی و دوران حکومت شیخ خزعل، می\\u200cتوانید به کتاب \"روزشمار تاریخ معاصر ایران\" اثر حسن فراهانی مراجعه کنید.', 'Q&A': [{'question': 'شیخ خزعل کیست و چه نقشی در تاریخ داشت؟', 'answer': 'شیخ خزعل بن حاج جابر کعبی عامری، حاکم خوزستان، از شخصیت\\u200cهای برجسته در تاریخ این منطقه بود.'}, {'question': 'شیخ خزعل در چه سالی و در کجا متولد شد؟', 'answer': 'شیخ خزعل در سال ۱۲۸۱ قمری (برابر با ۱۸۶۲ میلادی) در خوزستان متولد شد.'}, {'question': 'تولد شیخ خزعل چه اهمیتی در تاریخ خوزستان داشت؟', 'answer': 'تولد وی در سال ۱۲۸۱ ق، نقطه عطفی در تاریخ خوزستان محسوب می\\u200cشود، زیرا آغاز دورانی مهم در حکومت و تاریخ این منطقه بود.'}, {'question': 'چرا شیخ خزعل به عنوان یک شخصیت برجسته در نظر گرفته می\\u200cشود؟', 'answer': 'شیخ خزعل به دلیل نقش مهمش در اداره و حکومت خوزستان و تأثیرگذاری بر تاریخ این منطقه، یک شخصیت برجسته محسوب می\\u200cشود.'}, {'question': 'اگر بخواهیم اطلاعات بیشتری درباره زندگی شیخ خزعل به دست آوریم، به کدام منبع می توانیم مراجعه کنیم؟', 'answer': 'برای کسب اطلاعات بیشتر، می\\u200cتوان به کتاب \"روزشمار تاریخ معاصر ایران\" اثر حسن فراهانی مراجعه کرد.'}]}\n"
          ]
        },
        {
          "name": "stderr",
          "output_type": "stream",
          "text": [
            "\r  7%|▋         | 13/181 [00:31<06:20,  2.27s/it]"
          ]
        },
        {
          "name": "stdout",
          "output_type": "stream",
          "text": [
            "{'sentence': 'حسن مشار الملک، از رجال سیاسی برجسته دوران قاجار و پهلوی، در سال ۱۲۴۳ هجری شمسی در تهران متولد شد. او در پایتخت چشم به جهان گشود و در عرصه\\u200cی سیاست آن دوران، نامی آشنا بود. این رخداد در کتاب \"روزشمار تاریخ معاصر ایران\" تالیف حسن فراهانی، جلد اول، صفحه ۷۳ مورد اشاره قرار گرفته است. اطلاعات این رویداد از پایگاه جامع تاریخ نیز قابل دسترسی است.', 'Q&A': [{'question': 'حسن مشار الملک در چه سالی و در کجا متولد شد؟', 'answer': 'حسن مشار الملک در سال ۱۲۴۳ هجری شمسی در تهران متولد شد.'}, {'question': 'چه چیزی حسن مشار الملک را به یک شخصیت برجسته در تاریخ ایران تبدیل کرد؟', 'answer': 'حسن مشار الملک یک رجل سیاسی برجسته در دوران قاجار و پهلوی بود.'}, {'question': 'چرا اطلاعات مربوط به تولد حسن مشار الملک در کتاب \"روزشمار تاریخ معاصر ایران\" اهمیت دارد؟', 'answer': 'این کتاب منبعی موثق برای ثبت رویدادهای تاریخی و شناخت تاریخ معاصر ایران است و اطلاعات تولد او را ثبت کرده است.'}, {'question': 'چگونه می\\u200cتوان اطلاعات بیشتری درباره\\u200cی حسن مشار الملک به دست آورد؟', 'answer': 'علاوه بر کتاب \"روزشمار تاریخ معاصر ایران\"، می\\u200cتوان به پایگاه جامع تاریخ نیز مراجعه کرد.'}, {'question': 'تولد حسن مشار الملک چه تاثیری بر تحولات سیاسی آن دوران داشت؟', 'answer': 'با توجه به برجسته بودن او در سیاست، تولد وی نشان\\u200cدهنده آغاز فعالیت یک شخصیت تاثیرگذار در روند تحولات سیاسی ایران در دوران قاجار و پهلوی بود.'}]}\n"
          ]
        },
        {
          "name": "stderr",
          "output_type": "stream",
          "text": [
            "\r  8%|▊         | 14/181 [00:33<06:33,  2.35s/it]"
          ]
        },
        {
          "name": "stdout",
          "output_type": "stream",
          "text": [
            "{'sentence': 'نصیر خان صارم الملک، ملقب به سردار جنگ، از خوانین نامدار بختیاری، در سال ۱۲۴۳ هجری شمسی چشم به جهان گشود. او که از سران بختیاری بود و پنجمین پسر امامقلی خان، معروف به حاجی ایلخانی به شمار می\\u200cرفت، در مقام فرمانده هنگ سوار مستقر در تهران، در جریان انقلاب مشروطه از حامیان سلسله قاجار باقی ماند. در دوران جنگ جهانی اول نیز ایلخان بختیاری بود و نزد هم\\u200cعصرانش چهره\\u200cای افسانه\\u200cای، جنگجو، دلیر و تسلیم\\u200cناپذیر داشت. سردار جنگ، در سال ۱۳۱۱ شمسی دار فانی را وداع گفت. اطلاعات بیشتری در این خصوص در کتاب \"روزشمار تاریخ معاصر ایران\" اثر حسن فراهانی قابل دسترس است.', 'Q&A': [{'question': 'نصیر خان صارم الملک، سردار جنگ، در چه سالی به دنیا آمد؟', 'answer': 'نصیر خان صارم الملک در سال ۱۲۴۳ هجری شمسی به دنیا آمد.'}, {'question': 'چرا نصیر خان صارم الملک در جریان انقلاب مشروطه از حامیان سلسله قاجار باقی ماند؟', 'answer': 'با توجه به اطلاعات موجود، دلیل این حمایت به روشنی مشخص نشده است اما به نظر می\\u200cرسد به دلیل موقعیت او به عنوان فرمانده هنگ سوار مستقر در تهران و ارتباطاتش با دربار قاجار بوده است.'}, {'question': 'چه نقشی نصیر خان صارم الملک در دوران جنگ جهانی اول داشت؟', 'answer': 'در دوران جنگ جهانی اول، او ایلخان بختیاری بود.'}, {'question': 'شهرت نصیر خان صارم الملک در میان هم\\u200cعصرانش به چه ویژگی\\u200cهایی بازمی\\u200cگشت؟', 'answer': 'نصیر خان صارم الملک نزد هم\\u200cعصرانش به عنوان چهره\\u200cای افسانه\\u200cای، جنگجو، دلیر و تسلیم\\u200cناپذیر شناخته می\\u200cشد.'}, {'question': 'مرگ نصیر خان صارم الملک چه تأثیری بر تاریخ بختیاری یا ایران گذاشت؟', 'answer': 'با توجه به اطلاعات مختصر، مستقیماً نمی\\u200cتوان تاثیر مشخصی برای مرگ او ذکر کرد، اما به عنوان یک شخصیت مهم ایل بختیاری، مرگ او احتمالاً بر تحولات سیاسی و اجتماعی منطقه تأثیرگذار بوده است.'}]}\n"
          ]
        },
        {
          "name": "stderr",
          "output_type": "stream",
          "text": [
            "\r  8%|▊         | 15/181 [00:35<06:22,  2.31s/it]"
          ]
        },
        {
          "name": "stdout",
          "output_type": "stream",
          "text": [
            "{'sentence': 'سید حسین طباطبائی قمی، از علمای برجسته و مبارز با جریان کشف حجاب رضاخانی، در سال ۱۲۸۲ قمری در شهر قم دیده به جهان گشود. وی که فرزند سید محمود بود، در خانواده\\u200cای سادات حسینی تربیت یافت و تحصیلات مقدماتی خود را در قم و سطح را در تهران به پایان رساند. او پس از سفری به حج و حضور در محضر میرزای شیرازی در سامرا، به تهران بازگشت و به فراگیری علوم دینی پرداخت. طباطبائی قمی از محضر اساتیدی چون میرزا ابوالحسن جلوه، شیخ علی مدرس یزدی، میرزا محمود قمی، میرزا حسن آشتیانی، شیخ فضل الله نوری، میرزا حبیب الله رشتی، ملاعلی نهاوندی، شیخ محمدکاظم خراسانی و سید محمدکاظم یزدی بهره برد. اطلاعات بیشتر در مورد زندگی این عالم بزرگ در کتاب \"روزشمار تاریخ معاصر ایران\" اثر حسن فراهانی موجود است.', 'Q&A': [{'question': 'سید حسین طباطبائی قمی در چه سالی و در کجا متولد شد؟', 'answer': 'سید حسین طباطبائی قمی در سال ۱۲۸۲ قمری در شهر قم متولد شد.'}, {'question': 'چه عاملی سید حسین طباطبائی قمی را به عنوان یک شخصیت مهم تاریخی برجسته می سازد؟', 'answer': 'مبارزه سید حسین طباطبائی قمی با جریان کشف حجاب رضاخانی، او را به یک شخصیت مهم تاریخی تبدیل می کند.'}, {'question': 'سید حسین طباطبائی قمی از محضر کدام یک از اساتید برجسته بهره برد؟', 'answer': 'سید حسین طباطبائی قمی از محضر اساتیدی چون میرزا ابوالحسن جلوه، شیخ علی مدرس یزدی، و دیگر علما بهره برد.'}, {'question': 'تحصیلات سید حسین طباطبائی قمی شامل چه مراحلی بود و در چه شهرهایی انجام شد؟', 'answer': 'تحصیلات مقدماتی ایشان در قم و سطح تحصیلات ایشان در تهران انجام شد.'}, {'question': 'برای کسب اطلاعات بیشتر در مورد زندگی سید حسین طباطبائی قمی، به کدام کتاب می توان مراجعه کرد؟', 'answer': 'برای کسب اطلاعات بیشتر، می توان به کتاب \"روزشمار تاریخ معاصر ایران\" اثر حسن فراهانی مراجعه کرد.'}]}\n"
          ]
        },
        {
          "name": "stderr",
          "output_type": "stream",
          "text": [
            "\r  9%|▉         | 16/181 [00:38<06:47,  2.47s/it]"
          ]
        },
        {
          "name": "stdout",
          "output_type": "stream",
          "text": [
            "{'sentence': 'اردشیر جی، چهره برجسته سیاسی و فرهنگی زرتشتی، در ۳۱ مرداد ۱۲۴۴ شمسی در بمبئی متولد شد. وی که با نام اردشیر ریپورتر نیز شناخته می\\u200cشود، پس از تحصیل در رشته\\u200cهای علوم، حقوق سیاسی، تاریخ شرق و باستان در انگلستان، به هند بازگشت. او سپس به عنوان مستشار سیاسی سفارت انگلستان در ایران، وارد دربار ایران شد و به امور هم\\u200cکیشان زرتشتی و گزارش اوضاع ایران به نایب\\u200cالسلطنه هند می\\u200cپرداخت. اردشیر جی سومین نماینده انجمن اکابر پارسیان هند بود و در تهران ازدواج کرد. وی در تأسیس مدرسه علوم سیاسی نقش داشت و در انجمن\\u200cهای سری و لژ بیداری ایران عضویت داشت. همچنین، او خبرنگار روزنامه تایمز لندن در ایران بود و در پیش از مشروطه با روزنامه تربیت همکاری داشت. اردشیر جی در تحصن مشروطه\\u200cخواهان در سفارت بریتانیا حضور داشت و به عنوان رئیس انجمن زرتشتیان در نخستین جشن مشروطه شرکت کرد. برای کسب اطلاعات بیشتر، به کتاب \"روزشمار تاریخ معاصر ایران\" نوشته حسن فراهانی مراجعه کنید.', 'Q&A': [{'question': 'اردشیر جی در چه تاریخی و در کجا متولد شد؟', 'answer': 'اردشیر جی در ۳۱ مرداد ۱۲۴۴ شمسی در بمبئی متولد شد.'}, {'question': 'تحصیلات اردشیر جی در چه رشته\\u200cهایی بود و پس از اتمام تحصیل به کجا بازگشت؟', 'answer': 'او در رشته\\u200cهای علوم، حقوق سیاسی، تاریخ شرق و باستان تحصیل کرد و پس از اتمام تحصیلاتش در انگلستان به هند بازگشت.'}, {'question': 'نقش اردشیر جی در دربار ایران چه بود و چرا این نقش برای او مهم بود؟', 'answer': 'او به عنوان مستشار سیاسی سفارت انگلستان در ایران وارد دربار شد و به امور هم\\u200cکیشان زرتشتی و گزارش اوضاع ایران به نایب\\u200cالسلطنه هند می\\u200cپرداخت. این نقش به او اجازه می\\u200cداد تا هم به جامعه زرتشتی و هم به دولت بریتانیا خدمت کند.'}, {'question': 'عضویت اردشیر جی در انجمن\\u200cهای سری و لژ بیداری ایران چه دلالتی بر اندیشه\\u200cهای او داشت؟', 'answer': 'این عضویت نشان می\\u200cدهد که او به دنبال مشارکت در تحولات سیاسی و اجتماعی ایران و احتمالا طرفدار ایده\\u200cهای مدرنیته و مشروطه\\u200cخواهی بود.'}, {'question': 'چگونه می\\u200cتوان اهمیت اردشیر جی را در تاریخ معاصر ایران ارزیابی کرد؟', 'answer': 'اردشیر جی به دلیل ترکیبی از فعالیت\\u200cهای سیاسی، فرهنگی و روزنامه\\u200cنگاری خود، به عنوان یک چهره\\u200cی کلیدی در تعامل میان ایران، هند و بریتانیا در دوران مشروطه و پیش از آن، اهمیت دارد.'}]}\n"
          ]
        },
        {
          "name": "stderr",
          "output_type": "stream",
          "text": [
            "\r  9%|▉         | 17/181 [00:40<06:30,  2.38s/it]"
          ]
        },
        {
          "name": "stdout",
          "output_type": "stream",
          "text": [
            "{'sentence': 'میرزا علی دیوسالار، ملقب به سالار فاتح، از رجال سیاسی دوره قاجار، در سال ۱۲۴۵ هجری شمسی در کجور مازندران دیده به جهان گشود. وی فرزند میرزا قلی کجوری بود. اطلاعات مربوط به تولد او در کتاب \"روزشمار تاریخ معاصر ایران\" نوشته حسن فراهانی، در جلد اول این مجموعه آمده است.', 'Q&A': [{'question': 'سالار فاتح در چه سالی و در کجا متولد شد؟', 'answer': 'سالار فاتح در سال ۱۲۴۵ هجری شمسی در کجور مازندران متولد شد.'}, {'question': 'سالار فاتح از چه خانواده\\u200cای بود و نام پدرش چه بود؟', 'answer': 'سالار فاتح از خانواده میرزا قلی کجوری بود.'}, {'question': 'اطلاعات مربوط به تولد سالار فاتح در کدام کتاب و جلد آن یافت می\\u200cشود؟', 'answer': 'اطلاعات مربوط به تولد سالار فاتح در کتاب \"روزشمار تاریخ معاصر ایران\" نوشته حسن فراهانی، در جلد اول این مجموعه آمده است.'}, {'question': 'سالار فاتح در دوره کدام سلسله سلطنتی می\\u200cزیست؟', 'answer': 'سالار فاتح از رجال سیاسی دوره قاجار بود.'}, {'question': 'تولد سالار فاتح چه اهمیتی در تاریخ ایران دارد؟', 'answer': 'تولد سالار فاتح نقطه آغازی برای ظهور یکی از رجال سیاسی دوره قاجار بود، اما اهمیت دقیق این رویداد به فعالیت\\u200cها و نقش او در تاریخ بستگی دارد که در این خلاصه ذکر نشده است.'}]}\n"
          ]
        },
        {
          "name": "stderr",
          "output_type": "stream",
          "text": [
            "\r 10%|▉         | 18/181 [00:42<06:08,  2.26s/it]"
          ]
        },
        {
          "name": "stdout",
          "output_type": "stream",
          "text": [
            "{'sentence': 'حاج آقا جمال نجفی اصفهانی، عالم مبارز عصر قاجار، در سال ۱۲۸۴ قمری در اصفهان متولد شد. او که سومین چهره شاخص خاندان آقانجفی بود، به دلیل تبعیدش از اصفهان به تهران توسط نیروهای اشغالگر روس در جریان جنگ جهانی اول، شهرت یافت. حاج آقا جمال در تهران جایگاه مهمی به دست آورد و مدتی نیز امام جمعه بود. وی در تحولات سیاسی و اجتماعی آن دوران نفوذ بسزایی داشت و بسیاری او را سدی در برابر غرب\\u200cگرایی می\\u200cدانستند. پس از کودتای ۱۲۹۹ شمسی، به صف مخالفان سردار سپه پیوست و در جمع هواداران سید حسن مدرس قرار گرفت. او همچنین در اولین مجلس مؤسسان در سال ۱۳۰۴ شمسی عضویت داشت. اطلاعات بیشتر در مورد زندگی و مبارزات ایشان در کتاب \"روزشمار تاریخ معاصر ایران\" اثر حسن فراهانی آمده است.', 'Q&A': [{'question': 'حاج آقا جمال نجفی اصفهانی در چه سالی و در کجا متولد شد؟', 'answer': 'حاج آقا جمال نجفی اصفهانی در سال ۱۲۸۴ قمری در اصفهان متولد شد.'}, {'question': 'چه عاملی باعث شهرت حاج آقا جمال نجفی اصفهانی شد؟', 'answer': 'تبعید او از اصفهان به تهران توسط نیروهای اشغالگر روس در جریان جنگ جهانی اول، باعث شهرت وی شد.'}, {'question': 'چرا حاج آقا جمال نجفی اصفهانی به صف مخالفان سردار سپه پیوست؟', 'answer': 'وی پس از کودتای ۱۲۹۹ شمسی، به صف مخالفان سردار سپه پیوست.'}, {'question': 'حاج آقا جمال نجفی اصفهانی چه تأثیری بر تحولات سیاسی و اجتماعی دوران خود داشت؟', 'answer': 'او در تحولات سیاسی و اجتماعی آن دوران نفوذ بسزایی داشت و بسیاری او را سدی در برابر غرب\\u200cگرایی می\\u200cدانستند.'}, {'question': 'اگر بخواهیم درباره زندگی و مبارزات حاج آقا جمال نجفی اصفهانی بیشتر بدانیم، به کدام منبع مراجعه کنیم؟', 'answer': 'برای کسب اطلاعات بیشتر می\\u200cتوان به کتاب \"روزشمار تاریخ معاصر ایران\" اثر حسن فراهانی مراجعه کرد.'}]}\n"
          ]
        },
        {
          "name": "stderr",
          "output_type": "stream",
          "text": [
            "\r 10%|█         | 19/181 [00:45<06:08,  2.28s/it]"
          ]
        },
        {
          "name": "stdout",
          "output_type": "stream",
          "text": [
            "{'sentence': 'رضا قلی خان نظام السلطنه در سال ۱۲۸۴ قمری چشم به جهان گشود. او فرزند حیدر قلی خان برهان الدوله بود و بعدها به مقام\\u200cهای مختلفی چون والی خراسان رسید. نظام السلطنه در جوانی فنون نظامی را آموخت و در دستگاه عمویش، حسینقلی خان نظام السلطنه، که در جنوب نفوذ داشت، مشغول به کار شد. او مناصبی همچون ریاست عدلیه خوزستان، نیابت\\u200cالحکومه بنادر و حکومت لرستان و خوزستان را بر عهده داشت. در جریان جنگ جهانی اول، به رهبری دولت موقت ملی پرداخت و با کمک دولت\\u200cهای آلمان و عثمانی علیه نیروهای روس و انگلیس جنگید. پس از فراز و نشیب\\u200cهای فراوان، وی به عنوان والی خراسان منصوب شد و حدود یک سال و نیم در مشهد حکومت کرد. اطلاعات بیشتری در مورد زندگی او در کتاب \"روزشمار تاریخ معاصر ایران\" اثر حسن فراهانی موجود است.', 'Q&A': [{'question': 'رضا قلی خان نظام السلطنه چه زمانی به دنیا آمد؟', 'answer': 'رضا قلی خان نظام السلطنه در سال ۱۲۸۴ قمری چشم به جهان گشود.'}, {'question': 'چرا رضا قلی خان نظام السلطنه به رهبری دولت موقت ملی پرداخت؟', 'answer': 'در جریان جنگ جهانی اول، او برای مقابله با نیروهای روس و انگلیس با کمک دولت\\u200cهای آلمان و عثمانی به رهبری دولت موقت ملی پرداخت.'}, {'question': 'رضا قلی خان نظام السلطنه چه مقام\\u200cهایی را در طول زندگی خود بر عهده داشت؟', 'answer': 'او به مقام\\u200cهایی چون ریاست عدلیه خوزستان، نیابت\\u200cالحکومه بنادر، حکومت لرستان و خوزستان و همچنین والی خراسان رسید.'}, {'question': 'چه کسی کتاب \"روزشمار تاریخ معاصر ایران\" را نوشت و این کتاب چه اطلاعاتی را در مورد رضا قلی خان نظام السلطنه ارائه می دهد؟', 'answer': 'حسن فراهانی کتاب \"روزشمار تاریخ معاصر ایران\" را نوشته است و این کتاب اطلاعات بیشتری در مورد زندگی رضا قلی خان نظام السلطنه ارائه می دهد.'}, {'question': 'چگونه می توان نفوذ رضا قلی خان نظام السلطنه را در دوران خود ارزیابی کرد؟', 'answer': 'نفوذ رضا قلی خان نظام السلطنه را می توان از طریق مناصب گوناگونی که در مناطق مختلف به دست آورد، رهبری دولت موقت ملی و همچنین مدت زمان حکومت وی در خراسان، ارزیابی کرد.'}]}\n"
          ]
        },
        {
          "name": "stderr",
          "output_type": "stream",
          "text": [
            "\r 11%|█         | 20/181 [00:47<06:31,  2.43s/it]"
          ]
        },
        {
          "name": "stdout",
          "output_type": "stream",
          "text": [
            "{'sentence': 'حسن اسفندیاری، ملقب به \"حاج محتشم السلطنه\"، از رجال سیاسی برجسته دوران قاجار، در سال ۱۲۴۶ هجری شمسی در تهران دیده به جهان گشود. این شخصیت، که در پایتخت متولد شد، بعدها در عرصه سیاست نقش\\u200cآفرینی کرد. اطلاعات بیشتری درباره زندگی و فعالیت\\u200cهای او در کتاب \"روزشمار تاریخ معاصر ایران\" اثر حسن فراهانی آمده است.', 'Q&A': [{'question': 'حسن اسفندیاری، ملقب به \"حاج محتشم السلطنه\"، در چه سالی و در کجا متولد شد؟', 'answer': 'حاج محتشم السلطنه در سال ۱۲۴۶ هجری شمسی در تهران متولد شد.'}, {'question': 'چه عاملی باعث شد که حسن اسفندیاری در عرصه سیاست فعالیت کند؟', 'answer': 'با توجه به متن، مستقیماً دلیلی برای ورود او به سیاست ذکر نشده است، اما تولد در تهران و حضور در دوران قاجار می\\u200cتواند زمینه\\u200cساز این فعالیت\\u200cها بوده باشد.'}, {'question': '\"حاج محتشم السلطنه\" در چه دورانی از تاریخ ایران نقش آفرینی کرد و این نقش\\u200cآفرینی چه اهمیتی داشت؟', 'answer': 'او در دوران قاجار فعال بود. اطلاعات بیشتری درباره اهمیت فعالیت\\u200cهای او در متن ذکر نشده است، اما با توجه به جایگاهش به عنوان یک رجل سیاسی برجسته، فعالیت\\u200cهای او قطعاً در تحولات سیاسی آن دوران تاثیرگذار بوده است.'}, {'question': 'چه منبعی برای کسب اطلاعات بیشتر درباره زندگی و فعالیت\\u200cهای حاج محتشم السلطنه معرفی شده است؟', 'answer': 'کتاب \"روزشمار تاریخ معاصر ایران\" اثر حسن فراهانی.'}, {'question': 'چگونه می\\u200cتوان از اطلاعات موجود، به شناخت نقش \"حاج محتشم السلطنه\" در تاریخ ایران پی برد؟', 'answer': 'با مطالعه کتاب \"روزشمار تاریخ معاصر ایران\" که جزئیات بیشتری از زندگی و فعالیت\\u200cهای او را ارائه می\\u200cدهد، می\\u200cتوان به درک بهتری از نقش او دست یافت.'}]}\n"
          ]
        },
        {
          "name": "stderr",
          "output_type": "stream",
          "text": [
            "\r 12%|█▏        | 21/181 [00:50<06:33,  2.46s/it]"
          ]
        },
        {
          "name": "stdout",
          "output_type": "stream",
          "text": [
            "{'sentence': 'میرزا محمود خان عمیدالممالک، از چهره\\u200cهای برجسته سیاسی، در سال ۱۲۴۷ هجری شمسی متولد شد. او که فرزند میرزا محمد حسین بود، پس از اتمام تحصیلات، وارد خدمات دولتی شد. عمیدالممالک در دوره چهارم مجلس شورای ملی، به نمایندگی از مردم دامغان و سمنان برگزیده شد و به مجلس راه یافت. برای کسب اطلاعات بیشتر در مورد زندگی و فعالیت\\u200cهای ایشان، می\\u200cتوانید به کتاب \"روزشمار تاریخ معاصر ایران\" نوشته حسن فراهانی مراجعه کنید.', 'Q&A': [{'question': 'چه کسی در سال ۱۲۴۷ هجری شمسی متولد شد و چه جایگاهی در تاریخ ایران دارد؟', 'answer': 'میرزا محمود خان عمیدالممالک، یکی از چهره\\u200cهای برجسته سیاسی، در سال ۱۲۴۷ هجری شمسی متولد شد و در دوره چهارم مجلس شورای ملی به نمایندگی از مردم دامغان و سمنان راه یافت.'}, {'question': 'میرزا محمود خان عمیدالممالک، پیش از ورود به خدمات دولتی، چه مسیری را طی کرد؟', 'answer': 'پیش از ورود به خدمات دولتی، میرزا محمود خان عمیدالممالک تحصیلات خود را به پایان رساند.'}, {'question': 'چرا میرزا محمود خان عمیدالممالک وارد مجلس شورای ملی شد؟', 'answer': 'میرزا محمود خان عمیدالممالک به نمایندگی از مردم دامغان و سمنان در دوره چهارم مجلس شورای ملی برگزیده شد.'}, {'question': 'چه اطلاعات دیگری در مورد زندگی و فعالیت\\u200cهای میرزا محمود خان عمیدالممالک می\\u200cتوان به دست آورد؟', 'answer': 'برای کسب اطلاعات بیشتر در مورد زندگی و فعالیت\\u200cهای ایشان، می\\u200cتوانید به کتاب \"روزشمار تاریخ معاصر ایران\" نوشته حسن فراهانی مراجعه کنید.'}, {'question': 'چگونه می\\u200cتوانیم اهمیت حضور میرزا محمود خان عمیدالممالک در مجلس شورای ملی را ارزیابی کنیم؟', 'answer': 'حضور میرزا محمود خان عمیدالممالک در مجلس شورای ملی نشان\\u200cدهنده مشارکت فعال مردم دامغان و سمنان در تصمیم\\u200cگیری\\u200cهای سیاسی و تلاش برای پیشبرد منافع آن\\u200cها است.'}]}\n"
          ]
        },
        {
          "name": "stderr",
          "output_type": "stream",
          "text": [
            "\r 12%|█▏        | 22/181 [00:53<06:50,  2.58s/it]"
          ]
        },
        {
          "name": "stdout",
          "output_type": "stream",
          "text": [
            "{'sentence': 'مسعودالملک (علی\\u200cقلی خان) هزارجریبی، از رجال سیاسی برجسته دوران قاجار و پهلوی، در سال ۱۲۴۷ هجری شمسی در روستای سرخ\\u200cگریه هزارجریب مازندران چشم به جهان گشود. پدرش، حاجی نجفقلی خان، سرتیپ فوج چهاردانگه بود. او تحصیلات مقدماتی خود را در زادگاهش آغاز کرد و سپس در تهران ادامه داد. هزارجریبی در جوانی از مشروطه\\u200cخواهان و آزادی\\u200cخواهان بود و در مبارزات آن دوران نقش داشت. وی بعدها به عنوان نماینده مردم گرگان در دوره\\u200cهای هفتم، هشتم، نهم و دهم مجلس شورای ملی حضور یافت. علاوه بر فعالیت\\u200cهای سیاسی، هزارجریبی به نویسندگی نیز علاقه داشت و مقالاتی درباره تاریخ مازندران و کتاب\\u200cهایی نظیر «میش و بره» از او به یادگار مانده است. اطلاعات بیشتر در این خصوص در کتاب «روزشمار تاریخ معاصر ایران» نوشته حسن فراهانی موجود است.', 'Q&A': [{'question': 'مسعودالملک در چه سالی و در کجا متولد شد؟', 'answer': 'مسعودالملک در سال ۱۲۴۷ هجری شمسی در روستای سرخ\\u200cگریه هزارجریب مازندران متولد شد.'}, {'question': 'چه عواملی باعث شد که مسعودالملک به مشروطه\\u200cخواهان بپیوندد و در مبارزات آن دوران شرکت کند؟', 'answer': 'در متن اشاره\\u200cای به عوامل دقیق این پیوستن نشده است، اما با توجه به زمینه\\u200cی فکری مسعودالملک و فضای سیاسی آن دوران، می\\u200cتوان نتیجه گرفت که او تحت تأثیر افکار آزادی\\u200cخواهانه قرار گرفت و به این جنبش پیوست.'}, {'question': 'مسعودالملک علاوه بر فعالیت\\u200cهای سیاسی، به چه حوزه\\u200cهای دیگری نیز علاقه داشت و چه آثاری از خود به جای گذاشت؟', 'answer': 'مسعودالملک به نویسندگی نیز علاقه داشت و مقالاتی درباره تاریخ مازندران و کتاب\\u200cهایی نظیر «میش و بره» از خود به یادگار گذاشت.'}, {'question': 'مسعودالملک در دوران فعالیت سیاسی خود در چه سمت\\u200cهایی حضور داشت و چه نقشی در آن دوران ایفا کرد؟', 'answer': 'مسعودالملک به عنوان نماینده مردم گرگان در دوره\\u200cهای هفتم، هشتم، نهم و دهم مجلس شورای ملی حضور یافت و در این مجالس به فعالیت\\u200cهای سیاسی مشغول بود.'}, {'question': 'کتاب «روزشمار تاریخ معاصر ایران» چه اطلاعاتی را در مورد مسعودالملک ارائه می\\u200cدهد و نویسنده\\u200cی این کتاب کیست؟', 'answer': 'کتاب «روزشمار تاریخ معاصر ایران» نوشته حسن فراهانی است و اطلاعات بیشتری در مورد زندگی و فعالیت\\u200cهای مسعودالملک ارائه می\\u200cدهد.'}]}\n"
          ]
        },
        {
          "name": "stderr",
          "output_type": "stream",
          "text": [
            "\r 13%|█▎        | 23/181 [00:55<06:19,  2.40s/it]"
          ]
        },
        {
          "name": "stdout",
          "output_type": "stream",
          "text": [
            "{'sentence': 'شیخ اسدالله محلاتی، عالم دینی و از نمایندگان مجلس شورای ملی، در سال ۱۲۴۷ هجری شمسی در محلات متولد شد. این روحانی برجسته، نقشی مهم در عرصه سیاست داشت. برای کسب اطلاعات بیشتر در مورد زندگی و فعالیت\\u200cهای ایشان، می\\u200cتوانید به کتاب \"روزشمار تاریخ معاصر ایران\" تالیف حسن فراهانی مراجعه کنید.', 'Q&A': [{'question': 'شیخ اسدالله محلاتی در چه سالی و در کجا به دنیا آمد؟', 'answer': 'شیخ اسدالله محلاتی در سال ۱۲۴۷ هجری شمسی در محلات متولد شد.'}, {'question': 'نقش اصلی شیخ اسدالله محلاتی در عرصه سیاست چه بود؟', 'answer': 'ایشان یکی از نمایندگان مجلس شورای ملی بود و نقش مهمی در عرصه سیاست داشت.'}, {'question': 'چرا شیخ اسدالله محلاتی چهره\\u200cای برجسته در تاریخ معاصر ایران محسوب می\\u200cشود؟', 'answer': 'به دلیل نقش مهمی که در عرصه سیاست داشت و همچنین به عنوان یک عالم دینی شناخته می\\u200cشد.'}, {'question': 'چه کسی نویسنده کتاب \"روزشمار تاریخ معاصر ایران\" است که در مورد شیخ اسدالله محلاتی اطلاعاتی در آن ذکر شده است؟', 'answer': 'حسن فراهانی نویسنده کتاب \"روزشمار تاریخ معاصر ایران\" است.'}, {'question': 'آیا می توان از نقش شیخ اسدالله محلاتی در مجلس شورای ملی، به تأثیرگذاری ایشان در تصمیم\\u200cگیری\\u200cهای آن زمان پی برد؟', 'answer': 'بله، با توجه به اینکه ایشان نماینده مجلس شورای ملی بودند، می\\u200cتوان نتیجه گرفت که در تصمیم\\u200cگیری\\u200cهای آن زمان تأثیرگذار بوده\\u200cاند.'}]}\n"
          ]
        },
        {
          "name": "stderr",
          "output_type": "stream",
          "text": [
            "\r 13%|█▎        | 24/181 [00:57<06:07,  2.34s/it]"
          ]
        },
        {
          "name": "stdout",
          "output_type": "stream",
          "text": [
            "{'sentence': 'میرزا یوسف میرزا یانس، نماینده ارامنه در مجلس شورای ملی، در سال ۱۲۴۷ هجری شمسی در همدان متولد شد. او تحصیلات مقدماتی خود را در دبیرستان آمریکایی اصفهان به پایان رساند. یانس در دوره دوم مجلس شورای ملی به عنوان نماینده ارامنه جنوب انتخاب شد و پس از کودتای ۱۲۹۹ شمسی نیز به زندان افتاد. وی در دوره\\u200cهای سوم، چهارم، هفتم، هشتم و نهم مجلس نیز به نمایندگی از ارامنه جنوب ادامه داد. در دوره دهم نیز انتخاب شد، اما متاسفانه در خرداد ۱۳۰۴ شمسی، درست یک روز قبل از افتتاح مجلس، درگذشت. اطلاعات بیشتر در مورد زندگی و فعالیت\\u200cهای او را می\\u200cتوان در کتاب \"روزشمار تاریخ معاصر ایران\" نوشته حسن فراهانی یافت.', 'Q&A': [{'question': 'میرزا یوسف میرزا یانس چه جایگاهی در مجلس شورای ملی داشت؟', 'answer': 'وی نماینده ارامنه در مجلس شورای ملی بود.'}, {'question': 'میرزا یانس چه زمانی و در کجا متولد شد؟', 'answer': 'میرزا یانس در سال ۱۲۴۷ هجری شمسی در همدان متولد شد.'}, {'question': 'تحصیلات میرزا یانس چه تاثیری بر فعالیت\\u200cهای سیاسی او داشت؟', 'answer': 'تحصیلات او در دبیرستان آمریکایی اصفهان، زمینه\\u200cساز آشنایی او با مسائل روز و ورود به فعالیت\\u200cهای سیاسی و پارلمانی شد.'}, {'question': 'چرا میرزا یانس پس از کودتای ۱۲۹۹ شمسی زندانی شد؟', 'answer': 'علت دقیق زندانی شدن او در متن ذکر نشده است، اما به نظر می\\u200cرسد این اقدام در پی کودتا و سرکوب مخالفان سیاسی صورت گرفته باشد.'}, {'question': 'مرگ میرزا یانس چه تاثیری بر مجلس شورای ملی داشت؟', 'answer': 'مرگ او درست قبل از افتتاح دوره دهم مجلس، باعث شد که ارامنه جنوب از حضور نماینده خود در آن دوره محروم شوند.'}]}\n"
          ]
        },
        {
          "name": "stderr",
          "output_type": "stream",
          "text": [
            "\r 14%|█▍        | 25/181 [00:59<05:46,  2.22s/it]"
          ]
        },
        {
          "name": "stdout",
          "output_type": "stream",
          "text": [
            "{'sentence': 'میرزا علی\\u200cاکبر شیخ\\u200cالاسلام اصفهانی، از رجال سیاسی دوران قاجار، در سال ۱۲۴۷ هجری شمسی متولد شد. ایشان فرزند میرزا محمد رحیم شیخ\\u200cالاسلام و نوۀ دختری حاج محمدباقر نجفی مسجدشاهی بودند. زادگاه وی اصفهان بود. برای کسب اطلاعات بیشتر در مورد زندگی ایشان، می\\u200cتوان به کتاب \"روزشمار تاریخ معاصر ایران\" اثر حسن فراهانی مراجعه کرد.', 'Q&A': [{'question': 'میرزا علی\\u200cاکبر شیخ\\u200cالاسلام اصفهانی چه کسی بود؟', 'answer': 'او از رجال سیاسی دوران قاجار بود.'}, {'question': 'میرزا علی\\u200cاکبر شیخ\\u200cالاسلام اصفهانی در چه سالی متولد شد؟', 'answer': 'در سال ۱۲۴۷ هجری شمسی متولد شد.'}, {'question': 'چرا اشاره به کتاب \"روزشمار تاریخ معاصر ایران\" اثر حسن فراهانی برای مطالعه زندگی میرزا علی\\u200cاکبر شیخ\\u200cالاسلام اصفهانی پیشنهاد شده است؟', 'answer': 'زیرا منبعی برای کسب اطلاعات بیشتر و دقیق\\u200cتر در مورد زندگی او است.'}, {'question': 'چگونه می\\u200cتوان اطلاعات بیشتری در مورد خانواده میرزا علی\\u200cاکبر شیخ\\u200cالاسلام اصفهانی کسب کرد؟', 'answer': 'ایشان فرزند میرزا محمد رحیم شیخ\\u200cالاسلام و نوۀ دختری حاج محمدباقر نجفی مسجدشاهی بودند.'}, {'question': 'تأثیر فعالیت\\u200cهای سیاسی میرزا علی\\u200cاکبر شیخ\\u200cالاسلام اصفهانی بر جامعه آن زمان چه بود؟', 'answer': 'این اطلاعات در متن موجود نیست. برای اطلاع از این مورد باید به منابع دیگر مراجعه کرد.'}]}\n"
          ]
        },
        {
          "name": "stderr",
          "output_type": "stream",
          "text": [
            "\r 14%|█▍        | 26/181 [01:01<05:32,  2.14s/it]"
          ]
        },
        {
          "name": "stdout",
          "output_type": "stream",
          "text": [
            "{'sentence': 'میرزا علی کازرونی، ملقب به لسان المله و صدرالاسلام، از چهره\\u200cهای برجسته سیاسی دوران قاجار، در سال ۱۲۴۷ هجری شمسی در بوشهر چشم به جهان گشود. پدر ایشان میرزا حسین کازرونی بود. اطلاعات بیشتری در خصوص این شخصیت و زادگاهش در کتاب \"روزشمار تاریخ معاصر ایران\" نوشته حسن فراهانی آمده است.', 'Q&A': [{'question': 'میرزا علی کازرونی چه کسی بود و چه نقشی در دوران قاجار داشت؟', 'answer': 'میرزا علی کازرونی، ملقب به لسان المله و صدرالاسلام، از چهره\\u200cهای برجسته سیاسی دوران قاجار بود.'}, {'question': 'میرزا علی کازرونی در چه سالی و در کجا متولد شد؟', 'answer': 'میرزا علی کازرونی در سال ۱۲۴۷ هجری شمسی در بوشهر متولد شد.'}, {'question': 'چه چیزی باعث شد که میرزا علی کازرونی چهره\\u200cای برجسته در دوران قاجار شود؟', 'answer': 'متن اطلاعاتی در مورد این موضوع ارائه نمی دهد، فقط اشاره به این نکته می شود.'}, {'question': 'اگر کسی بخواهد درباره زندگی و فعالیت های میرزا علی کازرونی بیشتر بداند، به کجا باید مراجعه کند؟', 'answer': 'به کتاب \"روزشمار تاریخ معاصر ایران\" نوشته حسن فراهانی.'}, {'question': 'اهمیت میرزا علی کازرونی در تاریخ ایران چه بود و چرا نام او همچنان مطرح است؟', 'answer': 'متن اطلاعاتی در مورد این موضوع ارائه نمی دهد.'}]}\n"
          ]
        },
        {
          "name": "stderr",
          "output_type": "stream",
          "text": [
            "\r 15%|█▍        | 27/181 [01:04<05:57,  2.32s/it]"
          ]
        },
        {
          "name": "stdout",
          "output_type": "stream",
          "text": [
            "{'sentence': 'عباسقلی بازرگان، تاجر سرشناس تبریزی و پدر مهندس مهدی بازرگان، در سال ۱۲۴۷ هجری شمسی در تبریز متولد شد. وی که با نام\\u200cهای «تاجر تبریزی»، «تجارتی» و «اسلامبولچی» شناخته می\\u200cشد، از حامیان نهضت ملی مذهبی به شمار می\\u200cرفت. اطلاعات بیشتر در مورد زندگی او و فعالیت\\u200cهایش را می\\u200cتوان در کتاب \"روزشمار تاریخ معاصر ایران\" اثر حسن فراهانی یافت. تولد ایشان در آذربایجان، نقطه عطفی در تاریخ تجاری و سیاسی ایران بوده است.', 'Q&A': [{'question': 'عباسقلی بازرگان در چه سالی و در کجا متولد شد؟', 'answer': 'عباسقلی بازرگان در سال ۱۲۴۷ هجری شمسی در تبریز متولد شد.'}, {'question': 'عباسقلی بازرگان به چه نام\\u200cهای دیگری شناخته می\\u200cشد و این نام\\u200cها به چه معنایی اشاره دارند؟', 'answer': 'او با نام\\u200cهای «تاجر تبریزی»، «تجارتی» و «اسلامبولچی» شناخته می\\u200cشد که به حرفه و ارتباطات تجاری وی اشاره دارند.'}, {'question': 'چه عاملی عباسقلی بازرگان را به عنوان یک شخصیت مهم در تاریخ ایران مطرح می\\u200cکند؟', 'answer': 'حمایت وی از نهضت ملی مذهبی و تولدش در آذربایجان که نقطه عطفی در تاریخ تجاری و سیاسی ایران به شمار می\\u200cرود، او را به عنوان شخصیتی مهم مطرح می\\u200cکند.'}, {'question': 'چرا تولد عباسقلی بازرگان در آذربایجان یک نقطه عطف در تاریخ ایران محسوب می\\u200cشود؟', 'answer': 'تولد او به دلیل نقش مهمی که در تاریخ تجاری و سیاسی ایران ایفا کرد، به عنوان یک نقطه عطف در نظر گرفته می\\u200cشود، که نشان\\u200cدهنده اهمیت منطقه آذربایجان در آن زمان است.'}, {'question': 'برای کسب اطلاعات بیشتر درباره زندگی و فعالیت\\u200cهای عباسقلی بازرگان، به کدام کتاب می\\u200cتوان مراجعه کرد؟', 'answer': 'برای کسب اطلاعات بیشتر، می\\u200cتوان به کتاب \"روزشمار تاریخ معاصر ایران\" اثر حسن فراهانی مراجعه کرد.'}]}\n"
          ]
        },
        {
          "name": "stderr",
          "output_type": "stream",
          "text": [
            "\r 15%|█▌        | 28/181 [01:05<05:28,  2.15s/it]"
          ]
        },
        {
          "name": "stdout",
          "output_type": "stream",
          "text": [
            "{'sentence': 'سید حسن اجاق (کزازی)، از رجال سیاسی دوران قاجار، در سال ۱۲۴۸ هجری شمسی چشم به جهان گشود. او فرزند حاج سید اسماعیل اجاق بود. این رویداد تاریخی در جایی به نام جیرفت، در استان گلستان رخ داد. برای کسب اطلاعات بیشتر در مورد زندگی او و فعالیت\\u200cهایش می\\u200cتوانید به کتاب \"روزشمار تاریخ معاصر ایران\" نوشته حسن فراهانی مراجعه کنید.', 'Q&A': [{'question': 'چه کسی در سال ۱۲۴۸ هجری شمسی متولد شد؟', 'answer': 'سید حسن اجاق (کزازی)، از رجال سیاسی دوران قاجار، در سال ۱۲۴۸ هجری شمسی به دنیا آمد.'}, {'question': 'سید حسن اجاق (کزازی) در چه دوره\\u200cای از تاریخ ایران فعالیت داشت؟', 'answer': 'سید حسن اجاق (کزازی) در دوران قاجار به فعالیت\\u200cهای سیاسی مشغول بود.'}, {'question': 'سید حسن اجاق (کزازی) در کجا متولد شد؟', 'answer': 'سید حسن اجاق (کزازی) در جیرفت، واقع در استان گلستان، چشم به جهان گشود.'}, {'question': 'برای کسب اطلاعات بیشتر در مورد زندگی و فعالیت\\u200cهای سید حسن اجاق (کزازی) به کدام کتاب می\\u200cتوان مراجعه کرد؟', 'answer': 'برای کسب اطلاعات بیشتر در مورد زندگی و فعالیت\\u200cهای سید حسن اجاق (کزازی) می\\u200cتوان به کتاب \"روزشمار تاریخ معاصر ایران\" نوشته حسن فراهانی مراجعه کرد.'}, {'question': 'پدر سید حسن اجاق (کزازی) چه کسی بود؟', 'answer': 'پدر سید حسن اجاق (کزازی) حاج سید اسماعیل اجاق بود.'}]}\n"
          ]
        },
        {
          "name": "stderr",
          "output_type": "stream",
          "text": [
            "\r 16%|█▌        | 29/181 [01:08<05:50,  2.30s/it]"
          ]
        },
        {
          "name": "stdout",
          "output_type": "stream",
          "text": [
            "{'sentence': 'صمد خان ممتازالسلطنه، از رجال سیاسی دوران قاجار، در سال ۱۲۴۸ هجری شمسی در تبریز متولد شد. او فرزند علی\\u200cاکبر مکرم\\u200cالسلطنه بود و در سال\\u200cهای بعد، وارد خدمات دولتی شد و در وزارت امور خارجه مشغول به کار گردید. ممتازالسلطنه در سال\\u200cهای ۱۳۱۰، ۱۳۱۲ و ۱۳۱۵ قمری به ترتیب نایب سوم، دوم و اول سفارت پطرزبورگ بود و به لقب «ممتازالسلطنه» مفتخر شد. وی بعدها به عنوان وزیرمختار ایران در لاهه و سپس سفیر ایران در پاریس خدمت کرد. پس از پایان ماموریتش در فرانسه، ممتازالسلطنه به ایران بازنگشت و در پاریس اقامت گزید و در سال ۱۳۳۴ شمسی درگذشت. اطلاعات تکمیلی در مورد زندگی او در کتاب \"روزشمار تاریخ معاصر ایران\" نوشته حسن فراهانی آمده است.', 'Q&A': [{'question': 'صمد خان ممتازالسلطنه در چه سالی و در کجا متولد شد؟', 'answer': 'صمد خان ممتازالسلطنه در سال ۱۲۴۸ هجری شمسی در تبریز متولد شد.'}, {'question': 'چه عواملی باعث شد صمد خان ممتازالسلطنه به خدمات دولتی وارد شود و در وزارت امور خارجه مشغول به کار گردد؟', 'answer': 'در متن به عوامل ورود وی به خدمات دولتی اشاره نشده است، تنها به ورود او به این خدمات اشاره شده است.'}, {'question': 'صمد خان ممتازالسلطنه چه سمت\\u200cهایی در خارج از کشور داشت و این سمت\\u200cها چه تأثیری بر جایگاه او داشت؟', 'answer': 'او نایب سفارت در پطرزبورگ، وزیر مختار در لاهه و سفیر ایران در پاریس بود. این سمت\\u200cها جایگاه او را در سیاست و دیپلماسی ایران ارتقا داد و لقب \"ممتازالسلطنه\" را برایش به ارمغان آورد.'}, {'question': 'چرا صمد خان ممتازالسلطنه پس از پایان ماموریتش در فرانسه به ایران بازنگشت؟', 'answer': 'در متن دلیل مشخصی برای بازنگشتن او به ایران ذکر نشده است. تنها به اقامت او در پاریس اشاره شده است.'}, {'question': 'اگر بخواهیم اطلاعات بیشتری درباره زندگی صمد خان ممتازالسلطنه کسب کنیم، به کدام منبع رجوع می\\u200cکنیم؟', 'answer': 'برای کسب اطلاعات بیشتر درباره زندگی او به کتاب \"روزشمار تاریخ معاصر ایران\" نوشته حسن فراهانی رجوع می\\u200cکنیم.'}]}\n"
          ]
        },
        {
          "name": "stderr",
          "output_type": "stream",
          "text": [
            "\r 17%|█▋        | 30/181 [01:11<06:04,  2.42s/it]"
          ]
        },
        {
          "name": "stdout",
          "output_type": "stream",
          "text": [
            "{'sentence': 'ابراهیم سعید العلما شمس لاریجانی، از علمای برجسته مشروطه خواه، در سال ۱۲۸۶ قمری در شهر آمل دیده به جهان گشود. او تحصیلات مقدماتی و علوم قدیمه را در زادگاهش فرا گرفت و سپس برای تکمیل تحصیلات خود به تهران رفت و از محضر اساتیدی چون شیخ علی مدرس نوری، میرزای جلوه و میرزای آشتیانی بهره\\u200cمند شد. سعید العلما در سال ۱۳۱۶ قمری مدرسه قدسیه را تأسیس کرد و در آن به تدریس حقوق بین\\u200cالملل و حقوق اساسی پرداخت و شاگردان خود را با اندیشه\\u200cهای مشروطیت آشنا کرد. او به همراه جمال\\u200cالدین واعظ و ملک\\u200cالمتکلمین در انجمن اتحادیه طلاب برای پیشبرد آرمان مشروطه تلاش نمود و در تأسیس بانک ملی نیز نقش داشت. پس از دولتی شدن مدارس، آموزشگاه اقدسیه را به وزارت معارف و اوقاف واگذار کرد و خود مدتی مدیر مدرسه سیروس بود. سرانجام، پس از سال\\u200cها خدمت، در سال ۱۳۳۳ شمسی دار فانی را وداع گفت. از آثار برجای مانده از وی می\\u200cتوان به \"جواهر الایمان\" و ترجمه انجیل برنابا اشاره کرد. اطلاعات بیشتر در این زمینه در کتاب \"روزشمار تاریخ معاصر ایران\" اثر حسن فراهانی آمده است.', 'Q&A': [{'question': 'ابراهیم سعید العلما شمس لاریجانی چه کسی بود و چه نقشی در جنبش مشروطه داشت؟', 'answer': 'ابراهیم سعید العلما شمس لاریجانی از علمای برجسته مشروطه خواه بود. او در انجمن اتحادیه طلاب فعال بود، در تأسیس بانک ملی نقش داشت و شاگردانش را با اندیشه\\u200cهای مشروطیت آشنا می\\u200cکرد.'}, {'question': 'ابراهیم سعید العلما در چه سالی و در کجا متولد شد؟', 'answer': 'ابراهیم سعید العلما در سال ۱۲۸۶ قمری در شهر آمل متولد شد.'}, {'question': 'چرا ابراهیم سعید العلما مدرسه قدسیه را تأسیس کرد؟', 'answer': 'ابراهیم سعید العلما مدرسه قدسیه را برای تدریس حقوق بین\\u200cالملل و حقوق اساسی و آشنا کردن شاگردانش با اندیشه\\u200cهای مشروطیت تأسیس کرد.'}, {'question': 'مهم\\u200cترین آثار بجا مانده از ابراهیم سعید العلما چه بود؟', 'answer': 'از آثار برجای مانده از وی می\\u200cتوان به \"جواهر الایمان\" و ترجمه انجیل برنابا اشاره کرد.'}, {'question': 'اگر ابراهیم سعید العلما در دوران کنونی زنده بود، چه تأثیری می\\u200cتوانست در جامعه ایران داشته باشد؟', 'answer': 'با توجه به فعالیت\\u200cها و اندیشه\\u200cهای مشروطه خواهی سعید العلما، او می\\u200cتوانست با ترویج مفاهیم حقوقی و اصول دموکراسی، در ارتقای سطح آگاهی و مشارکت مردم در مسائل سیاسی و اجتماعی نقش بسزایی ایفا کند.'}]}\n"
          ]
        },
        {
          "name": "stderr",
          "output_type": "stream",
          "text": [
            "\r 17%|█▋        | 31/181 [01:13<06:04,  2.43s/it]"
          ]
        },
        {
          "name": "stdout",
          "output_type": "stream",
          "text": [
            "{'sentence': 'مرتضی ممتاز الملک، از رجال برجسته سیاسی دوران قاجار، در سال ۱۲۸۶ قمری در تهران چشم به جهان گشود. او فرزند سوم میرزا جبار ناظم المهام بود. پدرش اهل خوی بوده و در آذربایجان در دستگاه عباس میرزا و میرزا ابوالقاسم قائم\\u200cمقام خدمت می\\u200cکرد، ضمن اینکه با امیرکبیر نیز دوستی دیرینه داشت. برای کسب اطلاعات بیشتر در مورد این شخصیت، می توان به کتاب \"روزشمار تاریخ معاصر ایران\" اثر حسن فراهانی مراجعه کرد.', 'Q&A': [{'question': 'مرتضی ممتاز الملک در چه سالی و در کدام شهر متولد شد؟', 'answer': 'مرتضی ممتاز الملک در سال ۱۲۸۶ قمری در شهر تهران متولد شد.'}, {'question': 'پدر مرتضی ممتاز الملک، میرزا جبار ناظم المهام، چه سابقه\\u200cای داشت و در کجا خدمت می\\u200cکرد؟', 'answer': 'میرزا جبار ناظم المهام، پدر مرتضی ممتاز الملک، اهل خوی بود و در آذربایجان در دستگاه عباس میرزا و میرزا ابوالقاسم قائم\\u200cمقام خدمت می\\u200cکرد.'}, {'question': 'چه رابطه\\u200cای بین پدر مرتضی ممتاز الملک و امیرکبیر وجود داشت و این رابطه چه اهمیتی دارد؟', 'answer': 'پدر مرتضی ممتاز الملک با امیرکبیر دوستی دیرینه داشت. این رابطه نشان\\u200cدهنده تعلق خانوادگی ممتاز الملک به حلقه\\u200cهای قدرت و روشنفکری آن دوره است.'}, {'question': 'چرا دانستن اطلاعات درباره مرتضی ممتاز الملک از اهمیت برخوردار است؟', 'answer': 'مرتضی ممتاز الملک از رجال برجسته سیاسی دوران قاجار بود و اطلاعات درباره او می\\u200cتواند به درک عمیق\\u200cتر تاریخ سیاسی و اجتماعی ایران در آن دوره کمک کند.'}, {'question': 'برای کسب اطلاعات بیشتر درباره زندگی و فعالیت\\u200cهای مرتضی ممتاز الملک، به چه منبعی می\\u200cتوان مراجعه کرد؟', 'answer': 'برای کسب اطلاعات بیشتر در مورد این شخصیت، می\\u200cتوان به کتاب \"روزشمار تاریخ معاصر ایران\" اثر حسن فراهانی مراجعه کرد.'}]}\n"
          ]
        },
        {
          "name": "stderr",
          "output_type": "stream",
          "text": [
            "\r 18%|█▊        | 32/181 [01:15<05:50,  2.35s/it]"
          ]
        },
        {
          "name": "stdout",
          "output_type": "stream",
          "text": [
            "{'sentence': 'حسینقلی نواب، از رجال برجسته سیاسی عصر قاجار، در سال ۱۲۸۶ قمری در شیراز چشم به جهان گشود. او فرزند جعفرقلی خان مازندرانی، ملقب به دبیر خاقان، بود. این رویداد تاریخی در حالی رخ داد که شیراز شاهد تولد یکی از چهره\\u200cهای تاثیرگذار در آینده بود. اطلاعات بیشتر درباره زندگی و فعالیت\\u200cهای ایشان در کتاب \"روزشمار تاریخ معاصر ایران\" نوشته حسن فراهانی آمده است.', 'Q&A': [{'question': 'حسینقلی نواب در چه سالی و در کجا متولد شد؟', 'answer': 'حسینقلی نواب در سال ۱۲۸۶ قمری در شیراز چشم به جهان گشود.'}, {'question': 'پدر حسینقلی نواب که بود و به چه عنوانی ملقب بود؟', 'answer': 'پدر حسینقلی نواب، جعفرقلی خان مازندرانی، ملقب به دبیر خاقان بود.'}, {'question': 'چرا تولد حسینقلی نواب در آن زمان در شیراز حائز اهمیت بود؟', 'answer': 'تولد حسینقلی نواب در آن زمان در شیراز به دلیل این بود که وی به عنوان یکی از چهره\\u200cهای تاثیرگذار در آینده شناخته شد.'}, {'question': 'اطلاعات بیشتر در مورد زندگی و فعالیت\\u200cهای حسینقلی نواب در کجا یافت می\\u200cشود؟', 'answer': 'اطلاعات بیشتر درباره زندگی و فعالیت\\u200cهای ایشان در کتاب \"روزشمار تاریخ معاصر ایران\" نوشته حسن فراهانی آمده است.'}, {'question': 'نقش حسینقلی نواب در تاریخ ایران چه بود و چرا مهم است او را بشناسیم؟', 'answer': 'با توجه به اطلاعات موجود، مشخص نیست چه نقشی ایفا کرده است؛ اما تولد وی نشانه اهمیت شیراز در آن دوره و نشان\\u200cدهنده تاثیرگذاری نسل\\u200cهای بعد است. برای درک بهتر تاریخ ایران، شناخت افراد تاثیرگذار ضروری است.'}]}\n"
          ]
        },
        {
          "name": "stderr",
          "output_type": "stream",
          "text": [
            "\r 18%|█▊        | 33/181 [01:18<05:51,  2.38s/it]"
          ]
        },
        {
          "name": "stdout",
          "output_type": "stream",
          "text": [
            "{'sentence': 'اسدالله قدیمی نوایی، ملقب به مشارالسلطنه، از رجال سیاسی دوره قاجار و پهلوی، در سال ۱۲۴۸ هجری شمسی چشم به جهان گشود. او تحصیلات عالیه خود را در رشته حقوق و علوم سیاسی در اروپا به پایان رساند و وارد وزارت امور خارجه شد. مشارالسلطنه در این وزارتخانه، ریاست ادارات مختلف را بر عهده داشت و همچنین مأموریت\\u200cهای مهمی در خارج از کشور انجام داد. وی سابقه معاونت در وزارتخانه\\u200cهای مالیه، خارجه و عدلیه را نیز در کارنامه خود دارد. در دوره سوم مجلس شورای ملی، به عنوان نماینده از حوزه انتخابیه تهران انتخاب شد. در دوران سلطنت احمدشاه قاجار، مشارالسلطنه در کابینه\\u200cهای مختلف، از جمله وزارت مالیه و امور خارجه را برعهده داشت. وی در کودتای ۱۲۹۹ دستگیر و زندانی شد، اما پس از سقوط سید ضیاءالدین، در کابینه\\u200cهای بعدی، وزارتخانه\\u200cهای پست و تلگراف، عدلیه و خارجه را تصدی کرد. مشارالسلطنه در آذر ۱۳۱۴ در تهران درگذشت و در امامزاده صالح تجریش به خاک سپرده شد. اطلاعات بیشتر در این باره در کتاب \"روزشمار تاریخ معاصر ایران\" تالیف حسن فراهانی موجود است.', 'Q&A': [{'question': 'مشارالسلطنه در چه سالی و در کجا متولد شد؟', 'answer': 'مشارالسلطنه در سال ۱۲۴۸ هجری شمسی متولد شد. اطلاعاتی درباره محل تولد در این خلاصه موجود نیست.'}, {'question': 'مشارالسلطنه چه نوع تحصیلاتی داشت و در کدام کشورها آن را به پایان رساند؟', 'answer': 'مشارالسلطنه تحصیلات عالیه خود را در رشته حقوق و علوم سیاسی در اروپا به پایان رساند.'}, {'question': 'چرا مشارالسلطنه پس از کودتای ۱۲۹۹ دستگیر و زندانی شد؟', 'answer': 'در این خلاصه به طور دقیق علت دستگیری اشاره نشده است، اما مشخص است که دستگیری او مرتبط با کودتای ۱۲۹۹ بوده است.'}, {'question': 'چه سمت\\u200cهایی مشارالسلطنه در کابینه\\u200cهای مختلف پس از سقوط سید ضیاءالدین بر عهده داشت؟', 'answer': 'مشارالسلطنه پس از سقوط سید ضیاءالدین وزارتخانه\\u200cهای پست و تلگراف، عدلیه و خارجه را تصدی کرد.'}, {'question': 'اهمیت فعالیت\\u200cهای مشارالسلطنه در دوران قاجار و پهلوی چه بود؟', 'answer': 'مشارالسلطنه به عنوان یک رجل سیاسی در دوره قاجار و پهلوی، در پست\\u200cهای مهم دولتی، از جمله وزارتخانه\\u200cهای مالیه، خارجه، عدلیه، و پست و تلگراف خدمت کرد. او همچنین نماینده مجلس شورای ملی بود و در شکل\\u200cگیری سیاست\\u200cهای ایران نقش داشت.'}]}\n"
          ]
        },
        {
          "name": "stderr",
          "output_type": "stream",
          "text": [
            "\r 19%|█▉        | 34/181 [01:20<05:59,  2.44s/it]"
          ]
        },
        {
          "name": "stdout",
          "output_type": "stream",
          "text": [
            "{'sentence': 'میرزا آقا اصفهانی، ملقب به \"اعتماد الملک\" و شناخته شده با القاب \"اسلامبولی\"، \"نفتی\" و \"فلسفی\"، در حدود سال ۱۲۸۶ قمری دیده به جهان گشود. او مدیر مسئول روزنامه \"حیات\" بود و زندگی پر فراز و نشیبی داشت. در ابتدا به کار نفت\\u200cفروشی مشغول بود و سپس به تجارت روی آورد که با ورشکستگی همراه شد. وی به عنوان همراهی\\u200cکننده در سفر مظفرالدین شاه به اروپا حضور داشت و پس از بازگشت به ایران، به دلیل مخالفت با دولت، به کلات تبعید شد. اصفهانی مدتی را در حبس سپری کرد و پس از آزادی، روزنامه \"عصر\" را در تهران منتشر کرد. او همچنین ریاست بلديه تهران و معاونت حکومت یزد را بر عهده داشت. روزنامه \"حیات جاوید\" با مدیریت او در تهران تأسیس شد و به دلیل درج مقالات انتقادی بارها توقیف گردید. برای اطلاعات بیشتر، می\\u200cتوانید به کتاب \"روزشمار تاریخ معاصر ایران\" نوشته حسن فراهانی مراجعه کنید.', 'Q&A': [{'question': 'میرزا آقا اصفهانی با چه القابی شناخته می\\u200cشد؟', 'answer': 'میرزا آقا اصفهانی با القاب \"اسلامبولی\"، \"نفتی\" و \"فلسفی\" شناخته می\\u200cشد.'}, {'question': 'چه عاملی باعث تبعید میرزا آقا اصفهانی به کلات شد؟', 'answer': 'مخالفت با دولت پس از بازگشت از سفر با مظفرالدین شاه به اروپا، موجب تبعید او شد.'}, {'question': 'میرزا آقا اصفهانی چه نقشی در زندگی مظفرالدین شاه داشت؟', 'answer': 'او به عنوان همراه در سفر مظفرالدین شاه به اروپا حضور داشت.'}, {'question': 'چرا روزنامه \"حیات جاوید\" که توسط میرزا آقا اصفهانی اداره می\\u200cشد، بارها توقیف شد؟', 'answer': 'به دلیل درج مقالات انتقادی، روزنامه \"حیات جاوید\" بارها توقیف شد.'}, {'question': 'فعالیت\\u200cهای میرزا آقا اصفهانی در چه زمینه\\u200cهایی متمرکز بود و این فعالیت\\u200cها چه تأثیری بر زندگی او داشت؟', 'answer': 'فعالیت\\u200cهای میرزا آقا اصفهانی شامل روزنامه\\u200cنگاری، تجارت، فعالیت\\u200cهای دولتی و همراهی با شاه بود. این فعالیت\\u200cها زندگی پر فراز و نشیبی را برای او رقم زد، از جمله ورشکستگی در تجارت، تبعید و حبس، و در عین حال، کسب مناصب دولتی و تأثیرگذاری در عرصه مطبوعات.'}]}\n"
          ]
        },
        {
          "name": "stderr",
          "output_type": "stream",
          "text": [
            "\r 19%|█▉        | 35/181 [01:22<05:26,  2.23s/it]"
          ]
        },
        {
          "name": "stdout",
          "output_type": "stream",
          "text": [
            "{'sentence': 'احمد بدر، ملقب به نصیرالدوله، از رجال سیاسی دوران قاجار، در سال ۱۲۸۷ قمری در رشت چشم به جهان گشود. این شخصیت برجسته در استان گیلان متولد شد و زندگی پر فراز و نشیبی را پشت سر گذاشت. برای کسب اطلاعات بیشتر در مورد زندگی و فعالیت\\u200cهای نصیرالدوله، می\\u200cتوان به کتاب \"روزشمار تاریخ معاصر ایران\" تالیف حسن فراهانی مراجعه کرد. اطلاعات مربوط به تولد وی در صفحه ۴۹ جلد اول این کتاب آمده است.', 'Q&A': [{'question': 'نصیرالدوله چه نقشی در دوران قاجار داشت؟', 'answer': 'نصیرالدوله از رجال سیاسی برجستهٔ دوران قاجار بود.'}, {'question': 'نصیرالدوله دقیقاً در چه سالی و در کجا متولد شد؟', 'answer': 'نصیرالدوله در سال ۱۲۸۷ قمری در رشت متولد شد.'}, {'question': 'چرا مطالعهٔ زندگی نصیرالدوله از اهمیت برخوردار است؟', 'answer': 'مطالعهٔ زندگی نصیرالدوله به دلیل نقش او در سیاست قاجار و زندگی پر فراز و نشیبش اهمیت دارد.'}, {'question': 'چگونه می\\u200cتوانیم اطلاعات بیشتری دربارهٔ زندگی نصیرالدوله به دست آوریم؟', 'answer': 'با مراجعه به کتاب \"روزشمار تاریخ معاصر ایران\" تألیف حسن فراهانی.'}, {'question': 'چه چیزی باعث شهرت نصیرالدوله شد؟', 'answer': 'شهرت نصیرالدوله بیشتر به دلیل فعالیت\\u200cهای سیاسی وی در دوران قاجار و همچنین زادگاهش در استان گیلان بود.'}]}\n"
          ]
        },
        {
          "name": "stderr",
          "output_type": "stream",
          "text": [
            "\r 20%|█▉        | 36/181 [01:25<05:34,  2.31s/it]"
          ]
        },
        {
          "name": "stdout",
          "output_type": "stream",
          "text": [
            "{'sentence': 'محمدعلی سدیدالسلطنه کبابی مینابی، از صاحب\\u200cمنصبان سیاسی دوران قاجار، در سال ۱۲۴۹ هجری شمسی در بغداد چشم به جهان گشود. ایشان فرزند حاج احمدخان سرتیپ کبابی مینابی بودند که دارای درجه سرهنگی و لقب امیر پنجه بودند. اطلاعات مربوط به این شخصیت در کتاب \"روزشمار تاریخ معاصر ایران\" نوشته حسن فراهانی آمده است.', 'Q&A': [{'question': 'محمدعلی سدیدالسلطنه کبابی مینابی در چه سالی و در کجا متولد شد؟', 'answer': 'محمدعلی سدیدالسلطنه کبابی مینابی در سال ۱۲۴۹ هجری شمسی در بغداد متولد شد.'}, {'question': 'نام پدر محمدعلی سدیدالسلطنه کبابی مینابی چه بود و چه منصبی داشت؟', 'answer': 'پدر ایشان حاج احمدخان سرتیپ کبابی مینابی نام داشت و دارای درجه سرهنگی و لقب امیر پنجه بودند.'}, {'question': 'اطلاعات مربوط به زندگی و فعالیت های محمدعلی سدیدالسلطنه کبابی مینابی در کدام کتاب ثبت شده است؟', 'answer': 'اطلاعات مربوط به این شخصیت در کتاب \"روزشمار تاریخ معاصر ایران\" نوشته حسن فراهانی آمده است.'}, {'question': 'اگر محمدعلی سدیدالسلطنه کبابی مینابی در دوران قاجار صاحب منصب سیاسی بود، این نشان دهنده چه موقعیت اجتماعی برای خانواده او داشت؟', 'answer': 'این نشان دهنده موقعیت بالای اجتماعی و نفوذ خانواده کبابی مینابی در دربار قاجار و دستگاه حکومتی آن دوران بود.'}, {'question': 'از این مختصر اطلاعات، چه نوع نقشی برای محمدعلی سدیدالسلطنه کبابی مینابی می توان متصور شد؟', 'answer': 'با توجه به صاحب منصب سیاسی بودن، می توان حدس زد که وی در امور اداری، نظامی یا سیاسی در دوران قاجار نقش فعالی داشته است.'}]}\n"
          ]
        },
        {
          "name": "stderr",
          "output_type": "stream",
          "text": [
            "\r 20%|██        | 37/181 [01:27<05:22,  2.24s/it]"
          ]
        },
        {
          "name": "stdout",
          "output_type": "stream",
          "text": [
            "{'sentence': 'عبدالمحمد مؤدب السلطان، روزنامه\\u200cنگار نامدار ایرانی، در حدود سال ۱۲۵۰ هجری شمسی در اصفهان متولد شد. او که فرزند علی\\u200cزاده و اهل اصفهان بود، با لقب مؤدب السلطان شناخته می\\u200cشد و مدیریت روزنامه \"چهره نما\" را بر عهده داشت. زادگاه وی، اصفهان، در این دوران شاهد رویدادهای مهمی بود. برای کسب اطلاعات بیشتر در مورد این شخصیت، می\\u200cتوان به کتاب \"روزشمار تاریخ معاصر ایران\" نوشته حسن فراهانی مراجعه کرد.', 'Q&A': [{'question': 'چه کسی روزنامه \"چهره نما\" را مدیریت می کرد؟', 'answer': 'عبدالمحمد مؤدب السلطان مدیریت روزنامه \"چهره نما\" را بر عهده داشت.'}, {'question': 'عبدالمحمد مؤدب السلطان چه زمانی در اصفهان متولد شد؟', 'answer': 'عبدالمحمد مؤدب السلطان در حدود سال ۱۲۵۰ هجری شمسی در اصفهان متولد شد.'}, {'question': 'چرا اصفهان در زمان تولد عبدالمحمد مؤدب السلطان از اهمیت تاریخی برخوردار بود؟', 'answer': 'در متن اشاره ای به دلایل اهمیت تاریخی اصفهان در آن زمان نشده است، اما احتمالاً به دلیل وقایع مهم سیاسی، اجتماعی یا فرهنگی در آن دوران بوده است.'}, {'question': 'چه چیزی باعث شد که عبدالمحمد مؤدب السلطان با لقب مؤدب السلطان شناخته شود؟', 'answer': 'در متن اطلاعاتی در مورد علت استفاده از لقب مؤدب السلطان ارائه نشده است.'}, {'question': 'برای کسب اطلاعات بیشتر در مورد زندگی عبدالمحمد مؤدب السلطان به چه منبعی می توان مراجعه کرد؟', 'answer': 'برای کسب اطلاعات بیشتر در مورد این شخصیت، می\\u200cتوان به کتاب \"روزشمار تاریخ معاصر ایران\" نوشته حسن فراهانی مراجعه کرد.'}]}\n"
          ]
        },
        {
          "name": "stderr",
          "output_type": "stream",
          "text": [
            "\r 21%|██        | 38/181 [01:29<05:43,  2.40s/it]"
          ]
        },
        {
          "name": "stdout",
          "output_type": "stream",
          "text": [
            "{'sentence': 'رضاقلی هدایت، ملقب به نیرالملک، از رجال سیاسی برجسته دوران قاجار و پهلوی، در سال ۱۲۵۰ هجری شمسی در تهران متولد شد. او فرزند جعفرقلی خان نیرالملک بود و از خاندان هدایت به شمار می\\u200cرفت که در آن دوران نفوذ قابل توجهی داشتند. پس از تحصیلات در دارالفنون و فراگیری زبان\\u200cهای انگلیسی و فرانسه، به ریاست شعبه دوم دیوان عالی تمیز رسید و مدتی نیز ریاست این دیوان را بر عهده داشت. نیرالملک در سه کابینه مختلف، از جمله در دوران نخست وزیری سید ضیاءالدین طباطبایی و میرزا حسن خان مشیرالدوله پیرنیا، به عنوان وزیر فعالیت کرد. او همچنین در تشکیل حزب اراده ملی با سید ضیاءالدین طباطبایی همکاری داشت و ریاست شورای عالی این حزب را بر عهده گرفت. هدایت در سال ۱۲۸۰ شمسی به عضویت افتخاری آکادمی فرانسه درآمد و نشان لژیون دونور را دریافت کرد. این چهره سیاسی سرانجام در ۴ آذر ۱۳۲۴ درگذشت. برای اطلاعات بیشتر در مورد زندگی او، به کتاب \"روزشمار تاریخ معاصر ایران\" اثر حسن فراهانی مراجعه کنید.', 'Q&A': [{'question': 'رضاقلی هدایت در چه سالی در تهران متولد شد؟', 'answer': 'رضاقلی هدایت در سال ۱۲۵۰ هجری شمسی در تهران متولد شد.'}, {'question': 'مهم\\u200cترین سمت\\u200cهای رضاقلی هدایت در دوران خدمت دولتی چه بود؟', 'answer': 'ریاست شعبه دوم دیوان عالی تمیز و ریاست دیوان عالی تمیز، و همچنین وزارت در سه کابینه مختلف.'}, {'question': 'چه عواملی در ارتقای موقعیت رضاقلی هدایت در حکومت قاجار و پهلوی موثر بود؟', 'answer': 'تحصیلات در دارالفنون، فراگیری زبان\\u200cهای خارجی، تعلق به خاندان با نفوذ هدایت و فعالیت در پست\\u200cهای دولتی مهم، در ارتقای موقعیت او تاثیرگذار بودند.'}, {'question': 'چرا رضاقلی هدایت در تشکیل حزب اراده ملی با سید ضیاءالدین طباطبایی همکاری کرد؟', 'answer': 'همکاری او با سید ضیاءالدین طباطبایی در تشکیل حزب اراده ملی، نشان\\u200cدهنده اشتراک نظر آن\\u200cها در مورد مسائل سیاسی و احتمالاً تمایل به اصلاحات در ساختار حکومت بود.'}, {'question': 'وفات رضاقلی هدایت چه تاثیری بر صحنه سیاسی ایران داشت؟', 'answer': 'با توجه به این که رضاقلی هدایت یکی از چهره\\u200cهای باسابقه و صاحب نفوذ در حکومت بود، مرگ او باعث از دست رفتن یکی از شخصیت\\u200cهای موثر در سیاست ایران شد و خلأیی در این عرصه ایجاد کرد.'}]}\n"
          ]
        },
        {
          "name": "stderr",
          "output_type": "stream",
          "text": [
            "\r 22%|██▏       | 39/181 [01:32<05:40,  2.40s/it]"
          ]
        },
        {
          "name": "stdout",
          "output_type": "stream",
          "text": [
            "{'sentence': 'نصرالله خان خلعتبری، ملقب به اعتلاءالملک، از چهره\\u200cهای برجسته سیاسی دوران قاجار و پهلوی، در سال ۱۲۸۸ قمری در تهران چشم به جهان گشود. پدرش، میرزا شکرالله خلعتبری معروف به نامه\\u200cنگار، در وزارت امور خارجه مشغول به کار بود. اعتلاءالملک پس از دریافت دیپلم در رشته ریاضی از دارالفنون، در سال ۱۳۰۸ قمری وارد وزارت امور خارجه شد و در اداره محاسبات به خدمت مشغول گردید. در ۱۳۱۶ قمری، لقب اعتلاءالملک را دریافت کرد. پس از فتح تهران و پیروزی مشروطه\\u200cخواهان، وی به عضویت محكمه قضاوت عالی درآمد که وظیفه\\u200cاش محاکمه مخالفان مشروطه بود. اطلاعات بیشتر در این زمینه را می\\u200cتوان در کتاب \"روزشمار تاریخ معاصر ایران\" تالیف حسن فراهانی یافت.', 'Q&A': [{'question': 'اعتلاءالملک در چه سالی و در کجا متولد شد؟', 'answer': 'نصرالله خان خلعتبری، ملقب به اعتلاءالملک، در سال ۱۲۸۸ قمری در تهران چشم به جهان گشود.'}, {'question': 'چه عاملی باعث شد که اعتلاءالملک پس از فتح تهران وارد محكمه قضاوت عالی شود؟', 'answer': 'پس از فتح تهران و پیروزی مشروطه\\u200cخواهان، وی به عضویت محكمه قضاوت عالی درآمد که وظیفه\\u200cاش محاکمه مخالفان مشروطه بود.'}, {'question': 'پدر اعتلاءالملک در چه نهادی مشغول به کار بود و این موضوع چه تأثیری بر زندگی او داشت؟', 'answer': 'پدر اعتلاءالملک، میرزا شکرالله خلعتبری، در وزارت امور خارجه مشغول به کار بود و این موضوع زمینه\\u200cساز ورود اعتلاءالملک به این وزارتخانه پس از فارغ\\u200cالتحصیلی از دارالفنون شد.'}, {'question': 'اعتلاءالملک چه زمانی و از کدام نهاد آموزشی دیپلم خود را دریافت کرد و در چه زمینه\\u200cای؟', 'answer': 'اعتلاءالملک دیپلم خود را در رشته ریاضی از دارالفنون دریافت کرد.'}, {'question': 'اهمیت تاریخی اعتلاءالملک در دوران قاجار و پهلوی چه بود؟', 'answer': 'اعتلاءالملک از چهره\\u200cهای برجسته سیاسی دوران قاجار و پهلوی بود و در مناصب مهمی چون محكمه قضاوت عالی خدمت کرد.'}]}\n"
          ]
        },
        {
          "name": "stderr",
          "output_type": "stream",
          "text": [
            "\r 22%|██▏       | 40/181 [01:34<05:49,  2.48s/it]"
          ]
        },
        {
          "name": "stdout",
          "output_type": "stream",
          "text": [
            "{'sentence': 'حسن وثوق الدوله، از رجال سیاسی برجسته دوران قاجار، در سال ۱۲۵۰ هجری شمسی در تهران متولد شد. او فرزند میرزا ابراهیم خان معتمدالسلطنه بود و علاوه بر این، خواهرزاده امین الدوله، صدراعظم مظفرالدین شاه، و داماد میرزا عبدالوهاب خان آصف الدوله شیرازی به شمار می\\u200cرفت. همچنین، برادر بزرگ قوام السلطنه نیز بود. برای کسب اطلاعات بیشتر درباره زندگی و فعالیت\\u200cهای وی، می\\u200cتوان به کتاب \"روزشمار تاریخ معاصر ایران\" نوشته حسن فراهانی مراجعه کرد.', 'Q&A': [{'question': 'حسن وثوق الدوله در چه سالی و در کجا متولد شد؟', 'answer': 'حسن وثوق الدوله در سال ۱۲۵۰ هجری شمسی در تهران متولد شد.'}, {'question': 'چه عواملی به شهرت و جایگاه حسن وثوق الدوله در دوران قاجار کمک کرد؟', 'answer': 'حسن وثوق الدوله به واسطه روابط خانوادگی خود، از جمله نسبت با امین الدوله، و همچنین ازدواج با خانواده\\u200cهای بانفوذ، جایگاه برجسته\\u200cای کسب کرد.'}, {'question': 'چه سندی برای مطالعه بیشتر درباره زندگی و فعالیت\\u200cهای حسن وثوق الدوله پیشنهاد می\\u200cشود؟', 'answer': 'برای کسب اطلاعات بیشتر، می\\u200cتوان به کتاب \"روزشمار تاریخ معاصر ایران\" نوشته حسن فراهانی مراجعه کرد.'}, {'question': 'چه کسی یا چه کسانی از نزدیکان حسن وثوق الدوله بودند؟', 'answer': 'حسن وثوق الدوله فرزند میرزا ابراهیم خان معتمدالسلطنه، خواهرزاده امین الدوله و داماد میرزا عبدالوهاب خان آصف الدوله شیرازی و برادر بزرگ قوام السلطنه بود.'}, {'question': 'با توجه به جایگاه خانوادگی حسن وثوق الدوله، چه نوع نفوذی در ساختار سیاسی آن زمان می\\u200cتوان برای او تصور کرد؟', 'answer': 'با توجه به روابط خانوادگی وی با مقامات ارشد قاجار، می\\u200cتوان نفوذ و دسترسی قابل توجهی به تصمیم\\u200cگیری\\u200cها و ساختارهای قدرت سیاسی در آن دوره را برای او تصور کرد.'}]}\n"
          ]
        },
        {
          "name": "stderr",
          "output_type": "stream",
          "text": [
            "\r 23%|██▎       | 41/181 [01:37<05:44,  2.46s/it]"
          ]
        },
        {
          "name": "stdout",
          "output_type": "stream",
          "text": [
            "{'sentence': 'سردار معتمد گیلانی (صادق خان اکبر)، از چهره\\u200cهای برجسته گیلان، در سال ۱۲۵۱ شمسی چشم به جهان گشود. او که از ملاکین برجسته گیلان به شمار می\\u200cآمد، با ازدواج با دختر عمویش، به ثروت قابل توجهی دست یافت. صادق اکبر در سال ۱۳۱۰ قمری لقب \"محتشم الملک\" را دریافت کرد و پس از آن، در جریان سفر مظفرالدین شاه به اروپا، با پیشکشی، مفتخر به لقب \"سردار معتمد\" شد. وی پس از انقلاب مشروطه، با حمایت\\u200cهای مالی خود به مشروطه\\u200cخواهان پیوست و در دوره\\u200cهای سوم، چهارم، پنجم و هشتم مجلس شورای ملی به عنوان نماینده رشت حضور داشت. سردار معتمد در کابینه سپهدار اعظم، در سال ۱۲۹۹ شمسی به مقام وزارت پست و تلگراف رسید و تا اسفند همان سال در این سمت فعالیت داشت. سرانجام، سردار معتمد در دی ماه ۱۳۱۱ در تهران دار فانی را وداع گفت. برای اطلاعات بیشتر، به کتاب \"روزشمار تاریخ معاصر ایران\" تالیف حسن فراهانی مراجعه کنید.', 'Q&A': [{'question': 'سردار معتمد گیلانی چه کسی بود و چه نقشی در تاریخ گیلان ایفا کرد؟', 'answer': 'سردار معتمد گیلانی، صادق خان اکبر، از چهره\\u200cهای برجسته گیلان بود که به عنوان یکی از ملاکین و نماینده رشت در مجلس شورای ملی شناخته می\\u200cشد و در دوران مشروطه نقشی فعال داشت.'}, {'question': 'چه عواملی باعث افزایش ثروت سردار معتمد گیلانی شد؟', 'answer': 'ازدواج با دختر عمویش، یکی از عوامل اصلی افزایش ثروت سردار معتمد گیلانی بود.'}, {'question': 'چرا سردار معتمد گیلانی لقب \"سردار معتمد\" را دریافت کرد؟', 'answer': 'سردار معتمد این لقب را در جریان سفر مظفرالدین شاه به اروپا و در ازای پیشکشی دریافت کرد.'}, {'question': 'سردار معتمد گیلانی چگونه در دوران مشروطه فعالیت کرد و چه تأثیری داشت؟', 'answer': 'او با حمایت\\u200cهای مالی خود به مشروطه\\u200cخواهان پیوست و در مجلس شورای ملی نیز حضور داشت که نشان از حمایت او از جنبش مشروطه و تلاش برای پیشبرد اهداف آن دارد.'}, {'question': 'چه چیزی در مورد مرگ سردار معتمد گیلانی در سال ۱۳۱۱ شمسی می توان گفت؟', 'answer': 'سردار معتمد گیلانی در دی ماه سال ۱۳۱۱ شمسی در تهران درگذشت و به تاریخ پیوست.'}]}\n"
          ]
        },
        {
          "name": "stderr",
          "output_type": "stream",
          "text": [
            "\r 23%|██▎       | 42/181 [01:40<05:59,  2.59s/it]"
          ]
        },
        {
          "name": "stdout",
          "output_type": "stream",
          "text": [
            "{'sentence': 'محمد حسن بدیع، ملقب به نصرت الوزاره، ادیب، شاعر، روزنامه نگار و کارپرداز ایرانی، در سال ۱۲۵۱ هجری شمسی در کاظمین چشم به جهان گشود. او که فرزند ملا رضا بهبهانی بود، تحصیلاتش را در کاظمین آغاز کرد و با زبان فرانسه نیز آشنا شد. بدیع در دوران مشروطیت مقالاتی تند و مهیج برای روزنامه حبل المتین در کلکته می نوشت و در بصره نیز انجمنی برای ایرانیان تأسیس کرد. پس از برکناری محمدعلی شاه، او جشنی باشکوه در بصره برگزار نمود. وی در سال ۱۲۹۳ شمسی به عنوان منشی کنسول ایران در باکو منصوب شد و در ادامه، از سال ۱۳۰۰ تا ۱۳۰۲ و دوباره از ۱۳۰۶ تا ۱۳۱۱ شمسی کارپرداز ایران در کربلا و بصره بود. همچنین، از ۱۳۰۵ تا ۱۳۰۷ شمسی به عنوان ژنرال کنسول ایران در بغداد فعالیت داشت. بدیع پس از آن، در سال\\u200cهای ۱۲-۱۳۱۱ شمسی حاکم ملایر شد و در نهایت، در سال ۱۳۱۲ به عنوان سرکنسول ایران در هرات منصوب گردید. محمد حسن بدیع در سال ۱۳۱۶ شمسی در تهران درگذشت. او آثار متعددی در زمینه ادبیات داستانی و دیوان اشعار دارد. اطلاعات بیشتر در مورد زندگی و فعالیت\\u200cهای او را می توان در کتاب \"روزشمار تاریخ معاصر ایران\" اثر حسن فراهانی یافت.', 'Q&A': [{'question': 'محمد حسن بدیع با چه نامی شناخته می\\u200cشد و در چه سالی متولد شد؟', 'answer': 'محمد حسن بدیع با نام نصرت الوزاره شناخته می\\u200cشد و در سال ۱۲۵۱ هجری شمسی متولد شد.'}, {'question': 'فعالیت\\u200cهای محمد حسن بدیع در دوران مشروطیت چه بود و چه تأثیری داشت؟', 'answer': 'او مقالاتی تند و مهیج برای روزنامه حبل المتین می\\u200cنوشت و در بصره انجمنی برای ایرانیان تأسیس کرد که به آگاهی بخشی و بسیج ایرانیان کمک می\\u200cکرد.'}, {'question': 'چه عواملی باعث شد که محمد حسن بدیع به عنوان کارپرداز در کربلا و بصره منصوب شود و این نقش چه اهمیتی داشت؟', 'answer': 'اطلاعات دقیقی در این زمینه در این خلاصه ارائه نشده است. اما نقش کارپرداز نشان دهنده مسئولیت\\u200cهای اداری و نمایندگی ایران در این مناطق بوده که نشان دهنده اهمیت حفظ منافع ایرانیان و ارتباط با این مناطق است.'}, {'question': 'محمد حسن بدیع در چه سمت\\u200cهای دیگری در خارج از ایران فعالیت داشت و این فعالیت\\u200cها چه اهمیتی داشتند؟', 'answer': 'او به عنوان منشی کنسول ایران در باکو، ژنرال کنسول ایران در بغداد و سرکنسول ایران در هرات فعالیت داشت. این فعالیت\\u200cها نشان\\u200cدهنده حضور دیپلماتیک ایران و تلاش برای حفظ منافع و ارتباط با دیگر کشورها بود.'}, {'question': 'محمد حسن بدیع چگونه درگذشت و چه اثری از خود به جای گذاشت؟', 'answer': 'محمد حسن بدیع در سال ۱۳۱۶ شمسی در تهران درگذشت. او آثاری متعددی در زمینه ادبیات داستانی و دیوان اشعار از خود به جای گذاشت.'}]}\n"
          ]
        },
        {
          "name": "stderr",
          "output_type": "stream",
          "text": [
            "\r 24%|██▍       | 43/181 [01:42<06:01,  2.62s/it]"
          ]
        },
        {
          "name": "stdout",
          "output_type": "stream",
          "text": [
            "{'sentence': 'حسن فلسفی، مشهور به شرف\\u200cالملک حکیم\\u200cزاده، از روحانیون برجسته مشروطه\\u200cخواه، در سال ۱۲۵۱ هجری شمسی (۱۲۸۹ قمری) چشم به جهان گشود. او که فرزند حاج علی آقا مدرس زنوزی بود، تحصیلات خود را در علوم اسلامی پی گرفت و در جوانی به عنوان مدرس در حوزه علمیه تهران مشغول به کار شد. فلسفی از فعالان سیاسی در نهضت مشروطیت به شمار می\\u200cرفت و در فتح تهران و سقوط سلطنت محمدعلی میرزا نقش داشت. پس از استبداد صغیر، به عدلیه پیوست و به شغل قضاوت مشغول شد. وی در زمان جنگ جهانی اول به ریاست عدلیه یزد منصوب گردید و در جریان مهاجرت برخی رجال مخالف روس و انگلیس به کرمانشاه، جزء مهاجرین بود. ریاست شعبۀ استيناف، مستشاری دیوان عالی کشور و ریاست شعبه دیوان عالی تمیز از دیگر سمت\\u200cهای قضایی او محسوب می\\u200cشوند. سرانجام، حسن فلسفی در سال ۱۳۲۱ درگذشت. اطلاعات تکمیلی در مورد زندگی و فعالیت\\u200cهای وی در کتاب \"شرح حال رجال سیاسی\" اثر عاقلی و همچنین \"خاطرات یک نخست\\u200cوزیر\" قابل دسترسی است.', 'Q&A': [{'question': 'حسن فلسفی، که بود و چه نقشی در نهضت مشروطیت داشت؟', 'answer': 'حسن فلسفی از روحانیون برجسته مشروطه\\u200cخواه بود که در فتح تهران و سقوط سلطنت محمدعلی میرزا نقش فعال داشت.'}, {'question': 'چرا حسن فلسفی پس از استبداد صغیر به عدلیه پیوست؟', 'answer': 'پس از استبداد صغیر، او به عدلیه پیوست و به شغل قضاوت مشغول شد. این نشان\\u200cدهندهٔ تغییر مسیر شغلی او پس از رویدادهای سیاسی آن دوران است.'}, {'question': 'در چه سالی حسن فلسفی به دنیا آمد و درگذشت؟', 'answer': 'حسن فلسفی در سال ۱۲۵۱ هجری شمسی (۱۲۸۹ قمری) به دنیا آمد و در سال ۱۳۲۱ درگذشت.'}, {'question': 'چگونه می\\u200cتوانیم اطلاعات بیشتری در مورد زندگی و فعالیت\\u200cهای حسن فلسفی کسب کنیم؟', 'answer': 'اطلاعات تکمیلی در مورد زندگی و فعالیت\\u200cهای او در کتاب \"شرح حال رجال سیاسی\" اثر عاقلی و همچنین \"خاطرات یک نخست\\u200cوزیر\" قابل دسترسی است.'}, {'question': 'اهمیت ریاست حسن فلسفی بر عدلیه یزد در زمان جنگ جهانی اول چه بود؟', 'answer': 'ریاست او بر عدلیه یزد در زمان جنگ جهانی اول نشان\\u200cدهندهٔ حضور او در یک پست مهم حکومتی در یک دوران حساس تاریخی است و احتمالاً در تصمیم\\u200cگیری\\u200cها و اتفاقات آن دوره تأثیرگذار بوده است.'}]}\n"
          ]
        },
        {
          "name": "stderr",
          "output_type": "stream",
          "text": [
            "\r 24%|██▍       | 44/181 [01:46<06:15,  2.74s/it]"
          ]
        },
        {
          "name": "stdout",
          "output_type": "stream",
          "text": [
            "{'sentence': 'سید عبدالرحیم خلخالی، از آزادی\\u200cخواهان برجسته، حدود سال ۱۲۹۰ هجری قمری در خلخال چشم به جهان گشود. او برای تحصیل به رشت رفت و به فراگیری ادبیات عرب و علوم عقلی پرداخت. در حدود سال ۱۳۲۱ قمری، برای تکمیل تحصیلاتش به تهران عزیمت کرد و سه سال بعد، روزنامه \"مساوات\" را به همراه سید محمدرضا شیرازی تأسیس کرد. پس از به توپ بستن مجلس در سال ۱۳۲۶، به قفقاز سفر کرد و مدتی نیز نزد حاج میرزا عبدالرحیم طالبوف بود. از آن\\u200cجا به عشق\\u200cآباد رفت و در سال ۱۳۲۷ قمری به رشت بازگشت و به فعالیت\\u200cهای آزادی\\u200cخواهانه پرداخت. وی سپس برای مأموریت\\u200cهای انقلابی به همدان رفت و پس از فتح تهران، به وزارت مالیه پیوست و در نهایت رئیس دیوان محاسبات شد. اطلاعات بیشتر در این مورد را می\\u200cتوان در کتاب \"روزشمار تاریخ معاصر ایران\" نوشته حسن فراهانی یافت.', 'Q&A': [{'question': 'سید عبدالرحیم خلخالی در چه سالی و در کجا متولد شد؟', 'answer': 'سید عبدالرحیم خلخالی حدود سال ۱۲۹۰ هجری قمری در خلخال متولد شد.'}, {'question': 'چه عاملی سید عبدالرحیم خلخالی را به تأسیس روزنامه \"مساوات\" سوق داد؟', 'answer': 'اطلاعات مستقیمی در این مورد در متن موجود نیست، اما با توجه به زمان تأسیس روزنامه و فعالیت\\u200cهای آزادی\\u200cخواهانه خلخالی، می\\u200cتوان حدس زد که آرمان\\u200cهای آزادی\\u200cخواهانه و تأثیر از جنبش\\u200cهای مشروطه\\u200cخواهی در این امر دخیل بوده\\u200cاند.'}, {'question': 'پس از به توپ بستن مجلس شورای ملی، سید عبدالرحیم خلخالی به کجا سفر کرد و چرا؟', 'answer': 'پس از به توپ بستن مجلس، سید عبدالرحیم خلخالی به قفقاز سفر کرد. علت این سفر به طور دقیق در متن نیامده، اما احتمالا برای ادامه\\u200cی فعالیت\\u200cهای انقلابی و یا به دلیل شرایط سیاسی نامساعد پس از استبداد صغیر بوده است.'}, {'question': 'چه سمت\\u200cهای دولتی\\u200cای سید عبدالرحیم خلخالی پس از فتح تهران عهده\\u200cدار شد؟', 'answer': 'سید عبدالرحیم خلخالی پس از فتح تهران به وزارت مالیه پیوست و در نهایت رئیس دیوان محاسبات شد.'}, {'question': 'اهمیت سید عبدالرحیم خلخالی در جنبش مشروطه خواهی چه بود؟', 'answer': 'سید عبدالرحیم خلخالی از آزادی\\u200cخواهان برجسته دوره مشروطه بود. او با تأسیس روزنامه، فعالیت\\u200cهای آزادی\\u200cخواهانه و حضور در جبهه\\u200cهای انقلاب، نقش فعالی در جنبش مشروطه خواهی ایفا کرد.'}]}\n"
          ]
        },
        {
          "name": "stderr",
          "output_type": "stream",
          "text": [
            "\r 25%|██▍       | 45/181 [01:48<05:45,  2.54s/it]"
          ]
        },
        {
          "name": "stdout",
          "output_type": "stream",
          "text": [
            "{'sentence': 'داود مفتاح السلطنه، از رجال سیاسی برجسته دوران قاجار و پهلوی، در سال ۱۲۵۲ هجری شمسی در تهران متولد شد. او که با عنوان مفتاح السلطنه شناخته می\\u200cشد، در پایتخت چشم به جهان گشود. برای کسب اطلاعات بیشتر درباره زندگی و فعالیت\\u200cهای ایشان، می\\u200cتوان به کتاب \"روزشمار تاریخ معاصر ایران\" نوشته حسن فراهانی مراجعه کرد.', 'Q&A': [{'question': 'چه کسی در سال ۱۲۵۲ هجری شمسی در تهران متولد شد؟', 'answer': 'داود مفتاح السلطنه، از رجال سیاسی برجسته دوران قاجار و پهلوی، در تهران متولد شد.'}, {'question': 'عنوان شناخته شده\\u200cی داود مفتاح السلطنه چه بود؟', 'answer': 'او با عنوان مفتاح السلطنه شناخته می\\u200cشد.'}, {'question': 'حسن فراهانی در چه کتابی به بررسی زندگی و فعالیت\\u200cهای داود مفتاح السلطنه پرداخته است؟', 'answer': 'حسن فراهانی در کتاب \"روزشمار تاریخ معاصر ایران\" به بررسی زندگی و فعالیت\\u200cهای داود مفتاح السلطنه پرداخته است.'}, {'question': 'داود مفتاح السلطنه در چه دورانی به فعالیت سیاسی می\\u200cپرداخت و این امر چه اهمیتی دارد؟', 'answer': 'داود مفتاح السلطنه در دوران قاجار و پهلوی فعال بود. این نشان دهنده\\u200cی حضور او در یک دوره طولانی و تأثیرگذار در تاریخ ایران است.'}, {'question': 'تولد داود مفتاح السلطنه در تهران چه مفهومی در بر دارد و چرا اهمیت دارد؟', 'answer': 'تولد او در تهران نشان\\u200cدهنده\\u200cی ارتباط او با مرکز سیاسی و اداری کشور در آن دوران است، و احتمالاً بر فعالیت\\u200cهای سیاسی او تأثیرگذار بوده است.'}]}\n"
          ]
        },
        {
          "name": "stderr",
          "output_type": "stream",
          "text": [
            "\r 25%|██▌       | 46/181 [01:50<05:26,  2.42s/it]"
          ]
        },
        {
          "name": "stdout",
          "output_type": "stream",
          "text": [
            "{'sentence': 'میرزا عبدالحسین خان وحیدالملک شیبانی، سیاستمدار برجسته دوران قاجار و وزیر پست و تلگراف در دولت احمد قوام، در سال ۱۲۵۲ هجری شمسی در کاشان چشم به جهان گشود. او فرزند میرزا حسن خان، مشهور به آقا خان بود. این رویداد، طبق اطلاعات موجود در کتاب \"روزشمار تاریخ معاصر ایران\" اثر حسن فراهانی، در سال ۱۳۸۵ ثبت شده است. برای کسب اطلاعات بیشتر در این زمینه، می\\u200cتوانید به پایگاه جامع تاریخ مراجعه کنید.', 'Q&A': [{'question': 'میرزا عبدالحسین خان وحیدالملک شیبانی در چه سالی و در کجا متولد شد؟', 'answer': 'میرزا عبدالحسین خان وحیدالملک شیبانی در سال ۱۲۵۲ هجری شمسی در کاشان متولد شد.'}, {'question': 'چه مسئولیتی میرزا عبدالحسین خان وحیدالملک شیبانی در دولت احمد قوام داشت؟', 'answer': 'او وزیر پست و تلگراف در دولت احمد قوام بود.'}, {'question': 'چه کسی پدر میرزا عبدالحسین خان وحیدالملک شیبانی بود و چه شهرتی داشت؟', 'answer': 'پدر او میرزا حسن خان بود که به آقا خان شهرت داشت.'}, {'question': 'بر اساس چه منبعی تولد میرزا عبدالحسین خان وحیدالملک شیبانی در سال ۱۳۸۵ ثبت شده است؟', 'answer': 'طبق اطلاعات موجود در کتاب \"روزشمار تاریخ معاصر ایران\" اثر حسن فراهانی.'}, {'question': 'اهمیت شناسایی میرزا عبدالحسین خان وحیدالملک شیبانی برای مطالعه تاریخ ایران چیست؟', 'answer': 'او یک سیاستمدار برجسته در دوران قاجار بود که مطالعه زندگی و فعالیت\\u200cهای او به درک بهتر تحولات سیاسی و اجتماعی آن دوره کمک می\\u200cکند.'}]}\n"
          ]
        },
        {
          "name": "stderr",
          "output_type": "stream",
          "text": [
            "\r 26%|██▌       | 47/181 [01:52<05:23,  2.42s/it]"
          ]
        },
        {
          "name": "stdout",
          "output_type": "stream",
          "text": [
            "{'sentence': 'در سال ۱۲۵۲ هجری شمسی، احمد قوام مشهور به قوام\\u200cالسلطنه، از رجال سیاسی برجسته ایران، در تهران چشم به جهان گشود. پدرش، میرزا ابراهیم معتمدالسلطنه، از چهره\\u200cهای سرشناس دوران ناصری بود و جدش نیز در مقام وزیر دفتر استیفا خدمت می\\u200cکرد. قوام\\u200cالسلطنه در طول زندگی پر فراز و نشیب خود، پنج بار به مقام نخست\\u200cوزیری رسید، بیست بار وزارتخانه\\u200cهای مختلف را برعهده گرفت و یک بار نیز والی خراسان بود. او پس از فتح تهران در دوران مشروطیت، معاون وزارت داخله شد و در سال\\u200cهای ۱۳۰۰ و ۱۳۰۱ شمسی نیز نخست\\u200cوزیر بود. سرانجام، پس از استعفای محمد مصدق در تیرماه ۱۳۳۱ شمسی، قوام\\u200cالسلطنه بار دیگر به این سمت منصوب شد، اما این دوره کوتاه بود و با اعتراضات مردمی به استعفا کشید. اطلاعات بیشتر در این خصوص را می\\u200cتوان در کتاب \"روزشمار تاریخ معاصر ایران\" اثر حسن فراهانی یافت.', 'Q&A': [{'question': 'قوام\\u200cالسلطنه در چه سالی و در کجا متولد شد؟', 'answer': 'قوام\\u200cالسلطنه در سال ۱۲۵۲ هجری شمسی در تهران متولد شد.'}, {'question': 'چه عواملی باعث شد که قوام\\u200cالسلطنه در دوران پس از استعفای مصدق دوباره به مقام نخست\\u200cوزیری برسد؟', 'answer': 'متن اطلاعاتی در این خصوص ارائه نداده است. اما اشاره شده است که وی پس از استعفای محمد مصدق در تیرماه ۱۳۳۱ شمسی به این سمت منصوب شد.'}, {'question': 'قوام\\u200cالسلطنه در دوران فعالیت سیاسی خود، چه سمت\\u200cهای دیگری به جز نخست\\u200cوزیری داشت؟', 'answer': 'او بیست بار وزارتخانه\\u200cهای مختلف را برعهده گرفت و یک بار نیز والی خراسان بود. همچنین پس از فتح تهران در دوران مشروطیت، معاون وزارت داخله شد.'}, {'question': 'چرا دوره نخست\\u200cوزیری قوام\\u200cالسلطنه پس از استعفای مصدق کوتاه بود؟', 'answer': 'دوره نخست\\u200cوزیری قوام\\u200cالسلطنه پس از استعفای محمد مصدق به دلیل اعتراضات مردمی کوتاه بود.'}, {'question': 'اهمیت قوام\\u200cالسلطنه در تاریخ معاصر ایران چیست؟', 'answer': 'قوام\\u200cالسلطنه یکی از رجال سیاسی برجسته ایران بود که پنج بار به مقام نخست\\u200cوزیری رسید و نقش مهمی در تحولات سیاسی و اجتماعی دوران خود داشت.'}]}\n"
          ]
        },
        {
          "name": "stderr",
          "output_type": "stream",
          "text": [
            "\r 27%|██▋       | 48/181 [01:55<05:34,  2.52s/it]"
          ]
        },
        {
          "name": "stdout",
          "output_type": "stream",
          "text": [
            "{'sentence': 'حسن پیرنیا (ملقب به مشیرالملک)، از رجال برجسته سیاسی دوران قاجار، در سال ۱۲۹۱ قمری متولد شد. تحصیلات عالیه خود را در مسکو پی گرفت؛ ابتدا در مدرسه نظامی کادکسی کرپوس و سپس در دانشکده حقوق این شهر به تحصیل پرداخت. همزمان، به عنوان وابسته سفارت ایران در سن پترزبورگ مشغول به کار شد و تا سال ۱۳۱۷ در آنجا اقامت داشت. پس از بازگشت به ایران، منشی\\u200cگری وزارت خارجه به او سپرده شد و اندکی بعد ریاست کابینه وزارت امور خارجه را نیز بر عهده گرفت. برای کسب اطلاعات بیشتر در مورد زندگی و فعالیت\\u200cهای او، می\\u200cتوان به کتاب \"روزشمار تاریخ معاصر ایران\" نوشته حسن فراهانی مراجعه کرد.', 'Q&A': [{'question': 'حسن پیرنیا در چه سالی و در کدام شهر به دنیا آمد؟', 'answer': 'حسن پیرنیا در سال ۱۲۹۱ قمری متولد شد. اطلاعاتی از محل تولد او در این خلاصه موجود نیست.'}, {'question': 'تحصیلات عالیه حسن پیرنیا در چه رشته\\u200cای و در کدام کشور متمرکز بود؟', 'answer': 'او در مسکو، ابتدا در مدرسه نظامی کادکسی کرپوس و سپس در دانشکده حقوق به تحصیل پرداخت.'}, {'question': 'چرا حسن پیرنیا تا این اندازه در روسیه اقامت داشت؟', 'answer': 'حسن پیرنیا در روسیه به عنوان وابسته سفارت ایران در سن پترزبورگ مشغول به کار بود و به همین دلیل مدت طولانی در آنجا اقامت داشت.'}, {'question': 'چه سمتی پس از بازگشت حسن پیرنیا از روسیه به او واگذار شد و این امر چه اهمیتی داشت؟', 'answer': 'پس از بازگشت، منشی\\u200cگری وزارت خارجه و سپس ریاست کابینه وزارت امور خارجه به او واگذار شد. این مسئولیت\\u200cها نشان\\u200cدهنده جایگاه مهم او در دستگاه دولتی و نفوذش در سیاست بود.'}, {'question': 'اگر بخواهیم درباره فعالیت\\u200cهای حسن پیرنیا اطلاعات بیشتری کسب کنیم، به کدام منبع می\\u200cتوانیم مراجعه کنیم و چرا؟', 'answer': 'می\\u200cتوانیم به کتاب \"روزشمار تاریخ معاصر ایران\" نوشته حسن فراهانی مراجعه کنیم، زیرا این کتاب می\\u200cتواند اطلاعات تکمیلی و دقیقی در مورد زندگی و فعالیت\\u200cهای حسن پیرنیا ارائه دهد.'}]}\n"
          ]
        },
        {
          "name": "stderr",
          "output_type": "stream",
          "text": [
            "\r 27%|██▋       | 49/181 [01:57<05:25,  2.46s/it]"
          ]
        },
        {
          "name": "stdout",
          "output_type": "stream",
          "text": [
            "{'sentence': 'میرزا علی\\u200cمحمد خان بنی\\u200cآدم، ملقب به شریف\\u200cالدوله، از سیاستمداران برجسته دوران قاجار و پهلوی، در سال ۱۲۵۳ هجری شمسی در کاشان دیده به جهان گشود. او که فرزند میرزا محمدعلی تعجب کاشانی بود، تحصیلات خود را در کاشان آغاز کرد و سپس وارد مدرسه علوم سیاسی شد. شریف\\u200cالدوله در دوره مشروطیت به عنوان کارگزار گیلان منصوب شد و در مجلس شورای ملی نیز به نمایندگی از مردم گیلان و فومنات رسید. وی بعدها در مناصب مختلفی از جمله معاونت وزارت خارجه و وزارت داخله، همچنین کارگزاری آذربایجان، خدمت کرد. شریف\\u200cالدوله در سال ۱۳۰۱ شمسی به حکومت بروجرد و لرستان منصوب شد و در ۱۳۴۵ قمری نیز والی آذربایجان گردید. او در سال\\u200cهای پایانی عمر، به دلیل از دست دادن شنوایی، منزوی شد و در ۲۱ دی ۱۳۲۵ چشم از جهان فروبست. اطلاعات بیشتری در مورد زندگی و فعالیت\\u200cهای ایشان را می\\u200cتوان در کتاب \"روزشمار تاریخ معاصر ایران\" اثر حسن فراهانی یافت.', 'Q&A': [{'question': 'شریف\\u200cالدوله در چه سالی و در کجا متولد شد؟', 'answer': 'شریف\\u200cالدوله در سال ۱۲۵۳ هجری شمسی در کاشان به دنیا آمد.'}, {'question': 'چه عواملی باعث شد شریف\\u200cالدوله در سال\\u200cهای پایانی عمرش منزوی شود؟', 'answer': 'شریف\\u200cالدوله در سال\\u200cهای پایانی عمرش به دلیل از دست دادن شنوایی منزوی شد.'}, {'question': 'شریف\\u200cالدوله در دوره مشروطیت چه مسئولیتی بر عهده داشت و چه تأثیری در پیشبرد اهداف مشروطه گذاشت؟', 'answer': 'شریف\\u200cالدوله در دوره مشروطیت به عنوان کارگزار گیلان منصوب شد. او در مجلس شورای ملی نیز به نمایندگی از مردم گیلان و فومنات رسید و به پیشبرد اهداف مشروطه کمک کرد.'}, {'question': 'شریف\\u200cالدوله در کدام دوره\\u200cها و در چه مناصبی خدمت کرد؟', 'answer': 'شریف\\u200cالدوله در دوره قاجار و پهلوی در مناصب مختلفی از جمله کارگزاری گیلان، معاونت وزارت خارجه، وزارت داخله، کارگزاری آذربایجان، حکومت بروجرد و لرستان، و والی آذربایجان خدمت کرد.'}, {'question': 'برای کسب اطلاعات بیشتر درباره زندگی و فعالیت\\u200cهای شریف\\u200cالدوله، به چه منبعی می\\u200cتوان مراجعه کرد؟', 'answer': 'برای کسب اطلاعات بیشتر درباره زندگی و فعالیت\\u200cهای شریف\\u200cالدوله، می\\u200cتوان به کتاب \"روزشمار تاریخ معاصر ایران\" اثر حسن فراهانی مراجعه کرد.'}]}\n",
            "*** client2 activated\n"
          ]
        },
        {
          "name": "stderr",
          "output_type": "stream",
          "text": [
            "\r 28%|██▊       | 50/181 [02:01<06:25,  2.94s/it]"
          ]
        },
        {
          "name": "stdout",
          "output_type": "stream",
          "text": [
            "{'sentence': 'سید یعقوب انوار شیرازی، عالم دینی و از چهره\\u200cهای سیاسی عصر قاجار، در سال ۱۲۵۳ شمسی در شیراز متولد شد. او که فرزند سید خلیل واعظ بود، تحصیلات خود را در یزد، اصفهان و تهران به پایان رساند و به درجه اجتهاد رسید. سید یعقوب در دوره چهارم مجلس شورای ملی به نمایندگی از مردم شیراز انتخاب شد و در آن دوره از حامیان سردار سپه بود. او در تلاش برای تصویب ماده واحده تغییر سلطنت قاجار، نقش فعالی داشت و پس از آن نیز در دوره\\u200cهای ششم و هفتم مجلس، نمایندگی شیراز را حفظ کرد. با این حال، او پس از استعفای رضا شاه تغییر موضع داد و سخنانی علیه او ایراد کرد. سرانجام، سید یعقوب انوار شیرازی در سال ۱۳۳۴ شمسی در تهران درگذشت. اطلاعات بیشتر در این مورد را می\\u200cتوان در کتاب \"روزشمار تاریخ معاصر ایران\" اثر حسن فراهانی یافت.', 'Q&A': [{'question': 'سید یعقوب انوار شیرازی در چه سالی و در کجا متولد شد؟', 'answer': 'سید یعقوب انوار شیرازی در سال ۱۲۵۳ شمسی در شیراز متولد شد.'}, {'question': 'چرا سید یعقوب انوار شیرازی در ابتدا از حامیان سردار سپه بود؟', 'answer': 'با توجه به متن، دلیل این حمایت به صراحت ذکر نشده است، اما او در دوره چهارم مجلس شورای ملی از حامیان سردار سپه بود و نقش فعالی در تصویب ماده واحده تغییر سلطنت قاجار داشت.'}, {'question': 'سید یعقوب انوار شیرازی پس از استعفای رضا شاه چه تغییری در موضع خود نشان داد؟', 'answer': 'او پس از استعفای رضا شاه تغییر موضع داد و سخنانی علیه او ایراد کرد.'}, {'question': 'نقش سید یعقوب انوار شیرازی در مجلس شورای ملی چه بود؟', 'answer': 'او به عنوان نماینده مردم شیراز در دوره\\u200cهای چهارم، ششم و هفتم مجلس شورای ملی حضور داشت.'}, {'question': 'اگر بخواهیم اطلاعات بیشتری درباره زندگی سید یعقوب انوار شیرازی کسب کنیم، به کدام منبع مراجعه کنیم؟', 'answer': 'برای کسب اطلاعات بیشتر درباره زندگی سید یعقوب انوار شیرازی می\\u200cتوان به کتاب \"روزشمار تاریخ معاصر ایران\" اثر حسن فراهانی مراجعه کرد.'}]}\n"
          ]
        },
        {
          "name": "stderr",
          "output_type": "stream",
          "text": [
            "\r 28%|██▊       | 51/181 [02:04<05:56,  2.74s/it]"
          ]
        },
        {
          "name": "stdout",
          "output_type": "stream",
          "text": [
            "{'sentence': 'ناصرالاسلام گیلانی، با نام اصلی سید یحیی ندامانی، از علمای برجسته مشروطه\\u200cخواه و رجال سیاسی ایران بود که در سال ۱۲۵۳ هجری شمسی در فومن، از توابع استان گیلان، متولد شد. او که از جمله طلاب علوم دینی به شمار می\\u200cآمد، در جنبش مشروطه به جمع حامیان این نهضت پیوست. ندامانی در دوره\\u200cهای دوم، سوم و پنجم مجلس شورای ملی به نمایندگی از فومن، شفت و گسکر حضور داشت و از اعضای فعال حزب اعتدال محسوب می\\u200cشد. وی همچنین مدیریت روزنامه \"شوری\" را که توسط این حزب منتشر می\\u200cشد، بر عهده داشت. در سال ۱۳۰۸ شمسی، ناصرالاسلام گیلانی دار فانی را وداع گفت. اطلاعات بیشتر در مورد زندگی و فعالیت\\u200cهای ایشان را می\\u200cتوان در کتاب \"روزشمار تاریخ معاصر ایران\" نوشته حسن فراهانی یافت.', 'Q&A': [{'question': 'چه کسی ناصرالاسلام گیلانی نامیده می\\u200cشد؟', 'answer': 'سید یحیی ندامانی، با نام اصلی، ناصرالاسلام گیلانی خوانده می\\u200cشد.'}, {'question': 'جنبش مشروطه چه تأثیری بر پیوستن ناصرالاسلام گیلانی به جریان\\u200cهای سیاسی داشت؟', 'answer': 'جنبش مشروطه باعث شد که ناصرالاسلام گیلانی به جمع حامیان این نهضت بپیوندد و وارد عرصه سیاست شود.'}, {'question': 'چرا ناصرالاسلام گیلانی از اعضای فعال حزب اعتدال محسوب می\\u200cشد؟', 'answer': 'او به دلیل فعالیت\\u200cهای سیاسی و حضور در مجلس شورای ملی و همچنین مدیریت روزنامه \"شوری\" از اعضای فعال حزب اعتدال به شمار می\\u200cآمد.'}, {'question': 'در کدام دوره از مجلس شورای ملی ناصرالاسلام گیلانی به نمایندگی از فومن حضور داشت؟', 'answer': 'ناصرالاسلام گیلانی در دوره\\u200cهای دوم، سوم و پنجم مجلس شورای ملی به نمایندگی از فومن، شفت و گسکر حضور داشت.'}, {'question': 'کتاب \"روزشمار تاریخ معاصر ایران\" نوشته چه کسی و چه اطلاعاتی را ارائه می\\u200cدهد؟', 'answer': 'این کتاب نوشته حسن فراهانی است و اطلاعات بیشتری در مورد زندگی و فعالیت\\u200cهای ناصرالاسلام گیلانی ارائه می\\u200cدهد.'}]}\n"
          ]
        },
        {
          "name": "stderr",
          "output_type": "stream",
          "text": [
            "\r 29%|██▊       | 52/181 [02:07<06:02,  2.81s/it]"
          ]
        },
        {
          "name": "stdout",
          "output_type": "stream",
          "text": [
            "{'sentence': 'محمود خان شیبانی، ملقب به محاسب الممالک، از چهره\\u200cهای برجسته سیاسی دوران قاجار، در سال ۱۲۵۳ هجری شمسی در تهران چشم به جهان گشود. او که از فرزندان میرزا طاهر بصیرالملک شیبانی، مستوفی دوره ناصری بود، تحصیلاتش را در دارالفنون به پایان رساند و در ۱۸ سالگی در اداره تلگراف\\u200cخانه مشغول به کار شد. محاسب الممالک پس از سفری به اروپا و مطالعه در زمینه پست، تلگراف و تلفن، در اوایل مشروطیت به همراه چند تن دیگر شرکت تلفن ایران را تأسیس کرد و پس از آنکه دولت بر این امر نظارت یافت، همچنان از سهامداران اصلی آن باقی ماند. وی همچنین مدتی ریاست اتاق دیوان مظالم عدلیه و پیشکاری آذربایجان را بر عهده داشت. برای کسب اطلاعات بیشتر، به کتاب \"روزشمار تاریخ معاصر ایران\" نوشته حسن فراهانی مراجعه کنید.', 'Q&A': [{'question': 'چه زمانی محمود خان شیبانی در تهران متولد شد؟', 'answer': 'محمود خان شیبانی در سال ۱۲۵۳ هجری شمسی در تهران به دنیا آمد.'}, {'question': 'محمود خان شیبانی چه نقشی در تأسیس شرکت تلفن ایران داشت و چرا این اقدام مهم بود؟', 'answer': 'او از بنیان\\u200cگذاران شرکت تلفن ایران بود. این اقدام به دلیل معرفی فناوری\\u200cهای نوین ارتباطی به ایران و تسهیل ارتباطات داخلی، بسیار مهم بود.'}, {'question': 'چرا محمود خان شیبانی پس از سفر به اروپا در زمینه پست، تلگراف و تلفن مطالعه کرد؟', 'answer': 'او پس از سفر به اروپا، به منظور کسب دانش و تجربه در زمینه فناوری\\u200cهای نوین ارتباطی، مانند پست، تلگراف و تلفن، به مطالعه پرداخت.'}, {'question': 'محاسب الممالک به چه دلیل لقب \"محاسب الممالک\" را دریافت کرد؟', 'answer': 'این اطلاعات در این خلاصه وجود ندارد، اما با توجه به عنوانش، می توان حدس زد به دلیل مهارت و فعالیتش در امور مالی و حسابداری دولتی بوده است.'}, {'question': 'چگونه تحصیلات محمود خان شیبانی در دارالفنون بر فعالیت\\u200cهای بعدی او تأثیر گذاشت؟', 'answer': 'تحصیلات او در دارالفنون پایه و اساس دانش او را در حوزه\\u200cهای مختلف، از جمله دانش فنی و مهندسی، بنا نهاد که این دانش در فعالیت\\u200cهای او در زمینه تأسیس شرکت تلفن ایران و مدیریت دولتی بسیار موثر بود.'}]}\n"
          ]
        },
        {
          "name": "stderr",
          "output_type": "stream",
          "text": [
            "\r 29%|██▉       | 53/181 [02:08<05:26,  2.55s/it]"
          ]
        },
        {
          "name": "stdout",
          "output_type": "stream",
          "text": [
            "{'sentence': 'میرزا حسن مستوفی الممالک، از چهره\\u200cهای برجسته دوران قاجار، در سال ۱۲۵۰ شمسی در تهران چشم به جهان گشود. او فرزند میرزا یوسف مستوفی الممالک بود و تحصیلات خود را در تهران گذراند. مستوفی در جوانی به مقام وزارت دارایی رسید و در دوران مشروطیت نیز نقش فعالی ایفا کرد. او شش بار به مقام ریاست الوزرایی رسید که در هر دوره بنا به دلایلی از این سمت کناره\\u200cگیری می\\u200cکرد. از جمله رویدادهای مهم دوران نخست وزیری او می\\u200cتوان به اعلام بی\\u200cطرفی ایران در جنگ جهانی اول، اشغال ایران توسط متفقین، و تأسیس ذوب آهن ایران اشاره کرد. مستوفی پس از کناره\\u200cگیری از فعالیت\\u200cهای دولتی در سال ۱۳۰۶ شمسی، سرانجام در ۶ شهریور ۱۳۱۱ بر اثر سکته قلبی درگذشت. اطلاعات بیشتر در این زمینه در کتاب \"روزشمار تاریخ معاصر ایران\" نوشته حسن فراهانی آمده است.', 'Q&A': [{'question': 'میرزا حسن مستوفی الممالک در چه سالی و در کجا متولد شد؟', 'answer': 'میرزا حسن مستوفی الممالک در سال ۱۲۵۰ شمسی در تهران متولد شد.'}, {'question': 'چرا میرزا حسن مستوفی الممالک شش بار از مقام ریاست الوزرایی کناره\\u200cگیری کرد؟', 'answer': 'دلایل کناره\\u200cگیری او در هر دوره متفاوت بود، اما اشاره مستقیمی به علت خاصی در این خلاصه نشده است.'}, {'question': 'مهم\\u200cترین رویدادهای دوران نخست وزیری میرزا حسن مستوفی الممالک چه بود؟', 'answer': 'از جمله رویدادهای مهم دوران نخست وزیری او می\\u200cتوان به اعلام بی\\u200cطرفی ایران در جنگ جهانی اول، اشغال ایران توسط متفقین، و تأسیس ذوب آهن ایران اشاره کرد.'}, {'question': 'نقش میرزا حسن مستوفی الممالک در دوران مشروطیت چگونه بود؟', 'answer': 'او در دوران مشروطیت نقش فعالی ایفا کرد.'}, {'question': 'سرانجام میرزا حسن مستوفی الممالک چگونه درگذشت؟', 'answer': 'میرزا حسن مستوفی الممالک در ۶ شهریور ۱۳۱۱ بر اثر سکته قلبی درگذشت.'}]}\n"
          ]
        },
        {
          "name": "stderr",
          "output_type": "stream",
          "text": [
            "\r 30%|██▉       | 54/181 [02:10<05:04,  2.40s/it]"
          ]
        },
        {
          "name": "stdout",
          "output_type": "stream",
          "text": [
            "{'sentence': 'محمد صفی خان ناظم العلوم بختیاری، از رجال سیاسی دوران قاجار و پهلوی، در سال ۱۲۹۱ یا ۱۲۹۲ قمری پا به عرصه وجود گذاشت. او که با نام ناظم العلوم شناخته می\\u200cشد، فرزند میرزا علی خان بود و از وابستگان خاندان هدایت به شمار می\\u200cآمد. این تولد در گیلان، در شهر جیسان، رخ داد. برای کسب اطلاعات بیشتر، می\\u200cتوان به کتاب \"روزشمار تاریخ معاصر ایران\" نوشته حسن فراهانی مراجعه کرد.', 'Q&A': [{'question': 'محمد صفی خان ناظم العلوم بختیاری کی بود؟', 'answer': 'او یکی از رجال سیاسی دوران قاجار و پهلوی بود.'}, {'question': 'نام پدر محمد صفی خان ناظم العلوم چه بود و او به کدام خانواده وابسته بود؟', 'answer': 'نام پدرش میرزا علی خان بود و از وابستگان خاندان هدایت به شمار می\\u200cآمد.'}, {'question': 'محمد صفی خان ناظم العلوم در چه سالی متولد شد و این تولد در کجا رخ داد؟', 'answer': 'در سال ۱۲۹۱ یا ۱۲۹۲ قمری در شهر جیسان گیلان متولد شد.'}, {'question': 'چرا محمد صفی خان با نام ناظم العلوم شناخته می\\u200cشد؟', 'answer': '(پاسخ این سوال در متن وجود ندارد. برای پاسخ به این سوال به اطلاعات بیشتری نیاز است.)'}, {'question': 'برای کسب اطلاعات بیشتر در مورد زندگی محمد صفی خان ناظم العلوم به چه منبعی می\\u200cتوان مراجعه کرد؟', 'answer': 'می\\u200cتوان به کتاب \"روزشمار تاریخ معاصر ایران\" نوشته حسن فراهانی مراجعه کرد.'}]}\n"
          ]
        },
        {
          "name": "stderr",
          "output_type": "stream",
          "text": [
            "\r 30%|███       | 55/181 [02:13<04:53,  2.33s/it]"
          ]
        },
        {
          "name": "stdout",
          "output_type": "stream",
          "text": [
            "{'sentence': 'میرزا محمد علی خان تهرانی، از رجال سیاسی برجسته دوران قاجار، در سال ۱۲۵۴ هجری شمسی در تهران چشم به جهان گشود. او که فرزند شیخ حسن بود، با نام مستعار چاله میدانی (کاتوزیان) نیز شناخته می\\u200cشد. زادروز ایشان مصادف با حدود سال ۱۲۹۲ قمری است. برای کسب اطلاعات بیشتر در مورد این شخصیت، می\\u200cتوان به کتاب \"روزشمار تاریخ معاصر ایران\" تالیف حسن فراهانی مراجعه کرد.', 'Q&A': [{'question': 'میرزا محمد علی خان تهرانی در چه سالی و در کجا متولد شد؟', 'answer': 'میرزا محمد علی خان تهرانی در سال ۱۲۵۴ هجری شمسی در تهران به دنیا آمد.'}, {'question': 'چرا میرزا محمد علی خان تهرانی با نام مستعار \"چاله میدانی\" شناخته می\\u200cشد؟', 'answer': 'نام مستعار \"چاله میدانی\" توسط او انتخاب شده بود که بر اساس اطلاعات موجود در متن دلیل آن مشخص نشده است.'}, {'question': 'تاثیر تولد میرزا محمد علی خان تهرانی بر تاریخ ایران در دوران قاجار چه بود؟', 'answer': 'با توجه به اطلاعات ارائه شده، نمی\\u200cتوان در مورد تاثیر تولد میرزا محمد علی خان تهرانی بر تاریخ ایران اظهار نظر کرد، زیرا متن بر زندگی\\u200cنامه و تولد او تمرکز دارد.'}, {'question': 'چه کسی میرزا محمد علی خان تهرانی را به عنوان شخصیت برجسته سیاسی معرفی کرده است؟', 'answer': 'متن، میرزا محمد علی خان تهرانی را به عنوان یکی از رجال سیاسی برجسته دوران قاجار معرفی می\\u200cکند.'}, {'question': 'برای کسب اطلاعات بیشتر درباره زندگی میرزا محمد علی خان تهرانی، به کدام منبع می\\u200cتوان مراجعه کرد؟', 'answer': 'برای کسب اطلاعات بیشتر در مورد این شخصیت، می\\u200cتوان به کتاب \"روزشمار تاریخ معاصر ایران\" تالیف حسن فراهانی مراجعه کرد.'}]}\n"
          ]
        },
        {
          "name": "stderr",
          "output_type": "stream",
          "text": [
            "\r 31%|███       | 56/181 [02:15<05:06,  2.45s/it]"
          ]
        },
        {
          "name": "stdout",
          "output_type": "stream",
          "text": [
            "{'sentence': 'علی\\u200cاصغر مؤدب نفیسی، ملقب به مؤدب\\u200cالدوله، در سال ۱۲۵۴ هجری شمسی در تهران چشم به جهان گشود. او که اولین وزیر بهداری ایران بود، فرزند میرزا علی\\u200cاکبر خان ناظم\\u200cالاطباء نفیسی به شمار می\\u200cرفت. تحصیلات مقدماتی خود را در تهران به پایان رساند و سپس وارد دارالفنون شد و در رشته طب به تحصیل پرداخت. برای تکمیل تحصیلات خود، راهی بلژیک و فرانسه شد. اطلاعات بیشتری در مورد زندگی ایشان در کتاب \"روزشمار تاریخ معاصر ایران\" نوشته حسن فراهانی آمده است.', 'Q&A': [{'question': 'علی\\u200cاصغر مؤدب نفیسی، ملقب به مؤدب\\u200cالدوله، در چه سالی در تهران متولد شد؟', 'answer': 'علی\\u200cاصغر مؤدب نفیسی در سال ۱۲۵۴ هجری شمسی در تهران چشم به جهان گشود.'}, {'question': 'مؤدب\\u200cالدوله به عنوان اولین وزیر بهداری ایران، چه نقشی در تاریخ پزشکی ایران ایفا کرد؟', 'answer': 'مؤدب\\u200cالدوله با تأسیس وزارت بهداری، پایه\\u200cهای نظام بهداشتی و درمانی مدرن را در ایران بنا نهاد.'}, {'question': 'چرا علی\\u200cاصغر مؤدب نفیسی برای تکمیل تحصیلات خود به اروپا سفر کرد؟', 'answer': 'برای کسب دانش و مهارت\\u200cهای پیشرفته در رشته طب، به منظور ارتقای سطح دانش پزشکی و خدمت به مردم ایران، به بلژیک و فرانسه رفت.'}, {'question': 'چه کسی کتاب \"روزشمار تاریخ معاصر ایران\" را نوشته است و این کتاب چه اطلاعاتی را در مورد زندگی مؤدب\\u200cالدوله ارائه می\\u200cدهد؟', 'answer': 'کتاب \"روزشمار تاریخ معاصر ایران\" نوشته حسن فراهانی است و اطلاعات بیشتری در مورد زندگی علی\\u200cاصغر مؤدب نفیسی در آن یافت می\\u200cشود.'}, {'question': 'چگونه تحصیلات علی\\u200cاصغر مؤدب نفیسی در رشته طب در ایران و اروپا به پیشرفت بهداشت و درمان در کشور کمک کرد؟', 'answer': 'تحصیلات او در رشته طب، با آموزش\\u200cهای مدرن در اروپا تلفیق شد و او را به توسعه نظام بهداشتی و درمانی مدرن در ایران رهنمون کرد.'}]}\n"
          ]
        },
        {
          "name": "stderr",
          "output_type": "stream",
          "text": [
            "\r 31%|███▏      | 57/181 [02:18<05:00,  2.42s/it]"
          ]
        },
        {
          "name": "stdout",
          "output_type": "stream",
          "text": [
            "{'sentence': 'ارباب کیخسرو، نماینده زرتشتیان در مجلس شورای ملی و از رجال سیاسی برجسته دوران قاجار و پهلوی، در سال ۱۲۵۳ هجری شمسی در کرمان دیده به جهان گشود. او فرزند شاهرخ بود. برای کسب اطلاعات بیشتر، می\\u200cتوان به کتاب \"روزشمار تاریخ معاصر ایران\" نوشته حسن فراهانی مراجعه کرد.', 'Q&A': [{'question': 'ارباب کیخسرو در چه سالی و در کجا متولد شد؟', 'answer': 'ارباب کیخسرو در سال ۱۲۵۳ هجری شمسی در کرمان متولد شد.'}, {'question': 'چه نقش سیاسی مهمی ارباب کیخسرو در دوران قاجار و پهلوی داشت؟', 'answer': 'ارباب کیخسرو نماینده زرتشتیان در مجلس شورای ملی و از رجال برجسته سیاسی این دوران بود.'}, {'question': 'نام پدر ارباب کیخسرو چه بود و چرا این مسئله اهمیت دارد؟', 'answer': 'نام پدر ارباب کیخسرو شاهرخ بود. این موضوع نشان\\u200cدهنده اهمیت خانوادگی و پیشینه او در جامعه است.'}, {'question': 'چرا ارباب کیخسرو یک چهره برجسته سیاسی محسوب می\\u200cشد؟', 'answer': 'به دلیل نقش او به عنوان نماینده زرتشتیان در مجلس و حضور فعال در صحنه سیاست ایران در دو دوره قاجار و پهلوی، ارباب کیخسرو یک چهره برجسته سیاسی بود.'}, {'question': 'برای کسب اطلاعات بیشتر در مورد زندگی و فعالیت\\u200cهای ارباب کیخسرو، به چه منبعی می\\u200cتوان مراجعه کرد؟', 'answer': 'برای کسب اطلاعات بیشتر، می\\u200cتوان به کتاب \"روزشمار تاریخ معاصر ایران\" نوشته حسن فراهانی مراجعه کرد.'}]}\n"
          ]
        },
        {
          "name": "stderr",
          "output_type": "stream",
          "text": [
            "\r 32%|███▏      | 58/181 [02:20<05:01,  2.45s/it]"
          ]
        },
        {
          "name": "stdout",
          "output_type": "stream",
          "text": [
            "{'sentence': 'دکتر سید ولی الله نصر کاشی، از دولتمردان دوران قاجار، در سال ۱۲۵۵ هجری شمسی در کاشان چشم به جهان گشود. او فرزند سید احمد نصرالاطباء کاشی بود و تحصیلات ابتدایی خود را در زادگاهش به پایان رساند. در سن ۱۲ سالگی برای ادامه تحصیل راهی تهران شد و وارد مدرسه دارالفنون گردید. دکتر نصر کاشی پس از دریافت مدرک دکترا در رشته پزشکی، به طبابت مشغول شد. وی همچنین به فراگیری علوم متداوله زمان از جمله حقوق، فلسفه، حکمت، ادبیات عرب و معارف اسلامی پرداخت و در سال ۱۲۷۷ شمسی وارد خدمات دولتی شد. برای کسب اطلاعات بیشتر به کتاب \"روزشمار تاریخ معاصر ایران\" تالیف حسن فراهانی مراجعه کنید.', 'Q&A': [{'question': 'دکتر سید ولی الله نصر کاشی در چه سالی و در کجا متولد شد؟', 'answer': 'دکتر سید ولی الله نصر کاشی در سال ۱۲۵۵ هجری شمسی در کاشان به دنیا آمد.'}, {'question': 'تحصیلات دکتر نصر کاشی در مدرسه دارالفنون پس از چه مرحله\\u200cای از زندگی\\u200cاش آغاز شد؟', 'answer': 'تحصیلات دکتر نصر کاشی در مدرسه دارالفنون پس از پایان تحصیلات ابتدایی در کاشان و در سن ۱۲ سالگی آغاز شد.'}, {'question': 'چه عواملی باعث شد که دکتر نصر کاشی پس از دریافت مدرک دکترا به طبابت بپردازد؟', 'answer': 'دریافت مدرک دکترا در رشته پزشکی باعث شد که دکتر نصر کاشی به طبابت مشغول شود.'}, {'question': 'دکتر سید ولی الله نصر کاشی علاوه بر پزشکی به چه علومی نیز تسلط داشت و این دانش\\u200cها چه تاثیری بر او داشتند؟', 'answer': 'دکتر نصر کاشی علاوه بر پزشکی به علوم دیگری همچون حقوق، فلسفه، حکمت، ادبیات عرب و معارف اسلامی نیز مسلط بود. این دانش\\u200cها می\\u200cتوانستند در گسترش دیدگاه\\u200cها و فعالیت\\u200cهای او در عرصه\\u200cهای مختلف مؤثر باشند.'}, {'question': 'براساس متن، چگونه می\\u200cتوانیم اطلاعات بیشتری درباره زندگی دکتر نصر کاشی به دست آوریم؟', 'answer': 'برای کسب اطلاعات بیشتر، می\\u200cتوانیم به کتاب \"روزشمار تاریخ معاصر ایران\" تالیف حسن فراهانی مراجعه کنیم.'}]}\n"
          ]
        },
        {
          "name": "stderr",
          "output_type": "stream",
          "text": [
            "\r 33%|███▎      | 59/181 [02:22<04:48,  2.36s/it]"
          ]
        },
        {
          "name": "stdout",
          "output_type": "stream",
          "text": [
            "{'sentence': 'حسینقلی خان معاضد الملک، از رجال سیاسی برجسته، در سال ۱۲۹۳ قمری در تهران چشم به جهان گشود. او که در سال ۱۳۱۷ قمری وارد وزارت خارجه شد، فعالیت خود را با عضویت در کارگزاری بجنورد آغاز کرد. معاضد الملک در سال\\u200cهای ۱۳۲۴ و ۱۳۲۹ قمری نایب اول کارگزاری خراسان بود و در سال ۱۳۳۱ قمری ریاست تذکره خراسان را بر عهده داشت. تولد او را می\\u200cتوان در تقویم تاریخ معاصر ایران، تالیف حسن فراهانی، در جلد اول این کتاب، یافت.', 'Q&A': [{'question': 'حسینقلی خان معاضد الملک در چه سالی در تهران متولد شد؟', 'answer': 'حسینقلی خان معاضد الملک در سال ۱۲۹۳ قمری در تهران متولد شد.'}, {'question': 'فعالیت سیاسی حسینقلی خان معاضد الملک با چه سمتی آغاز شد و در کدام نهاد دولتی؟', 'answer': 'فعالیت سیاسی وی با عضویت در کارگزاری بجنورد در وزارت خارجه آغاز شد.'}, {'question': 'چرا حسینقلی خان معاضد الملک در تاریخ معاصر ایران شخصیتی مهم تلقی می\\u200cشود؟', 'answer': 'حسینقلی خان معاضد الملک از رجال برجسته سیاسی بود که در مناصب مختلفی همچون نایب اول کارگزاری خراسان و ریاست تذکره خراسان فعالیت داشت.'}, {'question': 'حسینقلی خان معاضد الملک در سال ۱۳۳۱ قمری چه منصبی داشت؟', 'answer': 'در سال ۱۳۳۱ قمری حسینقلی خان معاضد الملک ریاست تذکره خراسان را بر عهده داشت.'}, {'question': 'از کجا می توان اطلاعات بیشتری در مورد تولد حسینقلی خان معاضد الملک بدست آورد؟', 'answer': 'اطلاعات بیشتری در مورد تولد ایشان را می\\u200cتوان در جلد اول کتاب \"تقویم تاریخ معاصر ایران\" تالیف حسن فراهانی یافت.'}]}\n"
          ]
        },
        {
          "name": "stderr",
          "output_type": "stream",
          "text": [
            "\r 33%|███▎      | 60/181 [02:26<05:13,  2.59s/it]"
          ]
        },
        {
          "name": "stdout",
          "output_type": "stream",
          "text": [
            "{'sentence': 'در سال ۱۲۵۵ هجری شمسی، علی اصغر سلطان العلماء بروجردی اصفهانی در بروجرد چشم به جهان گشود. پدر ایشان، مرحوم حاج آقا محمد مهدی، از روحانیون برجسته بودند و علی اصغر نیز تحصیلات خود را تا سطح مدرس ادامه داد و به جرگه روحانیون پیوست. وی در دوره\\u200cهای سوم و چهارم مجلس شورای ملی، به نمایندگی از مردم بروجرد انتخاب شد. لازم به ذکر است که سلطان العلما با میرزا سید محمد طباطبایی از یک خاندان بودند و نسبت عموزادگی داشتند. اطلاعات بیشتر در مورد زندگی و فعالیت\\u200cهای ایشان در کتاب \"روزشمار تاریخ معاصر ایران\" تألیف حسن فراهانی آمده است.', 'Q&A': [{'question': 'علی اصغر سلطان العلماء بروجردی اصفهانی در چه سالی و در کجا متولد شد؟', 'answer': 'علی اصغر سلطان العلماء بروجردی اصفهانی در سال ۱۲۵۵ هجری شمسی در بروجرد متولد شد.'}, {'question': 'چه عاملی باعث شد علی اصغر سلطان العلماء وارد عرصه سیاست و مجلس شورای ملی شود؟', 'answer': 'علی اصغر سلطان العلماء پس از تحصیلات دینی و پیوستن به جرگه روحانیون و با توجه به احترام و نفوذ خانوادگی، به نمایندگی از مردم بروجرد در مجلس شورای ملی انتخاب شد.'}, {'question': 'دلیل اصلی اهمیت علی اصغر سلطان العلماء در تاریخ معاصر ایران چه بود؟', 'answer': 'اهمیت علی اصغر سلطان العلماء به دلیل نقش او به عنوان نماینده مردم در مجلس شورای ملی و همچنین ارتباط خانوادگی و نزدیکی با شخصیت\\u200cهای برجسته آن دوران مانند میرزا سید محمد طباطبایی، حائز اهمیت است.'}, {'question': 'تحصیلات علی اصغر سلطان العلماء تا چه سطحی بود و این امر چه تاثیری بر زندگی او داشت؟', 'answer': 'علی اصغر سلطان العلماء تحصیلات خود را تا سطح مدرس ادامه داد. این تحصیلات، او را وارد جرگه روحانیون کرد و زمینه\\u200cساز انتخاب او به عنوان نماینده مجلس شد.'}, {'question': 'کتاب \"روزشمار تاریخ معاصر ایران\" تالیف چه کسی است و چه اطلاعاتی درباره علی اصغر سلطان العلماء ارائه می\\u200cدهد؟', 'answer': 'کتاب \"روزشمار تاریخ معاصر ایران\" توسط حسن فراهانی تالیف شده است و اطلاعات بیشتری در مورد زندگی و فعالیت\\u200cهای علی اصغر سلطان العلماء در آن ارائه شده است.'}]}\n"
          ]
        },
        {
          "name": "stderr",
          "output_type": "stream",
          "text": [
            "\r 34%|███▎      | 61/181 [02:28<05:03,  2.53s/it]"
          ]
        },
        {
          "name": "stdout",
          "output_type": "stream",
          "text": [
            "{'sentence': 'خالو قربان، از کردهای هرسین و از رجال نظامی ایران، حدود سال ۱۲۹۳ قمری متولد شد. او که از مخالفان میرزا کوچک خان جنگلی به شمار می\\u200cرفت، در دره گاماسب، نزدیک بیستون کرمانشاه به دنیا آمد. بر اساس منابع تاریخی، تولد او در حدود سال ۱۸۷۶ میلادی تخمین زده می\\u200cشود. اطلاعات بیشتری در مورد زندگی و فعالیت\\u200cهای خالو قربان در کتاب \"روزشمار تاریخ معاصر ایران\" نوشته\\u200cی حسن فراهانی موجود است.', 'Q&A': [{'question': 'خالو قربان دقیقاً در چه سالی متولد شد؟', 'answer': 'بر اساس تخمین\\u200cها، خالو قربان حدود سال ۱۲۹۳ قمری یا ۱۸۷۶ میلادی متولد شد.'}, {'question': 'خالو قربان به چه دلیل از مخالفان میرزا کوچک خان جنگلی بود؟', 'answer': 'این موضوع در متن به طور مشخص ذکر نشده است، اما به عنوان یکی از رجال نظامی ایران، احتمالاً دارای دیدگاه\\u200cهای متفاوتی نسبت به میرزا کوچک خان بود.'}, {'question': 'چه چیزی باعث شهرت خالو قربان در تاریخ معاصر ایران شده است؟', 'answer': 'خالو قربان به عنوان یک چهره نظامی مخالف میرزا کوچک خان و همچنین به واسطه اطلاعات موجود در کتاب \"روزشمار تاریخ معاصر ایران\" شناخته شده است.'}, {'question': 'نویسنده و نام کتابی که اطلاعاتی درباره زندگی خالو قربان در آن موجود است، چه کسی و چه نام دارد؟', 'answer': 'حسن فراهانی نویسنده کتاب \"روزشمار تاریخ معاصر ایران\" است.'}, {'question': 'چگونه می\\u200cتوانیم اطلاعات بیشتری درباره زندگی خالو قربان کسب کنیم؟', 'answer': 'برای کسب اطلاعات بیشتر، می\\u200cتوان به کتاب \"روزشمار تاریخ معاصر ایران\" نوشته\\u200cی حسن فراهانی مراجعه کرد.'}]}\n"
          ]
        },
        {
          "name": "stderr",
          "output_type": "stream",
          "text": [
            "\r 34%|███▍      | 62/181 [02:30<04:48,  2.43s/it]"
          ]
        },
        {
          "name": "stdout",
          "output_type": "stream",
          "text": [
            "{'sentence': 'میرزا محسن معتمد التجار، نماینده تبریز در مجلس شورای ملی، در هفدهم شوال سال ۱۲۹۳ هجری قمری در تبریز چشم به جهان گشود. او فرزند حاج میرزا شفیع امین التجار اصفهانی بود که به نام آذربایجانی شهرت داشت. اطلاعات بیشتر در مورد زندگی و فعالیت\\u200cهای ایشان در کتاب \"روزشمار تاریخ معاصر ایران\" تالیف حسن فراهانی آمده است.', 'Q&A': [{'question': 'میرزا محسن معتمد التجار کی بود و چه نقشی داشت؟', 'answer': 'میرزا محسن معتمد التجار نماینده تبریز در مجلس شورای ملی بود.'}, {'question': 'میرزا محسن معتمد التجار در چه تاریخی و در کجا متولد شد؟', 'answer': 'او در هفدهم شوال سال ۱۲۹۳ هجری قمری در تبریز متولد شد.'}, {'question': 'چرا میرزا محسن معتمد التجار به نام آذربایجانی شهرت داشت؟', 'answer': 'چون او فرزند حاج میرزا شفیع امین التجار اصفهانی بود که به نام آذربایجانی شهرت داشت.'}, {'question': 'برای کسب اطلاعات بیشتر در مورد زندگی و فعالیت\\u200cهای میرزا محسن معتمد التجار، به کدام منبع باید مراجعه کرد؟', 'answer': 'برای کسب اطلاعات بیشتر می\\u200cتوان به کتاب \"روزشمار تاریخ معاصر ایران\" تالیف حسن فراهانی مراجعه کرد.'}, {'question': 'تولد میرزا محسن معتمد التجار در تبریز، به عنوان نماینده مجلس، چه تاثیری بر فضای سیاسی و اجتماعی آن زمان داشت؟', 'answer': 'به طور مستقیم در متن اشاره نشده است، اما می\\u200cتوان فرض کرد که تولد او در تبریز و فعالیت در مجلس، نشان\\u200cدهنده حضور فعال آذربایجان در تحولات سیاسی و اجتماعی آن دوران بود.'}]}\n"
          ]
        },
        {
          "name": "stderr",
          "output_type": "stream",
          "text": [
            "\r 35%|███▍      | 63/181 [02:32<04:35,  2.33s/it]"
          ]
        },
        {
          "name": "stdout",
          "output_type": "stream",
          "text": [
            "{'sentence': 'دکتر امیر اعلم، از چهره\\u200cهای برجسته علمی و سیاسی دوران قاجار و پهلوی، در سال ۱۲۵۶ هجری شمسی در تهران متولد شد. او فرزند علی\\u200cاکبرخان معتمدالوزراء بود و زندگی خود را در پایتخت آغاز کرد. اطلاعات بیشتر در مورد این شخصیت و تولدش در کتاب \"روزشمار تاریخ معاصر ایران\" نوشته حسن فراهانی، جلد دوم، صفحه ۱۱۱، موجود است.', 'Q&A': [{'question': 'دکتر امیر اعلم کی بود و چه جایگاهی در تاریخ ایران داشت؟', 'answer': 'دکتر امیر اعلم از چهره\\u200cهای برجسته علمی و سیاسی دوران قاجار و پهلوی بود.'}, {'question': 'دکتر امیر اعلم در چه سالی و در کجا متولد شد؟', 'answer': 'دکتر امیر اعلم در سال ۱۲۵۶ هجری شمسی در تهران متولد شد.'}, {'question': 'اگر بخواهیم اطلاعات بیشتری در مورد زندگی دکتر امیر اعلم کسب کنیم، به چه منبعی باید مراجعه کنیم؟', 'answer': 'برای کسب اطلاعات بیشتر، می\\u200cتوان به کتاب \"روزشمار تاریخ معاصر ایران\" نوشته حسن فراهانی، جلد دوم، صفحه ۱۱۱ مراجعه کرد.'}, {'question': 'علی\\u200cاکبرخان معتمدالوزراء چه نسبتی با دکتر امیر اعلم داشت؟', 'answer': 'علی\\u200cاکبرخان معتمدالوزراء پدر دکتر امیر اعلم بود.'}, {'question': 'تولد دکتر امیر اعلم در تهران چه اهمیتی دارد و چه چیزی را نشان می\\u200cدهد؟', 'answer': 'تولد در تهران نشان\\u200cدهنده ریشه داشتن این شخصیت در پایتخت ایران و احتمالاً دسترسی او به امکانات و فرصت\\u200cهای آموزشی و اجتماعی آن زمان است.'}]}\n"
          ]
        },
        {
          "name": "stderr",
          "output_type": "stream",
          "text": [
            "\r 35%|███▌      | 64/181 [02:35<04:49,  2.47s/it]"
          ]
        },
        {
          "name": "stdout",
          "output_type": "stream",
          "text": [
            "{'sentence': 'مجلل الدوله دولتشاهی، از اعیان و شاهزادگان قاجار و سیاستمدار برجستهٔ دوره\\u200cهای قاجار و پهلوی، در سال ۱۲۵۶ شمسی در کرمانشاه متولد شد. وی از نوادگان فتحعلیشاه قاجار و پدر همسر رضاخان بود. پس از تحصیل در فرانسه و بازگشت به ایران، در سمت\\u200cهای مختلف حکومتی خدمت کرد. با ازدواج رضاخان با دخترش عصمت\\u200cالملوک دولتشاهی در سال ۱۳۰۲ شمسی، مجلل الدوله به جمع حامیان رضاخان پیوست. پس از به سلطنت رسیدن رضاخان، در سال ۱۳۰۴ به ریاست تشریفات داخلی دربار پهلوی منصوب شد. مجلل الدوله که از قماربازان معروف بود، سرانجام در ۲ آبان ۱۳۱۱ بر اثر سکته قلبی درگذشت. گفته می\\u200cشود علت مرگ او باخت مبلغ قابل توجهی در قمار بوده است. اطلاعات بیشتر در این زمینه در کتاب \"روزشمار تاریخ معاصر ایران\" تالیف حسن فراهانی آمده است.', 'Q&A': [{'question': 'مجلل الدوله دولتشاهی در چه سالی و در کجا متولد شد؟', 'answer': 'مجلل الدوله دولتشاهی در سال ۱۲۵۶ شمسی در کرمانشاه متولد شد.'}, {'question': 'چرا مجلل الدوله دولتشاهی پس از ازدواج رضاخان با دخترش عصمت\\u200cالملوک دولتشاهی به جمع حامیان رضاخان پیوست؟', 'answer': 'مجلل الدوله به دلیل پدر همسر رضاخان بودن و همچنین منافع سیاسی حاصل از این پیوند، به جمع حامیان رضاخان پیوست.'}, {'question': 'مهمترین سمت حکومتی مجلل الدوله پس از به سلطنت رسیدن رضاخان چه بود و در چه سالی به این سمت منصوب شد؟', 'answer': 'مجلل الدوله در سال ۱۳۰۴ به ریاست تشریفات داخلی دربار پهلوی منصوب شد.'}, {'question': 'بر اساس اطلاعات ارائه شده، علت اصلی مرگ مجلل الدوله چه بود و چه نقشی در این رخداد داشت؟', 'answer': 'علت مرگ مجلل الدوله سکته قلبی بود، اما گفته می\\u200cشود که باخت مبلغ قابل توجهی در قمار در این امر تاثیر داشته است.'}, {'question': 'آیا می\\u200cتوان گفت که مجلل الدوله دولتشاهی شخصیتی با نفوذ در دوران قاجار و پهلوی بود؟ چرا؟', 'answer': 'بله، می\\u200cتوان گفت مجلل الدوله دولتشاهی شخصیتی با نفوذ بود، زیرا او از اعیان و شاهزادگان قاجار، پدر همسر رضاخان، و فردی بود که در سمت\\u200cهای حکومتی مهمی در دوره پهلوی خدمت می\\u200cکرد.'}]}\n"
          ]
        },
        {
          "name": "stderr",
          "output_type": "stream",
          "text": [
            "\r 36%|███▌      | 65/181 [02:38<05:01,  2.60s/it]"
          ]
        },
        {
          "name": "stdout",
          "output_type": "stream",
          "text": [
            "{'sentence': 'سید عبدالوهاب صالح ضیابری، از علمای مبارز و مشروطه خواه، در سال ۱۲۹۴ قمری در روستای ضیابر گیلان متولد شد. او که فرزند سید صالح مجتهد ضیابری بود، مقدمات علوم دینی را در زادگاهش فراگرفت و سپس برای ادامه تحصیل به نجف عزیمت کرد، جایی که از محضر علمای بزرگی همچون آخوند ملا محمد کاظم خراسانی بهره\\u200cمند شد. پس از کسب مقام اجتهاد، سید عبدالوهاب به رشت بازگشت و به تدریس فقه و اصول پرداخت. او در دوران نهضت مشروطیت به صف مشروطه خواهان پیوست و پس از صدور فرمان مشروطیت، عضو انجمن ایالتی گیلان شد. در دوران استبداد صغیر، به دستور محمدعلی شاه به خراسان تبعید شد، اما پس از آن، به ریاست انجمن گیلان منصوب گردید. اطلاعات بیشتر در این باره را می توان در کتاب \"روزشمار تاریخ معاصر ایران\" اثر حسن فراهانی یافت.', 'Q&A': [{'question': 'سید عبدالوهاب صالح ضیابری در چه سالی و در کجا به دنیا آمد؟', 'answer': 'سید عبدالوهاب صالح ضیابری در سال ۱۲۹۴ قمری در روستای ضیابر گیلان متولد شد.'}, {'question': 'تحصیلات سید عبدالوهاب ضیابری در نجف چگونه بر شکل گیری دیدگاه های او تأثیر گذاشت؟', 'answer': 'تحصیل در نجف و بهره مندی از محضر علمای بزرگی همچون آخوند ملا محمد کاظم خراسانی، باعث شد تا سید عبدالوهاب به تفکر مشروطه خواهی گرایش پیدا کند و در دوران نهضت مشروطیت به صف مشروطه خواهان بپیوندد.'}, {'question': 'چرا سید عبدالوهاب ضیابری در دوران استبداد صغیر به خراسان تبعید شد؟', 'answer': 'به دستور محمدعلی شاه، سید عبدالوهاب ضیابری در دوران استبداد صغیر به خراسان تبعید شد.'}, {'question': 'پس از کسب مقام اجتهاد، سید عبدالوهاب ضیابری به چه فعالیت هایی مشغول شد؟', 'answer': 'پس از کسب مقام اجتهاد، سید عبدالوهاب به رشت بازگشت و به تدریس فقه و اصول پرداخت و در دوران نهضت مشروطیت فعالیت های سیاسی داشت.'}, {'question': 'اهمیت عضویت سید عبدالوهاب ضیابری در انجمن ایالتی گیلان چه بود و این نشان دهنده چه چیزی است؟', 'answer': 'عضویت سید عبدالوهاب ضیابری در انجمن ایالتی گیلان نشان دهنده مشارکت فعال او در تحولات سیاسی و اجتماعی دوران مشروطیت و همچنین اعتماد مردم به وی به عنوان یک شخصیت تاثیرگذار بود.'}]}\n"
          ]
        },
        {
          "name": "stderr",
          "output_type": "stream",
          "text": [
            "\r 36%|███▋      | 66/181 [02:40<04:40,  2.44s/it]"
          ]
        },
        {
          "name": "stdout",
          "output_type": "stream",
          "text": [
            "{'sentence': 'رضاخان، که بعدها به رضا شاه پهلوی اول شهرت یافت، در سال ۱۲۵۶ هجری شمسی در روستای آلاشت سوادکوه مازندران چشم به جهان گشود. او فرزند عباسعلی خان، از افسران هنگ سوادکوه، و نوش\\u200cآفرین، از مهاجران مسلمان گرجی بود. رضاخان در یک خانواده نظامی متولد شد و در سن ۱۴ سالگی، به کمک دایی\\u200cاش وارد بریگاد قزاق شد. اطلاعات بیشتر در خصوص این واقعه در کتاب \"روزشمار تاریخ معاصر ایران\" نوشته حسن فراهانی، موجود است.', 'Q&A': [{'question': 'رضاخان در چه سالی و در کجا متولد شد؟', 'answer': 'رضاخان در سال ۱۲۵۶ هجری شمسی در روستای آلاشت سوادکوه مازندران متولد شد.'}, {'question': 'نام پدر و مادر رضاخان چه بود و ریشه\\u200cهای قومیتی آن\\u200cها به کجا بازمی\\u200cگشت؟', 'answer': 'پدر رضاخان عباسعلی خان از افسران هنگ سوادکوه بود و مادرش نوش\\u200cآفرین، از مهاجران مسلمان گرجی بود.'}, {'question': 'چه عاملی سبب شد رضاخان در سن ۱۴ سالگی وارد بریگاد قزاق شود؟', 'answer': 'رضاخان به کمک دایی\\u200cاش در سن ۱۴ سالگی وارد بریگاد قزاق شد.'}, {'question': 'تولد رضاخان در یک خانواده نظامی چه تأثیری بر آینده او داشت؟', 'answer': 'تولد در یک خانواده نظامی، مسیری را برای ورود رضاخان به ارتش و فعالیت\\u200cهای نظامی هموار کرد.'}, {'question': 'برای کسب اطلاعات بیشتر درباره زندگی رضاخان، به چه منبعی می\\u200cتوان مراجعه کرد؟', 'answer': 'برای کسب اطلاعات بیشتر درباره زندگی رضاخان، می\\u200cتوان به کتاب \"روزشمار تاریخ معاصر ایران\" نوشته حسن فراهانی مراجعه کرد.'}]}\n"
          ]
        },
        {
          "name": "stderr",
          "output_type": "stream",
          "text": [
            "\r 37%|███▋      | 67/181 [02:42<04:34,  2.41s/it]"
          ]
        },
        {
          "name": "stdout",
          "output_type": "stream",
          "text": [
            "{'sentence': 'حبیب\\u200cالله عین\\u200cالملک (آل رضا، هویدا)، از چهره\\u200cهای سرشناس بهائی ایران، در سال ۱۲۹۴ قمری در شیراز به دنیا آمد. او فرزند میرزا رضا خان قناد بود و به واسطه خدماتش، مورد توجه و محبت عباس افندی قرار داشت. عباس افندی در نامه\\u200cای از دوستان خود خواست تا برای حبیب\\u200cالله شغلی فراهم کنند. در پی این توصیه، حبیب\\u200cالله به سمت معاونت حکومت لاهیجان منصوب شد. اطلاعات بیشتری درباره زندگی و فعالیت\\u200cهای وی در کتاب \"روزشمار تاریخ معاصر ایران\" اثر حسن فراهانی آمده است.', 'Q&A': [{'question': 'حبیب\\u200cالله عین\\u200cالملک (آل رضا، هویدا) در چه سالی و در کجا متولد شد؟', 'answer': 'حبیب\\u200cالله عین\\u200cالملک در سال ۱۲۹۴ قمری در شیراز به دنیا آمد.'}, {'question': 'چرا عباس افندی به دوستان خود توصیه کرد که برای حبیب\\u200cالله شغلی فراهم کنند؟', 'answer': 'به واسطه خدمات حبیب\\u200cالله، او مورد توجه و محبت عباس افندی قرار داشت.'}, {'question': 'سمت حبیب\\u200cالله عین\\u200cالملک پس از توصیه عباس افندی چه بود و در کجا منصوب شد؟', 'answer': 'حبیب\\u200cالله به سمت معاونت حکومت لاهیجان منصوب شد.'}, {'question': 'منبع اصلی اطلاعات درباره زندگی و فعالیت\\u200cهای حبیب\\u200cالله عین\\u200cالملک چیست؟', 'answer': 'اطلاعات بیشتر درباره زندگی و فعالیت\\u200cهای وی در کتاب \"روزشمار تاریخ معاصر ایران\" اثر حسن فراهانی آمده است.'}, {'question': 'با توجه به توجه عباس افندی به حبیب\\u200cالله، چه می\\u200cتوان درباره جایگاه و تأثیر وی در آن زمان استنباط کرد؟', 'answer': 'با توجه به این توجه، می\\u200cتوان استنباط کرد که حبیب\\u200cالله دارای مقام و منزلت خوبی بوده و خدماتش ارزشمند تلقی می\\u200cشده است.'}]}\n"
          ]
        },
        {
          "name": "stderr",
          "output_type": "stream",
          "text": [
            "\r 38%|███▊      | 68/181 [02:45<04:37,  2.45s/it]"
          ]
        },
        {
          "name": "stdout",
          "output_type": "stream",
          "text": [
            "{'sentence': 'حاجی محمد تقی بنکدار، معروف به سفارتی، از رجال سیاسی دوره قاجار، حدود سال ۱۲۵۶ هجری شمسی در تهران متولد شد. او که اصالتاً اهل کاشان بود، سال\\u200cها در تهران سکونت داشت. در سال ۱۳۲۳ شمسی، در حالی که عده\\u200cای از مردم تهران در سفارت انگلیس تحصن کرده بودند، حاج محمد تقی به همراه برادرش، حاج حسن، نظارت بر این تحصن را بر عهده گرفت و هزینه\\u200cهای متحصنین را تأمین می\\u200cکرد. به همین دلیل، به حاج سفارتی شهرت یافت. او همچنین در دوره اول مجلس شورای ملی، از سوی بازاریان تهران به عنوان وکیل انتخاب شد. برای کسب اطلاعات بیشتر، می\\u200cتوانید به کتاب \"روزشمار تاریخ معاصر ایران\" نوشته حسن فراهانی مراجعه کنید.', 'Q&A': [{'question': 'حاج محمد تقی بنکدار، که بود و در چه دوره\\u200cای زندگی می\\u200cکرد؟', 'answer': 'حاج محمد تقی بنکدار، از رجال سیاسی دوره قاجار بود که حدود سال ۱۲۵۶ هجری شمسی در تهران متولد شد و در دوره مشروطه فعال بود.'}, {'question': 'چرا حاج محمد تقی به «حاج سفارتی» شهرت یافت؟', 'answer': 'به دلیل نظارت بر تحصن مردم در سفارت انگلیس و تأمین هزینه\\u200cهای متحصنین، به این نام شهرت یافت.'}, {'question': 'تحصن در سفارت انگلیس در چه سالی و با چه هدفی رخ داد؟', 'answer': 'تحصن در سال ۱۳۲۳ هجری شمسی در سفارت انگلیس انجام شد؛ هدف مشخصی در متن نیامده اما احتمالاً اعتراض یا مطالبه\\u200cای از حکومت یا سفارت بود.'}, {'question': 'حاج محمد تقی بنکدار در مجلس شورای ملی چه سمتی داشت؟', 'answer': 'او از سوی بازاریان تهران به عنوان وکیل در دوره اول مجلس شورای ملی انتخاب شد.'}, {'question': 'اهمیت فعالیت\\u200cهای حاج محمد تقی در تاریخ ایران چه بود؟', 'answer': 'فعالیت\\u200cهای او نشان دهنده نقش فعال مردم و تجار در تحولات سیاسی آن دوره و حمایت از جنبش مشروطه است.'}]}\n"
          ]
        },
        {
          "name": "stderr",
          "output_type": "stream",
          "text": [
            "\r 38%|███▊      | 69/181 [02:47<04:12,  2.25s/it]"
          ]
        },
        {
          "name": "stdout",
          "output_type": "stream",
          "text": [
            "{'sentence': 'متاسفانه اطلاعات دقیقی در مورد تاریخ تولد یا فعالیت\\u200cهای میرزا محمد آقازاده خراسانی در این منبع وجود ندارد. آنچه مشخص است، این است که اطلاعات موجود به آذربایجان غربی اشاره دارد، اما سال\\u200cهای شروع و پایان فعالیت ایشان نامشخص است. برای کسب اطلاعات بیشتر، می\\u200cتوان به منبع \"روزشمار تاریخ معاصر ایران\" اثر حسن فراهانی مراجعه کرد.', 'Q&A': [{'question': 'میرزا محمد آقازاده خراسانی چه شخصیتی بود؟', 'answer': 'اطلاعات دقیقی در مورد شخصیت ایشان در این منبع وجود ندارد.'}, {'question': 'اطلاعات موجود در مورد میرزا محمد آقازاده خراسانی به کدام منطقه اشاره دارد؟', 'answer': 'اطلاعات موجود به آذربایجان غربی اشاره دارد.'}, {'question': 'چرا سال\\u200cهای فعالیت میرزا محمد آقازاده خراسانی نامشخص است؟', 'answer': 'متاسفانه، منبع مورد نظر اطلاعات دقیقی در این مورد ارائه نمی\\u200cدهد.'}, {'question': 'برای کسب اطلاعات بیشتر در مورد میرزا محمد آقازاده خراسانی به کدام منبع می\\u200cتوان مراجعه کرد؟', 'answer': 'می\\u200cتوان به منبع \"روزشمار تاریخ معاصر ایران\" اثر حسن فراهانی مراجعه کرد.'}, {'question': 'اهمیت عدم وجود اطلاعات دقیق در مورد تاریخ و فعالیت\\u200cهای میرزا محمد آقازاده خراسانی چیست؟', 'answer': 'این موضوع نشان می\\u200cدهد که تحقیقات و بررسی\\u200cهای بیشتری در مورد این شخصیت تاریخی لازم است.'}]}\n"
          ]
        },
        {
          "name": "stderr",
          "output_type": "stream",
          "text": [
            "\r 39%|███▊      | 70/181 [02:49<04:03,  2.19s/it]"
          ]
        },
        {
          "name": "stdout",
          "output_type": "stream",
          "text": [
            "{'sentence': 'علی پرتو، ملقب به حکیم اعظم، از رجال سیاسی دوران قاجار و پهلوی، در سال ۱۲۵۶ هجری شمسی در تهران چشم به جهان گشود. او فرزند حاج ابوالقاسم بود. این شخصیت برجسته، اطلاعات بیشتری درباره\\u200cاش در کتاب \"روزشمار تاریخ معاصر ایران\" اثر حسن فراهانی، جلد اول، صفحه ۲۰۴ آمده است.', 'Q&A': [{'question': 'حکیم اعظم کی بود و در چه دورانی فعالیت می کرد؟', 'answer': 'حکیم اعظم، از رجال سیاسی دوران قاجار و پهلوی بود.'}, {'question': 'تاریخ تولد حکیم اعظم چه زمانی بود و کجا متولد شد؟', 'answer': 'حکیم اعظم در سال ۱۲۵۶ هجری شمسی در تهران متولد شد.'}, {'question': 'نام پدر حکیم اعظم چه بود؟', 'answer': 'پدر حکیم اعظم حاج ابوالقاسم نام داشت.'}, {'question': 'برای کسب اطلاعات بیشتر درباره\\u200cی حکیم اعظم، به کدام کتاب و صفحه مراجعه کنیم؟', 'answer': 'اطلاعات بیشتر درباره\\u200cی حکیم اعظم در کتاب \"روزشمار تاریخ معاصر ایران\" اثر حسن فراهانی، جلد اول، صفحه ۲۰۴ آمده است.'}, {'question': 'اهمیت حکیم اعظم در تاریخ ایران چه بود؟', 'answer': 'با توجه به اینکه ایشان از رجال سیاسی دو دوره مهم تاریخی ایران (قاجار و پهلوی) بودند، مطالعه\\u200cی زندگی و فعالیت\\u200cهای ایشان می\\u200cتواند در فهم بهتر تاریخ معاصر ایران مؤثر باشد.'}]}\n"
          ]
        },
        {
          "name": "stderr",
          "output_type": "stream",
          "text": [
            "\r 39%|███▉      | 71/181 [02:51<03:53,  2.13s/it]"
          ]
        },
        {
          "name": "stdout",
          "output_type": "stream",
          "text": [
            "{'sentence': 'میرزا محمد خراسانی، مشهور به محمد نجات، از علمای سیاسی و نمایندگان مجلس شورای ملی، در سال ۱۲۵۶ شمسی در مشهد چشم به جهان گشود. او که فرزند عبد الکریم ملک التجار خراسانی بود، تحصیلات خود را در مشهد و نجف اشرف به اتمام رساند. نجات پس از صدور فرمان مشروطیت، روزنامه \"حقوق\" را منتشر کرد که تریبونی برای بیان افکار مشروطه خواهان بود. او در زمان محمدعلی شاه مدتی را در زندان سپری کرد و پس از فتح تهران، به عضویت دادگاه انقلاب درآمد که حکم اعدام برخی از جمله شیخ فضل الله نوری را صادر کرد. نجات در دوره\\u200cهای اول تا پنجم مجلس شورای ملی به نمایندگی از آذربایجان، خراسان، مازندران، زنجان و قاینات انتخاب شد. وی همچنین از مؤسسان حزب دموکرات بود و روزنامه \"نجات\" را منتشر می\\u200cکرد که پس از دو سال به دلیل تندروی توقیف شد. سرانجام، محمد نجات در سال ۱۳۱۲ شمسی درگذشت و در امامزاده عبدالله در شهر ری به خاک سپرده شد. برای کسب اطلاعات بیشتر، می\\u200cتوان به کتاب \"روزشمار تاریخ معاصر ایران\" اثر حسن فراهانی مراجعه کرد.', 'Q&A': [{'question': 'میرزا محمد خراسانی با چه نامی مشهور بود؟', 'answer': 'میرزا محمد خراسانی با نام محمد نجات مشهور بود.'}, {'question': 'چه عواملی باعث شد روزنامه \"نجات\" پس از دو سال توقیف شود؟', 'answer': 'روزنامه \"نجات\" به دلیل تندروی در بیان عقایدش توقیف شد.'}, {'question': 'محمد نجات در کدام دوره ها از مجلس شورای ملی به نمایندگی انتخاب شد؟', 'answer': 'محمد نجات در دوره\\u200cهای اول تا پنجم مجلس شورای ملی به نمایندگی از آذربایجان، خراسان، مازندران، زنجان و قاینات انتخاب شد.'}, {'question': 'چرا محمد نجات در دادگاه انقلاب پس از فتح تهران شرکت کرد؟', 'answer': 'محمد نجات پس از فتح تهران به دلیل علاقه به پیشبرد اهداف انقلاب و استقرار عدالت، در دادگاه انقلاب شرکت کرد.'}, {'question': 'سرانجام، محمد نجات در چه سالی و در کجا به خاک سپرده شد؟', 'answer': 'محمد نجات در سال ۱۳۱۲ شمسی درگذشت و در امامزاده عبدالله در شهر ری به خاک سپرده شد.'}]}\n"
          ]
        },
        {
          "name": "stderr",
          "output_type": "stream",
          "text": [
            "\r 40%|███▉      | 72/181 [02:53<03:48,  2.10s/it]"
          ]
        },
        {
          "name": "stdout",
          "output_type": "stream",
          "text": [
            "{'sentence': 'مهدی دادور، مشهور به وثوق السلطنه، در سال ۱۲۵۷ شمسی (۱۲۹۵ قمری) متولد شد. او که فرزند میرزا موسی وزیر لشکر بود، تحصیلات خود را در تهران به پایان رساند و در مناصب مختلفی از جمله ریاست محاسبات کل قشون و معاونت وزارت جنگ خدمت کرد. وثوق السلطنه در کابینه مشیرالدوله به مقام وزارت جنگ رسید، اما پس از کودتای ۱۲۹۹ دستگیر شد. پس از آزادی، مدتی حاکم رشت و سپس والی گیلان شد، اما با دخالت روس\\u200cها از این سمت عزل گردید. وی در ادامه، والی فارس، کرمان و خراسان نیز بود. وثوق السلطنه در دوره\\u200cهای هشتم تا سیزدهم مجلس شورای ملی نماینده تهران بود و در برخی از مجالس به عنوان نایب رئیس انتخاب شد. سرانجام، او در سال ۱۳۲۳ استاندار فارس و سپس آذربایجان شد و در ۲۶ مرداد ۱۳۲۶ در تهران درگذشت. اطلاعات بیشتر درباره زندگی او در کتاب \"روز شمار تاریخ معاصر ایران\" اثر حسن فراهانی یافت می\\u200cشود.', 'Q&A': [{'question': 'وثوق السلطنه در چه سالی و در کجا متولد شد؟', 'answer': 'وثوق السلطنه در سال ۱۲۵۷ شمسی (۱۲۹۵ قمری) در تهران متولد شد.'}, {'question': 'چه عواملی باعث شد وثوق السلطنه از مقام والی گیلان عزل شود؟', 'answer': 'دخالت روس\\u200cها دلیل عزل وثوق السلطنه از مقام والی گیلان بود.'}, {'question': 'وثوق السلطنه قبل از مرگش چه سمت\\u200cهایی داشت و در کدام سال درگذشت؟', 'answer': 'وثوق السلطنه قبل از مرگش استاندار فارس و سپس آذربایجان بود. او در سال ۱۳۲۶ شمسی درگذشت.'}, {'question': 'وثوق السلطنه چه نقش مهمی در سیاست ایران داشت؟', 'answer': 'وثوق السلطنه در دوره\\u200cهای هشتم تا سیزدهم مجلس شورای ملی نماینده تهران بود و در برخی از مجالس به عنوان نایب رئیس انتخاب شد.'}, {'question': 'کتاب \"روز شمار تاریخ معاصر ایران\" اثر حسن فراهانی چه اطلاعاتی را در مورد وثوق السلطنه ارائه می\\u200cدهد؟', 'answer': 'این کتاب اطلاعات بیشتری درباره زندگی وثوق السلطنه ارائه می\\u200cدهد.'}]}\n"
          ]
        },
        {
          "name": "stderr",
          "output_type": "stream",
          "text": [
            "\r 40%|████      | 73/181 [02:55<03:59,  2.22s/it]"
          ]
        },
        {
          "name": "stdout",
          "output_type": "stream",
          "text": [
            "{'sentence': 'اسماعیل ممتاز الدوله، از رجال سیاسی دوران قاجار، در تبریز چشم به جهان گشود. بنا بر روایت های مختلف، تولد وی در دهم ذی\\u200cالحجه سال ۱۲۸۹ هجری قمری بوده است، اگرچه سال\\u200cهای ۱۲۸۵ و ۱۲۹۵ هجری قمری نیز به عنوان سال تولد او ذکر شده\\u200cاند. ممتاز الدوله، فرزند مکرم السلطنه تبریزی بود. برای کسب اطلاعات بیشتر در مورد زندگی و فعالیت\\u200cهای او، می\\u200cتوانید به کتاب \"روزشمار تاریخ معاصر ایران\" اثر حسن فراهانی مراجعه کنید.', 'Q&A': [{'question': 'اسماعیل ممتاز الدوله در چه شهری متولد شد؟', 'answer': 'اسماعیل ممتاز الدوله در تبریز متولد شد.'}, {'question': 'بنا به روایت های مختلف، تاریخ تولد اسماعیل ممتاز الدوله چه زمانی بوده است؟', 'answer': 'بر اساس روایت های مختلف، تاریخ تولد او در دهم ذی\\u200cالحجه سال ۱۲۸۹ هجری قمری بوده است، اما سال\\u200cهای ۱۲۸۵ و ۱۲۹۵ هجری قمری نیز به عنوان تاریخ تولد وی ذکر شده اند.'}, {'question': 'اسماعیل ممتاز الدوله چه نسبی داشت؟', 'answer': 'ممتاز الدوله فرزند مکرم السلطنه تبریزی بود.'}, {'question': 'برای کسب اطلاعات بیشتر درباره زندگی و فعالیت\\u200cهای اسماعیل ممتاز الدوله به چه منبعی می\\u200cتوان مراجعه کرد؟', 'answer': 'برای کسب اطلاعات بیشتر در مورد زندگی و فعالیت\\u200cهای او، می\\u200cتوان به کتاب \"روزشمار تاریخ معاصر ایران\" اثر حسن فراهانی مراجعه کرد.'}, {'question': 'اهمیت دانستن تاریخ تولد دقیق اسماعیل ممتاز الدوله چیست، با وجود اختلاف نظر در این مورد؟', 'answer': 'دانستن تاریخ تولد دقیق اشخاص تاریخی، به ما در درک بهتر جدول زمانی زندگی آن\\u200cها و قرار دادن فعالیت\\u200cهایشان در بستر تاریخی صحیح کمک می\\u200cکند، با اینکه در این مورد اختلاف نظر وجود دارد، اما اطلاعاتی که ارائه شده\\u200cاند همچنان برای پژوهشگر مهم هستند.'}]}\n"
          ]
        },
        {
          "name": "stderr",
          "output_type": "stream",
          "text": [
            "\r 41%|████      | 74/181 [02:57<03:51,  2.17s/it]"
          ]
        },
        {
          "name": "stdout",
          "output_type": "stream",
          "text": [
            "{'sentence': 'سید محمد علی داعی الاسلام، ادیب، پژوهشگر و فرهنگ\\u200cنویس نامدار ایرانی، در سال ۱۲۹۵ قمری در روستای نیارک لاریجان، از توابع تهران، چشم به جهان گشود. پدر وی، سید حسن، بود. او تحصیلات مقدماتی خود را در آمل و تهران به اتمام رساند و سپس در سال ۱۳۱۶ قمری برای ادامه تحصیلات به اصفهان رفت، جایی که به فراگیری فقه، اصول و حکمت پرداخت. داعی الاسلام علاوه بر این علوم، به زبان انگلیسی نیز تسلط یافت و در رشته زبان\\u200cشناسی شرق دانش فراوانی کسب کرد و زبان\\u200cهای اوستایی و سانسکریت را نیز آموخت. اطلاعات بیشتر در خصوص زندگی این عالم بزرگ در کتاب \"روزشمار تاریخ معاصر ایران\" اثر حسن فراهانی آمده است.', 'Q&A': [{'question': 'سید محمد علی داعی الاسلام در چه سالی و در کجا متولد شد؟', 'answer': 'سید محمد علی داعی الاسلام در سال ۱۲۹۵ قمری در روستای نیارک لاریجان، از توابع تهران، متولد شد.'}, {'question': 'تحصیلات عالیه سید محمد علی داعی الاسلام در چه زمینه\\u200cای و در کدام شهر انجام شد؟', 'answer': 'وی در اصفهان به فراگیری فقه، اصول و حکمت پرداخت و همچنین به زبان انگلیسی مسلط شد و در رشته زبان\\u200cشناسی شرق دانش فراوانی کسب کرد.'}, {'question': 'چرا سید محمد علی داعی الاسلام به اصفهان رفت؟', 'answer': 'وی برای ادامه تحصیلات به اصفهان رفت و در آنجا به تحصیل در علوم مختلف پرداخت.'}, {'question': 'مهم\\u200cترین دستاورد سید محمد علی داعی الاسلام در زمینه فرهنگ و زبان\\u200cشناسی چه بود؟', 'answer': 'تسلط بر زبان انگلیسی، کسب دانش در رشته زبان\\u200cشناسی شرق و یادگیری زبان\\u200cهای اوستایی و سانسکریت از مهم\\u200cترین دستاوردهای او در این زمینه\\u200cها بود.'}, {'question': 'برای کسب اطلاعات بیشتر در مورد زندگی سید محمد علی داعی الاسلام، به کدام منبع باید مراجعه کرد؟', 'answer': 'اطلاعات بیشتر در خصوص زندگی این عالم بزرگ در کتاب \"روزشمار تاریخ معاصر ایران\" اثر حسن فراهانی آمده است.'}]}\n"
          ]
        },
        {
          "name": "stderr",
          "output_type": "stream",
          "text": [
            "\r 41%|████▏     | 75/181 [02:59<03:39,  2.07s/it]"
          ]
        },
        {
          "name": "stdout",
          "output_type": "stream",
          "text": [
            "{'sentence': 'متاسفانه، اطلاعات دقیقی در مورد تاریخ تولد دکتر محمدحسین لقمان در این منبع وجود ندارد. با این حال، بر اساس داده\\u200cهای موجود، ایشان در تهران به دنیا آمدند. برای کسب اطلاعات بیشتر در این زمینه، می\\u200cتوان به کتابی با عنوان \"، ج ، ص\" اثر حسن فراهانی که در سال ۱۳۸۵ منتشر شده است، مراجعه کرد.', 'Q&A': [{'question': 'دکتر محمدحسین لقمان در کجا متولد شد؟', 'answer': 'دکتر محمدحسین لقمان در تهران متولد شد.'}, {'question': 'برای کسب اطلاعات بیشتر درباره تاریخ تولد دکتر محمدحسین لقمان به کدام منبع می توان مراجعه کرد؟', 'answer': 'برای اطلاعات بیشتر می\\u200cتوان به کتاب \"، ج ، ص\" اثر حسن فراهانی که در سال ۱۳۸۵ منتشر شده است، مراجعه کرد.'}, {'question': 'چه زمانی کتاب \"، ج ، ص\" اثر حسن فراهانی منتشر شد؟', 'answer': 'کتاب \"، ج ، ص\" اثر حسن فراهانی در سال ۱۳۸۵ منتشر شد.'}, {'question': 'چرا تاریخ دقیق تولد دکتر محمدحسین لقمان در این منبع مشخص نیست؟', 'answer': 'متاسفانه، اطلاعات دقیقی در مورد تاریخ تولد دکتر محمدحسین لقمان در این منبع وجود ندارد.'}, {'question': 'با توجه به اطلاعات موجود، چه چیزی در مورد دکتر محمدحسین لقمان می توان گفت؟', 'answer': 'با توجه به اطلاعات موجود، دکتر محمدحسین لقمان در تهران به دنیا آمده و برای کسب اطلاعات بیشتر در مورد تاریخ تولد ایشان، باید به کتاب حسن فراهانی مراجعه کرد.'}]}\n"
          ]
        },
        {
          "name": "stderr",
          "output_type": "stream",
          "text": [
            "\r 42%|████▏     | 76/181 [03:02<03:59,  2.28s/it]"
          ]
        },
        {
          "name": "stdout",
          "output_type": "stream",
          "text": [
            "{'sentence': 'متاسفانه اطلاعات دقیقی در مورد این رویداد در دسترس نیست. بر اساس پایگاه جامع تاریخ، تولد محمدعلی بامداد در آذربایجان غربی رخ داده است. اطلاعات بیشتر در کتاب \"روزشمار تاریخ معاصر ایران\" نوشته حسن فراهانی آمده است، اما جزئیات بیشتری در مورد تاریخ تولد یا مکان دقیق آن در این منبع ذکر نشده است.', 'Q&A': [{'question': 'محمدعلی بامداد کیست و چه نقشی در تاریخ ایران داشته است؟', 'answer': 'با توجه به اطلاعات موجود، محمدعلی بامداد یک شخصیت تاریخی ایرانی است که در آذربایجان غربی متولد شده است. اطلاعات بیشتری در مورد نقش دقیق او در تاریخ در دسترس نیست.'}, {'question': 'اطلاعات مربوط به تولد محمدعلی بامداد در چه منبعی یافت می\\u200cشود؟', 'answer': 'اطلاعات مربوط به تولد محمدعلی بامداد در پایگاه جامع تاریخ و همچنین کتاب \"روزشمار تاریخ معاصر ایران\" نوشته حسن فراهانی موجود است.'}, {'question': 'چرا تاریخ دقیق تولد محمدعلی بامداد در منابع موجود ذکر نشده است؟', 'answer': 'متاسفانه، به دلیل محدودیت\\u200cهای اطلاعاتی در منابع موجود، تاریخ دقیق تولد محمدعلی بامداد مشخص نشده است.'}, {'question': 'بر اساس اطلاعات موجود، زادگاه محمدعلی بامداد کجاست و این موضوع چه اهمیتی دارد؟', 'answer': 'بر اساس داده\\u200cها، زادگاه محمدعلی بامداد آذربایجان غربی است. این موضوع می\\u200cتواند نشان\\u200cدهنده ریشه\\u200cهای منطقه\\u200cای او و احتمالا تأثیر فرهنگ آذربایجان در زندگی او باشد.'}, {'question': 'اگر بخواهیم اطلاعات بیشتری در مورد محمدعلی بامداد کسب کنیم، چگونه می\\u200cتوانیم این کار را انجام دهیم؟', 'answer': 'برای کسب اطلاعات بیشتر، می\\u200cتوانید به کتاب \"روزشمار تاریخ معاصر ایران\" نوشته حسن فراهانی مراجعه کنید و همچنین، تلاش برای یافتن منابع تاریخی دیگر یا جستجو در پایگاه\\u200cهای اطلاعاتی تخصصی در مورد تاریخ ایران پیشنهاد می\\u200cشود.'}]}\n"
          ]
        },
        {
          "name": "stderr",
          "output_type": "stream",
          "text": [
            "\r 43%|████▎     | 77/181 [03:04<03:41,  2.13s/it]"
          ]
        },
        {
          "name": "stdout",
          "output_type": "stream",
          "text": [
            "{'sentence': 'متاسفانه، اطلاعات کافی برای نوشتن یک پاراگراف کامل و جامع در مورد این رویداد در دسترس نیست. داده\\u200cهای ورودی شامل عنوان و توضیحات خالی هستند، و تاریخ\\u200cهای شروع و پایان نیز مشخص نشده\\u200cاند. با این حال، بر اساس داده\\u200cهای موجود، می\\u200cتوان گفت این رویداد به استان آذربایجان غربی مربوط می\\u200cشود. اطلاعات تکمیلی در مورد این رخداد را می\\u200cتوان در کتاب «روزشمار تاریخ معاصر ایران» نوشته\\u200cی حسن فراهانی یافت. برای کسب اطلاعات بیشتر، لطفاً به منبع اصلی، پایگاه جامع تاریخ مراجعه کنید.', 'Q&A': [{'question': 'عنوان این رویداد تاریخی چه می باشد؟', 'answer': 'متاسفانه، عنوان این رویداد در اطلاعات موجود ذکر نشده است.'}, {'question': 'این رویداد در چه زمانی اتفاق افتاده است؟', 'answer': 'تاریخ شروع و پایان این رویداد مشخص نیست.'}, {'question': 'به نظر شما، چرا اطلاعات دقیقی در مورد این رویداد در دسترس نیست؟', 'answer': 'احتمالا به دلیل کمبود منابع تاریخی یا عدم ثبت دقیق وقایع در زمان وقوع رویداد.'}, {'question': 'این رویداد به کدام استان ایران مربوط می شود؟', 'answer': 'این رویداد به استان آذربایجان غربی مربوط می شود.'}, {'question': 'برای کسب اطلاعات بیشتر در مورد این رویداد، به کدام منبع مراجعه کنیم؟', 'answer': 'می توانید به کتاب «روزشمار تاریخ معاصر ایران» نوشته\\u200cی حسن فراهانی و همچنین پایگاه جامع تاریخ مراجعه کنید.'}]}\n"
          ]
        },
        {
          "name": "stderr",
          "output_type": "stream",
          "text": [
            "\r 43%|████▎     | 78/181 [03:06<03:40,  2.14s/it]"
          ]
        },
        {
          "name": "stdout",
          "output_type": "stream",
          "text": [
            "{'sentence': 'احسان\\u200cالله دوستدار، از رجال سیاسی برجسته دوران قاجار و پهلوی، در سال ۱۲۶۳ هجری شمسی در ساری چشم به جهان گشود. او فرزند میرزا علی\\u200cاکبر حافظ\\u200cالصحه بود. این رویداد مهم در تاریخ معاصر ایران، در کتاب \"روزشمار تاریخ معاصر ایران\" نوشته حسن فراهانی، جلد دوم، صفحه ۱۲۱، ثبت شده است.', 'Q&A': [{'question': 'احسان\\u200cالله دوستدار چه شخصیتی بود؟', 'answer': 'احسان\\u200cالله دوستدار از رجال سیاسی برجستهٔ دوران قاجار و پهلوی بود.'}, {'question': 'احسان\\u200cالله دوستدار در چه سالی متولد شد و در کجا چشم به جهان گشود؟', 'answer': 'احسان\\u200cالله دوستدار در سال ۱۲۶۳ هجری شمسی در شهر ساری متولد شد.'}, {'question': 'پدر احسان\\u200cالله دوستدار که بود و نامش چه بود؟', 'answer': 'پدر احسان\\u200cالله دوستدار میرزا علی\\u200cاکبر حافظ\\u200cالصحه نام داشت.'}, {'question': 'چرا تولد احسان\\u200cالله دوستدار برای تاریخ معاصر ایران مهم است؟', 'answer': 'تولد او مهم است زیرا وی از شخصیت\\u200cهای برجستهٔ سیاسی دو دورهٔ تاریخی مهم ایران بوده است.'}, {'question': 'ثبت این رویداد در کتاب \"روزشمار تاریخ معاصر ایران\" چه اهمیتی دارد؟', 'answer': 'ثبت این رویداد در کتاب \"روزشمار تاریخ معاصر ایران\" نوشتهٔ حسن فراهانی، به عنوان یک مرجع تاریخی، اصالت و اعتبار این واقعه را تأیید می\\u200cکند.'}]}\n"
          ]
        },
        {
          "name": "stderr",
          "output_type": "stream",
          "text": [
            "\r 44%|████▎     | 79/181 [03:09<03:55,  2.31s/it]"
          ]
        },
        {
          "name": "stdout",
          "output_type": "stream",
          "text": [
            "{'sentence': 'سید محمد باقر دستغیب، واعظ و از رجال سیاسی دوره قاجار، در سال ۱۲۶۲ هجری شمسی در شیراز متولد شد. او از جمله آزادی\\u200cخواهان سرشناس به شمار می\\u200cآمد که در شهر زادگاهش به سخنرانی و موعظه می\\u200cپرداخت. اطلاعات مربوط به تولد ایشان در کتاب \"روزشمار تاریخ معاصر ایران\" اثر حسن فراهانی ذکر شده است.', 'Q&A': [{'question': 'سید محمد باقر دستغیب در چه سالی و در کجا متولد شد؟', 'answer': 'سید محمد باقر دستغیب در سال ۱۲۶۲ هجری شمسی در شیراز متولد شد.'}, {'question': 'دستغیب به چه دلیل شخصیتی برجسته در دوره قاجار محسوب می\\u200cشد؟', 'answer': 'او به دلیل سخنرانی ها و موعظه\\u200cهایش در شیراز و همچنین به عنوان یک آزادی\\u200cخواه سرشناس، شخصیتی برجسته بود.'}, {'question': 'اطلاعات مربوط به تولد سید محمد باقر دستغیب در چه منبعی ذکر شده است؟', 'answer': 'اطلاعات تولد ایشان در کتاب \"روزشمار تاریخ معاصر ایران\" اثر حسن فراهانی ذکر شده است.'}, {'question': 'چرا سید محمد باقر دستغیب را از آزادی\\u200cخواهان می\\u200cدانستند؟', 'answer': 'با توجه به متن، دلیل روشنی برای آزادی خواه بودن دستغیب ذکر نشده است، اما می\\u200cتوان حدس زد که احتمالاً موعظه\\u200cها و سخنرانی\\u200cهای او حاوی مطالب آزادی\\u200cخواهانه بوده است.'}, {'question': 'حضور سید محمد باقر دستغیب به عنوان واعظ و یک شخصیت سیاسی در دوره قاجار چه تاثیری داشت؟', 'answer': 'با توجه به اطلاعات موجود، تاثیر مشخصی ذکر نشده است، اما با توجه به جایگاه او به عنوان یک واعظ و آزادی\\u200cخواه، احتمالاً بر آگاهی و جنبش\\u200cهای سیاسی در شیراز تأثیرگذار بوده است.'}]}\n"
          ]
        },
        {
          "name": "stderr",
          "output_type": "stream",
          "text": [
            "\r 44%|████▍     | 80/181 [03:11<04:04,  2.42s/it]"
          ]
        },
        {
          "name": "stdout",
          "output_type": "stream",
          "text": [
            "{'sentence': 'عزیزالله خان احتشام حضور، از رجال سیاسی و دولتمردان دوره قاجار، در سال ۱۳۰۳ قمری در تبریز متولد شد. او در سال ۱۳۲۶ قمری وارد خدمات اداری شد و در اداره تحریرات آلمان مشغول به کار گردید. احتشام حضور، علاوه بر این، در سمت\\u200cهای دیگری از جمله دفترداری در دفتر مرکزی و کنسولگری بغداد نیز خدمت کرد. اطلاعات بیشتری در مورد زندگی و فعالیت\\u200cهای او را می\\u200cتوان در کتاب \"روز شمار تاریخ معاصر ایران\" نوشته حسن فراهانی یافت.  شایان ذکر است که این دوران همزمان با تحولاتی در منطقه بود، از جمله حملات ترک\\u200cها به عراق و درگیری\\u200cهای احتمالی بین بریتانیا و ترکیه.', 'Q&A': [{'question': 'عزیزالله خان احتشام حضور در چه سالی و در کجا متولد شد؟', 'answer': 'عزیزالله خان احتشام حضور در سال ۱۳۰۳ قمری در تبریز متولد شد.'}, {'question': 'چه نوع خدماتی عزیزالله خان احتشام حضور در دوران فعالیتش ارائه داد؟', 'answer': 'او در خدمات اداری مشغول به کار بود، در اداره تحریرات آلمان کار کرد، و در دفتر مرکزی و کنسولگری بغداد هم خدمت کرد.'}, {'question': 'چه عاملی باعث شد تا عزیزالله خان احتشام حضور به فعالیت\\u200cهای دولتی بپردازد؟', 'answer': 'در متن اشاره\\u200cای به دلیل خاصی برای ورود او به خدمات دولتی نشده است، تنها تاریخ ورود او به این خدمات ذکر شده است.'}, {'question': 'با توجه به اطلاعات موجود، چه اهمیتی برای فعالیت\\u200cهای عزیزالله خان احتشام حضور می\\u200cتوان قائل شد؟', 'answer': 'فعالیت\\u200cهای او به عنوان یک دولتمرد در دوره قاجار، به ویژه در مناصب مختلف اداری و دیپلماتیک، می\\u200cتواند در درک تاریخ اداری و روابط بین\\u200cالمللی ایران در آن دوره مهم باشد.'}, {'question': 'کتاب \"روز شمار تاریخ معاصر ایران\" نوشته حسن فراهانی، چه اطلاعاتی در مورد زندگی و فعالیت\\u200cهای عزیزالله خان احتشام حضور ارائه می\\u200cدهد؟', 'answer': 'این کتاب اطلاعات بیشتری در مورد زندگی و فعالیت\\u200cهای عزیزالله خان احتشام حضور را در بر دارد، از جمله جزئیات بیشتری از سمت\\u200cها و خدمات او.'}]}\n"
          ]
        },
        {
          "name": "stderr",
          "output_type": "stream",
          "text": [
            "\r 45%|████▍     | 81/181 [03:13<03:41,  2.21s/it]"
          ]
        },
        {
          "name": "stdout",
          "output_type": "stream",
          "text": [
            "{'sentence': 'میرزا حسین خان علاء، ملقب به معین\\u200cالوزاره و از رجال سیاسی برجسته دوران قاجار و پهلوی، در سال ۱۲۶۴ هجری شمسی (۱۳۰۳ قمری) در تهران متولد شد. این سیاستمدار نامدار، که بعدها به حسین علاء شهرت یافت، در تهران چشم به جهان گشود. برای کسب اطلاعات بیشتر درباره زندگی و فعالیت\\u200cهای او، می\\u200cتوان به کتاب \"روزشمار تاریخ معاصر ایران\" اثر حسن فراهانی مراجعه کرد.', 'Q&A': [{'question': 'چه کسی در سال ۱۲۶۴ هجری شمسی (۱۳۰۳ قمری) در تهران متولد شد؟', 'answer': 'میرزا حسین خان علاء، ملقب به معین\\u200cالوزاره.'}, {'question': 'حسین علاء در کدام سلسله\\u200cهای تاریخی ایران نقش داشت؟', 'answer': 'در دوران قاجار و پهلوی.'}, {'question': 'چرا میرزا حسین خان علاء به عنوان یک شخصیت برجسته شناخته می\\u200cشود؟', 'answer': 'به دلیل نقش\\u200cآفرینی مهم در سیاست ایران در دوره\\u200cهای قاجار و پهلوی.'}, {'question': 'برای آگاهی از جزئیات زندگی و فعالیت\\u200cهای حسین علاء به کدام منبع می\\u200cتوان مراجعه کرد؟', 'answer': 'به کتاب \"روزشمار تاریخ معاصر ایران\" اثر حسن فراهانی.'}, {'question': 'تولد حسین علاء در تهران چه اهمیتی داشت؟', 'answer': 'تولد در تهران نشانهٔ آغاز حیات یکی از رجال سیاسی مهم ایران در آن شهر بود.'}]}\n"
          ]
        },
        {
          "name": "stderr",
          "output_type": "stream",
          "text": [
            "\r 45%|████▌     | 82/181 [03:15<03:26,  2.09s/it]"
          ]
        },
        {
          "name": "stdout",
          "output_type": "stream",
          "text": [
            "{'sentence': 'متاسفانه اطلاعات کافی برای ارائه یک متن کامل و دقیق در این مورد وجود ندارد. با این حال، بر اساس داده\\u200cهای موجود، این واقعه در استان تهران رخ داده است. منبع اصلی این خبر پایگاه جامع تاریخ است که در آن به ولادت نصرت\\u200cالدوله فیروز اشاره شده است. اطلاعات بیشتر در کتاب \"روزشمار تاریخ معاصر ایران\" نوشته حسن فراهانی قابل یافت است. لازم به ذکر است که سال وقوع این رویداد و همچنین تاریخ دقیقی برای آن در دسترس نیست.', 'Q&A': [{'question': 'چه کسی نصرت\\u200cالدوله فیروز را به دنیا آورد؟', 'answer': 'بر اساس اطلاعات موجود، ولادت نصرت\\u200cالدوله فیروز در پایگاه جامع تاریخ ثبت شده است، اما اطلاعاتی در مورد مادر او در این منبع وجود ندارد.'}, {'question': 'این واقعه دقیقاً در کجا رخ داد؟', 'answer': 'این واقعه در استان تهران رخ داده است.'}, {'question': 'چرا تاریخ دقیق این رویداد مشخص نیست؟', 'answer': 'اطلاعات کافی برای ارائه یک متن کامل و دقیق در دسترس نیست و به همین دلیل تاریخ دقیق وقوع این رویداد مشخص نشده است.'}, {'question': 'منبع اصلی این خبر چه نام دارد؟', 'answer': 'منبع اصلی این خبر پایگاه جامع تاریخ است.'}, {'question': 'برای کسب اطلاعات بیشتر در مورد این رویداد به کدام کتاب می\\u200cتوان مراجعه کرد؟', 'answer': 'برای کسب اطلاعات بیشتر در مورد این رویداد می\\u200cتوان به کتاب \"روزشمار تاریخ معاصر ایران\" نوشته حسن فراهانی مراجعه کرد.'}]}\n"
          ]
        },
        {
          "name": "stderr",
          "output_type": "stream",
          "text": [
            "\r 46%|████▌     | 83/181 [03:18<03:45,  2.30s/it]"
          ]
        },
        {
          "name": "stdout",
          "output_type": "stream",
          "text": [
            "{'sentence': 'متاسفانه اطلاعات دقیقی در مورد این واقعه در دست نیست. بر اساس منابع موجود، اطلاعاتی در مورد ولادت نادر میرزا در تهران در دسترس نیست. برای اطلاعات بیشتر می توانید به کتاب \"روزشمار تاریخ معاصر ایران\" نوشته حسن فراهانی مراجعه کنید.', 'Q&A': [{'question': 'نادر میرزا، که بود و چه نقشی در تاریخ ایران داشت؟', 'answer': 'با توجه به اطلاعات موجود، اطلاعات دقیقی در مورد ولادت و نقش نادر میرزا در دسترس نیست. برای کسب اطلاعات بیشتر، می توانید به کتاب \"روزشمار تاریخ معاصر ایران\" مراجعه کنید.'}, {'question': 'اگرچه اطلاعات دقیقی در دسترس نیست، اما حدس می\\u200cزنید مهمترین چالش در ثبت تاریخ تولد و فعالیت\\u200cهای نادر میرزا چه بوده است؟', 'answer': 'احتمالاً فقدان مستندات کافی، کمبود تحقیقات و توجه به این شخصیت تاریخی در منابع اولیه و تاریخی، مهمترین چالش\\u200cها بوده است.'}, {'question': 'چه منبعی برای کسب اطلاعات بیشتر درباره نادر میرزا پیشنهاد می\\u200cشود؟', 'answer': 'کتاب \"روزشمار تاریخ معاصر ایران\" نوشته حسن فراهانی، منبعی برای کسب اطلاعات بیشتر درباره این شخصیت معرفی شده است.'}, {'question': 'چرا یافتن اطلاعات دقیق در مورد نادر میرزا دشوار است؟', 'answer': 'دلیل این امر، کمبود اطلاعات و مستندات تاریخی موجود درباره این شخصیت و رویدادهای مربوط به او است.'}, {'question': 'آیا می توان از اطلاعات موجود در مورد نادر میرزا، بر اهمیت آن شخصیت در تاریخ ایران پی برد؟', 'answer': 'با توجه به فقدان اطلاعات، این امر فعلاً میسر نیست. با این حال، وجود منبعی مانند \"روزشمار تاریخ معاصر ایران\" نشان می\\u200cدهد که تلاش\\u200cهایی برای ثبت و حفظ اطلاعات در مورد این شخصیت صورت گرفته است.'}]}\n"
          ]
        },
        {
          "name": "stderr",
          "output_type": "stream",
          "text": [
            "\r 46%|████▋     | 84/181 [03:20<03:33,  2.20s/it]"
          ]
        },
        {
          "name": "stdout",
          "output_type": "stream",
          "text": [
            "{'sentence': 'اکبر صارم الدوله، فرزند مسعود میرزا ظل السلطان و نواده ناصرالدین شاه قاجار، در سال ۱۲۶۵ هجری شمسی در اصفهان متولد شد. پدر او، مسعود میرزا ظل السلطان، فرزند ارشد ناصرالدین شاه بود، اما به دلیل غیر قاجاری بودن مادرش، به سلطنت نرسید. اکبر میرزا ششمین پسر از دوازده فرزند پسر ظل السلطان بود و از توجه ویژه\\u200cای از سوی پدرش برخوردار بود. اطلاعات این رویداد تاریخی در کتاب \"روزشمار تاریخ معاصر ایران\" تالیف حسن فراهانی آمده است.', 'Q&A': [{'question': 'اکبر صارم الدوله کیست و چه نسبی با خاندان قاجار داشت؟', 'answer': 'اکبر صارم الدوله فرزند مسعود میرزا ظل السلطان و نواده ناصرالدین شاه قاجار بود.'}, {'question': 'چه عاملی باعث شد مسعود میرزا ظل السلطان به سلطنت نرسد، با وجود اینکه فرزند ارشد ناصرالدین شاه بود؟', 'answer': 'به دلیل غیر قاجاری بودن مادرش، مسعود میرزا ظل السلطان به سلطنت نرسید.'}, {'question': 'در چه سالی اکبر صارم الدوله متولد شد و این واقعه در کجا به وقوع پیوست؟', 'answer': 'اکبر صارم الدوله در سال ۱۲۶۵ هجری شمسی در اصفهان متولد شد.'}, {'question': 'چرا اکبر صارم الدوله از توجه ویژه\\u200cای از سوی پدرش، ظل السلطان، برخوردار بود؟', 'answer': 'متن این موضوع را مشخص نمی\\u200cکند.'}, {'question': 'منبع اصلی اطلاعات مربوط به اکبر صارم الدوله چه کتابی است و نویسنده آن کیست؟', 'answer': 'اطلاعات این رویداد تاریخی در کتاب \"روزشمار تاریخ معاصر ایران\" تالیف حسن فراهانی آمده است.'}]}\n"
          ]
        },
        {
          "name": "stderr",
          "output_type": "stream",
          "text": [
            "\r 47%|████▋     | 85/181 [03:21<03:25,  2.14s/it]"
          ]
        },
        {
          "name": "stdout",
          "output_type": "stream",
          "text": [
            "{'sentence': 'متاسفم، اما با اطلاعات ارائه شده نمی\\u200cتوانم یک متن کاملاً دقیق و جامع تولید کنم. داده\\u200cهای اصلی درباره رویداد خاصی در دسترس نیستند. اطلاعات کمی در مورد تولد علی\\u200cاکبر داور وجود دارد که در آذربایجان غربی رخ داده است و منبع آن پایگاه جامع تاریخ است. متأسفانه، به دلیل کمبود داده\\u200cها، قادر به ارائه توضیحات بیشتری نیستم.', 'Q&A': [{'question': 'علی\\u200cاکبر داور چه شخصیتی بود؟', 'answer': 'علی\\u200cاکبر داور یک شخصیت تاریخی بود که تولدش در آذربایجان غربی ثبت شده است.'}, {'question': 'پایگاه جامع تاریخ چه نقشی در ثبت اطلاعات علی\\u200cاکبر داور داشت؟', 'answer': 'پایگاه جامع تاریخ منبع اطلاعاتی در مورد علی\\u200cاکبر داور است.'}, {'question': 'چرا اطلاعات بیشتری درباره زندگی علی\\u200cاکبر داور در دسترس نیست؟', 'answer': 'به دلیل کمبود داده\\u200cها و اطلاعات، جزئیات بیشتری از زندگی علی\\u200cاکبر داور در دسترس نیست.'}, {'question': 'تولد علی\\u200cاکبر داور در چه منطقه\\u200cای رخ داده است؟', 'answer': 'تولد علی\\u200cاکبر داور در آذربایجان غربی رخ داده است.'}, {'question': 'با توجه به اطلاعات محدود، چه چیزی می\\u200cتوانیم درباره اهمیت علی\\u200cاکبر داور استنباط کنیم؟', 'answer': 'با توجه به اطلاعات محدود، نمی\\u200cتوانیم به طور قطعی درباره اهمیت علی\\u200cاکبر داور استنباط کنیم. تنها می\\u200cدانیم که او یک شخصیت تاریخی بوده است.'}]}\n"
          ]
        },
        {
          "name": "stderr",
          "output_type": "stream",
          "text": [
            "\r 48%|████▊     | 86/181 [03:24<03:43,  2.36s/it]"
          ]
        },
        {
          "name": "stdout",
          "output_type": "stream",
          "text": [
            "{'sentence': 'محمود پولادین، از صاحب\\u200cمنصبان نظامی دوران قاجار و پهلوی، در سال ۱۲۶۴ هجری شمسی در تهران چشم به جهان گشود. این رویداد، که تقریباً همزمان با سال ۱۳۰۳ قمری بود، نقطه آغازی برای زندگی او در پایتخت به شمار می\\u200cرود. اطلاعات بیشتری در مورد زندگی و فعالیت\\u200cهای وی در کتاب \"روزشمار تاریخ معاصر ایران\" نوشته حسن فراهانی یافت می\\u200cشود.', 'Q&A': [{'question': 'چه کسی در سال ۱۲۶۴ هجری شمسی در تهران متولد شد؟', 'answer': 'محمود پولادین، از صاحب\\u200cمنصبان نظامی دوران قاجار و پهلوی، در سال ۱۲۶۴ هجری شمسی در تهران متولد شد.'}, {'question': 'زادروز محمود پولادین با کدام سال قمری تقارن داشت و این تقارن چه اهمیتی دارد؟', 'answer': 'زادروز محمود پولادین تقریباً همزمان با سال ۱۳۰۳ قمری بود. این تقارن نشان\\u200cدهنده هم\\u200cزمانی تحولات در دو تقویم شمسی و قمری است.'}, {'question': 'کتاب \"روزشمار تاریخ معاصر ایران\" چه اطلاعاتی را درباره محمود پولادین ارائه می\\u200cدهد؟', 'answer': 'کتاب \"روزشمار تاریخ معاصر ایران\" نوشته حسن فراهانی، اطلاعات بیشتری در مورد زندگی و فعالیت\\u200cهای محمود پولادین ارائه می\\u200cدهد.'}, {'question': 'چرا تولد محمود پولادین در تهران نقطه آغازی مهم در زندگی او محسوب می\\u200cشود؟', 'answer': 'تولد محمود پولادین در تهران نقطه آغازی برای زندگی او در پایتخت محسوب می\\u200cشود زیرا این شهر مرکز قدرت و تحولات سیاسی و اجتماعی آن دوران بود.'}, {'question': 'فعالیت نظامی محمود پولادین در چه دوره\\u200cهایی از تاریخ ایران برجسته بود و این موضوع چه اهمیتی دارد؟', 'answer': 'فعالیت نظامی محمود پولادین در دوران قاجار و پهلوی برجسته بود. این امر نشان\\u200cدهنده حضور او در دورانی حساس از تاریخ ایران و تأثیر احتمالی او بر رویدادهای مهم آن دوره است.'}]}\n"
          ]
        },
        {
          "name": "stderr",
          "output_type": "stream",
          "text": [
            "\r 48%|████▊     | 87/181 [03:28<04:06,  2.62s/it]"
          ]
        },
        {
          "name": "stdout",
          "output_type": "stream",
          "text": [
            "{'sentence': 'محمود جم، ملقب به مدیرالملک، از رجال برجسته سیاسی دوران قاجار و پهلوی، در سال ۱۲۶۴ هجری شمسی متولد شد. او که بعدها به مقام نخست وزیری ایران رسید، در تبریز چشم به جهان گشود؛ اگرچه اجدادش کرمانی بودند. جم، کار خود را نزد دکتر کوپن، داروساز فرانسوی و طبیب ولیعهد آغاز کرد و سپس به تهران آمد. در تهران، ابتدا در سفارت فرانسه به عنوان منشی و مترجم مشغول به کار شد و پس از آن در اداره گمرک به ترجمه پرداخت. پیش از کودتای ۱۲۹۹ شمسی، وی از همکاران سید ضیاءالدین در کمیته زرگنده (آهن) بود. اطلاعات بیشتر در مورد زندگی و فعالیت\\u200cهای وی را می\\u200cتوان در کتاب \"روزشمار تاریخ معاصر ایران\" اثر حسن فراهانی یافت.', 'Q&A': [{'question': 'محمود جم، که بود و چه نقشی در تاریخ ایران داشت؟', 'answer': 'محمود جم، از رجال سیاسی برجسته دوران قاجار و پهلوی بود که بعدها به مقام نخست وزیری ایران رسید.'}, {'question': 'محمود جم در چه سالی و کجا متولد شد و این موضوع چه اهمیتی دارد؟', 'answer': 'محمود جم در سال ۱۲۶۴ هجری شمسی در تبریز متولد شد. این تاریخ و محل تولد اهمیت دارد زیرا نشان\\u200cدهنده زمینه شکل\\u200cگیری شخصیت او و ارتباطش با تحولات سیاسی آن دوران است.'}, {'question': 'چرا محمود جم ابتدا در سفارت فرانسه مشغول به کار شد؟', 'answer': 'محمود جم در ابتدای کار خود در سفارت فرانسه به عنوان منشی و مترجم فعالیت می\\u200cکرد. این انتخاب احتمالاً به دلیل تسلط او به زبان فرانسوی و نیاز به مترجم در روابط دیپلماتیک آن زمان بود.'}, {'question': 'چه عواملی باعث پیوستن محمود جم به کمیته زرگنده پیش از کودتای ۱۲۹۹ شمسی شد؟', 'answer': 'پیوستن محمود جم به کمیته زرگنده احتمالاً ناشی از نزدیکی او با سید ضیاءالدین طباطبایی و اعتقاد مشترک به ضرورت اصلاحات در کشور بود، گرچه در مورد این موضوع اختلاف نظر هم وجود دارد.'}, {'question': 'کتاب \"روزشمار تاریخ معاصر ایران\" اثر حسن فراهانی چه اطلاعاتی در مورد محمود جم ارائه می\\u200cدهد و چرا این اطلاعات مهم است؟', 'answer': 'کتاب \"روزشمار تاریخ معاصر ایران\" اطلاعات بیشتری درباره زندگی و فعالیت\\u200cهای محمود جم، از جمله مراحل مختلف زندگی، سمت\\u200cهای او، و نقش او در رویدادهای تاریخی ارائه می\\u200cدهد. این اطلاعات برای درک بهتر نقش او در تحولات سیاسی ایران حیاتی است.'}]}\n"
          ]
        },
        {
          "name": "stderr",
          "output_type": "stream",
          "text": [
            "\r 49%|████▊     | 88/181 [03:30<03:55,  2.53s/it]"
          ]
        },
        {
          "name": "stdout",
          "output_type": "stream",
          "text": [
            "{'sentence': 'سرهنگ اسماعیل خان (اسماعیل شفایی)، از صاحب\\u200cمنصبان نظامی دوران قاجار، در سال ۱۲۶۴ هجری شمسی در تهران به دنیا آمد. او تحصیلات خود را در ایران و روسیه به پایان رساند و در سال ۱۲۸۹ شمسی به بریگاد قزاق پیوست. اسماعیل خان در سال ۱۳۰۱ ریاست قورخانه و همچنین ریاست ارکان حرب لشکر مرکز را بر عهده گرفت. وی در همین سال به اروپا سفر کرد و به خرید اسلحه و مهمات پرداخت. در سال ۱۳۰۵ نیز بار دیگر به اروپا رفت و به عنوان رئیس کمیسیون خرید اسلحه تا سال ۱۳۰۶ مشغول به خدمت شد. سرهنگ اسماعیل خان به دو زبان روسی و آلمانی مسلط بود و با درجه سرلشکری بازنشسته شد. برای کسب اطلاعات بیشتر می\\u200cتوانید به کتاب \"روز شمار تاریخ معاصر ایران\" اثر حسن فراهانی مراجعه کنید.', 'Q&A': [{'question': 'سرهنگ اسماعیل خان در چه سالی و در کجا متولد شد؟', 'answer': 'سرهنگ اسماعیل خان در سال ۱۲۶۴ هجری شمسی در تهران به دنیا آمد.'}, {'question': 'تحصیلات سرهنگ اسماعیل خان در چه کشورهایی انجام شد و چه زمانی به بریگاد قزاق پیوست؟', 'answer': 'او تحصیلات خود را در ایران و روسیه به پایان رساند و در سال ۱۲۸۹ شمسی به بریگاد قزاق پیوست.'}, {'question': 'چرا سرهنگ اسماعیل خان در سال ۱۳۰۱ به اروپا سفر کرد؟', 'answer': 'سرهنگ اسماعیل خان در سال ۱۳۰۱ به اروپا سفر کرد تا به خرید اسلحه و مهمات بپردازد.'}, {'question': 'مهمترین مقام\\u200cهای نظامی که سرهنگ اسماعیل خان در طول دوران خدمتش بر عهده داشت، چه بود؟', 'answer': 'وی ریاست قورخانه و همچنین ریاست ارکان حرب لشکر مرکز را بر عهده داشت.'}, {'question': 'تسلط سرهنگ اسماعیل خان به زبان\\u200cهای خارجی چه اهمیتی داشت و چگونه بر کار او تأثیر گذاشت؟', 'answer': 'تسلط او به زبان\\u200cهای روسی و آلمانی، به ویژه در ارتباط با خرید اسلحه و مأموریت\\u200cهایش در اروپا، اهمیت داشت.'}]}\n"
          ]
        },
        {
          "name": "stderr",
          "output_type": "stream",
          "text": [
            "\r 49%|████▉     | 89/181 [03:32<03:36,  2.35s/it]"
          ]
        },
        {
          "name": "stdout",
          "output_type": "stream",
          "text": [
            "{'sentence': 'اسدالله یمین الملک (یمین الممالک) اسفندیاری، از رجال سیاسی برجسته دوران قاجار و پهلوی، در سال ۱۲۶۵ شمسی (برابر با ۱۳۰۳ قمری) در تهران چشم به جهان گشود. او که فرزند جعفر خان یمین الممالک مازندرانی بود، با نام یمین الملک نیز شناخته می\\u200cشد. اطلاعات مربوط به تولد ایشان در کتاب \"روزشمار تاریخ معاصر ایران\" تالیف حسن فراهانی، موجود است.', 'Q&A': [{'question': 'اسدالله یمین الملک در چه سالی و در کجا متولد شد؟', 'answer': 'اسدالله یمین الملک در سال ۱۲۶۵ شمسی (برابر با ۱۳۰۳ قمری) در تهران متولد شد.'}, {'question': 'چه کسی فرزند اسدالله یمین الملک بود و نام پدرش چه بود؟', 'answer': 'اسدالله یمین الملک فرزند جعفر خان یمین الممالک مازندرانی بود.'}, {'question': 'چرا اسدالله یمین الملک با نام \"یمین الملک\" نیز شناخته می\\u200cشد؟', 'answer': 'اسدالله یمین الملک به دلیل نام خانوادگی خود که \"یمین الملک\" بود، با این نام نیز شناخته می\\u200cشد.'}, {'question': 'اهمیت اسدالله یمین الملک در تاریخ ایران چیست؟', 'answer': 'اسدالله یمین الملک از رجال سیاسی برجسته دوران قاجار و پهلوی بود.'}, {'question': 'اطلاعات مربوط به تولد اسدالله یمین الملک در کدام منبع قابل دسترسی است؟', 'answer': 'اطلاعات مربوط به تولد ایشان در کتاب \"روزشمار تاریخ معاصر ایران\" تالیف حسن فراهانی، موجود است.'}]}\n"
          ]
        },
        {
          "name": "stderr",
          "output_type": "stream",
          "text": [
            "\r 50%|████▉     | 90/181 [03:34<03:36,  2.38s/it]"
          ]
        },
        {
          "name": "stdout",
          "output_type": "stream",
          "text": [
            "{'sentence': 'پیمان بغداد در سال ۱۳۳۴ شمسی میان ایران، ترکیه و عراق با هدف مقابله با نفوذ شوروی و گسترش ایدئولوژی مارکسیسم منعقد شد. این پیمان که بعدها به سازمان پیمان مرکزی (سنتو) تغییر نام یافت، در دوران جنگ سرد و با حمایت کشورهای غربی نظیر ایالات متحده آمریکا و بریتانیا شکل گرفت.  نخست وزیر وقت عراق، نوری سعید، از جمله طراحان این پیمان بود که معتقد بود باید سیاستی برای جلوگیری از نفوذ شوروی در پیش گرفت. با این حال، به دلیل نگرانی آمریکا از نفوذ شوروی و همچنین تحولات سیاسی در منطقه، ایالات متحده به عضویت این پیمان درنیامد و پس از کودتای عبدالکریم قاسم در عراق، این کشور از پیمان خارج شد. در سال ۱۳۳۷، نام پیمان به سازمان پیمان مرکزی (سنتو) تغییر یافت و مقر آن از بغداد به آنکارا منتقل گردید. اطلاعات بیشتر درباره این سازمان را می توان در منابعی چون ویکی پدیا و سایر منابع تاریخی یافت.', 'Q&A': [{'question': 'چه زمانی پیمان بغداد منعقد شد و هدف اصلی آن چه بود؟', 'answer': 'پیمان بغداد در سال ۱۳۳۴ شمسی منعقد شد و هدف اصلی آن مقابله با نفوذ شوروی و گسترش ایدئولوژی مارکسیسم بود.'}, {'question': 'چه کشورهایی به عنوان اعضای اصلی پیمان بغداد شناخته می\\u200cشدند و چه عاملی باعث شد ایالات متحده به عضویت آن در نیاید؟', 'answer': 'ایران، ترکیه و عراق اعضای اصلی پیمان بغداد بودند. ایالات متحده به دلیل نگرانی از نفوذ شوروی و تحولات سیاسی در منطقه به عضویت این پیمان درنیامد.'}, {'question': 'چرا نوری سعید، نخست وزیر عراق، یکی از طراحان اصلی پیمان بغداد بود؟', 'answer': 'نوری سعید معتقد بود که باید سیاستی برای جلوگیری از نفوذ شوروی در پیش گرفت و به همین دلیل از طراحان اصلی این پیمان بود.'}, {'question': 'نتیجه کودتای عبدالکریم قاسم در عراق بر پیمان بغداد چه بود؟', 'answer': 'پس از کودتای عبدالکریم قاسم، عراق از پیمان بغداد خارج شد.'}, {'question': 'سازمان پیمان مرکزی (سنتو) که پس از پیمان بغداد شکل گرفت، چه اهمیتی در دوران جنگ سرد داشت؟', 'answer': 'سازمان پیمان مرکزی (سنتو) در دوران جنگ سرد با حمایت کشورهای غربی به ویژه ایالات متحده و بریتانیا شکل گرفت و به عنوان یک تلاش برای مقابله با نفوذ شوروی در منطقه عمل می\\u200cکرد.'}]}\n"
          ]
        },
        {
          "name": "stderr",
          "output_type": "stream",
          "text": [
            "\r 50%|█████     | 91/181 [03:37<03:29,  2.32s/it]"
          ]
        },
        {
          "name": "stdout",
          "output_type": "stream",
          "text": [
            "{'sentence': 'در سال ۱۳۴۹، کنوانسیون رامسر، پیمانی بین\\u200cالمللی با هدف حفاظت از تالاب\\u200cها و موجودات وابسته به آن\\u200cها، به تصویب رسید. این کنوانسیون که در شهر رامسر به امضا رسید، در ابتدا ۱۸ کشور را شامل می\\u200cشد، اما امروزه ۲۴۱۲ تالاب را با وسعت بیش از ۲۵۴ هزار هکتار تحت پوشش قرار داده است. بریتانیا دارای بیشترین تعداد تالاب\\u200cها و کانادا دارای وسیع\\u200cترین تالاب\\u200cهای تحت پوشش این کنوانسیون هستند. اسکندر فیروز، رئیس وقت سازمان محیط زیست ایران، نقشی کلیدی در تدوین این کنوانسیون ایفا کرد. کنوانسیون رامسر در سال ۱۹۷۵ جنبه قانونی یافت و کشورهای عضو را ملزم به حفظ و حراست از تالاب\\u200cها نمود. اطلاعات بیشتر را می\\u200cتوانید در صفحه ویکی\\u200cپدیای کنوانسیون رامسر بیابید.', 'Q&A': [{'question': 'چه کسی نقش کلیدی در تدوین کنوانسیون رامسر داشت؟', 'answer': 'اسکندر فیروز، رئیس وقت سازمان محیط زیست ایران، نقش کلیدی در تدوین این کنوانسیون ایفا کرد.'}, {'question': 'هدف اصلی کنوانسیون رامسر چه بود و چه زمانی به تصویب رسید؟', 'answer': 'هدف اصلی کنوانسیون رامسر حفاظت از تالاب\\u200cها و موجودات وابسته به آن\\u200cها بود و در سال ۱۳۴۹ به تصویب رسید.'}, {'question': 'کنوانسیون رامسر چه تاثیری بر کشورهای عضو داشت؟', 'answer': 'کنوانسیون رامسر کشورهای عضو را ملزم به حفظ و حراست از تالاب\\u200cها نمود و در سال ۱۹۷۵ جنبه قانونی یافت.'}, {'question': 'کدام کشور بیشترین تعداد تالاب\\u200cهای تحت پوشش کنوانسیون رامسر را دارد؟', 'answer': 'بریتانیا دارای بیشترین تعداد تالاب\\u200cهای تحت پوشش کنوانسیون رامسر است.'}, {'question': 'کنوانسیون رامسر چه اهمیتی دارد و چرا به امضا رسید؟', 'answer': 'کنوانسیون رامسر برای حفاظت از تنوع زیستی و منابع طبیعی تالاب\\u200cها و با هدف حفظ اکوسیستم\\u200cهای حیاتی امضا شد و نشان دهندهٔ تعهد بین\\u200cالمللی به حفاظت از محیط زیست است.'}]}\n"
          ]
        },
        {
          "name": "stderr",
          "output_type": "stream",
          "text": [
            "\r 51%|█████     | 92/181 [03:39<03:28,  2.34s/it]"
          ]
        },
        {
          "name": "stdout",
          "output_type": "stream",
          "text": [
            "{'sentence': 'در سال ۱۹۴۸، کنوانسیون پیشگیری و مجازات جنایت نسل\\u200cکشی (CPPCG) با هدف جرم\\u200cانگاری نسل\\u200cکشی و الزام دولت\\u200cها به جلوگیری از آن تصویب شد. این معاهده بین\\u200cالمللی، که در واکنش به جنگ جهانی دوم شکل گرفت، نسل\\u200cکشی را به عنوان یک جرم بین\\u200cالمللی تعریف می\\u200cکند و در ۹ دسامبر ۱۹۴۸ توسط مجمع عمومی سازمان ملل متحد به تصویب رسید و در ۱۲ ژانویه ۱۹۵۱ لازم\\u200cالاجرا شد. این کنوانسیون که ۱۵۲ کشور عضو دارد، بر قوانین ملی و بین\\u200cالمللی تأثیر گذاشته و در قوانین داخلی چندین کشور گنجانده شده است. واژهٔ نسل\\u200cکشی توسط رافائل لمکین، حقوقدان یهودی-لهستانی، برای توصیف سیاست\\u200cهای نازی\\u200cها ابداع شد و این کنوانسیون نیز به چندین عمل به عنوان نسل\\u200cکشی، از جمله تحمیل کنترل موالید و انتقال اجباری کودکان، اشاره دارد. این اطلاعات از منابعی همچون ویکی\\u200cپدیا و مجموعه\\u200cای از اسناد سازمان ملل متحد به\\u200cدست آمده است.', 'Q&A': [{'question': 'چه کسی مفهوم نسل\\u200cکشی را ابداع کرد و این مفهوم به چه چیزی اشاره داشت؟', 'answer': 'رافائل لمکین، حقوقدان یهودی-لهستانی، مفهوم نسل\\u200cکشی را ابداع کرد و این مفهوم به سیاست\\u200cهای نازی\\u200cها اشاره داشت.'}, {'question': 'چرا کنوانسیون پیشگیری و مجازات جنایت نسل\\u200cکشی تصویب شد؟', 'answer': 'این کنوانسیون در واکنش به جنگ جهانی دوم و به منظور جرم\\u200cانگاری نسل\\u200cکشی و الزام دولت\\u200cها به جلوگیری از آن تصویب شد.'}, {'question': 'در چه تاریخی کنوانسیون پیشگیری و مجازات جنایت نسل\\u200cکشی به تصویب مجمع عمومی سازمان ملل متحد رسید؟', 'answer': 'این کنوانسیون در ۹ دسامبر ۱۹۴۸ توسط مجمع عمومی سازمان ملل متحد به تصویب رسید.'}, {'question': 'چگونه این کنوانسیون بر حقوق بین\\u200cالملل تأثیر گذاشت؟', 'answer': 'این کنوانسیون نسل\\u200cکشی را به عنوان یک جرم بین\\u200cالمللی تعریف کرد و بر قوانین ملی و بین\\u200cالمللی تأثیر گذاشت. همچنین در قوانین داخلی چندین کشور گنجانده شد.'}, {'question': 'چه نوع اعمالی در این کنوانسیون به عنوان نسل\\u200cکشی قلمداد شده\\u200cاند، علاوه بر قتل عام؟', 'answer': 'این کنوانسیون علاوه بر قتل عام، به اعمالی همچون تحمیل کنترل موالید و انتقال اجباری کودکان نیز به عنوان نسل\\u200cکشی اشاره دارد.'}]}\n"
          ]
        },
        {
          "name": "stderr",
          "output_type": "stream",
          "text": [
            "\r 51%|█████▏    | 93/181 [03:40<03:06,  2.12s/it]"
          ]
        },
        {
          "name": "stdout",
          "output_type": "stream",
          "text": [
            "{'sentence': 'در ۲۴ آوریل سال ۱۹۶۳، کنوانسیون وین درباره روابط کنسولی در شهر وین به تصویب رسید. این کنوانسیون که میان کشورهای مختلف منعقد شده، تاکنون در ۱۷۳ کشور جهان اعتبار قانونی دارد. هدف اصلی این کنوانسیون، بهبود روابط کنسولگری و پیشگیری از بروز اختلافات بین کشورها است. این معاهده شامل ۷۹ ماده در چهار فصل است و دو پروتکل اختیاری نیز دارد. متن اصلی کنوانسیون به پنج زبان انگلیسی، فرانسوی، چینی، روسی و اسپانیایی نگارش شده است. اطلاعات بیشتر درباره این کنوانسیون را می\\u200cتوانید در صفحه ویکی\\u200cپدیای آن بیابید.', 'Q&A': [{'question': 'چه زمانی کنوانسیون وین درباره روابط کنسولی به تصویب رسید؟', 'answer': 'در ۲۴ آوریل سال ۱۹۶۳ به تصویب رسید.'}, {'question': 'هدف اصلی کنوانسیون وین چه بود؟', 'answer': 'بهبود روابط کنسولگری و پیشگیری از بروز اختلافات بین کشورها.'}, {'question': 'چرا کنوانسیون وین برای روابط بین\\u200cالملل مهم است؟', 'answer': 'زیرا چارچوبی قانونی برای روابط کنسولی فراهم می\\u200cکند و به حل اختلافات کمک می\\u200cکند.'}, {'question': 'این کنوانسیون به چند زبان نوشته شده است؟', 'answer': 'به پنج زبان انگلیسی، فرانسوی، چینی، روسی و اسپانیایی.'}, {'question': 'چگونه این کنوانسیون در سراسر جهان اجرا می\\u200cشود؟', 'answer': 'این کنوانسیون در ۱۷۳ کشور جهان اعتبار قانونی دارد و کشورهای امضاکننده باید آن را اجرا کنند.'}]}\n"
          ]
        },
        {
          "name": "stderr",
          "output_type": "stream",
          "text": [
            "\r 52%|█████▏    | 94/181 [03:43<03:02,  2.10s/it]"
          ]
        },
        {
          "name": "stdout",
          "output_type": "stream",
          "text": [
            "{'sentence': 'پیمان بریان–کلوگ، یک توافق\\u200cنامه بین\\u200cالمللی مهم بود که در سال ۱۹۲۸ در پاریس به امضا رسید و هدف اصلی آن جلوگیری از وقوع جنگ بود. این پیمان در ۲۷ اوت ۱۹۲۸ توسط ۹ کشور از جمله آلمان، ایتالیا، ایالات متحده آمریکا، بریتانیا، بلژیک، چکسلواکی، ژاپن، فرانسه و لهستان منعقد شد. نام رسمی این پیمان، \"پیمان همگانی برای خودداری از جنگ\" بود و توسط فرانک کلوگ و آریستید بریان پیشنهاد شد. پس از امضای اولیه، این پیمان به ۶۳ کشور گسترش یافت. نتیجه این پیمان، ایجاد یک کنوانسیون بین\\u200cالمللی برای محکوم کردن جنگ به عنوان وسیله حل اختلافات و ممنوعیت توسل به جنگ برای اهداف سیاسی بود. این پیمان در تاریخ روابط بین\\u200cالملل از اهمیت بالایی برخوردار است و اطلاعات بیشتری در کتاب \"حقوق بین\\u200cالملل عمومی\" اثر محمدرضا ضیائی بیگدلی آمده است.', 'Q&A': [{'question': 'چه کسی پیشنهاد پیمان بریان-کلوگ را داد؟', 'answer': 'فرانک کلوگ و آریستید بریان پیشنهاددهندگان اصلی پیمان بریان-کلوگ بودند.'}, {'question': 'هدف اصلی پیمان بریان-کلوگ چه بود؟', 'answer': 'هدف اصلی پیمان بریان-کلوگ جلوگیری از وقوع جنگ بین کشورها بود.'}, {'question': 'این پیمان در چه تاریخی و در کجا امضا شد؟', 'answer': 'پیمان بریان-کلوگ در سال ۱۹۲۸ در پاریس به امضا رسید.'}, {'question': 'چرا پیمان بریان-کلوگ مهم تلقی می\\u200cشود؟', 'answer': 'پیمان بریان-کلوگ به دلیل ایجاد یک کنوانسیون بین\\u200cالمللی برای محکوم کردن جنگ و ممنوعیت توسل به آن، در تاریخ روابط بین\\u200cالملل اهمیت زیادی دارد.'}, {'question': 'این پیمان چه تاثیری بر روابط بین\\u200cالملل داشت؟', 'answer': 'پیمان بریان-کلوگ باعث ایجاد یک چارچوب حقوقی برای محکوم کردن جنگ به عنوان یک ابزار حل اختلاف و ممنوعیت آن برای اهداف سیاسی شد.'}]}\n"
          ]
        },
        {
          "name": "stderr",
          "output_type": "stream",
          "text": [
            "\r 52%|█████▏    | 95/181 [03:45<03:01,  2.11s/it]"
          ]
        },
        {
          "name": "stdout",
          "output_type": "stream",
          "text": [
            "{'sentence': 'در سال ۱۹۰۷، پیمان سن پترزبورگ در شهر سن پترزبورگ منعقد شد؛ پیمانی که هدف اصلی آن، مقابله با پیشرفت\\u200cهای سیاسی، اقتصادی و نظامی آلمان بود. این قرارداد که میان امپراتوری\\u200cهای روسیه و بریتانیا به امضا رسید، زمینه\\u200cساز تنظیم منافع این دو کشور در ایران و افغانستان گردید. این پیمان، آخرین گام در جهت ایجاد تفاهم سه\\u200cجانبه بین فرانسه، روسیه و بریتانیا محسوب می\\u200cشد و به حل اختلافات میان روسیه و بریتانیا کمک شایانی کرد. نتیجه\\u200cی این قرارداد، اتحاد سه کشور فرانسه، روسیه و انگلستان در برابر آلمان بود، که به حفظ منافع مشترک و ایجاد فضای امن\\u200cتری برای تجارت و همکاری منجر شد. اهمیت تاریخی این پیمان در شکل\\u200cگیری اتحاد مثلث و تأثیر آن در ممانعت از توسعه آلمان نهفته است. اطلاعات بیشتر در این مورد را می\\u200cتوان در ویکی\\u200c\\u200dپدیا یافت.', 'Q&A': [{'question': 'پیمان سن پترزبورگ چه سالی امضا شد؟', 'answer': 'پیمان سن پترزبورگ در سال ۱۹۰۷ میلادی امضا شد.'}, {'question': 'هدف اصلی پیمان سن پترزبورگ چه بود؟', 'answer': 'هدف اصلی این پیمان، مقابله با پیشرفت\\u200cهای سیاسی، اقتصادی و نظامی آلمان بود.'}, {'question': 'چرا پیمان سن پترزبورگ میان بریتانیا و روسیه منعقد شد؟', 'answer': 'این پیمان برای تنظیم منافع دو کشور در ایران و افغانستان و همچنین، به منظور ایجاد تفاهم سه\\u200cجانبه بین فرانسه، روسیه و بریتانیا و حل اختلافات فی\\u200cمابین منعقد شد.'}, {'question': 'نتیجه\\u200cی نهایی پیمان سن پترزبورگ چه بود و چه تأثیری داشت؟', 'answer': 'نتیجه\\u200cی این پیمان، اتحاد سه کشور فرانسه، روسیه و انگلستان در برابر آلمان بود که منجر به حفظ منافع مشترک و ایجاد فضای امن\\u200cتری برای تجارت و همکاری شد.'}, {'question': 'اهمیت تاریخی پیمان سن پترزبورگ چه بود؟', 'answer': 'اهمیت تاریخی این پیمان در شکل\\u200cگیری اتحاد مثلث و تأثیر آن در ممانعت از توسعه آلمان و در نتیجه، پیش\\u200cگیری از جنگ جهانی نهفته است.'}]}\n"
          ]
        },
        {
          "name": "stderr",
          "output_type": "stream",
          "text": [
            "\r 53%|█████▎    | 96/181 [03:46<02:51,  2.02s/it]"
          ]
        },
        {
          "name": "stdout",
          "output_type": "stream",
          "text": [
            "{'sentence': 'در سال ۲۰۰۳، نشست آستراخان با هدف بررسی روابط دیپلماتیک میان کشورهای ساحلی دریای خزر برگزار شد. این نشست که با حضور نمایندگان ایران، ترکمنستان، قزاقستان، روسیه و آذربایجان برگزار شد، به تبادل نظر در خصوص مسائل مختلف مربوط به دریای خزر اختصاص داشت، اما به نتیجه مشخصی نرسید و اختلاف دیدگاه\\u200cها در مورد تقسیم این دریا همچنان پابرجا ماند. این نشست\\u200cها و توافقات بعدی همچون توافقات عشق\\u200cآباد، تهران، باکو، آستانه و آکتائو در سال\\u200cهای مختلف، به دنبال ایجاد همکاری\\u200cهای امنیتی، زیست محیطی و تعیین حدود آبی و ساحلی دریای خزر بوده\\u200cاند. از جمله نتایج مهم این نشست\\u200cها، امضای کنوانسیون محیط زیست خزر در تهران بود که اولین سند حقوقی مرتبط با دریای خزر به شمار می\\u200cرود. این اقدامات به منظور افزایش اعتماد و اطمینان میان کشورهای ساحلی و پیشگیری از بروز بحران\\u200cهای احتمالی در منطقه انجام شد. برای اطلاعات بیشتر، می\\u200cتوان به صفحه ویکی\\u200cپدیا با عنوان \"دیپلماسی کشورهای ساحلی دریای خزر\" مراجعه کرد.', 'Q&A': [{'question': 'چه زمانی نشست آستراخان برگزار شد؟', 'answer': 'نشست آستراخان در سال ۲۰۰۳ میلادی برگزار شد.'}, {'question': 'هدف اصلی برگزاری نشست آستراخان چه بود؟', 'answer': 'هدف اصلی بررسی و بهبود روابط دیپلماتیک میان کشورهای ساحلی دریای خزر بود.'}, {'question': 'چرا نشست آستراخان به نتیجه مشخصی نرسید؟', 'answer': 'به دلیل وجود اختلاف دیدگاه\\u200cها در مورد تقسیم دریای خزر، نشست آستراخان به نتیجه مشخصی نرسید.'}, {'question': 'کنوانسیون محیط زیست خزر که در تهران امضا شد، چه اهمیتی داشت؟', 'answer': 'کنوانسیون محیط زیست خزر، اولین سند حقوقی مرتبط با دریای خزر بود که در تهران امضا شد و اهمیت زیادی داشت.'}, {'question': 'این نشست\\u200cها و توافقات بعدی در نهایت چه تأثیری بر منطقه داشت؟', 'answer': 'این نشست\\u200cها و توافقات با هدف افزایش اعتماد و اطمینان بین کشورهای ساحلی و پیشگیری از بحران\\u200cها در منطقه انجام شدند.'}]}\n"
          ]
        },
        {
          "name": "stderr",
          "output_type": "stream",
          "text": [
            "\r 54%|█████▎    | 97/181 [03:49<03:08,  2.25s/it]"
          ]
        },
        {
          "name": "stdout",
          "output_type": "stream",
          "text": [
            "{'sentence': 'در سال ۱۹۷۳، کنوانسیون حمایت از دیپلمات\\u200cها به منظور مقابله با آدم\\u200cربایی\\u200cها و قتل\\u200cهای مأموران دیپلماتیک که در دهه ۱۹۶۰ افزایش یافته بود، به تصویب رسید. این کنوانسیون، که توسط کمیسیون حقوق بین\\u200cالملل (ILC) تهیه شده بود، قتل یا آدم\\u200cربایی افراد تحت حمایت بین\\u200cالمللی و همچنین حملات خشونت\\u200cآمیز علیه آن\\u200cها را جرم\\u200cانگاری می\\u200cکرد. همچنین، تلاش برای انجام این اعمال نیز جرم محسوب می\\u200cشد. کنوانسیون مذکور بر اساس اصل \"aut dedere aut Judicare\" (یا تسلیم کن یا محاکمه کن) بنا نهاده شد. این کنوانسیون در ابتدا توسط ۲۵ کشور در سال ۱۹۷۴ امضا شد و در نهایت، در ۲۰ فوریه ۱۹۷۷، پس از تصویب توسط ۲۲ کشور، به اجرا درآمد. تا اکتبر ۲۰۱۶، ۱۸۰ حزب دولتی این کنوانسیون را تصویب کرده بودند. این پیمان، گامی مهم در مبارزه با تروریسم از سوی سازمان ملل متحد به شمار می\\u200cرود. اطلاعات بیشتر در این زمینه را می\\u200cتوان در منابعی نظیر صفحه ویکی\\u200cپدیای کنوانسیون و کتاب \"The United Nations and Terrorism\" اثر برنهارد بلومناوو یافت.', 'Q&A': [{'question': 'چه عاملی باعث شد تا کنوانسیون حمایت از دیپلمات\\u200cها در سال ۱۹۷۳ به تصویب برسد؟', 'answer': 'افزایش آدم\\u200cربایی\\u200cها و قتل\\u200cهای مأموران دیپلماتیک در دهه ۱۹۶۰ عامل اصلی تصویب این کنوانسیون بود.'}, {'question': 'این کنوانسیون شامل چه مواردی می\\u200cشد و چه اهدافی را دنبال می\\u200cکرد؟', 'answer': 'این کنوانسیون قتل یا آدم\\u200cربایی افراد تحت حمایت بین\\u200cالمللی و حملات خشونت\\u200cآمیز علیه آن\\u200cها را جرم\\u200cانگاری می\\u200cکرد و هدفش حفاظت از مأموران دیپلماتیک و مبارزه با تروریسم بود.'}, {'question': 'اصل \"aut dedere aut Judicare\" در کنوانسیون مذکور چه معنایی داشت و چه نقشی ایفا می\\u200cکرد؟', 'answer': 'این اصل به معنای \"یا تسلیم کن یا محاکمه کن\" بود و تعهد دولت\\u200cها را برای یا محاکمه عاملان این جرایم در صورت عدم استرداد آن\\u200cها مشخص می\\u200cکرد.'}, {'question': 'پس از تصویب کنوانسیون حمایت از دیپلمات\\u200cها، این پیمان چه تأثیری بر روابط بین\\u200cالمللی داشت؟', 'answer': 'این پیمان، گامی مهم در مبارزه با تروریسم از سوی سازمان ملل متحد به شمار می\\u200cرود و به تقویت همکاری\\u200cهای بین\\u200cالمللی در زمینه امنیت دیپلمات\\u200cها کمک کرد.'}, {'question': 'در سال ۱۹۷۴، چند کشور این کنوانسیون را امضا کردند و در نهایت، چه زمانی به اجرا درآمد؟', 'answer': 'در سال ۱۹۷۴، ۲۵ کشور این کنوانسیون را امضا کردند و در ۲۰ فوریه ۱۹۷۷، پس از تصویب توسط ۲۲ کشور، به اجرا درآمد.'}]}\n"
          ]
        },
        {
          "name": "stderr",
          "output_type": "stream",
          "text": [
            "\r 54%|█████▍    | 98/181 [03:51<02:54,  2.10s/it]"
          ]
        },
        {
          "name": "stdout",
          "output_type": "stream",
          "text": [
            "{'sentence': 'در سال ۵۳۲ میلادی، پیمان صلحی موسوم به \"صلح همیشگی\" میان امپراتوری ساسانی و بیزانس به امضا رسید. این پیمان که پس از جنگ ایبری منعقد شد، نشان\\u200cدهنده پایان درگیری\\u200cها و آغاز دوره\\u200cای از صلح نسبی بین دو امپراتوری بود. این صلح اگرچه به ظاهر همیشگی نامیده می\\u200cشد، اما تنها تا سال ۵۴۰ دوام آورد و با آغاز درگیری\\u200cها بر سر منطقه لازستان، نقض شد. این پیمان، روابطی صمیمانه\\u200cتر را میان دو طرف رقم زد. اطلاعات بیشتر در این باره را می توان در منابعی همچون کتاب \"The Roman Eastern Frontier and the Persian Wars\" و \"The Cambridge Companion to the Age of Justinian\" یافت.', 'Q&A': [{'question': 'چه کسی پیمان صلح همیشگی را امضا کرد؟', 'answer': 'این پیمان میان امپراتوری ساسانی و بیزانس امضا شد.'}, {'question': 'چرا پیمان صلح همیشگی منعقد شد؟', 'answer': 'این پیمان پس از جنگ ایبری منعقد شد تا به درگیری ها پایان داده و دوره ای از صلح نسبی را آغاز کند.'}, {'question': 'پیمان صلح همیشگی در چه سالی به امضا رسید؟', 'answer': 'این پیمان در سال ۵۳۲ میلادی به امضا رسید.'}, {'question': 'نتیجه\\u200cی اصلی پیمان صلح همیشگی چه بود؟', 'answer': 'نتیجه\\u200cی اصلی این پیمان، آغاز دوره\\u200cای از صلح نسبی بین امپراتوری ساسانی و بیزانس بود.'}, {'question': 'چرا پیمان صلح همیشگی، با وجود نامش، دوام نیافت؟', 'answer': 'این پیمان به دلیل درگیری ها بر سر منطقه لازستان در سال ۵۴۰ میلادی نقض شد.'}]}\n"
          ]
        },
        {
          "name": "stderr",
          "output_type": "stream",
          "text": [
            "\r 55%|█████▍    | 99/181 [03:54<03:05,  2.26s/it]"
          ]
        },
        {
          "name": "stdout",
          "output_type": "stream",
          "text": [
            "{'sentence': 'پیمان سنت پترزبورگ، که در ۲۳ سپتامبر ۱۷۲۳ (برابر با ۱۲ سپتامبر به گاه\\u200cشماری ژولینی) در شهر سنت پترزبورگ به امضا رسید، از رویدادهای مهم تاریخی در روابط ایران و روسیه به شمار می\\u200cرود. این پیمان در پی حمله پتر یکم به ایران منعقد شد و طی آن، ایران مجبور به واگذاری بخش\\u200cهای وسیعی از سرزمین\\u200cهای خود در قفقاز شمالی، جنوبی و آذربایجان، از جمله دربند (داغستان)، باکو، و مناطق اطراف شیروان، همچنین گیلان، مازندران و استرآباد شد. این قرارداد، که در واقع به دلیل واگذاری این سرزمین\\u200cها به روسیه امضا شد، تأثیرات عمیقی بر ساختار سیاسی و اجتماعی ایران گذاشت. بر اساس این پیمان، سربازان روسی نیز به شاه تهماسب دوم در برقراری آرامش و صلح داخلی یاری رساندند. اطلاعات تکمیلی در اسناد از روابط ایران و روسیه از صفویه تا قاجاریه قابل دسترسی است.', 'Q&A': [{'question': 'چه کسی پیمان سنت پترزبورگ را به امضا رساند و این پیمان چه زمانی منعقد شد؟', 'answer': 'ایران و روسیه این پیمان را امضا کردند و در ۲۳ سپتامبر ۱۷۲۳ (برابر با ۱۲ سپتامبر به گاه\\u200cشماری ژولینی) به امضا رسید.'}, {'question': 'چرا پیمان سنت پترزبورگ امضا شد و چه مناطقی از ایران به موجب این پیمان واگذار گردید؟', 'answer': 'این پیمان پس از حمله پتر یکم به ایران امضا شد. ایران مجبور به واگذاری بخش\\u200cهای وسیعی از قفقاز شمالی، جنوبی، آذربایجان (از جمله دربند، باکو و مناطق اطراف شیروان)، گیلان، مازندران و استرآباد شد.'}, {'question': 'تأثیر اصلی پیمان سنت پترزبورگ بر ایران چه بود؟', 'answer': 'این پیمان تأثیرات عمیقی بر ساختار سیاسی و اجتماعی ایران گذاشت.'}, {'question': 'بر اساس پیمان سنت پترزبورگ، روسیه چه تعهدی در قبال ایران داشت؟', 'answer': 'بر اساس این پیمان، سربازان روسی به شاه تهماسب دوم در برقراری آرامش و صلح داخلی کمک کردند.'}, {'question': 'اهمیت تاریخی پیمان سنت پترزبورگ در روابط ایران و روسیه چیست؟', 'answer': 'این پیمان یکی از رویدادهای مهم تاریخی در روابط ایران و روسیه به شمار می\\u200cرود و نشان\\u200cدهنده نفوذ روسیه در ایران در آن دوره است.'}]}\n"
          ]
        },
        {
          "name": "stderr",
          "output_type": "stream",
          "text": [
            "\r 55%|█████▌    | 100/181 [03:56<03:00,  2.23s/it]"
          ]
        },
        {
          "name": "stdout",
          "output_type": "stream",
          "text": [
            "{'sentence': 'عهدنامه ترکمانچای، پیمانی سرنوشت\\u200cساز که در سال ۱۸۲۸ در ایروان به امضا رسید، نقطه عطفی در تاریخ ایران به شمار می\\u200cرود. این معاهده، که در پی شکست ایران از روسیه منعقد شد، منجر به جدایی بخش\\u200cهایی از خاک ایران و الحاق آن به روسیه گردید. این قرارداد که جنگ\\u200cهای ایران و روسیه را خاتمه داد، حاکمیت ایران بر دریای خزر را نیز محدود کرد. در این عهدنامه، فتحعلی\\u200cشاه، میرزا ابوالحسن خان شیرازی و یارخان آصف\\u200cالدوله از جانب ایران و امپراتور روسیه، ایوان پاسکویچ از طرف روسیه شرکت داشتند. پیامدهای این پیمان، از جمله از دست رفتن ایالات قفقاز، یعنی ایروان و نخجوان، برای ایرانیان ناگوار بود و قبول کاپیتولاسیون نیز از دیگر نتایج آن بود. این واقعه، اگرچه به دلیل شرایط جنگی و شکست ایران، ننگین تلقی می\\u200cشود، اما به جنگ\\u200cهای ایران و روسیه پایان داد و تاریخ روابط دو کشور را برای همیشه تحت تاثیر قرار داد. اطلاعات تکمیلی را می\\u200cتوانید در منابع مختلف از جمله ویکی\\u200cپدیا بیابید.', 'Q&A': [{'question': 'عهدنامه ترکمانچای چه زمانی و در کجا به امضا رسید؟', 'answer': 'عهدنامه ترکمانچای در سال ۱۸۲۸ میلادی در ایروان به امضا رسید.'}, {'question': 'علت اصلی امضای عهدنامه ترکمانچای چه بود؟', 'answer': 'علت اصلی امضای عهدنامه ترکمانچای، شکست ایران در جنگ با روسیه بود.'}, {'question': 'جدایی کدام بخش\\u200cهای خاک ایران نتیجه مستقیم عهدنامه ترکمانچای بود؟', 'answer': 'عهدنامه ترکمانچای منجر به جدایی ایالات قفقاز، از جمله ایروان و نخجوان، از خاک ایران شد.'}, {'question': 'میرزا ابوالحسن خان شیرازی در عهدنامه ترکمانچای چه نقشی داشت؟', 'answer': 'میرزا ابوالحسن خان شیرازی به نمایندگی از ایران در مذاکرات عهدنامه ترکمانچای شرکت داشت.'}, {'question': 'با توجه به شرایط تاریخی، چرا عهدنامه ترکمانچای برای ایرانیان ننگین تلقی می\\u200cشود؟', 'answer': 'این عهدنامه به دلیل از دست رفتن خاک ایران، پذیرش کاپیتولاسیون و شرایط تحمیل\\u200cشده بر ایران، از سوی ایرانیان ننگین تلقی می\\u200cشود.'}]}\n"
          ]
        },
        {
          "name": "stderr",
          "output_type": "stream",
          "text": [
            "\r 56%|█████▌    | 101/181 [03:59<03:14,  2.43s/it]"
          ]
        },
        {
          "name": "stdout",
          "output_type": "stream",
          "text": [
            "{'sentence': 'این مقاله به بررسی امتیازات و قراردادهای منعقد شده در دوران قاجار می\\u200cپردازد. این اسناد، روابط ایران با دیگر کشورها و همچنین اتباع کشورهای بیگانه را در آن دوره تاریخی پوشش می\\u200cدهند. در سال ۱۹۰۷، این مقاله فهرستی از امتیازات و عهدنامه\\u200cها، شامل توافقات میان ایران و سایر کشورها، توافقات دیگر کشورها درباره ایران و همچنین قراردادهای میان ایران و اتباع خارجی را ارائه می\\u200cدهد. این مجموعه شامل ضمیمه\\u200cای در مورد تشریفات تجدید روابط سیاسی و پیوستی به نام «تکمله» برای توضیح فصل هشتم نیز می\\u200cباشد. در واقع، این مقاله تصویری از تاریخچه تعاملات دیپلماتیک و تجاری ایران در دوره قاجار را به نمایش می\\u200cگذارد. منبع اصلی این اطلاعات، مقاله ای است از ویکی\\u200cپدیا با عنوان «امتیازات و قراردادها در دوره قاجار».', 'Q&A': [{'question': 'چه سالی مقاله \"امتیازات و قراردادها در دوره قاجار\" منتشر شد و چه چیزی را شامل می\\u200cشد؟', 'answer': 'این مقاله در سال ۱۹۰۷ منتشر شد و شامل فهرستی از امتیازات و عهدنامه\\u200cهای منعقد شده بین ایران و سایر کشورها، توافقات دیگر کشورها درباره ایران و قراردادهای میان ایران و اتباع خارجی در دوره قاجار بود.'}, {'question': 'هدف اصلی از تهیه مقاله \"امتیازات و قراردادها در دوره قاجار\" چه بود؟', 'answer': 'هدف اصلی از تهیه این مقاله، ارائه تصویری از تاریخچه تعاملات دیپلماتیک و تجاری ایران در دوره قاجار بود.'}, {'question': 'چرا مطالعه این امتیازات و قراردادها در دوره قاجار مهم است؟', 'answer': 'مطالعه این امتیازات و قراردادها به ما کمک می\\u200cکند تا روابط ایران با دیگر کشورها و نحوه تعامل با اتباع خارجی در آن دوران را درک کنیم و به دیدگاهی عمیق\\u200cتر از تاریخ سیاسی و اقتصادی آن دوره دست یابیم.'}, {'question': 'چه نوع اطلاعاتی در \"تکمله\" که ضمیمه این مقاله بود، ارائه شده است؟', 'answer': 'در \"تکمله\"، توضیحات مربوط به فصل هشتم مقاله ارائه شده است.'}, {'question': 'چه کسی یا چه کسانی بیشتر از این مقاله سود می\\u200cبردند و چرا؟', 'answer': 'پژوهشگران، مورخان و هر کسی که به مطالعه تاریخ ایران در دوره قاجار علاقه مند است، بیشتر از این مقاله سود می\\u200cبردند. زیرا این مقاله منبعی جامع از اطلاعات مربوط به روابط خارجی و تجارت ایران در آن دوره ارائه می\\u200cدهد.'}]}\n"
          ]
        },
        {
          "name": "stderr",
          "output_type": "stream",
          "text": [
            "\r 56%|█████▋    | 102/181 [04:00<02:51,  2.17s/it]"
          ]
        },
        {
          "name": "stdout",
          "output_type": "stream",
          "text": [
            "{'sentence': 'در سال ۱۲۳۷ هجری قمری، پیمانی مهم بین ایران و انگلیس منعقد شد که به عهدنامه ۱۸۲۲ شهرت یافت. این عهدنامه در واقع تلاشی برای رفع اختلافات میان دو کشور بود و به منظور جبران خسارت\\u200cهای وارد شده به بندر لنگه و همچنین شناسایی حق حاکمیت ایران بر بحرین امضا شد. بر اساس این پیمان، استقرار ناوگان انگلیس در خلیج فارس به مدت پنج سال مورد توافق قرار گرفت. از جمله اهداف اصلی این عهدنامه می\\u200cتوان به حل\\u200cوفصل مسالمت\\u200cآمیز اختلافات و همچنین شناسایی حقوق ایران اشاره کرد. این توافق\\u200cنامه، میان ایران قاجاری و انگلستان به امضا رسید و نتایجی همچون رفع اختلافات و تأیید حق حاکمیت ایران را در پی داشت. اطلاعات بیشتر در این زمینه را می\\u200cتوان در مقالاتی از جمله «واکاوی قرارداد ۱۲۳۷ ه ایران ـ انگلستان» و «قرارداد صلح عمومی؛ هدفها و پیآمدها» یافت.', 'Q&A': [{'question': 'چه کسی عهدنامه ۱۸۲۲ را امضا کرد؟', 'answer': 'ایران قاجاری و انگلستان.'}, {'question': 'هدف اصلی انعقاد عهدنامه ۱۸۲۲ چه بود؟', 'answer': 'حل\\u200cوفصل مسالمت\\u200cآمیز اختلافات و شناسایی حقوق ایران.'}, {'question': 'چه زمانی عهدنامه ۱۸۲۲ منعقد شد؟', 'answer': 'در سال ۱۲۳۷ هجری قمری.'}, {'question': 'چرا عهدنامه ۱۸۲۲ امضا شد؟', 'answer': 'برای رفع اختلافات میان ایران و انگلیس، جبران خسارت\\u200cهای وارد شده به بندر لنگه و شناسایی حق حاکمیت ایران بر بحرین.'}, {'question': 'عهدنامه ۱۸۲۲ چه تأثیری بر حضور انگلیس در خلیج فارس داشت؟', 'answer': 'بر اساس این پیمان، استقرار ناوگان انگلیس در خلیج فارس به مدت پنج سال مورد توافق قرار گرفت.'}]}\n"
          ]
        },
        {
          "name": "stderr",
          "output_type": "stream",
          "text": [
            "\r 57%|█████▋    | 103/181 [04:03<02:52,  2.21s/it]"
          ]
        },
        {
          "name": "stdout",
          "output_type": "stream",
          "text": [
            "{'sentence': '### Output Text:', 'Q&A': [{'question': 'چه کسی پنی\\u200cسیلین را کشف کرد؟', 'answer': 'الکساندر فلمینگ.'}, {'question': 'کشف پنی\\u200cسیلین در سال ۱۹۲۸ چه تأثیری بر پزشکی داشت؟', 'answer': 'انقلابی در پزشکی ایجاد کرد و منجر به استفاده گسترده از آنتی\\u200cبیوتیک\\u200cها شد.'}, {'question': 'چرا کشف پنی\\u200cسیلین مهم بود؟', 'answer': 'زیرا جان\\u200cهای بی\\u200cشماری را نجات داد و به درمان بیماری\\u200cهای عفونی کمک شایانی کرد.'}, {'question': 'چگونه کشف پنی\\u200cسیلین باعث تغییر در رویکرد درمان بیماری\\u200cها شد؟', 'answer': 'با ارائه یک درمان مؤثر برای عفونت\\u200cهای باکتریایی که پیش از این اغلب مرگبار بودند.'}, {'question': 'از کشف پنی\\u200cسیلین چه می\\u200cتوانیم در مورد اهمیت اکتشافات علمی بیاموزیم؟', 'answer': 'می\\u200cتوانیم اهمیت تحقیقات علمی و تأثیر آن\\u200cها بر بهبود زندگی انسان را درک کنیم.'}]}\n"
          ]
        },
        {
          "name": "stderr",
          "output_type": "stream",
          "text": [
            "\r 57%|█████▋    | 104/181 [04:04<02:42,  2.11s/it]"
          ]
        },
        {
          "name": "stdout",
          "output_type": "stream",
          "text": [
            "{'sentence': 'پیمان\\u200cنامه مئاندر، که در دوران داریوش دوم منعقد شد، یک توافق\\u200cنامه مهم در تاریخ باستان به شمار می\\u200cرود. این عهدنامه سوم با حضور فارناباز به امضا رسید و شرایط مهمی را دربرداشت. بر اساس این پیمان، سرزمین\\u200cهای آسیایی به شاه تعلق داشت و اسپارتیان متعهد شدند که هیچ اقدامی علیه شاه انجام ندهند. از سوی دیگر، تیسافرن مسئول تامین هزینه\\u200cهای نگهداری ناوگان در زمان رسیدن کشتی\\u200cهای شاه بود. این پیمان\\u200cنامه موجب اتحاد اسپارت و متحدانش با تیسافرن و هیرام شد و به شاه اجازه می\\u200cداد تا در سرزمین\\u200cهای خود هر تصمیمی را که می\\u200cخواهد، اتخاذ کند. این اطلاعات از صفحه ویکیپدیای پیمان\\u200cنامه مئاندر استخراج شده است.', 'Q&A': [{'question': 'چه کسی پیمان\\u200cنامه مئاندر را منعقد کرد؟', 'answer': 'پیمان\\u200cنامه مئاندر در دوران داریوش دوم منعقد شد.'}, {'question': 'چه چیزی به موجب پیمان\\u200cنامه مئاندر به شاه تعلق داشت؟', 'answer': 'بر اساس این پیمان، سرزمین\\u200cهای آسیایی به شاه تعلق داشت.'}, {'question': 'چرا اسپارتیان متعهد شدند که هیچ اقدامی علیه شاه انجام ندهند؟', 'answer': 'اسپارتیان متعهد شدند که هیچ اقدامی علیه شاه انجام ندهند به دلیل شرایط ذکر شده در پیمان\\u200cنامه.'}, {'question': 'تیسافرن مسئول چه کاری در زمان رسیدن کشتی\\u200cهای شاه بود؟', 'answer': 'تیسافرن مسئول تامین هزینه\\u200cهای نگهداری ناوگان در زمان رسیدن کشتی\\u200cهای شاه بود.'}, {'question': 'اهمیت پیمان\\u200cنامه مئاندر در تاریخ باستان چه بود؟', 'answer': 'پیمان\\u200cنامه مئاندر یک توافق\\u200cنامه مهم در تاریخ باستان به شمار می\\u200cرود، زیرا موجب اتحاد اسپارت و متحدانش با تیسافرن و هیرام شد و به شاه اجازه اتخاذ تصمیمات در سرزمین\\u200cهای خود را داد.'}]}\n"
          ]
        },
        {
          "name": "stderr",
          "output_type": "stream",
          "text": [
            "\r 58%|█████▊    | 105/181 [04:07<02:38,  2.09s/it]"
          ]
        },
        {
          "name": "stdout",
          "output_type": "stream",
          "text": [
            "{'sentence': 'کنوانسیون بین\\u200cالمللی منع جنگ\\u200cافزارهای شیمیایی در ژانویه ۱۹۹۳ به تصویب رسید و در آوریل ۱۹۹۷ لازم\\u200cالاجرا شد. این کنوانسیون که در لاهه تنظیم شد، با هدف ممنوعیت استفاده از سلاح\\u200cهای شیمیایی شکل گرفت و به دنبال فاجعه\\u200cی هیروشیمای کوردستان در روژهلات کوردستان به تصویب نمایندگان ۱۶۵ کشور سازمان ملل متحد رسید. سازمان منع سلاح\\u200cهای شیمیایی (OPCW) به عنوان ضامن اجرای این کنوانسیون فعالیت می\\u200cکند. تا سال ۲۰۱۳، ۱۹۰ کشور به این کنوانسیون پیوسته بودند، در حالی که شش کشور از جمله آنگولا، برمه، مصر، اسرائیل، کره شمالی و سودان جنوبی هنوز به آن نپیوسته بودند. این کنوانسیون بر همکاری بین\\u200cالمللی در جهت خلع سلاح شیمیایی تاکید دارد و شامل کشورهایی مانند جمهوری اسلامی ایران، جمهوری بعثی سوریه و فدراسیون روسیه می\\u200cشود.', 'Q&A': [{'question': 'این کنوانسیون چه نام دارد و چه زمانی به تصویب رسید؟', 'answer': 'این کنوانسیون، کنوانسیون بین\\u200cالمللی منع جنگ\\u200cافزارهای شیمیایی نام دارد و در ژانویه ۱۹۹۳ به تصویب رسید.'}, {'question': 'چرا کنوانسیون منع جنگ\\u200cافزارهای شیمیایی شکل گرفت؟', 'answer': 'این کنوانسیون با هدف ممنوعیت استفاده از سلاح\\u200cهای شیمیایی شکل گرفت و پس از فاجعه\\u200cی هیروشیمای کوردستان در روژهلات کوردستان شکل گرفت.'}, {'question': 'چه سازمانی مسئول اجرای این کنوانسیون است؟', 'answer': 'سازمان منع سلاح\\u200cهای شیمیایی (OPCW) ضامن اجرای این کنوانسیون است.'}, {'question': 'عضویت در این کنوانسیون چه تأثیری بر کشورهای عضو دارد؟', 'answer': 'این کنوانسیون بر همکاری بین\\u200cالمللی در جهت خلع سلاح شیمیایی تاکید دارد و کشورها را به این سمت سوق می\\u200cدهد.'}, {'question': 'تصویب و اجرای این کنوانسیون چه اهمیتی در جهان دارد؟', 'answer': 'این کنوانسیون با ممنوعیت استفاده از سلاح\\u200cهای شیمیایی، گامی مهم در جهت صلح و امنیت جهانی برداشته است.'}]}\n"
          ]
        },
        {
          "name": "stderr",
          "output_type": "stream",
          "text": [
            "\r 59%|█████▊    | 106/181 [04:09<02:36,  2.09s/it]"
          ]
        },
        {
          "name": "stdout",
          "output_type": "stream",
          "text": [
            "{'sentence': 'در سال ۱۸۹۰، قانون کنفرانس بروکسل با هدف پایان دادن به تجارت برده و بهبود شرایط زندگی مردم بومی تدوین شد. این قانون که در بروکسل به امضا رسید، توسط کشورهایی که در کنگو نفوذ یا حاکمیت داشتند، تأیید شد. از جمله دلایل اصلی این کنفرانس می توان به تأسیس شعبه دفتر بین\\u200cالمللی در زنگبار، موافقت با جلوگیری از فروش اسلحه به آفریقایی\\u200cها و امضای معاهده سن ژرمن ان\\u200cلاو اشاره کرد. کشورهای انگلستان، فرانسه، آلمان، پرتغال، دولت آزاد کنگو، ایتالیا، اسپانیا، هلند، بلژیک، روسیه، اطریش-مجارستان، سوئد، نروژ، دانمارک، ایالات متحده آمریکا، دولت عثمانی، زنگبار و ایران از جمله امضاکنندگان این قانون بودند. این قانون از ۳۱ اوت ۱۸۹۱ به اجرا گذاشته شد و به دنبال آن، تجارت برده متوقف و شرایط زندگی بومیان بهبود یافت. این اقدام به دلیل تلاش\\u200cهای بین\\u200cالمللی برای ممنوعیت تجارت برده، از اهمیت تاریخی ویژه\\u200cای برخوردار است. اطلاعات بیشتر در منابعی همچون ویکی\\u200cپدیا و کتاب \"A Draft International Criminal Code\" اثر Bassiouni, M. Cherif موجود است.', 'Q&A': [{'question': 'چه زمانی قانون کنفرانس بروکسل به اجرا گذاشته شد؟', 'answer': 'قانون کنفرانس بروکسل از ۳۱ اوت ۱۸۹۱ به اجرا گذاشته شد.'}, {'question': 'چرا کنفرانس بروکسل برگزار شد و این قانون تدوین گردید؟', 'answer': 'این کنفرانس به منظور پایان دادن به تجارت برده و بهبود شرایط زندگی مردم بومی برگزار شد.'}, {'question': 'چه کشورهایی قانون کنفرانس بروکسل را امضا کردند؟', 'answer': 'انگلستان، فرانسه، آلمان، پرتغال، دولت آزاد کنگو، ایتالیا، اسپانیا، هلند، بلژیک، روسیه، اطریش-مجارستان، سوئد، نروژ، دانمارک، ایالات متحده آمریکا، دولت عثمانی، زنگبار و ایران این قانون را امضا کردند.'}, {'question': 'نتیجه اصلی اجرای قانون کنفرانس بروکسل چه بود؟', 'answer': 'نتیجه اصلی اجرای این قانون، توقف تجارت برده و بهبود شرایط زندگی بومیان بود.'}, {'question': 'اهمیت تاریخی قانون کنفرانس بروکسل در چه چیزی نهفته است؟', 'answer': 'این قانون به دلیل تلاش\\u200cهای بین\\u200cالمللی برای ممنوعیت تجارت برده، از اهمیت تاریخی ویژه\\u200cای برخوردار است.'}]}\n"
          ]
        },
        {
          "name": "stderr",
          "output_type": "stream",
          "text": [
            "\r 59%|█████▉    | 107/181 [04:11<02:37,  2.13s/it]"
          ]
        },
        {
          "name": "stdout",
          "output_type": "stream",
          "text": [
            "{'sentence': 'در سال ۱۹۶۵، معاهده بین\\u200cالمللی محو همه اشکال تبعیض نژادی به امضا رسید. این معاهده، که توسط سازمان ملل متحد و کشورهای مختلف از جمله اروپا، آسیا، آفریقا، اقیانوسیه، آمریکای جنوبی، آمریکای شمالی و جنوبگان امضا شده، اعضای خود را به تفاهم بین\\u200cنژادی متعهد می\\u200cکند. این پیمان، با ۸۸ امضاکننده و ۱۷۷ طرف، تلاش جهانی برای از بین بردن تبعیض نژادی را نشان می\\u200cدهد و طرفین را به غیرقانونی کردن نفرت\\u200cپراکنی و جرم دانستن عضویت در سازمان\\u200cهای نژادپرست ملزم می\\u200cسازد. از جمله تأثیرات این معاهده، می\\u200cتوان به ترویج تفاهم بین\\u200cنژادی و جرم\\u200cانگاری نفرت\\u200cپراکنی اشاره کرد. اطلاعات بیشتر در این مورد در وب\\u200cسایت ویکی\\u200cپدیا موجود است.', 'Q&A': [{'question': 'معاهده بین\\u200cالمللی محو همه اشکال تبعیض نژادی در چه سالی به امضا رسید؟', 'answer': 'این معاهده در سال ۱۹۶۵ به امضا رسید.'}, {'question': 'هدف اصلی این معاهده چه بود؟', 'answer': 'هدف اصلی این معاهده از بین بردن اشکال تبعیض نژادی در سراسر جهان بود.'}, {'question': 'چرا کشورهای زیادی این معاهده را امضا کردند؟', 'answer': 'کشورهای زیادی این معاهده را امضا کردند تا تعهد خود را به تفاهم بین\\u200cنژادی نشان دهند و برای مبارزه با تبعیض نژادی با یکدیگر همکاری کنند.'}, {'question': 'این معاهده چه تأثیری بر جوامع جهانی داشت؟', 'answer': 'این معاهده با جرم\\u200cانگاری نفرت\\u200cپراکنی و ترویج تفاهم بین\\u200cنژادی، تأثیری مثبت بر جوامع جهانی داشت.'}, {'question': 'آیا این معاهده هنوز هم اهمیت دارد و چرا؟', 'answer': 'بله، این معاهده هنوز هم اهمیت دارد زیرا به عنوان یک ابزار قانونی برای مبارزه با تبعیض نژادی و ارتقای حقوق بشر در سراسر جهان عمل می\\u200cکند و اهمیت آن در زمانه کنونی نیز پابرجاست.'}]}\n"
          ]
        },
        {
          "name": "stderr",
          "output_type": "stream",
          "text": [
            "\r 60%|█████▉    | 108/181 [04:13<02:25,  2.00s/it]"
          ]
        },
        {
          "name": "stdout",
          "output_type": "stream",
          "text": [
            "{'sentence': 'پیمان منع جنگ\\u200cافزارهای هسته\\u200cای، یک توافق بین\\u200cالمللی مهم با هدف جلوگیری از استفاده از تسلیحات اتمی است. این پیمان در سال ۲۰۱۷، در شهر نیویورک و با رأی موافق ۱۲۲ کشور به تصویب رسید. این توافقنامه، که از مارس ۲۰۱۷ مذاکرات آن آغاز شده بود، با ممنوعیت\\u200cهای گسترده\\u200cای همراه است؛ از جمله منع استفاده، توسعه، تولید، ذخیره، انتقال و آزمایش جنگ\\u200cافزارهای هسته\\u200cای. کشورهایی همچون آمریکا، روسیه، بریتانیا، چین، فرانسه، هند، پاکستان، کره شمالی و اسرائیل از جمله کشورهایی هستند که در این پیمان حضور ندارند.  اهمیت تاریخی این پیمان در این است که به دنبال ایجاد جهانی عاری از سلاح\\u200cهای هسته\\u200cای است.  اطلاعات تکمیلی در منابع مختلف، از جمله ویکی\\u200cپدیا، در دسترس است.', 'Q&A': [{'question': 'پیمان منع جنگ\\u200cافزارهای هسته\\u200cای چه زمانی به تصویب رسید؟', 'answer': 'این پیمان در سال ۲۰۱۷ میلادی به تصویب رسید.'}, {'question': 'چرا پیمان منع جنگ\\u200cافزارهای هسته\\u200cای اهمیت تاریخی دارد؟', 'answer': 'این پیمان به دنبال ایجاد جهانی عاری از سلاح\\u200cهای هسته\\u200cای است.'}, {'question': 'چه کشورهایی در این پیمان حضور ندارند؟', 'answer': 'کشورهایی همچون آمریکا، روسیه، بریتانیا، چین، فرانسه، هند، پاکستان، کره شمالی و اسرائیل در این پیمان حضور ندارند.'}, {'question': 'این پیمان شامل چه ممنوعیت\\u200cهایی است؟', 'answer': 'این پیمان شامل ممنوعیت استفاده، توسعه، تولید، ذخیره، انتقال و آزمایش جنگ\\u200cافزارهای هسته\\u200cای است.'}, {'question': 'مذاکرات مربوط به این پیمان در کجا آغاز شد و چه هدفی داشت؟', 'answer': 'مذاکرات این پیمان در مارس ۲۰۱۷ آغاز شد و هدف آن، جلوگیری از استفاده از تسلیحات اتمی بود.'}]}\n"
          ]
        },
        {
          "name": "stderr",
          "output_type": "stream",
          "text": [
            "\r 60%|██████    | 109/181 [04:15<02:30,  2.09s/it]"
          ]
        },
        {
          "name": "stdout",
          "output_type": "stream",
          "text": [
            "{'sentence': 'در سال ۱۸۹۹، کنوانسیون\\u200cهای لاهه در شهر لاهه هلند، در قالب دو کنفرانس بین\\u200cالمللی صلح برگزار شدند. این کنوانسیون\\u200cها مجموعه\\u200cای از معاهدات و اعلامیه\\u200cهای بین\\u200cالمللی بودند که با هدف رفع اشکالات نظام داوری بین\\u200cالمللی و تشویق دولت\\u200cها به امضای موافقت\\u200cنامه\\u200cهای بین\\u200cالمللی شکل گرفتند. در این کنفرانس\\u200cها، کشورهایی همچون روسیه، ایالات متحده آمریکا، مکزیک، ایران، چین، ژاپن و سیام حضور داشتند. حاصل این نشست\\u200cها، تأسیس دیوان دائمی داوری بود و کنوانسیون\\u200cهای لاهه به عنوان یکی از اولین اعلامیه\\u200cهای رسمی از قوانین جنگ در چارچوب قوانین بین\\u200cالمللی سکولار شناخته می\\u200cشوند. گرچه کنفرانس سومی برای سال ۱۹۱۴ برنامه\\u200cریزی شده بود، اما به سال ۱۹۱۵ موکول شد. اطلاعات بیشتری در خصوص این کنوانسیون\\u200cها را می\\u200cتوان در مقالات و منابع مختلف، از جمله ویکی\\u200cپدیا، یافت.', 'Q&A': [{'question': 'کنوانسیون\\u200cهای لاهه چه زمانی برگزار شدند؟', 'answer': 'کنوانسیون\\u200cهای لاهه در سال ۱۸۹۹ برگزار شدند.'}, {'question': 'هدف اصلی کنفرانس\\u200cهای لاهه چه بود؟', 'answer': 'هدف اصلی کنفرانس\\u200cهای لاهه رفع اشکالات نظام داوری بین\\u200cالمللی و تشویق دولت\\u200cها به امضای موافقت\\u200cنامه\\u200cهای بین\\u200cالمللی بود.'}, {'question': 'چرا این کنوانسیون\\u200cها اهمیت تاریخی دارند؟', 'answer': 'کنوانسیون\\u200cهای لاهه به عنوان یکی از اولین اعلامیه\\u200cهای رسمی از قوانین جنگ در چارچوب قوانین بین\\u200cالمللی سکولار شناخته می\\u200cشوند، که نشان\\u200cدهندهٔ تلاش\\u200cهای اولیه برای تنظیم جنگ و صلح است.'}, {'question': 'چه کشورهایی در کنفرانس\\u200cهای لاهه شرکت داشتند؟', 'answer': 'کشورهایی همچون روسیه، ایالات متحده آمریکا، مکزیک، ایران، چین، ژاپن و سیام در کنفرانس\\u200cهای لاهه حضور داشتند.'}, {'question': 'نتیجهٔ اصلی کنفرانس\\u200cهای لاهه چه بود و چه تأثیری داشت؟', 'answer': 'حاصل این نشست\\u200cها تأسیس دیوان دائمی داوری بود که به عنوان یک نهاد برای حل اختلافات بین\\u200cالمللی عمل می\\u200cکرد و تأثیری در توسعهٔ حقوق بین\\u200cالملل داشت.'}]}\n"
          ]
        },
        {
          "name": "stderr",
          "output_type": "stream",
          "text": [
            "\r 61%|██████    | 110/181 [04:16<02:18,  1.95s/it]"
          ]
        },
        {
          "name": "stdout",
          "output_type": "stream",
          "text": [
            "{'sentence': 'در سال ۱۹۹۲ میلادی، کنوانسیون تنوع زیستی در ریودوژانیرو به تصویب رسید؛ یک توافق\\u200cنامه بین\\u200cالمللی که با هدف حفظ تنوع زیستی و بهره\\u200cبرداری پایدار از گونه\\u200cها شکل گرفت. این کنوانسیون توسط سازمان ملل متحد و کشورهای عضو آن امضا شد و در سال ۱۹۹۳ به اجرا درآمد. از جمله اهداف این کنوانسیون، می\\u200cتوان به سهیم شدن عادلانه در مزایای استفاده از منابع ژنتیکی، دسترسی مناسب به این منابع و انتقال صحیح فناوری\\u200cهای مرتبط اشاره کرد. این پیمان، که اهمیت تاریخی فراوانی دارد، در تلاش است تا به حفظ محیط زیست و مقابله با تهدیدات زیستی کمک کند. اطلاعات بیشتر در این خصوص در منابع متعددی از جمله وب\\u200cسایت ویکی\\u200c\\u200cپدیا و مجموعه\\u200cی معاهدات سازمان ملل متحد قابل دسترس است.', 'Q&A': [{'question': 'چه زمانی کنوانسیون تنوع زیستی به اجرا درآمد؟', 'answer': 'این کنوانسیون در سال ۱۹۹۳ به اجرا درآمد.'}, {'question': 'چرا کنوانسیون تنوع زیستی شکل گرفت؟', 'answer': 'هدف از شکل\\u200cگیری این کنوانسیون، حفظ تنوع زیستی و بهره\\u200cبرداری پایدار از گونه\\u200cها بود.'}, {'question': 'چه کسانی این کنوانسیون را امضا کردند؟', 'answer': 'این کنوانسیون توسط سازمان ملل متحد و کشورهای عضو آن امضا شد.'}, {'question': 'این کنوانسیون چه تأثیری بر جهان داشت؟', 'answer': 'این پیمان به حفظ محیط زیست و مقابله با تهدیدات زیستی کمک می\\u200cکند و اهمیت تاریخی دارد.'}, {'question': 'چگونه کنوانسیون تنوع زیستی به توسعه پایدار کمک می\\u200cکند؟', 'answer': 'با سهیم شدن عادلانه در مزایای منابع ژنتیکی، دسترسی مناسب به این منابع و انتقال فناوری\\u200cهای مرتبط، کنوانسیون به توسعه پایدار کمک می\\u200cکند.'}]}\n"
          ]
        },
        {
          "name": "stderr",
          "output_type": "stream",
          "text": [
            "\r 61%|██████▏   | 111/181 [04:18<02:12,  1.89s/it]"
          ]
        },
        {
          "name": "stdout",
          "output_type": "stream",
          "text": [
            "{'sentence': 'در ۱۷ تیر ماه سال ۱۳۱۶ (۸ ژوئیه ۱۹۳۷)، پیمان سعدآباد، یک پیمان صلح و دوستی تاریخی، در کاخ سعدآباد تهران به امضا رسید. این پیمان، که بین چهار کشور ایران، افغانستان، عراق و ترکیه منعقد شد، تعهداتی مهم در بر داشت. کشورهای امضاکننده متعهد شدند در امور داخلی یکدیگر مداخله نکنند، به حدود مرزی احترام بگذارند و از ایجاد گروه\\u200cهای معارض جلوگیری نمایند. از جمله اهداف این پیمان، حفظ صلح و ثبات در منطقه بود. این پیمان توسط رضاشاه پهلوی از ایران، ملک غازی اول از عراق، محمد ظاهر شاه از افغانستان و مصطفی کمال آتاترک از ترکیه امضا شد. این عهدنامه اهمیت تاریخی فراوانی داشته و نقش مهمی در روابط بین این چهار کشور ایفا کرد.', 'Q&A': [{'question': 'چه زمانی پیمان سعدآباد به امضا رسید؟', 'answer': 'پیمان سعدآباد در ۱۷ تیر ماه سال ۱۳۱۶ (۸ ژوئیه ۱۹۳۷) به امضا رسید.'}, {'question': 'چه کشورهایی پیمان سعدآباد را امضا کردند؟', 'answer': 'ایران، افغانستان، عراق و ترکیه.'}, {'question': 'چرا پیمان سعدآباد منعقد شد؟', 'answer': 'از جمله اهداف پیمان سعدآباد، حفظ صلح و ثبات در منطقه بود.'}, {'question': 'چگونه پیمان سعدآباد در روابط بین کشورهای امضاکننده تأثیر گذاشت؟', 'answer': 'این پیمان نقش مهمی در روابط بین این چهار کشور ایفا کرد و به همکاری و احترام متقابل کمک کرد.'}, {'question': 'چه شخصیتی از ایران این پیمان را امضا کرد و این پیمان چه اهمیتی داشت؟', 'answer': 'رضاشاه پهلوی از طرف ایران این پیمان را امضا کرد و پیمان سعدآباد اهمیت تاریخی فراوانی دارد.'}]}\n"
          ]
        },
        {
          "name": "stderr",
          "output_type": "stream",
          "text": [
            "\r 62%|██████▏   | 112/181 [04:20<02:08,  1.87s/it]"
          ]
        },
        {
          "name": "stdout",
          "output_type": "stream",
          "text": [
            "{'sentence': 'باشگاه سافاری، که در سال ۱۹۷۶ تأسیس شد، یک ائتلاف مخفی اطلاعاتی بود که شامل کشورهایی چون ایران، مصر، عربستان سعودی، مراکش و فرانسه می\\u200cشد. هدف اصلی این باشگاه، مقابله با نفوذ شوروی در آفریقا بود. این گروه در پاسخ به تجاوز آنگولا، عملیات نظامی موفقی را در زئیر انجام داد و در نهایت، این اقدامات منجر به امضای قراردادهایی شد که راه را برای پیمان صلح اسرائیل و مصر در سال ۱۹۷۹ هموار کرد. این پیمان از نظر تاریخی حائز اهمیت است، زیرا زمینه\\u200cساز اتحاد مخفی سرویس\\u200cهای اطلاعاتی شد که در آن کشورها با هم همکاری اطلاعاتی داشتند و همچنین به دنبال منافع اقتصادی و نظامی خود بودند.', 'Q&A': [{'question': 'باشگاه سافاری در چه سالی تأسیس شد؟', 'answer': 'باشگاه سافاری در سال ۱۹۷۶ تأسیس شد.'}, {'question': 'هدف اصلی تشکیل باشگاه سافاری چه بود؟', 'answer': 'هدف اصلی باشگاه سافاری مقابله با نفوذ شوروی در آفریقا بود.'}, {'question': 'چگونه اقدامات باشگاه سافاری به پیمان صلح اسرائیل و مصر در سال ۱۹۷۹ منجر شد؟', 'answer': 'اقدامات باشگاه سافاری، به\\u200cویژه عملیات نظامی در زئیر، به ایجاد شرایطی منجر شد که در نهایت راه را برای امضای پیمان صلح اسرائیل و مصر هموار کرد.'}, {'question': 'چه کشورهایی عضو اصلی باشگاه سافاری بودند؟', 'answer': 'ایران، مصر، عربستان سعودی، مراکش و فرانسه از جمله کشورهای عضو اصلی باشگاه سافاری بودند.'}, {'question': 'اهمیت تاریخی باشگاه سافاری در چه چیزی خلاصه می\\u200cشود؟', 'answer': 'اهمیت تاریخی باشگاه سافاری در این است که زمینه ساز همکاری اطلاعاتی میان کشورها شد و همچنین منافع اقتصادی و نظامی مشترکی را دنبال می\\u200cکردند.'}]}\n"
          ]
        },
        {
          "name": "stderr",
          "output_type": "stream",
          "text": [
            "\r 62%|██████▏   | 113/181 [04:22<02:09,  1.91s/it]"
          ]
        },
        {
          "name": "stdout",
          "output_type": "stream",
          "text": [
            "{'sentence': 'در سال ۱۸۷۲، قراردادی میان پاول یولیوس رویتر و دولت قاجار منعقد شد که به \"امتیازنامه رویتر\" شهرت یافت. این قرارداد به موجب پرداخت دویست هزار لیره، امتیازات گسترده\\u200cای را در اختیار رویتر قرار می\\u200cداد، از جمله ساخت راه\\u200cآهن، بهره\\u200cبرداری از معادن، تأسیس بانک، و انحصار کارهای عام\\u200cالمنفعه. این اقدام، اولین تلاش برای استقلال اقتصادی ایران در برابر قدرت\\u200cهای خارجی به شمار می\\u200cرفت. قرارداد مذکور، به انگلیسی\\u200cها و روس\\u200cها اجازه می\\u200cداد تا در امور کشور مداخله کنند. با این حال، امتیازنامه رویتر به دلیل واگذاری گسترده\\u200cی اختیارات به یک تاجر انگلیسی، با اعتراض شدید روحانیون و درباریان مواجه شد و در نهایت ملغی گردید. این قرارداد، تاثیرات عمیقی بر اقتصاد ایران داشت و زمینه\\u200cساز اعتراضات گسترده\\u200cای شد. اطلاعات بیشتر در این زمینه را می\\u200cتوان در صفحه ویکی\\u200cپدیای این رویداد یافت.', 'Q&A': [{'question': 'چه کسی امتیازنامه رویتر را با دولت قاجار منعقد کرد؟', 'answer': 'پاول یولیوس رویتر، تاجر انگلیسی.'}, {'question': 'این قرارداد به طور مشخص در چه سالی منعقد شد؟', 'answer': 'در سال ۱۸۷۲ میلادی.'}, {'question': 'چرا امتیازنامه رویتر در نهایت لغو شد؟', 'answer': 'به دلیل مخالفت شدید روحانیون و درباریان با واگذاری اختیارات گسترده به یک تاجر انگلیسی.'}, {'question': 'نتیجه\\u200cی اصلی امتیازنامه رویتر برای اقتصاد ایران چه بود؟', 'answer': 'تاثیرات عمیقی بر اقتصاد ایران گذاشت و زمینه\\u200cساز اعتراضات گسترده\\u200cای شد.'}, {'question': 'با توجه به مفاد قرارداد، چرا این امتیازنامه به عنوان یک تلاش برای استقلال اقتصادی ایران در برابر قدرت\\u200cهای خارجی ارزیابی می\\u200cشود؟', 'answer': 'به دلیل اینکه این قرارداد، امتیازاتی همچون ساخت راه\\u200cآهن، بهره\\u200cبرداری از معادن، تأسیس بانک و انحصار کارهای عام\\u200cالمنفعه را به رویتر واگذار می\\u200cکرد، که اگر اجرایی می\\u200cشد، می\\u200cتوانست به توسعه\\u200cی اقتصادی ایران کمک کند. اما در نهایت، به جای این کمک به استقلال، به مداخله\\u200cی انگلیسی\\u200cها و روس\\u200cها منجر شد.'}]}\n"
          ]
        },
        {
          "name": "stderr",
          "output_type": "stream",
          "text": [
            "\r 63%|██████▎   | 114/181 [04:24<02:12,  1.98s/it]"
          ]
        },
        {
          "name": "stdout",
          "output_type": "stream",
          "text": [
            "{'sentence': 'پیمان کیوتو، توافقی بین\\u200cالمللی بود که در سال ۱۹۹۷ با هدف کاهش انتشار گازهای گلخانه\\u200cای، عامل اصلی گرمایش زمین، منعقد شد. این پیمان که در چارچوب سازمان ملل متحد شکل گرفت، کشورهای صنعتی را متعهد می\\u200cکرد تا میزان انتشار این گازها را طی ده سال آینده تا ۵ درصد کاهش دهند. همچنین، پیمان کیوتو به دنبال ارائه کمک\\u200cهای مالی به کشورهای در حال توسعه برای استفاده از انرژی\\u200cهای تجدیدپذیر بود. اگرچه این پیمان در ابتدا با هدف کاهش آسیب\\u200cهای زیست\\u200cمحیطی تصویب شد، اما به دلیل عدم تعهد برخی از کشورهای بزرگ صنعتی مانند ایالات متحده آمریکا و چین، و همچنین افزایش انتشار گازهای گلخانه\\u200cای در برخی کشورهای دیگر، نتوانست به اهداف خود دست یابد و به عنوان یک توافق\\u200cنامه ناکارآمد تلقی می\\u200cشود.', 'Q&A': [{'question': 'پیمان کیوتو چه زمانی منعقد شد؟', 'answer': 'پیمان کیوتو در سال ۱۹۹۷ منعقد شد.'}, {'question': 'هدف اصلی پیمان کیوتو چه بود؟', 'answer': 'هدف اصلی پیمان کیوتو، کاهش انتشار گازهای گلخانه\\u200cای و مقابله با گرمایش زمین بود.'}, {'question': 'چرا پیمان کیوتو نتوانست به اهداف خود دست یابد؟', 'answer': 'پیمان کیوتو به دلیل عدم تعهد برخی از کشورهای بزرگ صنعتی مانند ایالات متحده آمریکا و چین، و همچنین افزایش انتشار گازهای گلخانه\\u200cای در برخی کشورهای دیگر، نتوانست به اهداف خود دست یابد.'}, {'question': 'کشورهای صنعتی بر اساس پیمان کیوتو به چه چیزی متعهد بودند؟', 'answer': 'کشورهای صنعتی بر اساس پیمان کیوتو متعهد بودند که میزان انتشار گازهای گلخانه\\u200cای خود را طی ده سال آینده تا ۵ درصد کاهش دهند.'}, {'question': 'به نظر شما، عدم موفقیت پیمان کیوتو چه تأثیری بر تلاش\\u200cهای بین\\u200cالمللی برای مقابله با تغییرات اقلیمی داشت؟', 'answer': 'عدم موفقیت پیمان کیوتو باعث شد تا اعتماد به توافقات بین\\u200cالمللی برای مقابله با تغییرات اقلیمی تضعیف شود و دستیابی به اهداف بلندمدت زیست\\u200cمحیطی با چالش\\u200cهای بیشتری روبرو گردد.'}]}\n"
          ]
        },
        {
          "name": "stderr",
          "output_type": "stream",
          "text": [
            "\r 64%|██████▎   | 115/181 [04:27<02:21,  2.15s/it]"
          ]
        },
        {
          "name": "stdout",
          "output_type": "stream",
          "text": [
            "{'sentence': 'به فرمان شاه عباس یکم صفوی، سفارت ایران در سال ۱۵۹۹ میلادی (۹۷۸ خورشیدی) به منظور یافتن متحدی علیه امپراتوری عثمانی به اروپا اعزام شد. این سفارت که توسط آنتونی شرلی هدایت می\\u200cشد، شامل حسینعلی بیگ بیات و چهار منشی بود. هدف اصلی این سفر، ایجاد اتحاد میان ایرانیان و مسیحیان علیه ترکان عثمانی بود. این ماموریت، پاسخی به شکست\\u200cهای پیشین در جنگ\\u200cهای صفویان و عثمانی (۱۵۷۸-۱۵۹۰) بود. متاسفانه، این تلاش به دلیل عدم موفقیت در برقراری اتحاد با اروپایی\\u200cها و همچنین درگیری\\u200cهای ادامه\\u200cدار با امپراتوری عثمانی، تأثیر منفی به همراه داشت. این سفر نشان داد که ایران برای مقابله با قدرت\\u200cهای بزرگ اروپایی نیازمند همکاری نظامی و تجاری آن\\u200cهاست. این اطلاعات از منابع گوناگونی از جمله ویکی\\u200cپدیا و کتاب\\u200cهای تاریخی مختلف، مانند \"Other routes\" و \"Don Juan of Persia\" استخراج شده است.', 'Q&A': [{'question': 'چه زمانی سفارت ایران به فرمان شاه عباس اول به اروپا اعزام شد؟', 'answer': 'سفارت ایران در سال ۱۵۹۹ میلادی (۹۷۸ خورشیدی) به دستور شاه عباس اول به اروپا اعزام شد.'}, {'question': 'هدف اصلی از اعزام سفارت ایران به اروپا چه بود؟', 'answer': 'هدف اصلی این سفر، ایجاد اتحاد میان ایرانیان و مسیحیان علیه امپراتوری عثمانی بود.'}, {'question': 'چرا شاه عباس اول تصمیم به اعزام سفارت به اروپا گرفت؟', 'answer': 'اعزام سفارت به اروپا پاسخی به شکست\\u200cهای پیشین صفویان در جنگ با عثمانی بود و در جستجوی متحدی برای مقابله با عثمانی بود.'}, {'question': 'آنتونی شرلی که بود و چه نقشی در این سفارت داشت؟', 'answer': 'آنتونی شرلی رهبری سفارت ایران را بر عهده داشت که به دستور شاه عباس اول به اروپا اعزام شده بود.'}, {'question': 'نتیجه کلی سفر سفارت به اروپا چه بود و چه اهمیتی داشت؟', 'answer': 'با وجود تلاش\\u200cها، این سفر به دلیل عدم موفقیت در برقراری اتحاد و ادامه درگیری\\u200cها با عثمانی، تأثیر منفی به همراه داشت. این سفر نشان داد که ایران برای مقابله با قدرت\\u200cهای بزرگ، نیازمند همکاری نظامی و تجاری آن\\u200cهاست.'}]}\n"
          ]
        },
        {
          "name": "stderr",
          "output_type": "stream",
          "text": [
            "\r 64%|██████▍   | 116/181 [04:28<02:06,  1.94s/it]"
          ]
        },
        {
          "name": "stdout",
          "output_type": "stream",
          "text": [
            "{'sentence': 'در سال ۱۹۰۶ میلادی، کنوانسیون برن در شهر برن سوئیس منعقد شد. این پیمان بین\\u200cالمللی با هدف اصلی ممنوعیت استفاده از فسفر سفید در تولید کبریت شکل گرفت، اقدامی که به دنبال مشکلات پزشکی گسترده\\u200cای نظیر فک\\u200cهای فوسیکارگان در میان کارگران تولید کبریت انجام شد. کنوانسیون برن، واردات و فروش کبریت\\u200cهای حاوی فسفر سفید را نیز ممنوع کرد و به این ترتیب، گامی مهم در جهت بهبود سلامت و ایمنی کارگران برداشت. در حال حاضر، این کنوانسیون در ۴۸ کشور اعتبار دارد و سوئیس، به\\u200cعنوان امین این معاهده، نقش مهمی در حفظ و اجرای آن ایفا می\\u200cکند. برای اطلاعات بیشتر، می\\u200cتوان به منابعی نظیر ویکی\\u200cپدیا و انتشارات دفتر بین\\u200cالمللی کار مراجعه کرد.', 'Q&A': [{'question': 'کنوانسیون برن در چه سالی منعقد شد؟', 'answer': 'در سال ۱۹۰۶ میلادی.'}, {'question': 'هدف اصلی کنوانسیون برن چه بود؟', 'answer': 'ممنوعیت استفاده از فسفر سفید در تولید کبریت.'}, {'question': 'چه عواملی منجر به شکل\\u200cگیری کنوانسیون برن شدند؟', 'answer': 'مشکلات پزشکی گسترده\\u200cای نظیر فک\\u200cهای فوسیکارگان در میان کارگران تولید کبریت.'}, {'question': 'نتیجه\\u200cی کنوانسیون برن چه بود؟', 'answer': 'ممنوعیت واردات و فروش کبریت\\u200cهای حاوی فسفر سفید و بهبود سلامت و ایمنی کارگران.'}, {'question': 'سوئیس چه نقشی در رابطه با کنوانسیون برن دارد؟', 'answer': 'سوئیس به\\u200cعنوان امین این معاهده، نقش مهمی در حفظ و اجرای آن ایفا می\\u200cکند.'}]}\n"
          ]
        },
        {
          "name": "stderr",
          "output_type": "stream",
          "text": [
            "\r 65%|██████▍   | 117/181 [04:31<02:17,  2.15s/it]"
          ]
        },
        {
          "name": "stdout",
          "output_type": "stream",
          "text": [
            "{'sentence': 'پیمان نجات فضانوردان، یک توافق بین\\u200cالمللی است که در سال ۱۹۶۷ منعقد شد و کشورهای عضو را متعهد می\\u200cکند تا تمامی امکانات خود را برای نجات فضانوردانی که دچار مشکل شده\\u200cاند، به کار گیرند. این پیمان، که پس از پذیرش قطعنامه ۲۳۴۵ مجمع عمومی سازمان ملل متحد در ۱۹ دسامبر ۱۹۶۷ شکل گرفت، در ۲۲ آوریل ۱۹۶۸ به امضا رسید و در ۳ دسامبر ۱۹۶۸ به اجرا درآمد. تا ماه مه ۲۰۱۳، ۹۲ کشور این پیمان را تصویب کرده بودند. بر اساس این پیمان، هر کشوری که از وضعیت نامناسب جسمی یا روحی پرسنل یک سفینه فضایی آگاهی پیدا کند، موظف است مقامات کشور پرتاب\\u200cکننده و دبیرکل سازمان ملل متحد را مطلع سازد. کشورهای عضو همچنین مجاز به استفاده از تمامی امکانات خود برای نجات فضانوردان در صورت بروز حادثه در فضا هستند و موظفند هرگونه جسم فضایی یا قطعه آن را که بر روی زمین فرود می\\u200cآید، تعمیر و به کشور صاحب بازگردانند. از جمله نهادهایی که در این پیمان مشارکت داشتند، می\\u200cتوان به آژانس فضایی اروپا و سازمان اروپایی بهره\\u200cبرداری از ماهواره\\u200cهای هواشناسی اشاره کرد. اطلاعات بیشتر در این زمینه را می\\u200cتوانید در منابع مختلف، از جمله ویکی\\u200cپدیا، بیابید.', 'Q&A': [{'question': 'پیمان نجات فضانوردان در چه سالی به اجرا درآمد؟', 'answer': 'پیمان نجات فضانوردان در سال ۱۹۶۸ به اجرا درآمد.'}, {'question': 'هدف اصلی پیمان نجات فضانوردان چه بود؟', 'answer': 'هدف اصلی این پیمان، متعهد کردن کشورهای عضو به استفاده از تمام امکانات برای نجات فضانوردانی بود که دچار مشکل شده بودند.'}, {'question': 'چرا این پیمان منعقد شد؟', 'answer': 'این پیمان به منظور ایجاد یک چارچوب بین\\u200cالمللی برای کمک به فضانوردان در مواقع اضطراری و اطمینان از امنیت آن\\u200cها در فضا منعقد شد.'}, {'question': 'چه کشورهایی در این پیمان نقش داشتند و چه وظایفی بر عهده داشتند؟', 'answer': 'کشورهای عضو این پیمان متعهد بودند تا در صورت اطلاع از وضعیت نامناسب یک فضاپیما، مقامات مربوطه و دبیرکل سازمان ملل را مطلع کنند و در صورت بروز حادثه، از تمامی امکانات خود برای نجات فضانوردان استفاده نمایند و هرگونه جسم فضایی فرود آمده را به کشور صاحب آن بازگردانند.'}, {'question': 'پیامدهای مهم امضای پیمان نجات فضانوردان چه بود؟', 'answer': 'این پیمان باعث ایجاد یک همکاری بین\\u200cالمللی برای حمایت از فضانوردان در فضا شد و نشان\\u200cدهنده تعهد جامعه جهانی به حفظ جان انسان\\u200cها در فعالیت\\u200cهای فضایی بود.'}]}\n"
          ]
        },
        {
          "name": "stderr",
          "output_type": "stream",
          "text": [
            "\r 65%|██████▌   | 118/181 [04:33<02:16,  2.17s/it]"
          ]
        },
        {
          "name": "stdout",
          "output_type": "stream",
          "text": [
            "{'sentence': 'پیمان ثبت جزئیات اجسام پرتاب\\u200cشده به فضا در سال ۱۹۷۴ به تصویب رسید. این پیمان که در نیویورک منعقد شد، با هدف جلوگیری از مشکلات ناشی از زباله\\u200cهای فضایی و اطمینان از مسئولیت\\u200cپذیری کشورها در فعالیت\\u200cهای فضایی تدوین شد. تا سال ۲۰۱۴، ۶۲ کشور این پیمان را امضا کردند. آژانس فضایی اروپا و سازمان اروپایی بهره\\u200cبرداری از ماهواره\\u200cهای هواشناسی، دو سازمان بین\\u200cالمللی هستند که حقوق و الزامات این پیمان را پذیرفته\\u200cاند. نظارت بر اجرای این پیمان بر عهده کمیته سازمان ملل در امور استفاده صلح\\u200cآمیز از فضا است. اطلاعات بیشتر در این زمینه در منابع مختلف از جمله وبسایت ویکی\\u200cپدیا موجود است.', 'Q&A': [{'question': 'این پیمان چه نام دارد و چه زمانی به تصویب رسید؟', 'answer': 'این پیمان، پیمان ثبت جزئیات اجسام پرتاب\\u200cشده به فضا نام دارد و در سال ۱۹۷۴ به تصویب رسید.'}, {'question': 'هدف اصلی از تصویب این پیمان چه بود؟', 'answer': 'هدف اصلی از تصویب این پیمان، جلوگیری از مشکلات ناشی از زباله\\u200cهای فضایی و اطمینان از مسئولیت\\u200cپذیری کشورها در فعالیت\\u200cهای فضایی بود.'}, {'question': 'این پیمان در کجا منعقد شد و چه کشورهایی تا سال ۲۰۱۴ آن را امضا کردند؟', 'answer': 'این پیمان در نیویورک منعقد شد و تا سال ۲۰۱۴، ۶۲ کشور آن را امضا کردند.'}, {'question': 'کدام سازمان\\u200cها حقوق و الزامات این پیمان را پذیرفته\\u200cاند؟', 'answer': 'آژانس فضایی اروپا و سازمان اروپایی بهره\\u200cبرداری از ماهواره\\u200cهای هواشناسی، دو سازمان بین\\u200cالمللی هستند که حقوق و الزامات این پیمان را پذیرفته\\u200cاند.'}, {'question': 'چرا این پیمان برای جامعه بین\\u200cالمللی اهمیت داشت؟', 'answer': 'این پیمان به دلیل جلوگیری از آلودگی فضا و تضمین استفاده صلح\\u200cآمیز از آن، اهمیت بالایی برای جامعه بین\\u200cالمللی داشت و به توسعه فعالیت\\u200cهای فضایی مسئولانه کمک می\\u200cکرد.'}]}\n"
          ]
        },
        {
          "name": "stderr",
          "output_type": "stream",
          "text": [
            "\r 66%|██████▌   | 119/181 [04:35<02:13,  2.15s/it]"
          ]
        },
        {
          "name": "stdout",
          "output_type": "stream",
          "text": [
            "{'sentence': 'در سال ۱۳۳۳، دولت زاهدی قراردادی با شوروی امضا کرد که به واگذاری روستای فیروزه و اراضی اطراف آن به شوروی انجامید. این اقدام در پی اختلافات مرزی و مالی بین دو کشور صورت گرفت. این رویداد به دنبال طلب ۱۱ تن طلای ایران از شوروی در دوران پس از جنگ جهانی دوم بود که پرداخت آن تا پس از سقوط دولت مصدق به تعویق افتاد. قرارداد مزبور همچنین به دنبال ماده سوم پیمان دوستی ۱۹۲۱ بین دو کشور بود، که شوروی متعهد به بازگرداندن جزایر آشوراده و دیگر جزایر در سواحل استرآباد (گرگان) به ایران شده بود. نتیجه این قرارداد، واگذاری فیروزه و بخشی از خاک ایران به شوروی بود، و از لحاظ تاریخی نشان\\u200cدهنده تغییرات سیاسی و اقتصادی در دوران پس از جنگ و تلاش برای حل اختلافات بین دو کشور به شمار می\\u200cآید. برای اطلاعات بیشتر، می توان به منابع موجود در ویکی پدیا و همچنین مقاله هایی در تایم و خبرآنلاین مراجعه کرد.', 'Q&A': [{'question': 'چه زمانی قرارداد واگذاری روستای فیروزه به شوروی امضا شد؟', 'answer': 'این قرارداد در سال ۱۳۳۳ شمسی امضا شد.'}, {'question': 'چرا دولت زاهدی این قرارداد را با شوروی امضا کرد؟', 'answer': 'این قرارداد در پی اختلافات مرزی و مالی بین ایران و شوروی، به خصوص در مورد طلب ۱۱ تن طلای ایران از شوروی، امضا شد.'}, {'question': 'نتیجه اصلی امضای این قرارداد چه بود؟', 'answer': 'نتیجه اصلی این قرارداد، واگذاری روستای فیروزه و اراضی اطراف آن، و در نتیجه، بخشي از خاك ايران به شوروی بود.'}, {'question': 'با توجه به متن، این قرارداد چه تاثیری بر روابط بین ایران و شوروی داشت؟', 'answer': 'این قرارداد تلاشی برای حل اختلافات بین دو کشور بود، اما از لحاظ تاریخی نشان\\u200cدهنده تغییرات سیاسی و اقتصادی دوران پس از جنگ جهانی دوم بود.'}, {'question': 'آیا این قرارداد با پیمان دوستی سال ۱۹۲۱ بین ایران و شوروی مرتبط بود؟ چگونه؟', 'answer': 'بله، این قرارداد با ماده سوم پیمان دوستی ۱۹۲۱ مرتبط بود که شوروی متعهد به بازگرداندن جزایر آشوراده و دیگر جزایر به ایران شده بود.'}]}\n"
          ]
        },
        {
          "name": "stderr",
          "output_type": "stream",
          "text": [
            "\r 66%|██████▋   | 120/181 [04:38<02:16,  2.24s/it]"
          ]
        },
        {
          "name": "stdout",
          "output_type": "stream",
          "text": [
            "{'sentence': 'عهدنامه گلستان در ۲۴ اکتبر سال ۱۸۱۳ میلادی میان ایران و روسیه در روستای گلستان امضا شد. این پیمان، که به منظور پایان دادن به جنگ\\u200cهای قاجاری میان دو کشور منعقد شد، توسط رتیشچف، نماینده روسیه، و ابوالحسن شیرازی، ایلچی ایران، به امضا رسید. متاسفانه، به دلیل عدم همراهی انگلیس با ایران در این پیمان، و همچنین پیروزی روسیه بر ناپلئون که باعث شد روس\\u200cها نیازی به صلح با ایران نبینند، این قرارداد به هدف اصلی خود که بازگرداندن سرزمین\\u200cهای ایران بود، دست نیافت. در واقع، این عهدنامه با وجود اینکه پایان جنگ را تضمین کرد، اما نتوانست به دلیل عدم اجرای کامل تعهدات و منافع متضادی که برای هر دو طرف داشت، به نتیجه مطلوب برسد. اهمیت تاریخی این قرارداد، در پایان جنگ اول ایران و روسیه و آغاز دوره\\u200cای جدید در روابط این دو کشور نهفته است. اطلاعات بیشتر در مورد این واقعه را می\\u200cتوان در منابعی همچون گزارش\\u200cهای سر گور اوزلی و جیمز موریه یافت.', 'Q&A': [{'question': 'عهدنامه گلستان در چه تاریخی امضا شد؟', 'answer': 'عهدنامه گلستان در ۲۴ اکتبر سال ۱۸۱۳ میلادی امضا شد.'}, {'question': 'چه عواملی باعث شد عهدنامه گلستان نتواند به هدف اصلی خود که بازگرداندن سرزمین\\u200cهای ایران بود، دست یابد؟', 'answer': 'عدم همراهی انگلیس با ایران و پیروزی روسیه بر ناپلئون از جمله عوامل اصلی بودند که مانع از تحقق هدف بازگرداندن سرزمین\\u200cهای ایران توسط این عهدنامه شدند.'}, {'question': 'چه کسی به نمایندگی از ایران عهدنامه گلستان را امضا کرد؟', 'answer': 'ابوالحسن شیرازی، ایلچی ایران، عهدنامه گلستان را به نمایندگی از ایران امضا کرد.'}, {'question': 'چرا عهدنامه گلستان از نظر تاریخی اهمیت دارد؟', 'answer': 'عهدنامه گلستان به دلیل پایان دادن به جنگ اول ایران و روسیه و آغاز دوره\\u200cای جدید در روابط این دو کشور، از اهمیت تاریخی برخوردار است.'}, {'question': 'اگر عهدنامه گلستان به طور کامل اجرا می\\u200cشد، چه تأثیری بر روابط ایران و روسیه می\\u200cگذاشت؟', 'answer': 'اگر عهدنامه گلستان به طور کامل اجرا می\\u200cشد، احتمالاً تنش\\u200cها بین ایران و روسیه کاهش می\\u200cیافت و روابط دو کشور به سمت صلح و همکاری پیش می\\u200cرفت، اگرچه منافع متضادی که هر دو طرف داشتند، اجرای کامل را دشوار می\\u200cکرد.'}]}\n"
          ]
        },
        {
          "name": "stderr",
          "output_type": "stream",
          "text": [
            "\r 67%|██████▋   | 121/181 [04:39<02:06,  2.11s/it]"
          ]
        },
        {
          "name": "stdout",
          "output_type": "stream",
          "text": [
            "{'sentence': 'در سال ۱۸۷۵، پیمان متر به منظور استانداردسازی واحدهای اندازه\\u200cگیری در صنعت تأسیس شد. این پیمان، که ۱۷ کشور عضو آن بودند، گامی مهم در جهت یکسان\\u200cسازی سیستم\\u200cهای اندازه\\u200cگیری در سراسر جهان برداشت. ایران، پس از گذشت یک قرن، در سال ۱۳۵۳ به عضویت سازمان انرژی اتمی درآمد. منطقه اقتصادی اوراسیا نیز به عنوان منطقه\\u200cای پایلوت برای انجام مقایسات آزمایشگاهی انتخاب شد. اهمیت تاریخی این پیمان در کمک به توسعه استانداردها در اندازه\\u200cگیری نهفته است. اطلاعات بیشتر را می\\u200cتوان در منابعی نظیر ویکی\\u200cپدیای فارسی و مقالات منتشر شده توسط دانشنامه بریتانیکا و دیگر منابع مرتبط یافت.', 'Q&A': [{'question': 'پیمان متر در چه سالی تأسیس شد؟', 'answer': 'پیمان متر در سال ۱۸۷۵ میلادی تأسیس شد.'}, {'question': 'هدف اصلی از تأسیس پیمان متر چه بود؟', 'answer': 'هدف اصلی از تأسیس پیمان متر، استانداردسازی واحدهای اندازه\\u200cگیری در صنعت بود.'}, {'question': 'چرا پیمان متر برای توسعه تجارت و تبادلات جهانی مهم بود؟', 'answer': 'پیمان متر با یکسان\\u200cسازی سیستم\\u200cهای اندازه\\u200cگیری، تبادل کالا و خدمات بین کشورها را تسهیل بخشید و به توسعه تجارت جهانی کمک کرد.'}, {'question': 'ایران چه زمانی به عضویت سازمان انرژی اتمی درآمد؟', 'answer': 'ایران در سال ۱۳۵۳ شمسی به عضویت سازمان انرژی اتمی درآمد.'}, {'question': 'اهمیت تاریخی پیمان متر به طور خلاصه در چه چیزی نهفته است؟', 'answer': 'اهمیت تاریخی این پیمان در کمک به توسعه استانداردها در اندازه\\u200cگیری و تسهیل مبادلات جهانی نهفته است.'}]}\n"
          ]
        },
        {
          "name": "stderr",
          "output_type": "stream",
          "text": [
            "\r 67%|██████▋   | 122/181 [04:42<02:08,  2.17s/it]"
          ]
        },
        {
          "name": "stdout",
          "output_type": "stream",
          "text": [
            "{'sentence': 'منشور ملل متحد، سندی بنیادین است که در 26 ژوئن 1945 در سانفرانسیسکو به امضای 50 کشور رسید و در 24 اکتبر همان سال لازم\\u200cالاجرا شد. این سند، که اساسنامه سازمان ملل متحد را تشکیل می\\u200cدهد، اهداف و ساختار این سازمان بین\\u200cالمللی را مشخص می\\u200cکند. امروزه، 193 کشور این منشور را امضا کرده\\u200cاند و رعایت مفاد آن برای تمامی اعضای سازمان ملل متحد الزامی است. تاثیرات این سند شامل تعیین اهداف، سازماندهی و نحوه کار سازمان ملل و نهادهای وابسته به آن می\\u200cشود. این منشور نقشی حیاتی در شکل\\u200cدهی به نظم جهانی پس از جنگ جهانی دوم ایفا کرد.', 'Q&A': [{'question': 'چه زمانی منشور ملل متحد لازم\\u200cالاجرا شد؟', 'answer': 'منشور ملل متحد در 24 اکتبر 1945 لازم\\u200cالاجرا شد.'}, {'question': 'چه هدفی باعث شد تا منشور ملل متحد در ابتدا تهیه و تدوین شود؟', 'answer': 'منشور ملل متحد با هدف تعیین اهداف و ساختار سازمان ملل متحد، که در آن زمان در حال شکل گیری بود، تدوین شد.'}, {'question': 'چه تعداد از کشورها در ابتدا منشور ملل متحد را امضا کردند و در چه مکانی این اتفاق افتاد؟', 'answer': '50 کشور منشور ملل متحد را در سانفرانسیسکو در 26 ژوئن 1945 امضا کردند.'}, {'question': 'چگونه منشور ملل متحد در شکل\\u200cدهی به نظم جهانی پس از جنگ جهانی دوم تأثیرگذار بود؟', 'answer': 'منشور ملل متحد با تعیین اهداف، سازماندهی و نحوه کار سازمان ملل و نهادهای وابسته، نقشی حیاتی در حفظ صلح و امنیت بین\\u200cالمللی و شکل\\u200cدهی به نظم جهانی پس از جنگ جهانی دوم ایفا کرد.'}, {'question': 'امروزه رعایت مفاد منشور ملل متحد برای چه کسانی الزامی است؟', 'answer': 'امروزه رعایت مفاد منشور ملل متحد برای تمامی 193 کشور عضو سازمان ملل متحد الزامی است.'}]}\n"
          ]
        },
        {
          "name": "stderr",
          "output_type": "stream",
          "text": [
            "\r 68%|██████▊   | 123/181 [04:44<02:08,  2.22s/it]"
          ]
        },
        {
          "name": "stdout",
          "output_type": "stream",
          "text": [
            "{'sentence': 'کنوانسیون روتردام، پیمانی چندجانبه برای ارتقای مسئولیت\\u200cهای مشترک در زمینه واردات مواد شیمیایی خطرناک است. این کنوانسیون که در سال ۲۰۱۸ شکل گرفت، با هدف تسهیل تبادل آزاد اطلاعات و استفاده از برچسب\\u200cگذاری مناسب برای این مواد شیمیایی به وجود آمد. از اهداف اصلی این توافق، اطمینان از آگاهی کشورهای واردکننده از خطرات احتمالی مواد شیمیایی و توانایی آن\\u200cها در تصمیم\\u200cگیری آگاهانه در مورد واردات است. کشورهای کانادا، آمریکا، روسیه، قزاقستان، هند، قرقیزستان، پاکستان، کوبرز و زیمبابوه از جمله کشورهایی هستند که در این کنوانسیون حضور دارند. کنوانسیون روتردام همچنین به کشورها اجازه می\\u200cدهد واردات مواد شیمیایی مشخص\\u200cشده در این پیمان را مجاز یا ممنوع اعلام کنند. نتیجه\\u200cی این کنوانسیون، تبادل اطلاعات آزاد و برچسب\\u200cگذاری مناسب مواد شیمیایی خطرناک بود. دبیرخانه\\u200cهای کنوانسیون\\u200cهای بازل، استکهلم و بخشی از برنامه محیط زیست سازمان ملل متحد در سال ۲۰۱۲ با یکدیگر ادغام شدند. اطلاعات بیشتر را می\\u200cتوان از منابع مختلف از جمله ویکی\\u200cپدیا و وب\\u200cسایت کنوانسیون روتردام یافت.', 'Q&A': [{'question': 'کنوانسیون روتردام با چه هدفی شکل گرفت؟', 'answer': 'این کنوانسیون با هدف تسهیل تبادل آزاد اطلاعات و استفاده از برچسب\\u200cگذاری مناسب برای مواد شیمیایی خطرناک به وجود آمد.'}, {'question': 'چه کشورهایی در کنوانسیون روتردام حضور دارند؟', 'answer': 'کشورهایی مانند کانادا، آمریکا، روسیه، قزاقستان، هند، قرقیزستان، پاکستان، کوبرز و زیمبابوه در این کنوانسیون حضور دارند.'}, {'question': 'چرا کنوانسیون روتردام برای کشورهای واردکننده مواد شیمیایی مهم است؟', 'answer': 'زیرا به کشورهای واردکننده این امکان را می\\u200cدهد تا از خطرات احتمالی مواد شیمیایی آگاهی یابند و بتوانند در مورد واردات آن\\u200cها تصمیم\\u200cگیری آگاهانه کنند.'}, {'question': 'نتیجه اصلی کنوانسیون روتردام چه بود؟', 'answer': 'نتیجه اصلی کنوانسیون، تبادل اطلاعات آزاد و برچسب\\u200cگذاری مناسب مواد شیمیایی خطرناک بود.'}, {'question': 'ادغام دبیرخانه\\u200cهای کنوانسیون\\u200cهای بازل و استکهلم و بخشی از برنامه محیط زیست سازمان ملل متحد در سال ۲۰۱۲ چه مفهومی داشت؟', 'answer': 'این ادغام، نشان\\u200cدهنده تلاش برای یکپارچه\\u200cسازی و تقویت همکاری\\u200cهای بین\\u200cالمللی در زمینه مدیریت مواد شیمیایی خطرناک بود.'}]}\n"
          ]
        },
        {
          "name": "stderr",
          "output_type": "stream",
          "text": [
            "\r 69%|██████▊   | 124/181 [04:46<02:03,  2.16s/it]"
          ]
        },
        {
          "name": "stdout",
          "output_type": "stream",
          "text": [
            "{'sentence': 'در سال ۱۹۵۶، کنوانسیون مکمل لغو برده\\u200cداری، به عنوان یک معاهده\\u200cی سازمان ملل متحد، شکل گرفت. این کنوانسیون که در لندن تدوین شد، بر اساس کنوانسیون برده\\u200cداری سال ۱۹۲۶ بنا شده بود و همچنین کنوانسیون کار اجباری سال ۱۹۳۰ را نیز در بر می\\u200cگرفت. این معاهده، که اهمیت تاریخی فراوانی دارد، در جهت لغو برده\\u200cداری و تجارت برده گام برداشت. منابع اصلی این اطلاعات، شامل مجموعه\\u200cی معاهدات سازمان ملل متحد و صفحه ویکی\\u200cپدیای مربوط به این کنوانسیون می\\u200cباشد.', 'Q&A': [{'question': 'چه کسی کنوانسیون مکمل لغو برده\\u200cداری را به عنوان یک معاهده ترتیب داد؟', 'answer': 'سازمان ملل متحد کنوانسیون مکمل لغو برده\\u200cداری را به عنوان یک معاهده ترتیب داد.'}, {'question': 'این کنوانسیون مکمل لغو برده\\u200cداری چه زمانی به تصویب رسید؟', 'answer': 'این کنوانسیون در سال ۱۹۵۶ به تصویب رسید.'}, {'question': 'هدف اصلی کنوانسیون مکمل لغو برده\\u200cداری چه بود؟', 'answer': 'هدف اصلی این کنوانسیون، گام برداشتن در جهت لغو برده\\u200cداری و تجارت برده بود.'}, {'question': 'چگونه کنوانسیون مکمل لغو برده\\u200cداری بر پایه\\u200cی کنوانسیون\\u200cهای قبلی شکل گرفت؟', 'answer': 'این کنوانسیون بر اساس کنوانسیون برده\\u200cداری سال ۱۹۲۶ و کنوانسیون کار اجباری سال ۱۹۳۰ بنا شده بود.'}, {'question': 'اهمیت تاریخی کنوانسیون مکمل لغو برده\\u200cداری در چه چیزی نهفته است؟', 'answer': 'اهمیت تاریخی این کنوانسیون در تلاش برای لغو برده\\u200cداری و تجارت برده در سراسر جهان است.'}]}\n"
          ]
        },
        {
          "name": "stderr",
          "output_type": "stream",
          "text": [
            "\r 69%|██████▉   | 125/181 [04:48<02:04,  2.22s/it]"
          ]
        },
        {
          "name": "stdout",
          "output_type": "stream",
          "text": [
            "{'sentence': 'در سال ۱۹۷۳، کنوانسیون بین\\u200cالمللی تجارت گونه\\u200cهای جانوری و گیاهی وحشی در حال انقراض، که با نام اختصاری سایتس (CITES) یا کنوانسیون واشینگتن نیز شناخته می\\u200cشود، به امضا رسید. این معاهده چندجانبه با هدف حفاظت از جانوران و گیاهان در معرض خطر، در واشینگتن پایه\\u200cگذاری شد و در ۱ ژوئیه ۱۹۷۵ به مرحله اجرا درآمد. ایران نیز از جمله کشورهایی است که به این کنوانسیون پیوسته است. این کنوانسیون، نتیجه\\u200cای در جهت حفاظت از گونه\\u200cهای جانوری و گیاهی در معرض خطر دارد. اطلاعات تکمیلی در این زمینه در ویکی\\u200cپدیا و \"قانون الحاق ایران به کنوانسیون تجارت بین\\u200cالمللی گونه\\u200cهای حیوانات و گیاهان وحشی که در معرض نابودی قرار دارند\" موجود است.', 'Q&A': [{'question': 'کنوانسیون تجارت بین\\u200cالمللی گونه\\u200cهای جانوری و گیاهی وحشی در حال انقراض چه نامیده می\\u200cشود؟', 'answer': 'این کنوانسیون با نام اختصاری سایتس (CITES) یا کنوانسیون واشینگتن شناخته می\\u200cشود.'}, {'question': 'هدف اصلی از امضای کنوانسیون سایتس چه بود؟', 'answer': 'هدف اصلی از امضای این معاهده، حفاظت از جانوران و گیاهان در معرض خطر بود.'}, {'question': 'چرا کنوانسیون سایتس در سال ۱۹۷۳ به امضا رسید؟', 'answer': 'کنوانسیون سایتس به دلیل افزایش تجارت گونه\\u200cهای جانوری و گیاهی در معرض خطر و نیاز به تنظیم قوانین بین\\u200cالمللی برای حفاظت از آن\\u200cها، در سال ۱۹۷۳ به امضا رسید.'}, {'question': 'ایران چه نقشی در کنوانسیون سایتس دارد؟', 'answer': 'ایران یکی از کشورهای عضو کنوانسیون سایتس است و به تعهدات این کنوانسیون پایبند است.'}, {'question': 'چگونه کنوانسیون سایتس به حفاظت از گونه\\u200cهای جانوری و گیاهی کمک می\\u200cکند؟', 'answer': 'کنوانسیون سایتس با تنظیم مقررات تجارت بین\\u200cالمللی گونه\\u200cهای جانوری و گیاهی، از طریق محدود کردن یا ممنوعیت تجارت گونه\\u200cهای در معرض خطر، به حفاظت از آن\\u200cها کمک می\\u200cکند.'}]}\n"
          ]
        },
        {
          "name": "stderr",
          "output_type": "stream",
          "text": [
            "\r 70%|██████▉   | 126/181 [04:51<02:14,  2.44s/it]"
          ]
        },
        {
          "name": "stdout",
          "output_type": "stream",
          "text": [
            "{'sentence': 'در سال ۹۸۸ هجری قمری، ایران به منظور یافتن متحدی علیه امپراتوری عثمانی، اقدام به اعزام سفیرانی به اروپا کرد. این ماموریت که در بازه زمانی ۱۶۰۹ تا ۱۶۱۵ میلادی به طول انجامید، به رهبری رابرت شرلی از سوی شاه عباس یکم صفوی صورت گرفت. شرلی در این سفر، به شهرهایی چون کراکوف، پراگ، فلورانس، رم و مادرید سفر کرد و مورد استقبال و افتخارات فراوانی قرار گرفت. این تلاش\\u200cها در نهایت به امضای قراردادهایی منجر شد که روابط تجاری و نظامی میان ایران و کشورهای اروپایی را گسترش داد. سفارت ایران در اروپا، نقطه\\u200cی عطفی در تاریخ روابط ایران و غرب به شمار می\\u200cآید که در پی اتحاد علیه عثمانی شکل گرفت. اطلاعات بیشتر را می\\u200cتوانید در صفحه ویکی\\u200cپدیای مربوطه بیابید.', 'Q&A': [{'question': 'چه کسی به رهبری سفارت ایران در اروپا منصوب شد و چه هدفی در پس این ماموریت نهفته بود؟', 'answer': 'رابرت شرلی رهبر سفارت ایران در اروپا بود و هدف اصلی آن، یافتن متحدی علیه امپراتوری عثمانی بود.'}, {'question': 'این سفارت در چه بازه\\u200cی زمانی انجام شد و به کدام شهرهای اروپایی سفر کرد؟', 'answer': 'این ماموریت از سال ۱۶۰۹ تا ۱۶۱۵ میلادی طول کشید و شهرهایی چون کراکوف، پراگ، فلورانس، رم و مادرید را در بر گرفت.'}, {'question': 'چرا شاه عباس یکم تصمیم به اعزام سفیران به اروپا گرفت؟', 'answer': 'شاه عباس یکم به دلیل نگرانی از قدرت امپراتوری عثمانی، تصمیم به یافتن متحدانی در اروپا گرفت تا در مقابل آن\\u200cها ایستادگی کند.'}, {'question': 'پیامد اصلی سفارت ایران در اروپا چه بود و چه تاثیری بر روابط ایران و غرب گذاشت؟', 'answer': 'این تلاش\\u200cها منجر به امضای قراردادهایی شد که روابط تجاری و نظامی میان ایران و کشورهای اروپایی را گسترش داد و نقطه\\u200cی عطفی در تاریخ روابط ایران و غرب ایجاد کرد.'}, {'question': 'چگونه می\\u200cتوان سفر رابرت شرلی به اروپا را از نظر تاریخی ارزیابی کرد؟', 'answer': 'سفر رابرت شرلی را می\\u200cتوان اقدامی مهم در جهت باز کردن باب تعامل با غرب و ایجاد روابط دیپلماتیک و نظامی دانست که تأثیر قابل توجهی در تاریخ ایران و روابط بین\\u200cالمللی آن داشته است.'}]}\n"
          ]
        },
        {
          "name": "stderr",
          "output_type": "stream",
          "text": [
            "\r 70%|███████   | 127/181 [04:55<02:25,  2.69s/it]"
          ]
        },
        {
          "name": "stdout",
          "output_type": "stream",
          "text": [
            "{'sentence': 'در سال ۱۹۵۴، کنوانسیون لاهه برای حمایت از اموال فرهنگی در صورت درگیری مسلحانه، به امضا رسید. این کنوانسیون که در لاهه، هلند، منعقد شد، اولین معاهده بین\\u200cالمللی بود که به طور خاص به حفاظت از میراث فرهنگی در زمان جنگ اختصاص داشت. این توافق\\u200cنامه در تاریخ ۱۴ مه ۱۹۵۴ امضا و در ۷ اوت ۱۹۵۶ لازم\\u200cالاجرا شد. ۱۳۳ کشور این کنوانسیون را تصویب کرده\\u200cاند که نشان\\u200cدهنده اهمیت جهانی این پیمان است. اطلاعات بیشتر در این مورد در وبسایت ویکی\\u200cپدیا موجود است.', 'Q&A': [{'question': 'چه کسی مسئولیت اصلی پیشنهاد و تنظیم کنوانسیون لاهه برای محافظت از اموال فرهنگی در سال ۱۹۵۴ را بر عهده داشت؟', 'answer': 'این مسئولیت بر عهده دولت\\u200cها و سازمان\\u200cهای بین\\u200cالمللی بود که به دنبال ایجاد یک چارچوب قانونی برای حفظ میراث فرهنگی در زمان جنگ بودند.'}, {'question': 'این کنوانسیون در چه زمانی به طور رسمی لازم\\u200cالاجرا شد و به چه منظوری تنظیم گردید؟', 'answer': 'این کنوانسیون در ۷ اوت ۱۹۵۶ لازم\\u200cالاجرا شد و با هدف حفظ میراث فرهنگی در برابر تخریب و غارت در طول درگیری\\u200cهای مسلحانه تدوین گردید.'}, {'question': 'چرا کنوانسیون لاهه در سال ۱۹۵۴ از اهمیت بالایی برخوردار بود؟', 'answer': 'این کنوانسیون به دلیل اینکه اولین معاهده بین\\u200cالمللی بود که به طور خاص به حفاظت از میراث فرهنگی در زمان جنگ می\\u200cپرداخت، از اهمیت بالایی برخوردار بود و نشان\\u200cدهنده تعهد جهانی به حفظ ارزش\\u200cهای فرهنگی در شرایط بحرانی بود.'}, {'question': 'این کنوانسیون در چه کشوری منعقد شد و چه نتیجه\\u200cای در پی داشت؟', 'answer': 'این کنوانسیون در لاهه، هلند، منعقد شد و نتیجه\\u200cی آن ایجاد یک چارچوب قانونی برای محافظت از اموال فرهنگی در صورت درگیری مسلحانه بود که توسط ۱۳۳ کشور تصویب شد.'}, {'question': 'چگونه تصویب ۱۳۳ کشور نشان\\u200cدهنده اهمیت کنوانسیون لاهه است؟', 'answer': 'تصویب این تعداد کشور نشان\\u200cدهنده تعهد گسترده جهانی به حفاظت از میراث فرهنگی است و تأییدی بر این واقعیت است که حفظ آثار فرهنگی برای تمام بشریت مهم است.'}]}\n"
          ]
        },
        {
          "name": "stderr",
          "output_type": "stream",
          "text": [
            "\r 71%|███████   | 128/181 [04:57<02:18,  2.62s/it]"
          ]
        },
        {
          "name": "stdout",
          "output_type": "stream",
          "text": [
            "{'sentence': 'معاهده بین\\u200cالمللی منابع ژنتیکی گیاهی برای غذا و کشاورزی (ITPGRFA)، یک توافق\\u200cنامه بین\\u200cالمللی است که در سال ۲۰۰۱ در مادرید به امضا رسید و در ۲۹ ژوئن ۲۰۰۴ اجرایی شد. هدف اصلی این معاهده، تضمین امنیت غذایی از طریق حفاظت، تبادل و بهره\\u200cبرداری پایدار از منابع ژنتیکی گیاهی در سراسر جهان برای تولید غذا و کشاورزی است. این معاهده توسط ۱۴۷ کشور و یک مؤسسه میان\\u200cدولتی، از جمله اتحادیه اروپا، امضا شده است. از جمله اهداف این معاهده می\\u200cتوان به حفاظت از منابع ژنتیکی گیاهی، توزیع عادلانه سود حاصل از این منابع، و به رسمیت شناختن حقوق کشاورزان اشاره کرد. این پیمان بین\\u200cالمللی در جهت تضمین امنیت غذایی جهان گام مهمی به شمار می\\u200cرود و اطلاعات بیشتری در منابع مختلف، از جمله ویکی\\u200c\\u200cپدیا، قابل دسترسی است.', 'Q&A': [{'question': 'معاهده بین\\u200cالمللی منابع ژنتیکی گیاهی برای غذا و کشاورزی (ITPGRFA) چه زمانی اجرایی شد؟', 'answer': 'این معاهده در ۲۹ ژوئن ۲۰۰۴ اجرایی شد.'}, {'question': 'هدف اصلی معاهده ITPGRFA چه بود؟', 'answer': 'هدف اصلی این معاهده، تضمین امنیت غذایی از طریق حفاظت، تبادل و بهره\\u200cبرداری پایدار از منابع ژنتیکی گیاهی در سراسر جهان برای تولید غذا و کشاورزی بود.'}, {'question': 'چرا معاهده ITPGRFA برای امنیت غذایی جهان اهمیت دارد؟', 'answer': 'این معاهده با حفاظت از منابع ژنتیکی گیاهی و توزیع عادلانه سود حاصل از آن\\u200cها، به امنیت غذایی جهان کمک می\\u200cکند و زمینه را برای توسعه پایدار کشاورزی فراهم می\\u200cسازد.'}, {'question': 'چه کشورهایی این معاهده را امضا کردند؟', 'answer': 'این معاهده توسط ۱۴۷ کشور و یک مؤسسه میان\\u200cدولتی، از جمله اتحادیه اروپا، امضا شد.'}, {'question': 'آیا می\\u200cتوان گفت که معاهده ITPGRFA تنها برای کشاورزی مهم است؟ اگر نه، تأثیرات دیگر این معاهده چه می\\u200cتواند باشد؟', 'answer': 'خیر، این معاهده تنها برای کشاورزی مهم نیست. این معاهده همچنین به حقوق کشاورزان احترام می\\u200cگذارد و با حفاظت از تنوع زیستی گیاهی، به پایداری محیط زیست و توسعه پایدار در سطح جهانی کمک می\\u200cکند.'}]}\n"
          ]
        },
        {
          "name": "stderr",
          "output_type": "stream",
          "text": [
            "\r 71%|███████▏  | 129/181 [04:59<02:01,  2.34s/it]"
          ]
        },
        {
          "name": "stdout",
          "output_type": "stream",
          "text": [
            "{'sentence': 'در ۱۳ دسامبر سال ۲۰۰۶، کنوانسیون حقوق افراد دارای ناتوانی به امضا رسید. این پیمان بین\\u200cالمللی با هدف حمایت از حقوق و حفظ کرامت افراد معلول تدوین شده و از آن زمان، به عنوان یک عامل کلیدی در جنبش جهانی حقوق معلولان شناخته می\\u200cشود. کشورهای متعددی از جمله ایالات متحده، اتحادیه اروپا و کانادا، این کنوانسیون را امضا کردند. نتایج این توافق، امضای آن توسط ۱۶۳ کشور تا سال ۲۰۰۷ و تصویب آن توسط ۱۲۶ کشور طی پنج سال اول بوده است. کنوانسیون مذکور، در زمینه حقوق بشر، بر حمایت از حقوق معلولان و برابری کامل آنان تاکید دارد و بر ضرورت دسترسی به مراقبت\\u200cهای پزشکی و حمایت\\u200cهای اجتماعی نیز تاکید می\\u200cورزد. این کنوانسیون به عنوان اولین پیمان حقوق بشر سازمان ملل در قرن بیست و یکم، از اهمیت تاریخی بالایی برخوردار است. اطلاعات بیشتر را می\\u200cتوان از منابع متعددی، از جمله وب\\u200cسایت ویکی\\u200cپدیا، کسب کرد.', 'Q&A': [{'question': 'چه زمانی کنوانسیون حقوق افراد دارای ناتوانی به امضا رسید؟', 'answer': 'در ۱۳ دسامبر سال ۲۰۰۶.'}, {'question': 'چرا کنوانسیون حقوق افراد دارای ناتوانی تدوین شد؟', 'answer': 'با هدف حمایت از حقوق و حفظ کرامت افراد معلول.'}, {'question': 'این کنوانسیون چه تاثیری بر جنبش جهانی حقوق معلولان داشت؟', 'answer': 'به عنوان یک عامل کلیدی در این جنبش شناخته می\\u200cشود.'}, {'question': 'پس از امضای کنوانسیون، چه تعداد کشور آن را در پنج سال اول تصویب کردند؟', 'answer': '۱۲۶ کشور.'}, {'question': 'اهمیت تاریخی کنوانسیون حقوق افراد دارای ناتوانی چه بود؟', 'answer': 'به عنوان اولین پیمان حقوق بشر سازمان ملل در قرن بیست و یکم از اهمیت بالایی برخوردار است.'}]}\n"
          ]
        },
        {
          "name": "stderr",
          "output_type": "stream",
          "text": [
            "\r 72%|███████▏  | 130/181 [05:01<02:04,  2.43s/it]"
          ]
        },
        {
          "name": "stdout",
          "output_type": "stream",
          "text": [
            "{'sentence': 'در ۱۴ دی ۱۳۴۷، پیمان منع گسترش سلاح\\u200cهای هسته\\u200cای (NPT) منعقد شد. این پیمان که در سال ۱۹۶۷ بین کشورهای دارای و غیر دارای سلاح هسته\\u200cای به امضا رسید، به منظور جلوگیری از گسترش این سلاح\\u200cها و پیگیری مذاکرات خلع سلاح هسته\\u200cای بود. ایران، به عنوان دومین کشور آسیایی پس از ژاپن، به این پیمان پیوست. پیمان NPT، کشورها را به دو دسته تقسیم می\\u200cکند: کشورهای دارای سلاح هسته\\u200cای (شامل چین، فرانسه، روسیه، انگلستان و ایالات متحده) و کشورهای فاقد آن. کشورهای دارنده سلاح نیز متعهد شده\\u200cاند که فناوری صلح\\u200cآمیز هسته\\u200cای را در اختیار کشورهای فاقد این سلاح قرار دهند. این پیمان در نهایت به کشورهایی که تا پیش از ۱۱ دی ۱۳۴۷، سلاح هسته\\u200cای یا دیگر وسایل منفجره هسته\\u200cای تولید کرده بودند، اجازه فعالیت هسته\\u200cای داد.', 'Q&A': [{'question': 'پیمان منع گسترش سلاح\\u200cهای هسته\\u200cای (NPT) با چه هدفی منعقد شد؟', 'answer': 'هدف از انعقاد پیمان NPT، جلوگیری از گسترش سلاح\\u200cهای هسته\\u200cای و پیگیری مذاکرات خلع سلاح هسته\\u200cای بود.'}, {'question': 'چه کشورهایی جزو کشورهای دارای سلاح هسته\\u200cای در پیمان NPT محسوب می\\u200cشدند؟', 'answer': 'چین، فرانسه، روسیه، انگلستان و ایالات متحده جزو کشورهای دارای سلاح هسته\\u200cای در پیمان NPT بودند.'}, {'question': 'ایران چه زمانی و به عنوان چه کشوری به پیمان NPT پیوست؟', 'answer': 'ایران به عنوان دومین کشور آسیایی پس از ژاپن، به پیمان NPT پیوست. تاریخ دقیق آن در متن مشخص نشده است، اما اشاره شده که پیوستن ایران پس از منعقد شدن پیمان در ۱۴ دی ۱۳۴۷ بوده است.'}, {'question': 'چرا پیمان NPT برای امنیت بین\\u200cالمللی اهمیت داشت؟', 'answer': 'پیمان NPT با هدف محدود کردن تعداد کشورهای دارای سلاح هسته\\u200cای، از گسترش این سلاح\\u200cها جلوگیری می\\u200cکرد و در نتیجه به کاهش خطر جنگ هسته\\u200cای و حفظ صلح جهانی کمک می\\u200cکرد.'}, {'question': 'بر اساس مفاد پیمان NPT، کشورهای دارای سلاح هسته\\u200cای چه تعهدی در قبال کشورهای فاقد این سلاح داشتند؟', 'answer': 'بر اساس مفاد پیمان NPT، کشورهای دارای سلاح هسته\\u200cای متعهد بودند که فناوری صلح\\u200cآمیز هسته\\u200cای را در اختیار کشورهای فاقد این سلاح قرار دهند.'}]}\n"
          ]
        },
        {
          "name": "stderr",
          "output_type": "stream",
          "text": [
            "\r 72%|███████▏  | 131/181 [05:03<01:53,  2.26s/it]"
          ]
        },
        {
          "name": "stdout",
          "output_type": "stream",
          "text": [
            "{'sentence': 'قرارداد ۱۹۱۹، که به پیمان وثوق الدوله-کاکس نیز شهرت دارد، در سال ۱۹۱۹ میلادی میان دولت\\u200cهای ایران و بریتانیا منعقد شد. این قرارداد شامل تعهداتی از سوی بریتانیا برای احترام به استقلال و تمامیت ارضی ایران بود و همچنین، وعدهٔ تأمین وام برای کاهش مشکلات مالی ایران را می\\u200cداد. این پیمان، که پس از هفت ماه مذاکره پنهانی و پرداخت رشوه، بسته شد، به موجب آن، امور کشوری و لشکری ایران تحت نظر مستشاران انگلیسی قرار می\\u200cگرفت. قرارداد ۱۹۱۹ با مخالفت\\u200cهای داخلی و خارجی گسترده\\u200cای روبه\\u200cرو شد و در نهایت به دلیل مغایرت با قانون اساسی مشروطه، لغو گردید. این پیمان، نفوذ انگلیس را در ایران افزایش داد و تأثیری عمیق بر روابط بین\\u200cالمللی ایران با قدرت\\u200cهای بزرگ داشت. اطلاعات بیشتر در این زمینه را می\\u200cتوانید در منابعی چون ویکی\\u200c پدیا و دیگر منابع ذکر شده در این سند، بیابید.', 'Q&A': [{'question': 'پیمان ۱۹۱۹ میلادی، رسماً با چه نامی شناخته می\\u200cشد؟', 'answer': 'این پیمان به عنوان قرارداد ۱۹۱۹ یا پیمان وثوق الدوله-کاکس شناخته می\\u200cشد.'}, {'question': 'چرا قرارداد ۱۹۱۹ لغو شد؟', 'answer': 'قرارداد ۱۹۱۹ به دلیل مغایرت با قانون اساسی مشروطه لغو شد.'}, {'question': 'چگونه مذاکرات برای بستن قرارداد ۱۹۱۹ انجام شد؟', 'answer': 'مذاکرات قرارداد ۱۹۱۹ پس از هفت ماه مذاکره پنهانی و پرداخت رشوه انجام شد.'}, {'question': 'تأثیر اصلی قرارداد ۱۹۱۹ بر روابط بین\\u200cالمللی ایران چه بود؟', 'answer': 'این پیمان تأثیری عمیق بر روابط بین\\u200cالمللی ایران با قدرت\\u200cهای بزرگ داشت.'}, {'question': 'چه کسی (یا کسانی) از این قرارداد سود بردند؟', 'answer': 'با توجه به متن، انگلیسی\\u200cها از این قرارداد سود بردند؛ زیرا نفوذشان در ایران افزایش یافت.'}]}\n"
          ]
        },
        {
          "name": "stderr",
          "output_type": "stream",
          "text": [
            "\r 73%|███████▎  | 132/181 [05:06<01:50,  2.26s/it]"
          ]
        },
        {
          "name": "stdout",
          "output_type": "stream",
          "text": [
            "{'sentence': 'در سال ۱۹۱۹، در کنفرانس پاریس، میثاق جامعه ملل به امضا رسید، که گامی مهم در جهت تأسیس این سازمان بین\\u200cالمللی به شمار می\\u200cرفت. این پیمان، که پایه\\u200cگذار جامعه ملل بود، تلاشی برای ایجاد صلح و امنیت جهانی محسوب می\\u200cشد. از مهم\\u200cترین دلایل امضای این میثاق، توافق بر مفاد آن بود. کشورهای متعددی از جمله امپراتوری بریتانیا، فرانسه، ایتالیا، ژاپن، آمریکا، بلژیک، برزیل، چین، پرتغال، صربستان، چکسلواکی، یونان، لهستان و رومانی در این پیمان شرکت داشتند. این قرارداد، تأسیس جامعه ملل را به دنبال داشت و تأثیراتی همچون توافق بر مفاد میثاق، تعیین اعضای کمیسیون پاریس و تعریف اصولی نظیر دسته بندی کشورها، ساختار تشکیلاتی جامعه ملل، ترکیب مجمع عمومی و مباحث مربوط به شورا را به همراه داشت. این رویداد از اهمیت تاریخی بالایی برخوردار است، زیرا اولین گام برای ایجاد یک سازمان جهانی با هدف حفظ صلح و امنیت بود. اطلاعات تکمیلی را می توان در صفحه ویکی\\u200cپدیای میثاق جامعه ملل یافت.', 'Q&A': [{'question': 'چه زمانی میثاق جامعه ملل در کنفرانس پاریس به امضا رسید؟', 'answer': 'در سال ۱۹۱۹، میثاق جامعه ملل در کنفرانس پاریس به امضا رسید.'}, {'question': 'چرا میثاق جامعه ملل امضا شد؟', 'answer': 'از مهم\\u200cترین دلایل امضای این میثاق، توافق بر مفاد آن و همچنین تلاشی برای ایجاد صلح و امنیت جهانی بود.'}, {'question': 'کدام کشورها از جمله اعضای اصلی امضاکننده میثاق جامعه ملل بودند؟', 'answer': 'امپراتوری بریتانیا، فرانسه، ایتالیا، ژاپن، آمریکا، بلژیک، برزیل، چین، پرتغال، صربستان، چکسلواکی، یونان، لهستان و رومانی از جمله کشورهای شرکت\\u200cکننده در این پیمان بودند.'}, {'question': 'تأسیس جامعه ملل چه تأثیری داشت؟', 'answer': 'تأسیس جامعه ملل تأثیراتی همچون توافق بر مفاد میثاق، تعیین اعضای کمیسیون پاریس و تعریف اصولی نظیر دسته بندی کشورها، ساختار تشکیلاتی جامعه ملل، ترکیب مجمع عمومی و مباحث مربوط به شورا را به همراه داشت.'}, {'question': 'اهمیت تاریخی میثاق جامعه ملل در چه چیزی نهفته است؟', 'answer': 'این میثاق از اهمیت تاریخی بالایی برخوردار است، زیرا اولین گام برای ایجاد یک سازمان جهانی با هدف حفظ صلح و امنیت بود.'}]}\n"
          ]
        },
        {
          "name": "stderr",
          "output_type": "stream",
          "text": [
            "\r 73%|███████▎  | 133/181 [05:07<01:42,  2.15s/it]"
          ]
        },
        {
          "name": "stdout",
          "output_type": "stream",
          "text": [
            "{'sentence': 'در سال ۱۹۷۵، پیمان الجزایر بین ایران و عراق منعقد شد. هدف اصلی این پیمان، تعیین خط مرزی دو کشور در آب\\u200cهای اروند رود بود، که در نتیجه اختلافات مرزی پیش آمده بود. این عهدنامه در الجزیره امضا شد و به همین دلیل به «پیمان الجزایر» شهرت یافت. در زمان محمدرضا شاه و احمد حسن البکر، این توافق\\u200cنامه به امضا رسید و مقامات ایرانی آن را یک «پیروزی ملی» قلمداد کردند. این پیمان با میانجیگری الجزایر صورت گرفت و تعیین مرز ایران و عراق در آب\\u200cهای اروند رود، نتیجه\\u200cی اصلی آن بود. منابع مختلف از جمله مقالات بی\\u200cبی\\u200cسی فارسی و بریتانیکا به این رویداد مهم تاریخی پرداخته\\u200cاند.', 'Q&A': [{'question': 'چه زمانی پیمان الجزایر منعقد شد؟', 'answer': 'پیمان الجزایر در سال ۱۹۷۵ منعقد شد.'}, {'question': 'چرا این پیمان میان ایران و عراق امضا شد؟', 'answer': 'این پیمان برای تعیین خط مرزی دو کشور در آب\\u200cهای اروند رود که در نتیجه اختلافات مرزی پیش آمده بود، امضا شد.'}, {'question': 'چه کسانی رهبران دو کشور در زمان امضای پیمان الجزایر بودند؟', 'answer': 'محمدرضا شاه در ایران و احمد حسن البکر در عراق رهبران دو کشور در زمان امضای پیمان الجزایر بودند.'}, {'question': 'اهمیت پیمان الجزایر برای ایران چه بود؟', 'answer': 'مقامات ایرانی پیمان الجزایر را یک «پیروزی ملی» قلمداد کردند، که نشان دهنده اهمیت زیاد این پیمان در آن زمان بود.'}, {'question': 'نتیجه اصلی پیمان الجزایر چه بود و چگونه این نتیجه حاصل شد؟', 'answer': 'نتیجه اصلی پیمان الجزایر، تعیین مرز ایران و عراق در آب\\u200cهای اروند رود بود. این پیمان با میانجیگری الجزایر صورت گرفت.'}]}\n"
          ]
        },
        {
          "name": "stderr",
          "output_type": "stream",
          "text": [
            "\r 74%|███████▍  | 134/181 [05:09<01:39,  2.12s/it]"
          ]
        },
        {
          "name": "stdout",
          "output_type": "stream",
          "text": [
            "{'sentence': 'قرارداد کنسرسیوم، یکی از مهم\\u200cترین اسناد تاریخی ایران است که در سال ۱۹۵۴ و پس از کودتای ۲۸ مرداد، میان ایران و کنسرسیومی از شرکت\\u200cهای نفتی بین\\u200cالمللی به امضا رسید. هدف از این قرارداد، استخراج و تحویل منابع نفتی ایران به دولت شاهنشاهی بود. این قرارداد که به مدت ۱۵ سال اعتبار داشت، به دلیل نیاز ایران به منابع مالی و جلوگیری از مشکلات اقتصادی منعقد شد. شرکت\\u200cهای بریتانیایی، آمریکایی، هلندی و فرانسوی از جمله طرف\\u200cهای این قرارداد بودند. با وجود اینکه این قرارداد در ابتدا به مدت ۱۵ سال اعتبار داشت، اما پس از کودتای ۲۸ مرداد تمدید نشد. قرارداد کنسرسیوم گامی حیاتی در جهت ملی\\u200cکردن صنعت نفت در ایران به شمار می\\u200cرفت، و سرانجام در سال ۱۳۵۲، جای خود را به قراردادهای خرید و فروش نفتی داد. منابعی نظیر ویکی\\u200cپدیا و وبسایت\\u200cهای دادپویان حامی و رادیو فردا اطلاعات بیشتری در این خصوص ارائه داده\\u200cاند.', 'Q&A': [{'question': 'چه کسانی طرف\\u200cهای اصلی قرارداد کنسرسیوم بودند؟', 'answer': 'شرکت\\u200cهای بریتانیایی، آمریکایی، هلندی و فرانسوی طرف\\u200cهای اصلی این قرارداد بودند.'}, {'question': 'چرا قرارداد کنسرسیوم منعقد شد؟', 'answer': 'قرارداد کنسرسیوم به دلیل نیاز ایران به منابع مالی و جلوگیری از مشکلات اقتصادی پس از کودتای ۲۸ مرداد منعقد شد.'}, {'question': 'قرارداد کنسرسیوم چه تأثیری بر صنعت نفت ایران داشت؟', 'answer': 'قرارداد کنسرسیوم گامی حیاتی در جهت ملی\\u200cکردن صنعت نفت در ایران به شمار می\\u200cرفت.'}, {'question': 'چه زمانی قرارداد کنسرسیوم به پایان رسید و جای خود را به چه چیزی داد؟', 'answer': 'قرارداد کنسرسیوم پس از کودتای ۲۸ مرداد تمدید نشد و در سال ۱۳۵۲ جای خود را به قراردادهای خرید و فروش نفتی داد.'}, {'question': 'اهمیت تاریخی قرارداد کنسرسیوم در چه چیزی نهفته است؟', 'answer': 'این قرارداد از این جهت اهمیت دارد که پس از کودتا، به منظور استخراج نفت ایران و حل مشکلات مالی کشور امضا شد و تأثیری مهم بر روند ملی\\u200cکردن صنعت نفت داشت.'}]}\n"
          ]
        },
        {
          "name": "stderr",
          "output_type": "stream",
          "text": [
            "\r 75%|███████▍  | 135/181 [05:11<01:32,  2.01s/it]"
          ]
        },
        {
          "name": "stdout",
          "output_type": "stream",
          "text": [
            "{'sentence': 'در سال ۱۷۴۶ میلادی، عهدنامه گردان در نزدیکی شهر قزوین به امضا رسید. این پیمان که به منظور پایان دادن به مناقشات میان ایران و امپراتوری عثمانی منعقد شد، از اهمیت تاریخی بالایی برخوردار است. حسن علی حاجی از طرف ایران و مصطفی نظیف از سوی عثمانی، طرفین اصلی این قرارداد بودند. امضای این عهدنامه، که به دلیل نیاز ایران به حمایت در برابر حملات عثمانی\\u200cها صورت گرفت، به انحلال سلسله صفوی و تأسیس امپراتوری افشاری انجامید. اطلاعات تکمیلی از این واقعه را می\\u200cتوان در صفحه ویکی\\u200cپدیای عهدنامه گردان یافت.', 'Q&A': [{'question': 'عهدنامه گردان در چه سالی به امضا رسید؟', 'answer': 'عهدنامه گردان در سال ۱۷۴۶ میلادی به امضا رسید.'}, {'question': 'چرا عهدنامه گردان منعقد شد؟', 'answer': 'عهدنامه گردان به منظور پایان دادن به مناقشات میان ایران و امپراتوری عثمانی منعقد شد.'}, {'question': 'چه کسانی طرفین اصلی عهدنامه گردان بودند؟', 'answer': 'حسن علی حاجی از طرف ایران و مصطفی نظیف از سوی عثمانی، طرفین اصلی این قرارداد بودند.'}, {'question': 'امضای عهدنامه گردان چه پیامدی برای ایران داشت؟', 'answer': 'امضای عهدنامه گردان به انحلال سلسله صفوی و تأسیس امپراتوری افشاری انجامید.'}, {'question': 'عهدنامه گردان از نظر تاریخی چه اهمیتی دارد و چگونه می\\u200cتوان به اطلاعات بیشتری دست یافت؟', 'answer': 'عهدنامه گردان از اهمیت تاریخی بالایی برخوردار است. اطلاعات تکمیلی از این واقعه را می\\u200cتوان در صفحه ویکی\\u200cپدیای عهدنامه گردان یافت.'}]}\n"
          ]
        },
        {
          "name": "stderr",
          "output_type": "stream",
          "text": [
            "\r 75%|███████▌  | 136/181 [05:13<01:26,  1.92s/it]"
          ]
        },
        {
          "name": "stdout",
          "output_type": "stream",
          "text": [
            "{'sentence': 'در سال ۵۶۲ میلادی، پیمان\\u200cنامه\\u200cای با عنوان \"پیمان صلح پنجاه ساله\" در شهر مرزی دارا میان امپراتوری روم شرقی و شاهنشاهی ساسانی منعقد شد. این پیمان، که به جنگ بیست ساله لازیبر پایان داد، نقطه عطفی در روابط دو امپراتوری بود. ساسانیان با پذیرش تخلیه لازستان، به این پیمان پایبند شدند و در عوض، باجی به مبلغ ۳۰,۰۰۰ طلای \"nomismata\" دریافت می\\u200cکردند. از دیگر مفاد مهم این پیمان، تضمین آزادی مسیحیان ایران در پرستش دین خود بود. این توافق\\u200cنامه که از اهمیت تاریخی بالایی برخوردار است، به پایان جنگ\\u200cهای طولانی مدت و برقراری صلح نسبی در منطقه کمک کرد. منبع اصلی این اطلاعات، دانشنامه ویکی\\u200cپدیا است.', 'Q&A': [{'question': 'چه کسی پیمان صلح پنجاه ساله را با امپراتوری روم شرقی امضا کرد؟', 'answer': 'شاهنشاهی ساسانی این پیمان را امضا کرد.'}, {'question': 'چه زمانی پیمان صلح پنجاه ساله به امضا رسید؟', 'answer': 'در سال ۵۶۲ میلادی.'}, {'question': 'چرا پیمان صلح پنجاه ساله مهم بود؟', 'answer': 'زیرا به جنگ بیست ساله لازیبر پایان داد و به برقراری صلح نسبی در منطقه کمک کرد و همچنین آزادی مسیحیان ایران را تضمین نمود.'}, {'question': 'چگونه ساسانیان به پیمان صلح پنجاه ساله پایبند شدند؟', 'answer': 'با پذیرش تخلیه لازستان.'}, {'question': 'پیامد اصلی این پیمان برای روابط امپراتوری روم شرقی و شاهنشاهی ساسانی چه بود؟', 'answer': 'این پیمان نقطه عطفی در روابط دو امپراتوری بود، به جنگ پایان داد و به صلح نسبی منجر شد.'}]}\n"
          ]
        },
        {
          "name": "stderr",
          "output_type": "stream",
          "text": [
            "\r 76%|███████▌  | 137/181 [05:15<01:29,  2.03s/it]"
          ]
        },
        {
          "name": "stdout",
          "output_type": "stream",
          "text": [
            "{'sentence': 'کنوانسیون سی\\u200cام\\u200cآر، پیمانی از سازمان ملل متحد است که در ۱۹ می ۱۹۵۶ در ژنو، سوئیس به امضا رسید. این توافقنامه به منظور ایجاد یک چارچوب قانونی برای حمل و نقل جاده\\u200cای در سال ۱۹۵۶ شکل گرفت و ۴۴ کشور تا فوریه ۲۰۱۷ به آن پیوسته\\u200cاند. کشورهای عضو این کنوانسیون شامل سوئیس و ۴۳ کشور دیگر می\\u200cشوند. این کنوانسیون با هدف تنظیم قوانین و مقررات مرتبط با حمل و نقل جاده\\u200cای توسط سازمان ملل متحد منعقد شد و به عنوان یک سند مهم در این زمینه شناخته می\\u200cشود. برای کسب اطلاعات بیشتر در این مورد، می\\u200cتوانید به صفحه ویکی\\u200cپدیای کنوانسیون سی\\u200cام\\u200cآر مراجعه کنید.', 'Q&A': [{'question': 'کنوانسیون سی\\u200cام\\u200cآر چه نوع پیمانی است و توسط چه سازمانی منعقد شده است؟', 'answer': 'کنوانسیون سی\\u200cام\\u200cآر یک پیمان از سازمان ملل متحد است که برای ایجاد یک چارچوب قانونی برای حمل و نقل جاده\\u200cای منعقد شده است.'}, {'question': 'چه زمانی کنوانسیون سی\\u200cام\\u200cآر به امضا رسید و در کجا؟', 'answer': 'این کنوانسیون در ۱۹ می ۱۹۵۶ در ژنو، سوئیس به امضا رسید.'}, {'question': 'هدف اصلی از امضای کنوانسیون سی\\u200cام\\u200cآر چه بود و چه چیزی را تنظیم می\\u200cکرد؟', 'answer': 'هدف اصلی ایجاد یک چارچوب قانونی برای حمل و نقل جاده\\u200cای بود و قوانین و مقررات مرتبط با این حوزه را تنظیم می\\u200cکرد.'}, {'question': 'چرا کنوانسیون سی\\u200cام\\u200cآر به عنوان یک سند مهم در زمینه حمل و نقل جاده\\u200cای شناخته می\\u200cشود؟', 'answer': 'به این دلیل که قوانین و مقرراتی را برای حمل و نقل جاده\\u200cای تعیین می\\u200cکند و به هماهنگی و تنظیم این حوزه کمک می\\u200cکند.'}, {'question': 'چه تعداد کشوری تا سال ۲۰۱۷ به کنوانسیون سی\\u200cام\\u200cآر پیوسته بودند و سوئیس به عنوان کشور عضو به این کنوانسیون پیوست؟', 'answer': '۴۴ کشور تا فوریه ۲۰۱۷ به این کنوانسیون پیوسته بودند که شامل سوئیس و ۴۳ کشور دیگر می\\u200cشود.'}]}\n"
          ]
        },
        {
          "name": "stderr",
          "output_type": "stream",
          "text": [
            "\r 76%|███████▌  | 138/181 [05:17<01:26,  2.01s/it]"
          ]
        },
        {
          "name": "stdout",
          "output_type": "stream",
          "text": [
            "{'sentence': 'پیمان آماسیه، که در سال ۱۵۵۵ میلادی در شهر آماسیه به امضا رسید، نقطه عطفی در روابط بین ایران صفوی و امپراتوری عثمانی به شمار می\\u200cرود. این پیمان که توسط شاه تهماسب یکم و سلطان سلیمان یکم منعقد شد، به جنگ\\u200cهای بیست\\u200cساله میان دو طرف پایان داد و ۲۰ سال صلح را به ارمغان آورد. بر اساس این پیمان، ایالت\\u200cهای آذربایجان، ارمنستان، داغستان جنوبی و گرجستان شرقی به دولت صفوی تعلق گرفت، در حالی که گرجستان غربی و مناطق عراق کنونی به عثمانی واگذار شدند. این معاهده که توسط شاه تهماسب تا پایان عمرش محترم شمرده شد، اولین پیمان صلحی بود که پس از سال\\u200cها درگیری بین این دو قدرت بزرگ امضا گردید و از این رو، از اهمیت تاریخی بالایی برخوردار است. اطلاعات تکمیلی در این خصوص را می\\u200cتوان در منابع مختلف، از جمله ویکی\\u200cپدیا، یافت.', 'Q&A': [{'question': 'پیمان آماسیه چه زمانی به امضا رسید؟', 'answer': 'پیمان آماسیه در سال ۱۵۵۵ میلادی به امضا رسید.'}, {'question': 'چه عاملی باعث شد که پیمان آماسیه منعقد شود؟', 'answer': 'پیمان آماسیه به منظور پایان دادن به جنگ\\u200cهای طولانی و بیست\\u200cساله میان ایران صفوی و امپراتوری عثمانی منعقد شد.'}, {'question': 'بر اساس پیمان آماسیه، چه سرزمین\\u200cهایی به دولت صفوی تعلق گرفت؟', 'answer': 'بر اساس این پیمان، ایالت\\u200cهای آذربایجان، ارمنستان، داغستان جنوبی و گرجستان شرقی به دولت صفوی تعلق گرفتند.'}, {'question': 'چرا پیمان آماسیه از اهمیت تاریخی بالایی برخوردار است؟', 'answer': 'پیمان آماسیه از اهمیت تاریخی بالایی برخوردار است، زیرا اولین پیمان صلحی بود که پس از سال\\u200cها درگیری بین دو قدرت بزرگ ایران صفوی و عثمانی امضا گردید.'}, {'question': 'این پیمان چه تاثیری بر روابط میان ایران صفوی و امپراتوری عثمانی داشت؟', 'answer': 'پیمان آماسیه به جنگ\\u200cهای بیست\\u200cساله میان دو طرف پایان داد و حدود ۲۰ سال صلح را به ارمغان آورد.'}]}\n"
          ]
        },
        {
          "name": "stderr",
          "output_type": "stream",
          "text": [
            "\r 77%|███████▋  | 139/181 [05:20<01:30,  2.15s/it]"
          ]
        },
        {
          "name": "stdout",
          "output_type": "stream",
          "text": [
            "{'sentence': 'در سال ۱۳۵۱، قراردادی میان ایران و افغانستان برای تعیین حقابه\\u200cی رود هیرمند به امضا رسید. این قرارداد، که با هدف حل اختلافات دیرینه بر سر این منبع آبی منعقد شد، به تقسیم حقابه به صورت مساوی میان دو کشور انجامید. پیش از این توافق، ساخت سدها و بندهای آبی توسط افغانستان باعث کاهش آب ورودی به ایران و بروز بحران\\u200cهای زیست\\u200cمحیطی و اجتماعی در سیستان و بلوچستان شده بود. این موضوع زمینه\\u200cساز مناقشات تاریخی و اختلافات حقوقی میان دو کشور بود که پیش\\u200cتر با داوری\\u200cهای بین\\u200cالمللی (از سوی انگلستان و مک\\u200cماهون) پیگیری شده بود؛ هرچند تفسیر نادرست از این داوری\\u200cها نیز مزید بر علت شد. این قرارداد، علاوه بر تلاش برای ایجاد ثبات در منطقه، نشان\\u200cدهنده گامی در جهت همکاری در زمینه منابع آبی مشترک است. با وجود این توافق، افغانستان همچنان بر حق خود در استفاده از منابع آبی تاکید دارد و اقداماتی در جهت کاهش آب هیرمند به سمت ایران انجام داده است.', 'Q&A': [{'question': 'چه زمانی قرارداد حقابه\\u200cی هیرمند میان ایران و افغانستان به امضا رسید؟', 'answer': 'قرارداد حقابه\\u200cی هیرمند در سال ۱۳۵۱ میان ایران و افغانستان به امضا رسید.'}, {'question': 'چرا قرارداد حقابه\\u200cی هیرمند امضا شد؟', 'answer': 'این قرارداد با هدف حل اختلافات دیرینه بر سر حقابه\\u200cی رود هیرمند و تقسیم مساوی آن میان دو کشور منعقد شد.'}, {'question': 'پیامد امضای این قرارداد چه بود؟', 'answer': 'این قرارداد به تقسیم حقابه\\u200cی رود هیرمند به صورت مساوی میان ایران و افغانستان انجامید و تلاشی برای ایجاد ثبات در منطقه بود.'}, {'question': 'چگونه ساخت سدها و بندهای آبی توسط افغانستان بر روابط دو کشور تأثیر گذاشت؟', 'answer': 'ساخت سدها و بندهای آبی توسط افغانستان، کاهش آب ورودی به ایران و بروز بحران\\u200cهای زیست\\u200cمحیطی و اجتماعی در سیستان و بلوچستان را به دنبال داشت و زمینه\\u200cساز مناقشات تاریخی و اختلافات حقوقی شد.'}, {'question': 'اهمیت این قرارداد در زمینه\\u200cی روابط بین\\u200cالمللی و همکاری\\u200cهای منطقه\\u200cای چه بود؟', 'answer': 'این قرارداد نشان\\u200cدهنده\\u200cی گامی در جهت همکاری در زمینه منابع آبی مشترک و تلاشی برای ایجاد ثبات در منطقه بود، اما اختلافات همچنان ادامه یافت.'}]}\n"
          ]
        },
        {
          "name": "stderr",
          "output_type": "stream",
          "text": [
            "\r 77%|███████▋  | 140/181 [05:21<01:22,  2.01s/it]"
          ]
        },
        {
          "name": "stdout",
          "output_type": "stream",
          "text": [
            "{'sentence': 'در سال ۱۳۱۲ خورشیدی (۱۹۳۳ میلادی) قراردادی میان دولت ایران و شرکت نفت ایران و انگلیس به امضا رسید که به قرارداد ۱۹۳۳ شهرت یافت. این قرارداد در پی نارضایتی رضاشاه از سهم ناچیز ایران از نفت و به دنبال بحران اقتصادی سال ۱۹۳۱ تنظیم شد. رضاشاه در ابتدا به دنبال لغو قرارداد قبلی (دارسی) بود و برای افزایش سهم ایران تلاش کرد. در نهایت، پس از مذاکرات و تحت فشار و تهدیدهای انگلیس، قرارداد جدیدی با تغییراتی در مقایسه با قرارداد دارسی به تصویب رسید. نتیجه این قرارداد، افزایش سهم ایران از نفت و تمدید امتیاز نفت به مدت ۳۲ سال بود. این قرارداد اهمیت تاریخی دارد، چرا که از مصادره دارایی\\u200cهای خارجی ایران توسط انگلیس جلوگیری کرد. اطلاعات بیشتر در این باره را می\\u200cتوان در منابع مختلف، از جمله دانشنامه ایرانیکا و مقالات مرتبط با این موضوع یافت.', 'Q&A': [{'question': 'چه کسی اصلی\\u200cترین عامل امضای قرارداد ۱۹۳۳ بود؟', 'answer': 'رضاشاه پهلوی.'}, {'question': 'قرارداد ۱۹۳۳ دقیقا به دنبال چه واقعه\\u200cای شکل گرفت و دلیل آن چه بود؟', 'answer': 'به دنبال بحران اقتصادی سال ۱۹۳۱ میلادی و نارضایتی رضاشاه از سهم ناچیز ایران از نفت.'}, {'question': 'چرا رضاشاه در ابتدا به دنبال لغو قرارداد قبلی (دارسی) بود؟', 'answer': 'برای افزایش سهم ایران از نفت و دستیابی به منافع بیشتر.'}, {'question': 'قرارداد ۱۹۳۳ چه پیامدهایی برای ایران داشت؟', 'answer': 'افزایش سهم ایران از نفت و تمدید امتیاز نفت به مدت ۳۲ سال.'}, {'question': 'اهمیت تاریخی قرارداد ۱۹۳۳ در چه چیزی نهفته است؟', 'answer': 'جلوگیری از مصادره دارایی\\u200cهای خارجی ایران توسط انگلیس.'}]}\n"
          ]
        },
        {
          "name": "stderr",
          "output_type": "stream",
          "text": [
            "\r 78%|███████▊  | 141/181 [05:24<01:26,  2.15s/it]"
          ]
        },
        {
          "name": "stdout",
          "output_type": "stream",
          "text": [
            "{'sentence': 'در سال ۱۳۳۴ هجری شمسی، عهدنامه مودت و روابط اقتصادی و حقوق کنسولی میان ایران و آمریکا به امضا رسید. این پیمان که شامل یک مقدمه و ۲۳ ماده بود، با هدف تنظیم روابط اقتصادی و حقوق کنسولی دو کشور منعقد شد و بر صلح و دوستی پایدار میان آن\\u200cها تأکید داشت. این عهدنامه در زمان ریاست جمهوری دموکرات\\u200cها در آمریکا امضا شد و به توسعه روابط بازرگانی و حقوقی دو کشور اشاره داشت. در صورت بروز اختلاف، ارجاع به دیوان بین\\u200cالمللی دادگستری در لاهه، راهکار حل و فصل اختلافات پیش\\u200cبینی شده بود. این قرارداد، سرآغاز جذب سرمایه\\u200cگذاری خارجی از سوی دولت ایران و تصویب «قانون جلب و حمایت از سرمایه\\u200cگذاری خارجی» به شمار می\\u200cرود. اطلاعات بیشتر در این زمینه در منابع مختلف، از جمله ویکی\\u200c\\u200dپدیا، قابل دسترسی است.', 'Q&A': [{'question': 'این عهدنامه در چه سالی و در چه دوره\\u200cای در ایران به امضا رسید؟', 'answer': 'این عهدنامه در سال ۱۳۳۴ هجری شمسی در ایران به امضا رسید.'}, {'question': 'هدف اصلی از امضای عهدنامه مودت و روابط اقتصادی و حقوق کنسولی میان ایران و آمریکا چه بود؟', 'answer': 'هدف اصلی تنظیم روابط اقتصادی و حقوق کنسولی میان دو کشور ایران و آمریکا و تاکید بر صلح و دوستی پایدار میان آن\\u200cها بود.'}, {'question': 'چرا این عهدنامه در زمان ریاست جمهوری دموکرات\\u200cها در آمریکا امضا شد؟', 'answer': 'امضای این عهدنامه در زمان ریاست جمهوری دموکرات\\u200cها در آمریکا یک اتفاق بود و لزوماً ارتباط مستقیمی با انگیزه\\u200cی خاصی نداشت، اما به توسعه روابط بازرگانی و حقوقی اشاره داشت.'}, {'question': 'عهدنامه چه تأثیری بر جذب سرمایه\\u200cگذاری خارجی در ایران داشت و چه قانون دیگری تصویب شد؟', 'answer': 'این قرارداد سرآغاز جذب سرمایه\\u200cگذاری خارجی از سوی دولت ایران بود و به دنبال آن «قانون جلب و حمایت از سرمایه\\u200cگذاری خارجی» تصویب شد.'}, {'question': 'در صورت بروز اختلاف میان ایران و آمریکا، چه نهادی برای حل و فصل اختلافات پیش\\u200cبینی شده بود؟', 'answer': 'در صورت بروز اختلاف، ارجاع به دیوان بین\\u200cالمللی دادگستری در لاهه، راهکار حل و فصل اختلافات پیش\\u200cبینی شده بود.'}]}\n"
          ]
        },
        {
          "name": "stderr",
          "output_type": "stream",
          "text": [
            "\r 78%|███████▊  | 142/181 [05:26<01:28,  2.26s/it]"
          ]
        },
        {
          "name": "stdout",
          "output_type": "stream",
          "text": [
            "{'sentence': 'در سال ۱۵۹۰ میلادی، پیمان فرهاد پاشا، که با نام عهدنامه استانبول نیز شناخته می\\u200cشود، به امضا رسید. این عهدنامه در نتیجه جنگ\\u200cهای طولانی میان امپراتوری صفوی و عثمانی در قفقاز جنوبی منعقد شد. جنگی که با شکست ایران در نبرد چلدر آغاز شد، و سپس با تلاش ایران برای بازپس\\u200cگیری مناطق از دست رفته ادامه یافت. متعاقباً، عثمانی\\u200cها مجدداً به ایران حمله کرده و در نبرد مشعل نیز پیروز شدند. در نهایت، این پیمان، که در تبریز به امضا رسید، به معنای پذیرش مالکیت عثمانی بر مناطق اشغالی توسط ایران بود. این عهدنامه از اهمیت تاریخی فراوانی برخوردار است، زیرا نشان\\u200cدهنده پایان یک دوره طولانی از درگیری\\u200cهای نظامی بین دو امپراتوری قدرتمند آن زمان بود. اطلاعات بیشتر در این مورد را می توان در صفحه ویکی پدیای \"عهدنامه فرهاد پاشا\" یافت.', 'Q&A': [{'question': 'چه زمانی پیمان فرهاد پاشا به امضا رسید؟', 'answer': 'پیمان فرهاد پاشا در سال ۱۵۹۰ میلادی به امضا رسید.'}, {'question': 'چه عاملی منجر به امضای عهدنامه استانبول شد؟', 'answer': 'امضای این عهدنامه نتیجه جنگ\\u200cهای طولانی بین امپراتوری صفوی و عثمانی در قفقاز جنوبی بود.'}, {'question': 'شکست ایران در نبرد چلدر چه تاثیری بر روابط صفویان و عثمانیان داشت؟', 'answer': 'شکست در نبرد چلدر، آغازگر سلسله درگیری\\u200cها و نهایتاً منجر به از دست رفتن مناطق توسط ایران و امضای عهدنامه شد.'}, {'question': 'چرا عهدنامه فرهاد پاشا از اهمیت تاریخی برخوردار است؟', 'answer': 'این عهدنامه نشان\\u200cدهنده پایان یک دوره طولانی از درگیری\\u200cهای نظامی بین دو امپراتوری قدرتمند صفوی و عثمانی بود.'}, {'question': 'چگونه عهدنامه فرهاد پاشا به پایان جنگ\\u200cهای میان صفویه و عثمانی انجامید؟', 'answer': 'این عهدنامه با پذیرش مالکیت عثمانی بر مناطق اشغالی توسط ایران، به طور رسمی به درگیری\\u200cهای نظامی خاتمه داد و مرزهای جدیدی را ترسیم کرد.'}]}\n"
          ]
        },
        {
          "name": "stderr",
          "output_type": "stream",
          "text": [
            "\r 79%|███████▉  | 143/181 [05:29<01:31,  2.42s/it]"
          ]
        },
        {
          "name": "stdout",
          "output_type": "stream",
          "text": [
            "{'sentence': 'قرارداد مرزی ایران و ترکیه، که در تاریخ ۲۳ ژانویه ۱۹۳۲ به امضا رسید، تغییری محدود اما قابل توجه در خط مرزی دو کشور، تعیین شده در سال ۱۹۱۴، ایجاد کرد. این قرارداد، که به زبان فرانسوی نیز ترجمه شده بود، به طور کلی به نفع ترکیه تمام شد. بر اساس این توافق، ترکیه کنترل کامل کوه آرارات کوچک و دشت آغری داغ را به دست آورد، و همچنین حاکمیت بر منطقه\\u200cای به وسعت نود مایل مربع در قصبه قطور را نیز به دست آورد. در مقابل، ایران نوار کوچکی از زمین در نزدیکی تالاب بورالان دریافت کرد و خط مرزی به سمت غرب جابه\\u200cجا شد، که در نتیجه آن، ایران کنترل هشتاد مایل مربع دیگر بین باژرگهو کوتو داغ را به دست آورد. این قرارداد که توسط محمدعلی فروغی و توفیق رشدی\\u200cبیک نمایندگی می\\u200cشد، در تاریخ روابط دو کشور از اهمیت تاریخی برخوردار است. اطلاعات بیشتر در مورد این قرارداد در وبگاه\\u200cهای مجلس شورای اسلامی ایران و دانشنامه ایرانیکا قابل دسترسی است.', 'Q&A': [{'question': 'چه کسی قرارداد مرزی ایران و ترکیه را در سال ۱۹۳۲ امضا کرد؟', 'answer': 'محمدعلی فروغی از طرف ایران و توفیق رشدی\\u200cبیک از طرف ترکیه این قرارداد را امضا کردند.'}, {'question': 'چرا ترکیه در قرارداد مرزی ۱۹۳۲ از ایران امتیاز بیشتری گرفت؟', 'answer': 'به طور دقیق مشخص نیست، اما به نظر می\\u200cرسد منافع ترکیه در این قرارداد بیشتر تامین شده است و ترکیه کنترل مناطق استراتژیک\\u200cتری را به دست آورد.'}, {'question': 'چه نتیجه\\u200cای از قرارداد مرزی ایران و ترکیه در سال ۱۹۳۲ حاصل شد؟', 'answer': 'خط مرزی بین دو کشور تغییر کرد، به طوری که ترکیه کوه آرارات کوچک، دشت آغری داغ و بخش\\u200cهایی از منطقه قطور را به دست آورد، و ایران نیز در عوض بخش کوچکی از اراضی و بخشی از اراضی اطراف کوه باژرگهو کوتو داغ را به دست آورد.'}, {'question': 'این قرارداد چه تاثیری بر روابط ایران و ترکیه داشت؟', 'answer': 'این قرارداد از منظر تاریخی در روابط دو کشور مهم است و خطوط مرزی جدیدی را ایجاد کرد که تا امروز نیز پابرجاست.'}, {'question': 'این قرارداد در چه زمینه\\u200cای اهمیت داشت و اطلاعات بیشتر در مورد آن را از کجا می\\u200cتوان یافت؟', 'answer': 'این قرارداد در تعیین مرزهای دو کشور اهمیت داشت و اطلاعات بیشتر در مورد آن در وبگاه\\u200cهای مجلس شورای اسلامی ایران و دانشنامه ایرانیکا قابل دسترسی است.'}]}\n"
          ]
        },
        {
          "name": "stderr",
          "output_type": "stream",
          "text": [
            "\r 80%|███████▉  | 144/181 [05:31<01:24,  2.28s/it]"
          ]
        },
        {
          "name": "stdout",
          "output_type": "stream",
          "text": [
            "{'sentence': 'در ۹ اکتبر سال ۱۸۷۴، معاهده برن در سوئیس به امضا رسید. این پیمان که با هدف ایجاد اتحادیه پستی عمومی منعقد شد، حاصل کنفرانسی بین\\u200cالمللی بود که توسط دولت سوئیس برگزار گردید و نمایندگان ۲۲ کشور در آن حضور داشتند. این معاهده، که بعدها چندین بار اصلاح شد، به منظور یکپارچه\\u200cسازی خدمات و مقررات پستی بین\\u200cالمللی امضا شد و زمینه\\u200cساز تأسیس اتحادیه پستی عمومی (UPU) در همان سال گردید. از جمله کشورهای امضاکننده این معاهده می\\u200cتوان به آلمان، اتریش-مجارستان، بلژیک، دانمارک، مصر، اسپانیا، ایالات متحده، فرانسه، بریتانیا، یونان، ایتالیا، لوکزامبورگ، هلند، پرتقال، رومانی، روسیه، صربستان، سوئد، نروژ، سوئیس و امپراتوری عثمانی اشاره کرد. اهمیت تاریخی این معاهده در تأسیس UPU و تسهیل مبادلات پستی آزادانه بین کشورها نهفته است. روز جهانی پست، هر ساله در ۹ اکتبر، یادآور امضای این معاهده تاریخی است.', 'Q&A': [{'question': 'چه زمانی معاهده برن امضا شد؟', 'answer': 'در ۹ اکتبر سال ۱۸۷۴ در سوئیس.'}, {'question': 'چرا معاهده برن به امضا رسید؟', 'answer': 'به منظور یکپارچه\\u200cسازی خدمات و مقررات پستی بین\\u200cالمللی و ایجاد اتحادیه پستی عمومی.'}, {'question': 'چه کشورهایی از جمله امضاکنندگان معاهده برن بودند؟', 'answer': 'آلمان، اتریش-مجارستان، بلژیک، دانمارک، مصر، اسپانیا، ایالات متحده، فرانسه، بریتانیا، یونان، ایتالیا، لوکزامبورگ، هلند، پرتقال، رومانی، روسیه، صربستان، سوئد، نروژ، سوئیس و امپراتوری عثمانی.'}, {'question': 'معاهده برن چه تأثیری بر تجارت بین\\u200cالمللی داشت؟', 'answer': 'با تسهیل مبادلات پستی آزادانه بین کشورها، به گسترش تجارت و ارتباطات بین\\u200cالمللی کمک کرد.'}, {'question': 'اهمیت تاریخی معاهده برن چه بود؟', 'answer': 'تأسیس اتحادیه پستی عمومی (UPU) و تسهیل مبادلات پستی آزادانه بین کشورها، که منجر به افزایش ارتباطات بین\\u200cالمللی شد.'}]}\n"
          ]
        },
        {
          "name": "stderr",
          "output_type": "stream",
          "text": [
            "\r 80%|████████  | 145/181 [05:33<01:17,  2.14s/it]"
          ]
        },
        {
          "name": "stdout",
          "output_type": "stream",
          "text": [
            "{'sentence': 'در تاریخ ۷ اسفند ۱۲۹۹ خورشیدی (۲۶ فوریه ۱۹۲۱ میلادی)، پیمان\\u200cنامه\\u200cای میان ایران و شوروی به امضا رسید که به قرارداد ۱۹۲۱ شهرت یافت. این معاهده، که پیش از کودتای رضاخان آماده شده بود، به مسائل ارضی، مالی، اقتصادی، نظامی و سیاسی بین دو کشور می\\u200cپرداخت. این قرارداد در نتیجه لغو قراردادهای دولت تزاری روسیه با ایران، صرف نظر شوروی از بدهی\\u200cهای ایران، و پایان دادن به سیاست\\u200cهای تجاوزکارانه شوروی شکل گرفت. بر اساس این توافق، شوروی متعهد شد تا از امتیازات دولت تزاری در ایران چشم\\u200cپوشی کند و سیاست\\u200cهای خود را تغییر دهد. این قرارداد که توسط علیقلی خان مشاورالممالک با درایت به نتیجه رسید، به عنوان اولین معاهده منصفانه برای ایران شناخته می\\u200cشود و روابط دوستانه\\u200cای را میان دو کشور بنیان نهاد. اهمیت تاریخی این قرارداد در پایان دادن به جنگ و ایجاد صلح بین ایران و شوروی و همچنین رهایی ایران از امتیازات گذشته نهفته است.', 'Q&A': [{'question': 'چه کسی پیمان ۱۹۲۱ را با شوروی به امضا رساند؟', 'answer': 'علیقلی خان مشاورالممالک.'}, {'question': 'قرارداد ۱۹۲۱ دقیقاً چه زمانی به امضا رسید؟', 'answer': 'در ۷ اسفند ۱۲۹۹ خورشیدی (۲۶ فوریه ۱۹۲۱ میلادی).'}, {'question': 'چرا قرارداد ۱۹۲۱ به امضا رسید؟', 'answer': 'در نتیجه لغو قراردادهای دولت تزاری روسیه با ایران، صرف نظر شوروی از بدهی\\u200cهای ایران، و پایان دادن به سیاست\\u200cهای تجاوزکارانه شوروی.'}, {'question': 'مهم\\u200cترین دستاورد قرارداد ۱۹۲۱ برای ایران چه بود؟', 'answer': 'رهایی از امتیازات دولت\\u200cهای گذشته و ایجاد روابط دوستانه با شوروی.'}, {'question': 'چگونه قرارداد ۱۹۲۱ توانست روابط بین ایران و شوروی را بهبود بخشد؟', 'answer': 'شوروی با چشم\\u200cپوشی از امتیازات و تعهد به تغییر سیاست\\u200cهای خود، به صلح و روابط دوستانه با ایران کمک کرد.'}]}\n"
          ]
        },
        {
          "name": "stderr",
          "output_type": "stream",
          "text": [
            "\r 81%|████████  | 146/181 [05:36<01:23,  2.39s/it]"
          ]
        },
        {
          "name": "stdout",
          "output_type": "stream",
          "text": [
            "{'sentence': 'کنوانسیون بین\\u200cالمللی ایمنی جان اشخاص در دریا (SOLAS) یک پیمان بین\\u200cالمللی حیاتی برای افزایش ایمنی در کشتیرانی است که در سال ۱۹۷۴ تدوین شد. این کنوانسیون که پس از فاجعه کشتی تایتانیک شکل گرفت، با هدف تعیین حداقل استانداردهای ساخت، تجهیز و راه\\u200cاندازی کشتی\\u200cها برای تضمین ایمنی آن\\u200cها به وجود آمد. نسخه کنونی این کنوانسیون، سولاس ۱۹۷۴ نام دارد که از ۴ خرداد ۱۳۵۹ به اجرا درآمده است. تا بهمن ۱۳۹۵، ۱۶۳ کشور به این کنوانسیون پیوسته\\u200cاند که نماینده حدود ۹۹٫۱۵٪ از تناژ ناخالص ناوگان تجاری جهان است. جمهوری اسلامی ایران نیز در سال ۱۳۷۳ به این کنوانسیون ملحق شد و استانداردهای آن را در سازمان بنادر و دریانوردی به اجرا درآورد. این کنوانسیون، مهم\\u200cترین پیمان بین\\u200cالمللی دریایی در زمینه ایمنی کشتیرانی به شمار می\\u200cرود.', 'Q&A': [{'question': 'پیمان بین\\u200cالمللی ایمنی جان اشخاص در دریا (SOLAS) چه نام داشت و چه سالی تدوین شد؟', 'answer': 'پیمان بین\\u200cالمللی ایمنی جان اشخاص در دریا (SOLAS)، در سال ۱۹۷۴ تدوین شد.'}, {'question': 'چرا کنوانسیون سولاس به وجود آمد و چه هدفی را دنبال می\\u200cکرد؟', 'answer': 'این کنوانسیون پس از فاجعه کشتی تایتانیک برای افزایش ایمنی در کشتیرانی و تعیین حداقل استانداردهای ساخت، تجهیز و راه\\u200cاندازی کشتی\\u200cها به وجود آمد.'}, {'question': 'جمهوری اسلامی ایران چه زمانی به کنوانسیون سولاس پیوست و چه اقدامی در راستای اجرای آن انجام داد؟', 'answer': 'جمهوری اسلامی ایران در سال ۱۳۷۳ به کنوانسیون سولاس پیوست و استانداردهای آن را در سازمان بنادر و دریانوردی به اجرا درآورد.'}, {'question': 'کنوانسیون سولاس چه تأثیری بر ایمنی کشتیرانی در سطح جهانی داشت؟', 'answer': 'کنوانسیون سولاس با تعیین استانداردهای ایمنی، به طور قابل توجهی ایمنی کشتیرانی را در سراسر جهان افزایش داد و امروزه به عنوان مهم\\u200cترین پیمان بین\\u200cالمللی دریایی در این زمینه شناخته می\\u200cشود.'}, {'question': 'با توجه به درصد بالای کشورهای عضو، آیا می\\u200cتوان گفت کنوانسیون سولاس یک پیمان جهانی در زمینه ایمنی کشتیرانی است؟ چرا؟', 'answer': 'بله، با توجه به اینکه ۱۶۳ کشور به این کنوانسیون پیوسته\\u200cاند و این کشورها نماینده حدود ۹۹٫۱۵٪ از تناژ ناخالص ناوگان تجاری جهان هستند، می\\u200cتوان گفت که کنوانسیون سولاس یک پیمان جهانی و مهم در زمینه ایمنی کشتیرانی است.'}]}\n"
          ]
        },
        {
          "name": "stderr",
          "output_type": "stream",
          "text": [
            "\r 81%|████████  | 147/181 [05:38<01:21,  2.41s/it]"
          ]
        },
        {
          "name": "stdout",
          "output_type": "stream",
          "text": [
            "{'sentence': 'ائتلاف روسیه-سوریه-ایران-عراق که با نام \"۴+۱\" (با اشاره به حزب\\u200cالله لبنان) نیز شناخته می\\u200cشود، یک همکاری اطلاعاتی مشترک میان روسیه، سوریه، ایران و عراق بود که در سال ۲۰۰۰ شکل گرفت. این ائتلاف با هدف جمع\\u200cآوری اطلاعات درباره گروه داعش و مبارزه با گسترش آن ایجاد شد و اتاق\\u200cهای عملیات آن در دمشق، سوریه و منطقه سبز بغداد در عراق مستقر بودند. شکل\\u200cگیری این ائتلاف در پی امضای قراردادی صورت گرفت و اهمیت تاریخی آن در همکاری بین\\u200cالمللی برای مقابله با تهدیدات مشترک مانند داعش و تلاش\\u200cهای منطقه\\u200cای برای حفظ امنیت و ثبات نهفته است. جنگ داخلی سوریه نیز از عوامل زمینه\\u200cساز این ائتلاف بود که منجر به آوارگی میلیون\\u200cها نفر و کشته شدن صدها هزار تن شد. منابع مختلفی از جمله ویکی\\u200cپدیا و مقالات متعددی در این زمینه وجود دارد.', 'Q&A': [{'question': 'ائتلاف \"۴+۱\" با چه هدفی تشکیل شد؟', 'answer': 'هدف اصلی این ائتلاف جمع\\u200cآوری اطلاعات درباره گروه داعش و مبارزه با گسترش آن بود.'}, {'question': 'چه کشوری نقش رهبری یا اصلی را در ائتلاف \"۴+۱\" بر عهده داشت؟', 'answer': 'هیچ کشوری به طور رسمی نقش رهبری نداشت، بلکه این یک همکاری اطلاعاتی مشترک میان روسیه، سوریه، ایران و عراق بود.'}, {'question': 'چه عاملی باعث شد تا ائتلاف \"۴+۱\" شکل بگیرد؟', 'answer': 'جنگ داخلی سوریه و تهدید گروه داعش دو عامل اصلی در شکل\\u200cگیری این ائتلاف بودند.'}, {'question': 'اتاق\\u200cهای عملیات ائتلاف \"۴+۱\" در کجا مستقر بودند و این مسئله چه اهمیتی داشت؟', 'answer': 'اتاق\\u200cهای عملیات در دمشق، سوریه و منطقه سبز بغداد در عراق مستقر بودند. این مسئله نشان\\u200cدهنده تمرکز ائتلاف بر جمع\\u200cآوری اطلاعات و انجام عملیات در مناطق بحرانی بود.'}, {'question': 'همکاری بین\\u200cالمللی ائتلاف \"۴+۱\" چه تاثیری بر منطقه و روابط بین\\u200cالملل گذاشت؟', 'answer': 'این ائتلاف نشان\\u200cدهنده همکاری بین\\u200cالمللی برای مقابله با تهدیدات مشترک مانند داعش و تلاش\\u200cهای منطقه\\u200cای برای حفظ امنیت و ثبات بود.'}]}\n"
          ]
        },
        {
          "name": "stderr",
          "output_type": "stream",
          "text": [
            "\r 82%|████████▏ | 148/181 [05:41<01:23,  2.52s/it]"
          ]
        },
        {
          "name": "stdout",
          "output_type": "stream",
          "text": [
            "{'sentence': 'سازمان پیمان مرکزی (سنتو)، پیمانی نظامی بود که در دوران جنگ سرد و با هدف مقابله با نفوذ شوروی و گسترش مارکسیسم شکل گرفت. این پیمان در ۱۹ مهر ۱۳۳۴ با نام پیمان بغداد میان ایران، ترکیه و عراق به امضا رسید. ایالات متحده آمریکا، انگلستان، ترکیه، پاکستان و ایران از جمله کشورهای درگیر در این پیمان بودند. این پیمان به دلیل نگرانی آمریکا از نفوذ شوروی به عضویت آمریکا راه نیافت و پس از کودتای عبدالکریم قاسم در عراق، از آن خارج شد. در سال ۱۳۳۷ نام پیمان به سازمان پیمان مرکزی (سنتو) تغییر یافت و مرکز آن به آنکارا منتقل شد.  نخست وزیر عراق، نوری سعید، پیشنهاد تشکیل این پیمان را برای مقابله با شوروی داده بود. این سازمان نقش مهمی در سیاست\\u200cهای منطقه\\u200cای و جهانی در دوران جنگ سرد ایفا کرد.', 'Q&A': [{'question': 'چه کسانی پیشنهاد تشکیل پیمان سنتو را دادند و هدف اصلی از آن چه بود؟', 'answer': 'نوری سعید، نخست وزیر عراق، پیشنهاد تشکیل پیمان را داد. هدف اصلی از آن، مقابله با نفوذ شوروی و جلوگیری از گسترش مارکسیسم بود.'}, {'question': 'نام اصلی پیمان سنتو چه بود و چه زمانی این نام تغییر یافت؟', 'answer': 'نام اصلی پیمان، پیمان بغداد بود. این نام در سال ۱۳۳۷ به سازمان پیمان مرکزی (سنتو) تغییر یافت.'}, {'question': 'چرا ایالات متحده آمریکا به عضویت پیمان بغداد (سنتو) در نیامد؟', 'answer': 'ایالات متحده آمریکا به دلیل نگرانی از نفوذ شوروی به عضویت این پیمان در نیامد.'}, {'question': 'سازمان پیمان مرکزی (سنتو) در دوران جنگ سرد چه نقشی ایفا کرد و این پیمان چه تاثیری بر منطقه داشت؟', 'answer': 'این سازمان نقش مهمی در سیاست\\u200cهای منطقه\\u200cای و جهانی در دوران جنگ سرد ایفا کرد و تلاش داشت تا با نفوذ شوروی مقابله کند. این پیمان به نوعی موازنه قدرت را در منطقه برقرار می\\u200cکرد.'}, {'question': 'چگونه کودتای عبدالکریم قاسم بر سرنوشت پیمان سنتو تاثیر گذاشت؟', 'answer': 'پس از کودتای عبدالکریم قاسم در عراق، این کشور از پیمان سنتو خارج شد که این امر، نشان دهنده زوال این پیمان بود.'}]}\n"
          ]
        },
        {
          "name": "stderr",
          "output_type": "stream",
          "text": [
            "\r 82%|████████▏ | 149/181 [05:43<01:11,  2.22s/it]"
          ]
        },
        {
          "name": "stdout",
          "output_type": "stream",
          "text": [
            "{'sentence': 'کنوانسیون رامسر، یک پیمان بین\\u200cالمللی برای حفاظت از تالاب\\u200cها و گونه\\u200cهای وابسته به آن\\u200cها، در سال ۱۳۴۹ هجری شمسی به تصویب رسید. این کنوانسیون که در ابتدا با حضور ۱۸ کشور آغاز شد، در شهر رامسر ایران به امضا رسید و اسکندر فیروز، رئیس وقت سازمان محیط زیست ایران، نقشی کلیدی در تدوین آن داشت. در حال حاضر، این پیمان ۲۴۱۲ تالاب را در سراسر جهان پوشش می\\u200cدهد. بیشترین تعداد تالاب\\u200cها متعلق به بریتانیا و بیشترین وسعت تالاب\\u200cها متعلق به کانادا است. این کنوانسیون، که در سال ۱۹۷۵ رسمیت قانونی یافت، کشورهای عضو را ملزم به حفظ و نگهداری از تالاب\\u200cهای خود می\\u200cکند و به این ترتیب، گامی مهم در جهت حفاظت از محیط زیست و تنوع زیستی برداشته است.', 'Q&A': [{'question': 'پیمان رامسر چه هدفی را دنبال می\\u200cکرد؟', 'answer': 'هدف پیمان رامسر حفاظت از تالاب\\u200cها و گونه\\u200cهای وابسته به آن\\u200cها بود.'}, {'question': 'چرا شهر رامسر برای امضای این پیمان انتخاب شد؟', 'answer': 'به دلیل این که پیمان در شهر رامسر ایران به امضا رسید.'}, {'question': 'چه کسی نقش کلیدی در تدوین کنوانسیون رامسر داشت؟', 'answer': 'اسکندر فیروز، رئیس وقت سازمان محیط زیست ایران.'}, {'question': 'این پیمان چه تاثیری بر کشورهای عضو داشت؟', 'answer': 'کشورهای عضو را ملزم به حفظ و نگهداری از تالاب\\u200cهای خود می\\u200cکرد.'}, {'question': 'چه زمانی کنوانسیون رامسر به صورت قانونی رسمیت یافت؟', 'answer': 'در سال ۱۹۷۵ میلادی.'}]}\n"
          ]
        },
        {
          "name": "stderr",
          "output_type": "stream",
          "text": [
            "\r 83%|████████▎ | 150/181 [05:45<01:08,  2.20s/it]"
          ]
        },
        {
          "name": "stdout",
          "output_type": "stream",
          "text": [
            "{'sentence': 'در سال ۱۹۴۸، کنوانسیون پیشگیری و مجازات جنایت نسل\\u200cکشی (CPPCG)، که با نام کنوانسیون نسل\\u200cکشی نیز شناخته می\\u200cشود، به تصویب رسید. این معاهده بین\\u200cالمللی، نسل\\u200cکشی را به عنوان یک جرم تعریف می\\u200cکند و دولت\\u200cها را موظف به جلوگیری از آن می\\u200cنماید. این کنوانسیون در واکنش به فجایع جنگ جهانی دوم و به\\u200cخصوص هولوکاست شکل گرفت. کنوانسیون نسل\\u200cکشی توسط مجمع عمومی سازمان ملل متحد در ۹ دسامبر ۱۹۴۸ تصویب و در ۱۲ ژانویه ۱۹۵۱ لازم\\u200cالاجرا شد. این کنوانسیون دارای ۱۵۲ کشور عضو است و بر قوانین در سطح ملی و بین\\u200cالمللی تأثیر گذاشته است. این کنوانسیون، که توسط سازمان ملل متحد، جمهوری دومینیکن، اوکراین و روسیه پشتیبانی می\\u200cشود، به عنوان اولین معاهده حقوق بشری شناخته می\\u200cشود که نسل\\u200cکشی را به عنوان یک جرم بین\\u200cالمللی تعریف کرده است. رافائل لمکین، وکیل یهودی-لهستانی، واژهٔ \"نسل\\u200cکشی\" را برای توصیف سیاست\\u200cهای نازی\\u200cها ابداع کرد که این واژه و کنوانسیون مذکور، تأثیرات عمیقی بر قوانین داخلی بسیاری از کشورها داشته است.', 'Q&A': [{'question': 'چه کسی اصطلاح \"نسل\\u200cکشی\" را ابداع کرد و با چه هدفی؟', 'answer': 'رافائل لمکین، وکیل یهودی-لهستانی، اصطلاح \"نسل\\u200cکشی\" را برای توصیف سیاست\\u200cهای نازی\\u200cها ابداع کرد.'}, {'question': 'چرا کنوانسیون پیشگیری و مجازات جنایت نسل\\u200cکشی (CPPCG) به تصویب رسید؟', 'answer': 'این کنوانسیون در واکنش به فجایع جنگ جهانی دوم و به\\u200cخصوص هولوکاست شکل گرفت.'}, {'question': 'کنوانسیون نسل\\u200cکشی چه تأثیری بر قوانین بین\\u200cالمللی و ملی داشت؟', 'answer': 'این کنوانسیون بر قوانین در سطح ملی و بین\\u200cالمللی تأثیر گذاشت.'}, {'question': 'چه زمانی کنوانسیون نسل\\u200cکشی لازم\\u200cالاجرا شد؟', 'answer': 'کنوانسیون نسل\\u200cکشی در ۱۲ ژانویه ۱۹۵۱ لازم\\u200cالاجرا شد.'}, {'question': 'هدف اصلی کنوانسیون نسل\\u200cکشی چه بود و چه اقداماتی را از دولت\\u200cها درخواست می\\u200cکرد؟', 'answer': 'هدف اصلی این کنوانسیون تعریف نسل\\u200cکشی به عنوان یک جرم و الزام دولت\\u200cها به جلوگیری از آن بود.'}]}\n"
          ]
        },
        {
          "name": "stderr",
          "output_type": "stream",
          "text": [
            "\r 83%|████████▎ | 151/181 [05:47<01:05,  2.18s/it]"
          ]
        },
        {
          "name": "stdout",
          "output_type": "stream",
          "text": [
            "{'sentence': 'کنوانسیون وین درباره روابط کنسولی، یک پیمان بین\\u200cالمللی مهم است که در ۲۴ آوریل ۱۹۶۳ در وین به تصویب رسید. این کنوانسیون که هدف آن تنظیم روابط کنسولی بین کشورهاست، در حال حاضر در ۱۷۳ کشور اعتبار قانونی دارد. این سند شامل ۷۹ ماده در چهار فصل بوده و به پنج زبان انگلیسی، فرانسوی، چینی، روسی و اسپانیایی تهیه شده است. کنوانسیون وین با هدف تسهیل و بهبود روابط دیپلماتیک بین کشورها، نقش مهمی در پیشگیری از اختلافات و ایجاد تعاملات سازنده ایفا می\\u200cکند. اطلاعات بیشتر در این زمینه را می\\u200cتوان در صفحه ویکیپدیای مربوطه یافت.', 'Q&A': [{'question': 'کنوانسیون وین درباره روابط کنسولی چه زمانی به تصویب رسید؟', 'answer': 'در ۲۴ آوریل ۱۹۶۳.'}, {'question': 'چه چیزی هدف اصلی کنوانسیون وین بود؟', 'answer': 'تنظیم روابط کنسولی بین کشورها.'}, {'question': 'چرا کنوانسیون وین به عنوان یک پیمان بین\\u200cالمللی مهم شناخته می\\u200cشود؟', 'answer': 'به دلیل نقش آن در تسهیل و بهبود روابط دیپلماتیک و پیشگیری از اختلافات بین کشورها.'}, {'question': 'کنوانسیون وین در چند کشور اعتبار قانونی دارد و این تعداد چه اهمیتی دارد؟', 'answer': 'در ۱۷۳ کشور؛ این نشان\\u200cدهنده پذیرش گسترده آن در جامعه بین\\u200cالمللی و اهمیت آن در تنظیم روابط جهانی است.'}, {'question': 'چگونه کنوانسیون وین در ایجاد تعاملات سازنده بین کشورها مؤثر است؟', 'answer': 'با تعریف قوانین و مقررات مشخص برای روابط کنسولی، این کنوانسیون به کاهش سوءتفاهم\\u200cها و ایجاد فضایی امن\\u200cتر برای همکاری\\u200cهای بین\\u200cالمللی کمک می\\u200cکند.'}]}\n"
          ]
        },
        {
          "name": "stderr",
          "output_type": "stream",
          "text": [
            "\r 84%|████████▍ | 152/181 [05:49<01:04,  2.23s/it]"
          ]
        },
        {
          "name": "stdout",
          "output_type": "stream",
          "text": [
            "{'sentence': 'پیمان بریان-کلوگ، یک توافق بین\\u200cالمللی مهم بود که در سال ۱۹۲۸ در پاریس منعقد شد و هدف اصلی آن جلوگیری از وقوع جنگ بود. این پیمان در ۲۷ اوت ۱۹۲۸ توسط ۹ کشور شامل آلمان، ایتالیا، ایالات متحده آمریکا، بریتانیا، بلژیک، چکسلواکی، ژاپن، فرانسه و لهستان به امضا رسید. پیمان مذکور، جنگ را به عنوان ابزاری برای حل اختلافات بین\\u200cالمللی محکوم می\\u200cکرد و توسل به آن را ممنوع می\\u200cساخت.  این پیمان که نام رسمی آن «پیمان همگانی برای خودداری از جنگ» بود، توسط فرانک کلوگ و آریستید بریان، به عنوان پیشگامان آن، رهبری شد و  در نهایت به ۶۳ کشور گسترش یافت.  اجرای این پیمان در ۲۴ ژوئیه ۱۹۲۹ آغاز شد و تاثیر بسزایی در محکومیت جنگ و تلاش برای صلح جهانی داشت. برای کسب اطلاعات بیشتر، می\\u200cتوان به کتاب «حقوق بین\\u200cالملل عمومی» اثر ضیائی بیگدلی مراجعه کرد.', 'Q&A': [{'question': 'چه زمانی پیمان بریان-کلوگ امضا شد؟', 'answer': 'پیمان بریان-کلوگ در ۲۷ اوت ۱۹۲۸ امضا شد.'}, {'question': 'چه کشورهایی این پیمان را امضا کردند؟', 'answer': 'آلمان، ایتالیا، ایالات متحده آمریکا، بریتانیا، بلژیک، چکسلواکی، ژاپن، فرانسه و لهستان از جمله کشورهای امضاکننده این پیمان بودند.'}, {'question': 'هدف اصلی پیمان بریان-کلوگ چه بود و چرا اهمیت داشت؟', 'answer': 'هدف اصلی این پیمان جلوگیری از وقوع جنگ بود. این پیمان جنگ را به عنوان ابزاری برای حل اختلافات بین\\u200cالمللی محکوم می\\u200cکرد و به همین دلیل برای تلاش برای صلح جهانی اهمیت داشت.'}, {'question': 'پیمان بریان-کلوگ چه تاثیری بر فضای بین\\u200cالمللی داشت؟', 'answer': 'این پیمان تاثیر بسزایی در محکومیت جنگ و تلاش برای صلح جهانی داشت.'}, {'question': 'به نظر شما، این پیمان با وجود اهدافش، تا چه حد در جلوگیری از جنگ موفق بود؟', 'answer': 'این پیمان، با وجود تلاش\\u200cهایش، به طور کامل از وقوع جنگ جلوگیری نکرد، اما نقش مهمی در شکل\\u200cدهی افکار عمومی و ترویج صلح داشت.'}]}\n"
          ]
        },
        {
          "name": "stderr",
          "output_type": "stream",
          "text": [
            "\r 85%|████████▍ | 153/181 [05:51<01:01,  2.19s/it]"
          ]
        },
        {
          "name": "stdout",
          "output_type": "stream",
          "text": [
            "{'sentence': 'در سال ۱۹۰۷، پیمان سن پترزبورگ در شهر سن پترزبورگ به امضا رسید. هدف اصلی این پیمان، که بین امپراتوری روسیه و بریتانیا منعقد شد، جلوگیری از پیشرفت\\u200cهای سیاسی، اقتصادی و نظامی آلمان بود. این توافق به دو کشور اجازه داد تا منافع خود را در ایران و افغانستان تنظیم کنند. امضای این قرارداد منجر به اتحاد سه جانبه\\u200cای بین فرانسه، روسیه و انگلیس شد و به حل اختلافات میان بریتانیا و روسیه کمک کرد. این اتحاد، گامی حیاتی در جهت مقابله با آلمان و حفظ منافع مشترک این سه کشور بود. این پیمان، آخرین قدم در راه ایجاد تفاهم مثلث به شمار می\\u200cرود و از نظر تاریخی اهمیت فراوانی دارد. اطلاعات بیشتر در این باره را می\\u200cتوان در وب\\u200cسایت ویکی\\u200cپدیا یافت.', 'Q&A': [{'question': 'پیمان سن پترزبورگ در چه سالی به امضا رسید؟', 'answer': 'پیمان سن پترزبورگ در سال ۱۹۰۷ به امضا رسید.'}, {'question': 'هدف اصلی پیمان سن پترزبورگ چه بود؟', 'answer': 'هدف اصلی این پیمان جلوگیری از پیشرفت\\u200cهای سیاسی، اقتصادی و نظامی آلمان بود.'}, {'question': 'امضای پیمان سن پترزبورگ چه تأثیری بر روابط بین روسیه و بریتانیا داشت؟', 'answer': 'این پیمان به حل اختلافات میان بریتانیا و روسیه کمک کرد و منجر به اتحاد سه جانبه\\u200cای بین فرانسه، روسیه و انگلیس شد.'}, {'question': 'چرا پیمان سن پترزبورگ از نظر تاریخی اهمیت فراوانی دارد؟', 'answer': 'این پیمان گامی حیاتی در جهت مقابله با آلمان و حفظ منافع مشترک سه کشور امضاکننده بود و آخرین قدم در راه ایجاد تفاهم مثلث به شمار می\\u200cرود.'}, {'question': 'چگونه پیمان سن پترزبورگ به تنظیم منافع روسیه و بریتانیا در ایران و افغانستان کمک کرد؟', 'answer': 'این توافق به دو کشور اجازه داد تا منافع خود را در ایران و افغانستان تنظیم کنند، بدون توضیح بیشتر در متن.'}]}\n"
          ]
        },
        {
          "name": "stderr",
          "output_type": "stream",
          "text": [
            "\r 85%|████████▌ | 154/181 [05:53<00:56,  2.08s/it]"
          ]
        },
        {
          "name": "stdout",
          "output_type": "stream",
          "text": [
            "{'sentence': 'در سال ۲۰۰۳، نشستی در آستراخان با موضوع دیپلماسی کشورهای ساحلی دریای خزر برگزار شد. در این نشست، پنج کشور حاشیه دریای خزر، شامل جمهوری اسلامی ایران، ترکمنستان، قزاقستان، فدراسیون روسیه و جمهوری آذربایجان، به تبادل نظر در مورد مسائل مربوط به این دریا پرداختند. این نشست، که در پی رویدادهای مهمی چون عهدنامه ترکمانچای در سال ۱۸۲۸ و توافق\\u200cنامه\\u200cهای متعددی از جمله عشق\\u200cآباد (۲۰۰۳)، تهران (۲۰۱۰)، باکو (۲۰۱۴)، آستانه (۲۰۱۷) و آکتائو (۲۰۱۸) شکل گرفته بود، به دلیل اختلاف دیدگاه\\u200cها در مورد تقسیم دریای خزر و ساخت خطوط لوله، عملاً به نتیجه نرسید. با این حال، این نشست\\u200cها و توافقات حاصله، از جمله امضای پیمان همکاری\\u200cهای امنیتی و نظامی، زمینه\\u200cساز ایجاد اعتماد و اطمینان بین کشورهای منطقه شد. کنوانسیون محیط زیست خزر، که در تهران به امضا رسید، اولین سند حقوقی بود که توسط پنج کشور ساحلی تصویب شد و نقش مهمی در پیشگیری از بحران\\u200cهای زیست\\u200cمحیطی در منطقه داشت. اطلاعات بیشتر در این زمینه را می\\u200cتوان از صفحه مربوطه در ویکیپدیا به دست آورد.', 'Q&A': [{'question': 'چه زمانی نشست آستراخان برگزار شد؟', 'answer': 'نشست آستراخان در سال ۲۰۰۳ برگزار شد.'}, {'question': 'هدف اصلی از برگزاری نشست آستراخان چه بود؟', 'answer': 'هدف اصلی تبادل نظر کشورهای ساحلی دریای خزر در مورد مسائل مربوط به این دریا بود.'}, {'question': 'چرا نشست آستراخان به نتیجه نرسید؟', 'answer': 'نشست به دلیل اختلاف دیدگاه\\u200cها در مورد تقسیم دریای خزر و ساخت خطوط لوله به نتیجه نرسید.'}, {'question': 'کنوانسیون محیط زیست خزر چه اهمیتی داشت؟', 'answer': 'کنوانسیون محیط زیست خزر اولین سند حقوقی بود که توسط پنج کشور ساحلی تصویب شد و نقش مهمی در پیشگیری از بحران\\u200cهای زیست\\u200cمحیطی در منطقه داشت.'}, {'question': 'برگزاری نشست آستراخان چه تأثیری بر روابط کشورهای منطقه داشت؟', 'answer': 'نشست آستراخان و توافقات حاصله، از جمله امضای پیمان همکاری\\u200cهای امنیتی و نظامی، زمینه\\u200cساز ایجاد اعتماد و اطمینان بین کشورهای منطقه شد.'}]}\n"
          ]
        },
        {
          "name": "stderr",
          "output_type": "stream",
          "text": [
            "\r 86%|████████▌ | 155/181 [05:55<00:53,  2.06s/it]"
          ]
        },
        {
          "name": "stdout",
          "output_type": "stream",
          "text": [
            "{'sentence': 'توافق پاریس، پیمانی بین\\u200cالمللی است که در سال ۲۰۱۵ در شهر پاریس به امضا رسید. هدف اصلی این توافق، مقابله با تغییرات اقلیمی و کاهش انتشار گازهای گلخانه\\u200cای از طریق اتخاذ راهکارهایی چون ارتقای انرژی پایدار، کاهش مصرف سوخت\\u200cهای فسیلی، و بهبود عملکرد در بخش\\u200cهای ساختمان، حمل و نقل و گرمایش می\\u200cباشد. این پیمان توسط ۱۹۵ کشور امضا شد و تلاش دارد تا افزایش دمای جهانی را به میزان ۱٫۵ درجه سانتی\\u200cگراد بالاتر از سطوح پیش از صنعتی محدود کند. از جمله بازیگران اصلی این توافق می\\u200cتوان به فرانسه، ایالات متحده آمریکا، روسیه و اتحادیه اروپا اشاره کرد. توافق پاریس بر مناقشات بین آمریکا و اروپا تاثیرگذار بوده و تصمیم روسیه را برای پیوستن به آن تحت تاثیر قرار داد. همچنین، بازگشت آمریکا به این توافق پس از پیروزی جو بایدن از جمله تحولات مهم پس از امضای آن به شمار می\\u200cرود. برای کسب اطلاعات بیشتر، می\\u200cتوانید به منابعی همچون ویکی\\u200c\\u200cپدیا و اسناد سازمان ملل متحد مراجعه کنید.', 'Q&A': [{'question': 'پیمان پاریس چه هدفی را دنبال می\\u200cکرد؟', 'answer': 'هدف اصلی پیمان پاریس مقابله با تغییرات اقلیمی و کاهش انتشار گازهای گلخانه\\u200cای بود.'}, {'question': 'چه زمانی توافق پاریس به امضا رسید و در کجا؟', 'answer': 'توافق پاریس در سال ۲۰۱۵ در شهر پاریس به امضا رسید.'}, {'question': 'چرا توافق پاریس اهمیت دارد؟', 'answer': 'توافق پاریس اهمیت دارد زیرا تلاش می\\u200cکند افزایش دمای جهانی را به میزان ۱٫۵ درجه سانتی\\u200cگراد محدود کند و به این ترتیب به حفظ محیط زیست و جلوگیری از فاجعه\\u200cی اقلیمی کمک می\\u200cکند.'}, {'question': 'چگونه توافق پاریس بر مناقشات بین\\u200cالمللی تاثیر گذاشت؟', 'answer': 'توافق پاریس بر مناقشات بین آمریکا و اروپا تاثیرگذار بود و تصمیم روسیه را برای پیوستن به آن تحت تاثیر قرار داد.'}, {'question': 'چه کشوری پس از پیروزی جو بایدن به توافق پاریس بازگشت؟', 'answer': 'ایالات متحده آمریکا پس از پیروزی جو بایدن به توافق پاریس بازگشت.'}]}\n"
          ]
        },
        {
          "name": "stderr",
          "output_type": "stream",
          "text": [
            "\r 86%|████████▌ | 156/181 [05:58<00:59,  2.38s/it]"
          ]
        },
        {
          "name": "stdout",
          "output_type": "stream",
          "text": [
            "{'sentence': 'صلح آنتالکیداس، که در سال ۳۸۷ پیش از میلاد منعقد شد، نقطه عطفی در تاریخ باستان به شمار می\\u200cرود. هدف اصلی این پیمان، پایان دادن به جنگ\\u200cهای کورنتیان و یونان باستان بود. اردشیر دوم، پادشاه هخامنشی، نقش میانجی را در این صلح ایفا کرد و با وساطت خود، زمینه را برای توافق طرفین فراهم آورد. این پیمان، که میان اسپارت و دولت\\u200cشهرهای یونانی به امضا رسید، نبردهای کورنتیان را خاتمه داد و به قدرت\\u200cگیری اسپارت در یونان انجامید. از دیگر پیامدهای مهم این صلح می\\u200cتوان به به رسمیت شناختن حاکمیت هخامنشیان بر آسیا و فراهم شدن فرصتی برای تصرف قبرس توسط ایران اشاره کرد. این صلح همچنین یونان را از مداخله در ایونیه بازداشت و به ایران فرصت داد تا به سرکوب شورش\\u200cهای آسیای صغیر بپردازد. اطلاعات بیشتر در این زمینه را می\\u200cتوانید در صفحه ویکی\\u200cپدیا مربوط به صلح آنتالکیداس بیابید.', 'Q&A': [{'question': 'پیمان صلح آنتالکیداس در چه سالی منعقد شد و چه اهمیتی در تاریخ داشت؟', 'answer': 'پیمان صلح آنتالکیداس در سال ۳۸۷ پیش از میلاد منعقد شد و نقطه عطفی در تاریخ باستان به شمار می\\u200cرود.'}, {'question': 'چه کسی نقش میانجی را در صلح آنتالکیداس ایفا کرد و این میانجیگری چگونه انجام شد؟', 'answer': 'اردشیر دوم، پادشاه هخامنشی، نقش میانجی را در صلح آنتالکیداس ایفا کرد و با وساطت خود زمینه را برای توافق طرفین فراهم آورد.'}, {'question': 'چه عاملی باعث شد تا پیمان صلح آنتالکیداس به امضا برسد و هدف اصلی این پیمان چه بود؟', 'answer': 'هدف اصلی این پیمان، پایان دادن به جنگ\\u200cهای کورنتیان و یونان باستان بود که با وساطت اردشیر دوم و پس از کشمکش\\u200cهای فراوان به سرانجام رسید.'}, {'question': 'پس از صلح آنتالکیداس چه پیامدهایی برای یونان و هخامنشیان به همراه داشت؟', 'answer': 'پس از صلح آنتالکیداس، اسپارت قدرت گرفت، حاکمیت هخامنشیان بر آسیا به رسمیت شناخته شد، ایران فرصت تصرف قبرس را یافت و یونان از مداخله در ایونیه بازداشت.'}, {'question': 'چگونه می\\u200cتوان فهمید که صلح آنتالکیداس بر تاریخ یونان باستان تأثیر بسزایی گذاشت؟', 'answer': 'با توجه به پایان یافتن جنگ\\u200cهای کورنتیان، قدرت\\u200cگیری اسپارت و بازداشت یونان از مداخله در ایونیه، می\\u200cتوان دریافت که صلح آنتالکیداس بر تاریخ یونان باستان تأثیر بسزایی گذاشت و تغییری اساسی در روابط میان دولت\\u200cشهرها ایجاد کرد.'}]}\n"
          ]
        },
        {
          "name": "stderr",
          "output_type": "stream",
          "text": [
            "\r 87%|████████▋ | 157/181 [06:01<01:00,  2.52s/it]"
          ]
        },
        {
          "name": "stdout",
          "output_type": "stream",
          "text": [
            "{'sentence': 'کنوانسیون اول ژنو، که در ۲۲ اوت ۱۸۶۴ در ژنو برگزار شد، نقطه عطفی در تاریخ بشریت به شمار می\\u200cرود. این کنوانسیون با هدف بهبود وضعیت مجروحان ارتش\\u200cهای جنگی و ایجاد چارچوبی برای حمایت از قربانیان درگیری\\u200cهای مسلحانه شکل گرفت. این پیمان که در ۱۰ ماده تنظیم شده بود، توسط ۱۲ کشور امضا شد و به عنوان بنیان حقوق بین\\u200cالملل برای حمایت از این افراد تلقی می\\u200cگردد. هدف اصلی این کنوانسیون، فراهم آوردن کمک\\u200cهای پزشکی به سربازان زخمی بود. این کنوانسیون بعدها دستخوش تغییراتی در سال\\u200cهای ۱۹۰۶، ۱۹۲۹ و ۱۹۴۹ شد که تاریخ امضای قرارداد به ۱۹۰۶ بازمی\\u200cگردد. اطلاعات بیشتر را می\\u200cتوان در منابعی همچون ویکی\\u200cپدیا و اسناد کمیته بین\\u200cالمللی صلیب سرخ (ICRC) یافت.', 'Q&A': [{'question': 'کنوانسیون اول ژنو در چه تاریخی برگزار شد و چه هدفی را دنبال می\\u200cکرد؟', 'answer': 'کنوانسیون اول ژنو در ۲۲ اوت ۱۸۶۴ برگزار شد و هدف آن بهبود وضعیت مجروحان ارتش\\u200cهای جنگی و ایجاد چارچوبی برای حمایت از قربانیان درگیری\\u200cهای مسلحانه بود.'}, {'question': 'چه عواملی باعث شکل\\u200cگیری کنوانسیون اول ژنو شد و این کنوانسیون چه تأثیری بر حقوق بین\\u200cالملل داشت؟', 'answer': 'شکل\\u200cگیری این کنوانسیون با هدف بهبود وضعیت مجروحان جنگی و حمایت از قربانیان درگیری\\u200cها بود و به عنوان بنیان حقوق بین\\u200cالملل برای حمایت از این افراد تلقی گردید.'}, {'question': 'چه کشورهایی کنوانسیون اول ژنو را امضا کردند و در چه سال\\u200cهایی این کنوانسیون دستخوش تغییرات شد؟', 'answer': 'این کنوانسیون توسط ۱۲ کشور امضا شد و بعدها در سال\\u200cهای ۱۹۰۶، ۱۹۲۹ و ۱۹۴۹ دستخوش تغییراتی شد.'}, {'question': 'چرا کنوانسیون اول ژنو یک رویداد مهم در تاریخ بشریت به شمار می\\u200cرود؟', 'answer': 'به دلیل هدف آن در بهبود وضعیت مجروحان جنگی و ایجاد چارچوبی برای حمایت از قربانیان درگیری\\u200cهای مسلحانه که به این ترتیب به عنوان یک گام اساسی در جهت انسان\\u200cدوستی و حفاظت از حقوق بشر در زمان جنگ محسوب می\\u200cشود.'}, {'question': 'مهمترین ویژگی\\u200cهای کنوانسیون اول ژنو چه بود و این کنوانسیون چه کمکی به سربازان زخمی می\\u200cکرد؟', 'answer': 'این پیمان در ۱۰ ماده تنظیم شده بود و هدف اصلی آن، فراهم آوردن کمک\\u200cهای پزشکی به سربازان زخمی بود.'}]}\n"
          ]
        },
        {
          "name": "stderr",
          "output_type": "stream",
          "text": [
            "\r 87%|████████▋ | 158/181 [06:03<00:55,  2.40s/it]"
          ]
        },
        {
          "name": "stdout",
          "output_type": "stream",
          "text": [
            "{'sentence': 'در سال ۱۷۳۶، معاهده\\u200cای مهم با عنوان معاهده استانبول میان ایران و امپراتوری عثمانی به امضا رسید. این پیمان که در ۲۴ سپتامبر منعقد شد، به اختلافات دیرینه میان دو طرف خاتمه داد. از یک سو، نادرشاه افشار، فرمانده مقتدر ایران و از سوی دیگر، توپال پاشا، فرمانده عثمانی، در این معاهده نقش داشتند. امضای این قرارداد پس از اعتراض هر دو دولت به معاهده احمد پاشا صورت گرفت و به دنبال آن، ایران از قفقاز عقب\\u200cنشینی کرد و عثمانی\\u200cها تبریز را ترک نمودند. این واقعه که به پایان جنگ\\u200cهای ایران و عثمانی انجامید، از اهمیت تاریخی فراوانی برخوردار است.', 'Q&A': [{'question': 'این معاهده چه نام داشت و چه زمانی به امضا رسید؟', 'answer': 'این معاهده با عنوان معاهده استانبول در سال ۱۷۳۶ و در ۲۴ سپتامبر به امضا رسید.'}, {'question': 'چه عاملی باعث امضای معاهده استانبول شد؟', 'answer': 'اعتراض هر دو دولت ایران و عثمانی به معاهده احمد پاشا عامل اصلی امضای این معاهده بود.'}, {'question': 'چه کسانی نقش کلیدی در انعقاد معاهده استانبول داشتند؟', 'answer': 'نادرشاه افشار از ایران و توپال پاشا از امپراتوری عثمانی نقش\\u200cهای کلیدی در این معاهده داشتند.'}, {'question': 'نتیجه اصلی معاهده استانبول چه بود و چه تاثیری داشت؟', 'answer': 'نتیجه اصلی این معاهده، پایان یافتن جنگ\\u200cهای طولانی مدت میان ایران و عثمانی بود. این معاهده باعث عقب\\u200cنشینی ایران از قفقاز و خروج عثمانی\\u200cها از تبریز شد.'}, {'question': 'چرا معاهده استانبول از اهمیت تاریخی فراوانی برخوردار است؟', 'answer': 'این معاهده به دلیل خاتمه دادن به اختلافات دیرینه و پایان دادن به جنگ\\u200cهای طولانی مدت میان دو امپراتوری بزرگ آن زمان، از اهمیت تاریخی فراوانی برخوردار است.'}]}\n"
          ]
        },
        {
          "name": "stderr",
          "output_type": "stream",
          "text": [
            "\r 88%|████████▊ | 159/181 [06:06<00:52,  2.38s/it]"
          ]
        },
        {
          "name": "stdout",
          "output_type": "stream",
          "text": [
            "{'sentence': 'پیمان\\u200cنامه میلتوس، یک توافق مهم تاریخی است که در زمان داریوش دوم، پادشاه هخامنشی، منعقد شد. این پیمان که در شهر ملطبه به امضا رسید، میان شاهنشاهی هخامنشی، اسپارتو و متحدان ایشان از یک سو و آتن از سوی دیگر منعقد شد.  مفاد اصلی این پیمان شامل ممنوعیت ارسال پول یا کمک به آتن و ادامه\\u200cی جنگ مشترک با آن شهر بود. این توافق\\u200cنامه به منزله\\u200cی اتحاد در جنگ علیه آتن بود و هرگونه صلح جداگانه با این شهر را ممنوع کرد. در نتیجه، این پیمان\\u200cنامه سبب تداوم جنگ بین هخامنشیان و آتن شد. امضای این قرارداد، روابط میان هخامنشیان و یونانیان را در آن دوران تعیین کرد و از این رو، از اهمیت تاریخی برخوردار است. اطلاعات بیشتر در این مورد را می\\u200cتوان در وبسایت ویکی\\u200cپدیا یافت.', 'Q&A': [{'question': 'پیمان\\u200cنامه میلتوس دقیقاً چه زمانی منعقد شد؟', 'answer': 'پیمان\\u200cنامه میلتوس در زمان داریوش دوم، پادشاه هخامنشی، منعقد شد.'}, {'question': 'چه عواملی به امضای پیمان\\u200cنامه میلتوس منجر شد؟', 'answer': 'این پیمان\\u200cنامه به منظور اتحاد در جنگ علیه آتن و ممنوع کردن هرگونه صلح جداگانه با آن شهر به امضا رسید.'}, {'question': 'چه کسانی طرف\\u200cهای اصلی پیمان\\u200cنامه میلتوس بودند؟', 'answer': 'طرف\\u200cهای اصلی این پیمان شاهنشاهی هخامنشی، اسپارت و متحدان ایشان از یک سو و آتن از سوی دیگر بودند.'}, {'question': 'نتیجه\\u200cی اصلی پیمان\\u200cنامه میلتوس چه بود و چه تاثیری بر روابط بین هخامنشیان و آتن داشت؟', 'answer': 'نتیجه\\u200cی اصلی این پیمان، تداوم جنگ میان هخامنشیان و آتن بود و این پیمان روابط میان آن\\u200cها را در آن دوران شکل داد.'}, {'question': 'اهمیت تاریخی پیمان\\u200cنامه میلتوس در چه چیزی نهفته است؟', 'answer': 'اهمیت تاریخی این پیمان در تعیین روابط میان هخامنشیان و یونانیان در آن دوران و نقش آن در تداوم جنگ\\u200cها نهفته است.'}]}\n"
          ]
        },
        {
          "name": "stderr",
          "output_type": "stream",
          "text": [
            "\r 88%|████████▊ | 160/181 [06:08<00:50,  2.39s/it]"
          ]
        },
        {
          "name": "stdout",
          "output_type": "stream",
          "text": [
            "{'sentence': 'در سال ۱۹۷۳، پیمان مارپل، کنوانسیون بین\\u200cالمللی جلوگیری از آلودگی ناشی از کشتی\\u200cها، به امضا رسید. این پیمان که هدف اصلی\\u200cاش کاهش آلودگی آب\\u200cها، به ویژه ناشی از تخلیه زباله و مواد نفتی بود، با هدف حفظ محیط زیست دریایی تدوین شد. اگرچه این کنوانسیون در ۱۷ فوریه ۱۹۷۳ به تصویب رسید، اما اجرایی شدن آن تا ۲ اکتبر ۱۹۸۳ به طول انجامید. تا سال ۲۰۰۹، ۱۳۶ کشور، که نماینده ۹۸ درصد از کشتی\\u200cهای جهانی بودند، به این پیمان پیوستند. از جمله کشورهای امضاکننده می\\u200cتوان به ایالات متحده آمریکا، اتحادیه اروپا، کانادا، ژاپن، کره جنوبی، چین، استرالیا، برزیل، روسیه و هند اشاره کرد. این پیمان منجر به کاهش چشمگیر آلودگی آب\\u200cها و حفظ محیط زیست دریایی شد و کشتی\\u200cها را ملزم به رعایت استانداردهای بین\\u200cالمللی کرد. اطلاعات بیشتر در وبسایت ویکی\\u200cپدیا در دسترس است.', 'Q&A': [{'question': 'پیمان مارپل در چه سالی به امضا رسید؟', 'answer': 'پیمان مارپل در سال ۱۹۷۳ به امضا رسید.'}, {'question': 'هدف اصلی پیمان مارپل چه بود و چه نوع آلودگی را هدف قرار داده بود؟', 'answer': 'هدف اصلی این پیمان کاهش آلودگی آب\\u200cها، به ویژه ناشی از تخلیه زباله و مواد نفتی بود.'}, {'question': 'چرا پیمان مارپل برای حفظ محیط زیست دریایی اهمیت داشت؟', 'answer': 'پیمان مارپل با کاهش آلودگی آب\\u200cها، به حفظ اکوسیستم دریایی و سلامت موجودات زنده در اقیانوس\\u200cها و دریاها کمک کرد.'}, {'question': 'چه عواملی باعث شد تا اجرایی شدن پیمان مارپل تا سال ۱۹۸۳ به طول انجامد؟', 'answer': 'عواملی مانند تصویب قوانین ملی در کشورهای مختلف، آماده\\u200cسازی زیرساخت\\u200cها و تنظیم مقررات اجرای این پیمان، باعث تاخیر در اجرایی شدن آن شد.'}, {'question': 'با توجه به پیوستن ۱۳۶ کشور به پیمان مارپل، می\\u200cتوان نتیجه گرفت که این پیمان چه تاثیری بر جامعه بین\\u200cالمللی داشته است؟', 'answer': 'می\\u200cتوان نتیجه گرفت که این پیمان با استقبال گسترده جامعه بین\\u200cالمللی روبرو شد و نشان\\u200cدهنده تعهد جهانی برای حفاظت از محیط زیست دریایی بود.'}]}\n"
          ]
        },
        {
          "name": "stderr",
          "output_type": "stream",
          "text": [
            "\r 89%|████████▉ | 161/181 [06:10<00:47,  2.39s/it]"
          ]
        },
        {
          "name": "stdout",
          "output_type": "stream",
          "text": [
            "{'sentence': 'در نهم بهمن سال ۱۳۲۰ هجری شمسی، پیمان اتحاد سه\\u200cگانه بین ایران، انگلستان و شوروی به امضا رسید. این پیمان که پس از اشغال ایران توسط این سه کشور منعقد شد، با هدف حفظ تمامیت ارضی و استقلال سیاسی ایران صورت گرفت. بر اساس این توافق، ایران متعهد شد که امکانات ارتباطی خود را در اختیار متفقین قرار دهد. انگلستان و شوروی نیز اجازه یافتند از راه\\u200cهای ارتباطی ایران برای انتقال تسلیحات به جبهه\\u200cهای جنگ استفاده کرده و نیروهای خود را در خاک ایران مستقر سازند. این پیمان در بحبوحه جنگ جهانی دوم، روابط سیاسی و اقتصادی این سه کشور را تقویت کرد و شامل بندهایی در خصوص همکاری در زمینه ارتباطات و بهره\\u200cبرداری از منابع طبیعی نیز بود. این رویداد در تاریخ معاصر ایران از اهمیت به سزایی برخوردار است و اطلاعات بیشتر در منابع مختلفی از جمله ویکی\\u200c پدیا قابل دسترسی است.', 'Q&A': [{'question': 'چه زمانی پیمان اتحاد سه\\u200cگانه بین ایران، انگلستان و شوروی به امضا رسید؟', 'answer': 'این پیمان در نهم بهمن سال ۱۳۲۰ هجری شمسی به امضا رسید.'}, {'question': 'چرا پیمان اتحاد سه\\u200cگانه منعقد شد؟', 'answer': 'این پیمان پس از اشغال ایران توسط سه کشور امضا شد و هدف آن حفظ تمامیت ارضی و استقلال سیاسی ایران بود.'}, {'question': 'این پیمان چه تأثیری بر روابط بین سه کشور داشت؟', 'answer': 'این پیمان روابط سیاسی و اقتصادی ایران، انگلستان و شوروی را در بحبوحه جنگ جهانی دوم تقویت کرد.'}, {'question': 'بر اساس پیمان اتحاد سه\\u200cگانه، ایران چه تعهداتی داشت؟', 'answer': 'ایران متعهد شد که امکانات ارتباطی خود را در اختیار متفقین قرار دهد.'}, {'question': 'با توجه به مفاد پیمان، آیا می\\u200cتوان گفت که این پیمان کاملاً به نفع ایران بود؟ چرا؟', 'answer': 'خیر، نمی\\u200cتوان گفت. اگرچه هدف ظاهری پیمان حفظ تمامیت ارضی و استقلال سیاسی ایران بود، اما استقرار نیروهای متفقین و استفاده از راه\\u200cهای ارتباطی ایران نشان\\u200cدهنده\\u200cی محدودیت استقلال و اعمال نفوذ این سه کشور در ایران است.'}]}\n"
          ]
        },
        {
          "name": "stderr",
          "output_type": "stream",
          "text": [
            "\r 90%|████████▉ | 162/181 [06:12<00:42,  2.22s/it]"
          ]
        },
        {
          "name": "stdout",
          "output_type": "stream",
          "text": [
            "{'sentence': 'عهدنامه زهاب، که در سال ۱۶۳۹ میلادی در قصر شیرین به امضا رسید، نقطه\\u200cی عطفی در روابط ایران و امپراتوری عثمانی به شمار می\\u200cرود. این عهدنامه، که به جنگ\\u200cهای طولانی و ۱۵۰ سال اختلافات مرزی پایان داد، منجر به واگذاری عراق به عثمانی شد. در نتیجه این توافق، ایروان در قفقاز جنوبی به ایران پیوست و تمامی سرزمین\\u200cهای میان\\u200cدو رود (بین\\u200cالنهرین) به عثمانی واگذار گردید. این پیمان، که از نظر تاریخی اهمیت فراوانی دارد، همچنین حدود مناطق مرزی بین ایران، ترکیه و عراق را مشخص کرد و نقطه پایانی بر منازعات دیرینه میان دو امپراتوری نهاد. اطلاعات تکمیلی در این خصوص در منابع مختلف، از جمله ویکی\\u200cپدیا، موجود است.', 'Q&A': [{'question': 'چه زمانی عهدنامه زهاب امضا شد؟', 'answer': 'عهدنامه زهاب در سال ۱۶۳۹ میلادی به امضا رسید.'}, {'question': 'چرا عهدنامه زهاب برای روابط ایران و عثمانی اهمیت داشت؟', 'answer': 'این عهدنامه به جنگ\\u200cهای طولانی پایان داد، اختلافات مرزی را حل کرد و حدود مناطق مرزی را مشخص نمود.'}, {'question': 'چه چیزی باعث شد عهدنامه زهاب امضا شود؟', 'answer': 'امضای عهدنامه زهاب نتیجه\\u200cای از پایان دادن به ۱۵۰ سال منازعات مرزی و جنگ\\u200cهای طولانی میان ایران و امپراتوری عثمانی بود.'}, {'question': 'بر اساس عهدنامه زهاب، چه سرزمین\\u200cهایی به عثمانی واگذار شد؟', 'answer': 'بر اساس عهدنامه زهاب، تمامی سرزمین\\u200cهای میان\\u200cدو رود (بین\\u200cالنهرین) به عثمانی واگذار گردید.'}, {'question': 'نتیجهٔ امضای عهدنامه زهاب در رابطه با شهر ایروان چه بود؟', 'answer': 'در نتیجهٔ این توافق، ایروان در قفقاز جنوبی به ایران پیوست.'}]}\n"
          ]
        },
        {
          "name": "stderr",
          "output_type": "stream",
          "text": [
            "\r 90%|█████████ | 163/181 [06:14<00:39,  2.17s/it]"
          ]
        },
        {
          "name": "stdout",
          "output_type": "stream",
          "text": [
            "{'sentence': 'در سال ۲۰۰۳، کنوانسیون حراست از میراث فرهنگی ناملموس به امضا رسید و از سال ۲۰۰۶ به اجرا گذاشته شد. این کنوانسیون که با هدف پاسداری از میراث فرهنگی ناملموس در سراسر جهان شکل گرفت، توسط یونسکو تدوین شد. تا ژوئن سال ۲۰۱۶، ۱۶۹ کشور به این کنوانسیون پیوستند، نشان از اهمیت جهانی این پیمان دارد. کنوانسیون مذکور، نتیجه ای جز حفظ و حراست از میراث فرهنگی ناملموس نداشته است. اطلاعات بیشتر را می توان در ویکی پدیا و همچنین آیین نامه اجرایی قانون الحاق جمهوری اسلامی ایران به کنوانسیون حراست از میراث فرهنگی ناملموس (مصوب ۲۰۰۳ یونسکو) یافت.', 'Q&A': [{'question': 'چه زمانی کنوانسیون حراست از میراث فرهنگی ناملموس به اجرا گذاشته شد؟', 'answer': 'کنوانسیون حراست از میراث فرهنگی ناملموس در سال ۲۰۰۶ به اجرا گذاشته شد.'}, {'question': 'هدف اصلی از تدوین کنوانسیون حراست از میراث فرهنگی ناملموس چه بود؟', 'answer': 'هدف اصلی، پاسداری و حفظ میراث فرهنگی ناملموس در سراسر جهان بود.'}, {'question': 'چرا پیوستن ۱۶۹ کشور به کنوانسیون حراست از میراث فرهنگی ناملموس تا سال ۲۰۱۶ مهم تلقی می\\u200cشود؟', 'answer': 'این تعداد از کشورها نشان\\u200cدهنده اهمیت جهانی و پذیرش گسترده\\u200cی این پیمان برای حفظ میراث فرهنگی ناملموس است.'}, {'question': 'یونسکو چگونه در تدوین این کنوانسیون نقش داشت؟', 'answer': 'کنوانسیون حراست از میراث فرهنگی ناملموس توسط یونسکو تدوین شد.'}, {'question': 'کنوانسیون حراست از میراث فرهنگی ناملموس چه تأثیری بر حفاظت از میراث فرهنگی ناملموس داشته است؟', 'answer': 'این کنوانسیون به حفظ و حراست از میراث فرهنگی ناملموس در سراسر جهان کمک کرده است.'}]}\n"
          ]
        },
        {
          "name": "stderr",
          "output_type": "stream",
          "text": [
            "\r 91%|█████████ | 164/181 [06:16<00:36,  2.12s/it]"
          ]
        },
        {
          "name": "stdout",
          "output_type": "stream",
          "text": [
            "{'sentence': 'معاهده پاریس، که در ۴ مارس ۱۸۵۷ میلادی (۱۳ اسفند ۱۲۳۵ شمسی) به امضا رسید، نقطه عطفی در روابط ایران و انگلستان بود. این پیمان صلح پس از درگیری\\u200cهای دو کشور بر سر مسئله هرات در پاریس منعقد شد. فرخ خان غفاری، نماینده ایران در این معاهده بود و از جمله مفاد آن، تعهد انگلستان به عدم پناه دادن به مخالفان شاه در سفارت خود، به رسمیت شناختن افغانستان و الحاق هرات به آن کشور بود. نتیجه این معاهده، خروج نیروهای ایرانی از هرات، عذرخواهی از سفیر انگلیس و پذیرش یک قرارداد تجاری استعماری و همچنین واگذاری امتیازات ارضی به سلطان مسقط بود. معاهده پاریس از منظر تاریخی، پایان\\u200cدهنده جنگ میان ایران و بریتانیا و آغازگر دوره\\u200cای نوین در روابط دو کشور محسوب می\\u200cشود، که پیامدهای گسترده\\u200cای بر سیاست خارجی ایران و نفوذ قدرت\\u200cهای خارجی در منطقه داشت. اطلاعات بیشتری را می\\u200cتوان در منابعی همچون ویکی\\u200cپیدیا و مقالات مختلف مرتبط با این رویداد یافت.', 'Q&A': [{'question': 'چه کسی نماینده ایران در معاهده پاریس بود؟', 'answer': 'فرخ خان غفاری نماینده ایران در معاهده پاریس بود.'}, {'question': 'چه چیزی منجر به امضای معاهده پاریس شد؟', 'answer': 'درگیری\\u200cهای ایران و انگلستان بر سر مسئله هرات عامل اصلی امضای معاهده پاریس بود.'}, {'question': 'چه زمانی معاهده پاریس به امضا رسید؟', 'answer': 'معاهده پاریس در ۴ مارس ۱۸۵۷ میلادی (۱۳ اسفند ۱۲۳۵ شمسی) به امضا رسید.'}, {'question': 'چرا انگلستان متعهد شد که به مخالفان شاه در سفارت خود پناه ندهد؟', 'answer': 'این تعهد بخشی از مفاد معاهده پاریس بود که برای بهبود روابط و کاهش تنش\\u200cها بین دو کشور در نظر گرفته شد.'}, {'question': 'چه پیامدهایی از نظر تاریخی برای ایران در نتیجه معاهده پاریس به وجود آمد؟', 'answer': 'معاهده پاریس به جنگ میان ایران و بریتانیا پایان داد و آغازگر دوره\\u200cای نوین در روابط دو کشور شد، همچنین این معاهده بر سیاست خارجی ایران و نفوذ قدرت\\u200cهای خارجی در منطقه تاثیرگذار بود.'}]}\n"
          ]
        },
        {
          "name": "stderr",
          "output_type": "stream",
          "text": [
            "\r 91%|█████████ | 165/181 [06:19<00:35,  2.20s/it]"
          ]
        },
        {
          "name": "stdout",
          "output_type": "stream",
          "text": [
            "{'sentence': 'در سال ۱۹۱۳، پیمان قسطنطنیه میان ایران و امپراتوری عثمانی به امضا رسید. این پیمان که در پی مذاکرات طولانی و تشکیل کمیسیونی به ریاست اعتلاء الملک (نصرالله خلعتبری) منعقد شد، به تعیین حدود مرزی میان دو کشور می\\u200cپرداخت. مذاکرات و نقشه\\u200cبرداری از مناطق مختلف، به ویژه شط العرب، از جمله مراحل مهم این پیمان بود. سرانجام، عملیات تحدید حدود در تاریخ ۶ ذی\\u200cالحجه ۱۳۳۲ هجری (مطابق ۲۶ اکتبر ۱۹۱۴) به پایان رسید و پیمان به ثمر نشست. این پیمان از اهمیت تاریخی بالایی برخوردار است، زیرا به تعیین مرزها و جلوگیری از اختلافات آتی در منطقه کمک کرد. در نتیجه این پیمان، مناطق تحت کنترل هر کشور مشخص شد و کمیسیونی نیز برای اجرای فصل دوم مقاوله\\u200cنامه تحدید حدود تشکیل گردید. اطلاعات بیشتری در این مورد را می توان از صفحه ویکی پدیای پیمان قسطنطنیه ۱۹۱۳ بدست آورد.', 'Q&A': [{'question': 'پیمان قسطنطنیه چه زمانی میان ایران و امپراتوری عثمانی به امضا رسید؟', 'answer': 'این پیمان در سال ۱۹۱۳ به امضا رسید.'}, {'question': 'چه عاملی باعث شد تا مذاکرات و تشکیل کمیسیونی برای تعیین حدود مرزی میان ایران و امپراتوری عثمانی صورت گیرد؟', 'answer': 'این مذاکرات و تشکیل کمیسیون به منظور تعیین حدود مرزی میان دو کشور و جلوگیری از اختلافات آتی در منطقه انجام شد.'}, {'question': 'اعتلاء الملک (نصرالله خلعتبری) در پیمان قسطنطنیه چه نقشی داشت؟', 'answer': 'اعتلاء الملک به عنوان رئیس کمیسیونی که مذاکرات را رهبری می\\u200cکرد، نقش کلیدی در انعقاد این پیمان ایفا کرد.'}, {'question': 'نتیجهٔ اصلی پیمان قسطنطنیه چه بود و چه تاثیری بر روابط دو کشور داشت؟', 'answer': 'نتیجهٔ اصلی این پیمان تعیین حدود مرزی میان ایران و امپراتوری عثمانی بود که به مشخص شدن مناطق تحت کنترل هر کشور و جلوگیری از اختلافات آتی کمک کرد.'}, {'question': 'چرا پیمان قسطنطنیه از اهمیت تاریخی بالایی برخوردار است؟', 'answer': 'این پیمان از اهمیت تاریخی بالایی برخوردار است، زیرا به تعیین مرزها و جلوگیری از اختلافات آتی در منطقه کمک کرد، و به نوعی بنیاد محکمی برای روابط آتی دو کشور فراهم نمود.'}]}\n"
          ]
        },
        {
          "name": "stderr",
          "output_type": "stream",
          "text": [
            "\r 92%|█████████▏| 166/181 [06:21<00:32,  2.19s/it]"
          ]
        },
        {
          "name": "stdout",
          "output_type": "stream",
          "text": [
            "{'sentence': 'در سال ۱۹۵۱، قرارداد سان فرانسیسکو میان متفقین و ژاپن به امضا رسید. این پیمان، که توسط ۴۹ ملت امضا شد، نقطه پایانی بر جنگ جهانی دوم گذاشت و جایگاه ژاپن را به عنوان یک قدرت امپریالیستی مشخص کرد. این قرارداد، حق حاکمیت ملی را به ژاپن بازگرداند و زمینه را برای حضور نامحدود نیروهای آمریکایی در ژاپن به منظور همکاری در عملیات سازمان ملل متحد در خاور دور فراهم کرد. این توافقنامه سرانجام در ۲۸ آوریل ۱۹۵۲ به اجرا درآمد و تأثیر بسزایی در پایان جنگ جهانی دوم و بازسازی ژاپن داشت.  قرارداد سان فرانسیسکو اهمیت تاریخی فراوانی دارد، زیرا نه تنها به پایان مخاصمات جهانی کمک کرد، بلکه مسیر ژاپن را به سوی استقلال و بازسازی هموار نمود.', 'Q&A': [{'question': 'چه زمانی قرارداد سان فرانسیسکو به اجرا درآمد؟', 'answer': 'قرارداد سان فرانسیسکو در ۲۸ آوریل ۱۹۵۲ به اجرا درآمد.'}, {'question': 'چه کسانی این قرارداد را امضا کردند و هدف اصلی آن چه بود؟', 'answer': 'این قرارداد میان متفقین و ژاپن امضا شد و توسط ۴۹ ملت نیز امضا گردید. هدف اصلی این قرارداد پایان دادن به جنگ جهانی دوم و مشخص کردن جایگاه ژاپن به عنوان یک کشور مستقل بود.'}, {'question': 'چرا قرارداد سان فرانسیسکو از نظر تاریخی مهم است؟', 'answer': 'این قرارداد از این جهت مهم است که به پایان مخاصمات جهانی کمک کرد و مسیر ژاپن را به سوی استقلال و بازسازی هموار نمود.'}, {'question': 'این قرارداد چه تأثیری بر حضور نیروهای آمریکایی در ژاپن داشت؟', 'answer': 'این قرارداد زمینه را برای حضور نامحدود نیروهای آمریکایی در ژاپن به منظور همکاری در عملیات سازمان ملل متحد در خاور دور فراهم کرد.'}, {'question': 'چگونه این قرارداد در مسیر بازسازی ژاپن مؤثر بود؟', 'answer': 'قرارداد سان فرانسیسکو با بازگرداندن حق حاکمیت ملی به ژاپن، زمینه را برای استقلال سیاسی و اقتصادی ژاپن فراهم کرد که این امر در نهایت به بازسازی و توسعه ژاپن کمک شایانی نمود.'}]}\n"
          ]
        },
        {
          "name": "stderr",
          "output_type": "stream",
          "text": [
            "\r 92%|█████████▏| 167/181 [06:24<00:33,  2.43s/it]"
          ]
        },
        {
          "name": "stdout",
          "output_type": "stream",
          "text": [
            "{'sentence': 'پروتکل ژنو، یک توافقنامه بین\\u200cالمللی مهم است که با هدف منع استفاده از مواد شیمیایی و سمی در جنگ تدوین شد. این پروتکل در سال ۱۹۲۵ به تصویب رسید و در سال ۱۹۲۸ اجرایی شد. این معاهده، به منظور ممنوعیت استفاده از مواد خفه\\u200cکننده، سمی و گازهای دیگر در جنگ\\u200cها تدوین شده است. این پروتکل در ژنو به امضا رسید و بین کشورهای سراسر جهان اجرا می\\u200cشود. با وجود این، در جنگ ایران و عراق (۱۹۸۰-۱۹۸۸)، صدام حسین این قانون را نقض کرد و از مواد شیمیایی استفاده نمود. همچنین، درگیری\\u200cهای سوریه در سال ۲۰۱۳ نیز شاهد اتهاماتی مبنی بر استفاده از سلاح\\u200cهای شیمیایی توسط هر دو طرف درگیر بود. پروتکل ژنو در ۷ سپتامبر ۱۹۲۹ در پیمان\\u200cنامه\\u200cهای جامعه ملل ثبت شد و همچنان از اهمیت تاریخی فراوانی برخوردار است.', 'Q&A': [{'question': 'پروتکل ژنو چه نوع توافقنامه\\u200cای بود و هدف اصلی آن چه بود؟', 'answer': 'پروتکل ژنو یک توافقنامه بین\\u200cالمللی بود که هدف اصلی آن منع استفاده از مواد شیمیایی و سمی در جنگ\\u200cها بود.'}, {'question': 'چه زمانی و در کجا پروتکل ژنو به امضا رسید و به اجرا گذاشته شد؟', 'answer': 'این پروتکل در سال ۱۹۲۵ در ژنو به امضا رسید و در سال ۱۹۲۸ به اجرا گذاشته شد.'}, {'question': 'چرا پروتکل ژنو در طول تاریخ با وجود مفادش نقض شده است؟', 'answer': 'این پروتکل به دلیل میل به برتری نظامی و بی\\u200cتوجهی به جان انسان\\u200cها در برخی درگیری\\u200cها، مانند جنگ ایران و عراق و درگیری\\u200cهای سوریه، نقض شده است.'}, {'question': 'چه کسی پروتکل ژنو را در جنگ ایران و عراق نقض کرد و این نقض چه تاثیری داشت؟', 'answer': 'صدام حسین در جنگ ایران و عراق این پروتکل را نقض کرد. این نقض، منجر به تلفات انسانی گسترده و رنج فراوان شد و اهمیت اجرای قوانین بین\\u200cالمللی را نشان داد.'}, {'question': 'با توجه به موارد نقض پروتکل ژنو، اهمیت تاریخی این توافقنامه در چه چیزی نهفته است؟', 'answer': 'اهمیت تاریخی پروتکل ژنو در تلاش برای محدود کردن جنگ\\u200cافزارهای غیرانسانی و ایجاد استانداردهایی برای رفتار در جنگ نهفته است، حتی با وجود نقض\\u200cهای مکرر، این پروتکل همچنان به عنوان یک چارچوب برای منع استفاده از سلاح\\u200cهای شیمیایی محسوب می\\u200cشود.'}]}\n"
          ]
        },
        {
          "name": "stderr",
          "output_type": "stream",
          "text": [
            "\r 93%|█████████▎| 168/181 [06:25<00:27,  2.14s/it]"
          ]
        },
        {
          "name": "stdout",
          "output_type": "stream",
          "text": [
            "{'sentence': 'در سال ۱۲۶۸ هجری قمری، قرارداد رژی در تهران به امضا رسید که به موجب آن، امتیاز انحصاری تجارت توتون و تنباکو به مدت پنجاه سال به تالبوت واگذار شد. این قرارداد که به دلیل مشکلات مالی ناصرالدین شاه و برای تأمین هزینه سفرهایش به اروپا منعقد شد، به سرعت به یک بحران اجتماعی و اقتصادی در ایران دامن زد. مردم از این انحصار که توسط یک شرکت انگلیسی ایجاد شده بود، به شدت ناراضی بودند و این نارضایتی\\u200cها به اعتراضات گسترده\\u200cای انجامید که سرانجام به لغو قرارداد منجر شد. از عوامل اصلی این قرارداد می\\u200cتوان به ناصرالدین شاه و میرزا علی\\u200cاصغرخان امین\\u200cالسلطان اشاره کرد. اهمیت تاریخی این قرارداد در ایجاد یک انحصار دولتی در تجارت توتون و تنباکو و قربانی کردن منافع ملی به سودهای مالیاتی نهفته است. برای کسب اطلاعات بیشتر، می\\u200cتوانید به مقاله «Divine Spark: The Prelude to the Tobacco Régie of 1890» نوشته داوودی مراجعه کنید.', 'Q&A': [{'question': 'چه زمانی قرارداد رژی در تهران به امضا رسید؟', 'answer': 'در سال ۱۲۶۸ هجری قمری.'}, {'question': 'چرا قرارداد رژی امضا شد؟', 'answer': 'به دلیل مشکلات مالی ناصرالدین شاه و برای تأمین هزینه سفرهایش به اروپا.'}, {'question': 'چه کسی امتیاز انحصاری تجارت توتون و تنباکو را دریافت کرد؟', 'answer': 'تالبوت.'}, {'question': 'نتیجه امضای قرارداد رژی چه بود؟', 'answer': 'نارضایتی گسترده مردم و اعتراضاتی که منجر به لغو قرارداد شد.'}, {'question': 'میرزا علی\\u200cاصغرخان امین\\u200cالسلطان در این قرارداد چه نقشی داشت؟', 'answer': 'او از عوامل اصلی امضای قرارداد رژی بود.'}]}\n"
          ]
        },
        {
          "name": "stderr",
          "output_type": "stream",
          "text": [
            "\r 93%|█████████▎| 169/181 [06:28<00:29,  2.43s/it]"
          ]
        },
        {
          "name": "stdout",
          "output_type": "stream",
          "text": [
            "{'sentence': 'محور مقاومت، شبکه\\u200cای از شبه\\u200cنظامیان شیعه تحت حمایت ایران در خاورمیانه است که هدف آن، هماهنگی و اتحاد برای مقابله با اسرائیل و ایالات متحده است. این محور، که شکل\\u200cگیری آن به سال ۲۰۰۲ بازمی\\u200cگردد، شامل گروه\\u200cهایی همچون حزب\\u200cالله لبنان، حماس، جهاد اسلامی فلسطین و حوثی\\u200cهای یمن و گروه\\u200cهای شیعه عراقی می\\u200cشود. این گروه ها از طریق پرورش و متحد ساختن گروه\\u200cهای مسلحی که با اسرائیل و آمریکا دشمنی دارند، توسط جمهوری اسلامی ایران شکل گرفته\\u200cاند. آمریکا اغلب این گروه\\u200cها را به عنوان سازمان\\u200cهای تروریستی طبقه\\u200cبندی می\\u200cکند. این اتحاد، که از نظر تاریخی اهمیت دارد، تلاش برای ایجاد جبهه\\u200cای مشترک در برابر تهدیدات منطقه\\u200cای و جهانی است، و در این میان، نقش ایران و روسیه، ایران و سوریه، و همچنین ایران و حزب\\u200cالله لبنان قابل توجه است.  اطلاعات بیشتری در منابعی مانند ویکی\\u200cپدیا و مقالات متعددی که در این زمینه منتشر شده\\u200cاند، موجود است.', 'Q&A': [{'question': 'محور مقاومت در چه سالی شکل گرفت و چه سازمان\\u200cهایی جزو آن هستند؟', 'answer': 'محور مقاومت در سال ۲۰۰۲ شکل گرفت و شامل گروه\\u200cهایی مانند حزب\\u200cالله لبنان، حماس، جهاد اسلامی فلسطین، حوثی\\u200cهای یمن و گروه\\u200cهای شیعه عراقی می\\u200cشود.'}, {'question': 'هدف اصلی محور مقاومت چه بود و چرا این هدف اهمیت دارد؟', 'answer': 'هدف اصلی محور مقاومت، هماهنگی و اتحاد برای مقابله با اسرائیل و ایالات متحده است. این هدف به دلیل ایجاد جبهه\\u200cای مشترک در برابر تهدیدات منطقه\\u200cای و جهانی اهمیت دارد.'}, {'question': 'چه عاملی باعث شکل\\u200cگیری محور مقاومت شد و چه نقشی در این میان برای ایران در نظر گرفته شده است؟', 'answer': 'محور مقاومت با حمایت جمهوری اسلامی ایران و به منظور پرورش و متحد ساختن گروه\\u200cهای مسلحی که با اسرائیل و آمریکا دشمنی دارند، شکل گرفت. نقش ایران در این میان، کلیدی و محوری است.'}, {'question': 'ایالات متحده چگونه با محور مقاومت برخورد می\\u200cکند و این تقابل چه پیامدهایی داشته است؟', 'answer': 'ایالات متحده اغلب گروه\\u200cهای عضو محور مقاومت را به عنوان سازمان\\u200cهای تروریستی طبقه\\u200cبندی می\\u200cکند. این تقابل منجر به درگیری\\u200cهای منطقه\\u200cای و افزایش تنش\\u200cها شده است.'}, {'question': 'با توجه به اطلاعات موجود، کدام کشورها نقش مهمی در حمایت از محور مقاومت داشته\\u200cاند و این حمایت چه تاثیری بر منطقه دارد؟', 'answer': 'ایران و روسیه، ایران و سوریه، و همچنین ایران و حزب\\u200cالله لبنان نقش مهمی در حمایت از محور مقاومت داشته\\u200cاند. این حمایت بر افزایش نفوذ ایران در منطقه، تغییر موازنه قدرت و افزایش بی\\u200cثباتی تأثیرگذار بوده است.'}]}\n"
          ]
        },
        {
          "name": "stderr",
          "output_type": "stream",
          "text": [
            "\r 94%|█████████▍| 170/181 [06:30<00:25,  2.32s/it]"
          ]
        },
        {
          "name": "stdout",
          "output_type": "stream",
          "text": [
            "{'sentence': 'عهدنامه نصیبین، پیمانی تاریخی بود که در سال ۲۹۸ میلادی منعقد شد و به صلح میان ایران ساسانی به رهبری نرسی و امپراتوری روم به رهبری دیوکلتیان انجامید. این پیمان پس از درگیری\\u200cهای نظامی، به ویژه شکست نرسی توسط گالریوس در سال ۲۹۷ میلادی، به امضا رسید. از علل این پیمان می\\u200cتوان به درگیری\\u200cهای نرسی و بیرون کردن تیرداد سوم، پادشاه ارمنستان مورد حمایت روم، از این منطقه اشاره کرد. در نتیجه این پیمان، صلح ۴۰ ساله\\u200cای بین دو امپراتوری برقرار شد که در آن نرسی از ارمنستان و بین\\u200cالنهرین عقب\\u200cنشینی کرد و این امر به عنوان پیروزی سیاسی برای دیوکلتیان تلقی می\\u200cشد. این پیمان تأثیرات مهمی بر منطقه داشت، از جمله عقب\\u200cنشینی ارتش ساسانی از مناطق استراتژیک. اطلاعات بیشتر در این زمینه را می\\u200cتوان در منابعی مانند ویکی\\u200cپدیا یافت.', 'Q&A': [{'question': 'چه کسی رهبری ایران ساسانی را در زمان انعقاد عهدنامه نصیبین بر عهده داشت؟', 'answer': 'نرسی، پادشاه ساسانی.'}, {'question': 'چرا عهدنامه نصیبین منعقد شد؟', 'answer': 'پس از درگیری\\u200cهای نظامی میان ایران ساسانی و امپراتوری روم و شکست نرسی توسط گالریوس، این پیمان برای برقراری صلح امضا شد.'}, {'question': 'این پیمان چه نتیجه\\u200cای برای نرسی و ایران ساسانی داشت؟', 'answer': 'نرسی مجبور به عقب\\u200cنشینی از ارمنستان و بین\\u200cالنهرین شد.'}, {'question': 'چگونه این عهدنامه بر امپراتوری روم تأثیر گذاشت؟', 'answer': 'این پیمان برای دیوکلتیان به عنوان یک پیروزی سیاسی تلقی شد و صلح ۴۰ ساله\\u200cای را میان دو امپراتوری به ارمغان آورد.'}, {'question': 'اهمیت تاریخی عهدنامه نصیبین در چه بود؟', 'answer': 'این پیمان به دلیل برقراری صلح نسبتاً طولانی مدت بین دو امپراتوری قدرتمند، و همچنین عقب\\u200cنشینی ساسانیان از مناطق استراتژیک، از اهمیت تاریخی بالایی برخوردار است.'}]}\n"
          ]
        },
        {
          "name": "stderr",
          "output_type": "stream",
          "text": [
            "\r 94%|█████████▍| 171/181 [06:33<00:23,  2.34s/it]"
          ]
        },
        {
          "name": "stdout",
          "output_type": "stream",
          "text": [
            "{'sentence': 'کنوانسیون وین درباره ترافیک راه\\u200cها، که با نام کنوانسیون وین نیز شناخته می\\u200cشود، یک پیمان بین\\u200cالمللی است که در سال ۱۹۶۸ با هدف تسهیل ترافیک جاده\\u200cای بین\\u200cالمللی و افزایش ایمنی راه\\u200cها به تصویب رسید. این کنوانسیون در وین منعقد شد و در سال ۱۹۷۱ به اجرا درآمد. ایالات متحده و چین از جمله کشورهایی هستند که در این کنوانسیون حضور داشته\\u200cاند. از جمله دستاوردهای این توافقنامه می\\u200cتوان به تسهیل در تردد وسایل نقلیه با پلاک کشورهای دیگر، تعیین حداقل الزامات ایمنی و مکانیکی برای خودروها، و تعریف علائم شناسایی برای تشخیص کشور مبدأ خودرو اشاره کرد. هدف اصلی این کنوانسیون، افزایش ایمنی و هماهنگی در ترافیک جاده\\u200cای بین\\u200cالمللی است.', 'Q&A': [{'question': 'کنوانسیون وین دقیقاً چه زمانی به اجرا درآمد؟', 'answer': 'کنوانسیون وین در سال ۱۹۷۱ به اجرا درآمد.'}, {'question': 'چه کشوری میزبان کنوانسیون وین بود و این کنوانسیون چه هدفی را دنبال می\\u200cکرد؟', 'answer': 'اتریش میزبان کنوانسیون وین بود و این کنوانسیون با هدف تسهیل ترافیک جاده\\u200cای بین\\u200cالمللی و افزایش ایمنی راه\\u200cها برگزار شد.'}, {'question': 'چرا کنوانسیون وین اهمیت دارد و چه تأثیری بر ترافیک جاده\\u200cای بین\\u200cالمللی داشت؟', 'answer': 'کنوانسیون وین به دلیل تسهیل در تردد وسایل نقلیه با پلاک\\u200cهای بین\\u200cالمللی و تعیین استانداردهای ایمنی، برای ترافیک جاده\\u200cای بین\\u200cالمللی اهمیت دارد.'}, {'question': 'ایالات متحده و چین چه نقشی در کنوانسیون وین داشتند؟', 'answer': 'ایالات متحده و چین از جمله کشورهایی بودند که در کنوانسیون وین شرکت داشتند.'}, {'question': 'چگونه کنوانسیون وین به بهبود ایمنی و هماهنگی در ترافیک جاده\\u200cای بین\\u200cالمللی کمک کرد؟', 'answer': 'کنوانسیون وین با تعیین حداقل الزامات ایمنی برای خودروها و تعریف علائم شناسایی برای تشخیص کشور مبدأ خودرو، به بهبود ایمنی و هماهنگی در ترافیک جاده\\u200cای بین\\u200cالمللی کمک کرد.'}]}\n"
          ]
        },
        {
          "name": "stderr",
          "output_type": "stream",
          "text": [
            "\r 95%|█████████▌| 172/181 [06:35<00:19,  2.22s/it]"
          ]
        },
        {
          "name": "stdout",
          "output_type": "stream",
          "text": [
            "{'sentence': 'قرارداد گس-گلشائیان، که در تاریخ ۲۶ تیر ۱۳۲۸ به عنوان ضمیمه\\u200cای بر قرارداد ۱۹۳۳ بین دولت ایران و نمایندگان شرکت نفت ایران و انگلیس به امضا رسید، گامی مهم در تاریخ روابط نفتی ایران به شمار می\\u200cآید. این قرارداد در پی افزایش مبالغ پرداختی به ایران، به دلیل تغییرات ناشی از جنگ جهانی دوم، منعقد شد. سرنویل گَس و عباسقلی گلشائیان از چهره\\u200cهای کلیدی این قرارداد بودند. شرکت نفت با این قرارداد، تعدیلاتی در مبالغ پرداختی به ایران را پذیرفت. با این حال، این قرارداد در مجلس شورای ملی به تصویب نرسید و در نهایت، قانون ملی شدن صنعت نفت در دوره شانزدهم مجلس به تصویب رسید. اطلاعات تکمیلی در این مورد در منابع متعددی همچون ویکی\\u200cپدیا موجود است.', 'Q&A': [{'question': 'چه زمانی قرارداد گس-گلشائیان امضا شد؟', 'answer': 'قرارداد گس-گلشائیان در تاریخ ۲۶ تیر ۱۳۲۸ به امضا رسید.'}, {'question': 'چرا قرارداد گس-گلشائیان منعقد شد؟', 'answer': 'قرارداد گس-گلشائیان به دلیل افزایش مبالغ پرداختی به ایران در پی تغییرات ناشی از جنگ جهانی دوم منعقد شد.'}, {'question': 'چه کسانی چهره\\u200cهای کلیدی در قرارداد گس-گلشائیان بودند؟', 'answer': 'سرنویل گَس و عباسقلی گلشائیان از چهره\\u200cهای کلیدی این قرارداد بودند.'}, {'question': 'قرارداد گس-گلشائیان چه تاثیری بر روابط نفتی ایران داشت؟', 'answer': 'قرارداد گس-گلشائیان گامی مهم در تاریخ روابط نفتی ایران به شمار می\\u200cآید و در واقع تلاش برای تعدیل شرایط قرارداد ۱۹۳۳ بود.'}, {'question': 'چرا قرارداد گس-گلشائیان در نهایت به تصویب نرسید و چه اتفاقی افتاد؟', 'answer': 'قرارداد گس-گلشائیان در مجلس شورای ملی به تصویب نرسید و در نهایت، قانون ملی شدن صنعت نفت در دوره شانزدهم مجلس به تصویب رسید.'}]}\n"
          ]
        },
        {
          "name": "stderr",
          "output_type": "stream",
          "text": [
            "\r 96%|█████████▌| 173/181 [06:36<00:16,  2.05s/it]"
          ]
        },
        {
          "name": "stdout",
          "output_type": "stream",
          "text": [
            "{'sentence': 'در سال ۱۹۹۲، کنوانسیون چارچوب سازمان ملل متحد دربارهٔ تغییر اقلیم با هدف مقابله با مداخله خطرناک انسان در سیستم آب و هوا، در ریو دو ژانیرو تدوین شد. این معاهده بین\\u200cالمللی که توسط سازمان ملل متحد، بخش محیط زیست و توسعه آن، و ۱۵۴ کشور به امضا رسید، برای پایدارسازی مقدار گازهای گلخانه\\u200cای در جو زمین و مبارزه با تغییرات اقلیمی ایجاد شد. این کنوانسیون، که پیامدهای مهمی نظیر کاهش انتشار گازهای گلخانه\\u200cای و پایداری جو زمین را به دنبال دارد، به دنبال پیشگیری از مشکلات آتی آب و هوایی در جهان است. اطلاعات بیشتر در منابع متعددی از جمله وب\\u200cسایت\\u200cهای سازمان ملل متحد و ویکی\\u200cپدیا قابل دسترسی است.', 'Q&A': [{'question': 'چه زمانی کنوانسیون چارچوب سازمان ملل متحد دربارهٔ تغییر اقلیم تدوین شد؟', 'answer': 'در سال ۱۹۹۲.'}, {'question': 'چه هدفی در تدوین کنوانسیون چارچوب سازمان ملل متحد دربارهٔ تغییر اقلیم وجود داشت؟', 'answer': 'مقابله با مداخله خطرناک انسان در سیستم آب و هوا.'}, {'question': 'چرا این کنوانسیون مهم تلقی می\\u200cشود؟', 'answer': 'زیرا به دنبال پایدارسازی مقدار گازهای گلخانه\\u200cای و پیشگیری از مشکلات آتی آب و هوایی در جهان است.'}, {'question': 'این کنوانسیون توسط چه کسانی امضا شد؟', 'answer': 'توسط سازمان ملل متحد، بخش محیط زیست و توسعه آن، و ۱۵۴ کشور.'}, {'question': 'چگونه این کنوانسیون به تغییرات اقلیمی رسیدگی می\\u200cکند؟', 'answer': 'با هدف پایدارسازی مقدار گازهای گلخانه\\u200cای در جو زمین و در نتیجه، کاهش اثرات منفی ناشی از آن.'}]}\n"
          ]
        },
        {
          "name": "stderr",
          "output_type": "stream",
          "text": [
            "\r 96%|█████████▌| 174/181 [06:39<00:15,  2.21s/it]"
          ]
        },
        {
          "name": "stdout",
          "output_type": "stream",
          "text": [
            "{'sentence': 'کنوانسیون لندن برای جلوگیری از آلودگی دریایی با زباله و مواد دیگر، معاهده\\u200cای بین\\u200cالمللی است که در سال ۱۹۷۲ در لندن پایه\\u200cگذاری شد. هدف اصلی این کنوانسیون، مدیریت پسماندهای دریایی و زباله\\u200cهای ناشی از کشتی\\u200cها، هواپیماها و اسکله\\u200cها است. این پیمان که به اختصار \"ال\\u200cسی۷۲\" یا \"دامپینگ دریایی\" نیز شناخته می\\u200cشود، در ۳۰ اوت ۱۹۷۵ با حضور ۱۶ کشور به اجرا درآمد و تا سال ۲۰۱۶، ۸۹ عضو داشته است. از جمله کشورهای عضو این کنوانسیون می\\u200cتوان به انگلستان، ایالات متحده آمریکا، کانادا، فرانسه، ژاپن، و ایران اشاره کرد. این کنوانسیون شامل ممنوعیت دفن زباله\\u200cهای رادیواکتیو در سال ۱۹۹۳ نیز می\\u200cشود و به عنوان مکملی برای قراردادهای منطقه\\u200cای در زمینه حفاظت از محیط زیست دریایی عمل می\\u200cکند.', 'Q&A': [{'question': 'چه زمانی کنوانسیون لندن برای جلوگیری از آلودگی دریایی به اجرا درآمد؟', 'answer': 'کنوانسیون لندن در تاریخ ۳۰ اوت سال ۱۹۷۵ با حضور ۱۶ کشور به اجرا درآمد.'}, {'question': 'هدف اصلی کنوانسیون لندن چه بود و به چه منظوری پایه\\u200cگذاری شد؟', 'answer': 'هدف اصلی کنوانسیون لندن مدیریت پسماندهای دریایی و زباله\\u200cهای ناشی از کشتی\\u200cها، هواپیماها و اسکله\\u200cها بود و برای جلوگیری از آلودگی دریایی پایه\\u200cگذاری شد.'}, {'question': 'چرا کنوانسیون لندن پس از سال ۱۹۷۲ به اجرا درآمد؟', 'answer': 'کنوانسیون لندن پس از سال ۱۹۷۲، به دلیل نیاز به جمع\\u200cآوری و تأیید کشورهای مختلف و طی مراحل اداری، در سال ۱۹۷۵ به اجرا درآمد.'}, {'question': 'کنوانسیون لندن چه تاثیری بر محیط زیست دریایی داشت؟', 'answer': 'کنوانسیون لندن با ممنوعیت دفن زباله\\u200cهای خطرناک و مدیریت پسماندهای دریایی، در کاهش آلودگی و حفاظت از محیط زیست دریایی نقش مهمی ایفا کرد.'}, {'question': 'با توجه به عضویت کشورهای مختلف در کنوانسیون لندن، این پیمان چه اهمیتی برای جامعه جهانی داشت؟', 'answer': 'با عضویت کشورهای مختلف، کنوانسیون لندن نشان\\u200cدهنده تعهد بین\\u200cالمللی برای حفاظت از محیط زیست دریایی و همکاری در زمینه مدیریت پسماندها بود و اهمیت جهانی داشت.'}]}\n"
          ]
        },
        {
          "name": "stderr",
          "output_type": "stream",
          "text": [
            "\r 97%|█████████▋| 175/181 [06:41<00:12,  2.12s/it]"
          ]
        },
        {
          "name": "stdout",
          "output_type": "stream",
          "text": [
            "{'sentence': 'در سال ۱۸۰۷، یک اتحاد کوتاه مدت میان فرانسه به رهبری ناپلئون بناپارت و ایران در زمان فتحعلی\\u200cشاه قاجار شکل گرفت. این ائتلاف علیه روسیه و بریتانیا بود و هدف اصلی آن، جلب حمایت فرانسه در مقابل روسیه بود. این پیمان که در سال ۱۸۰۷ منعقد شد، نشان\\u200cدهنده یک دوره مهم در روابط تاریخی میان دو کشور است. این اتحاد، به دلیل تمرکز فرانسه بر مبارزات اروپایی و همچنین اتحاد بعدی فرانسه با روسیه، دوام چندانی نیافت. روابط فرانسه و ایران پس از سقوط صفویه در سال ۱۷۲۲ قطع شده بود، اما تلاش\\u200cهایی برای از سرگیری آن پس از انقلاب فرانسه صورت گرفت، که البته به نتیجه نرسید.', 'Q&A': [{'question': 'چه کسی رهبر فرانسه در زمان این اتحاد با ایران بود؟', 'answer': 'ناپلئون بناپارت رهبر فرانسه در زمان این اتحاد بود.'}, {'question': 'چرا فتحعلی\\u200cشاه قاجار به دنبال اتحاد با فرانسه بود؟', 'answer': 'هدف اصلی فتحعلی\\u200cشاه، جلب حمایت فرانسه در مقابل روسیه بود.'}, {'question': 'نتیجه اصلی این اتحاد کوتاه مدت چه بود؟', 'answer': 'این اتحاد تاثیر چندانی نداشت و به دلیل تمرکز فرانسه بر مبارزات اروپایی و اتحاد فرانسه با روسیه، دوام نیافت.'}, {'question': 'این اتحاد چه زمانی به پایان رسید و چه عواملی در آن دخیل بودند؟', 'answer': 'این اتحاد با توجه به تمرکز فرانسه بر مبارزات اروپایی و همچنین اتحاد بعدی فرانسه با روسیه، خیلی زود به پایان رسید.'}, {'question': 'اهمیت این اتحاد کوتاه مدت در روابط میان فرانسه و ایران در چه بود؟', 'answer': 'این اتحاد نشان\\u200cدهنده یک دوره مهم در روابط تاریخی میان دو کشور بود و پس از قطع روابط پس از سقوط صفویه، تلاشی برای تجدید روابط محسوب می\\u200cشد.'}]}\n"
          ]
        },
        {
          "name": "stderr",
          "output_type": "stream",
          "text": [
            "\r 97%|█████████▋| 176/181 [06:43<00:10,  2.14s/it]"
          ]
        },
        {
          "name": "stdout",
          "output_type": "stream",
          "text": [
            "{'sentence': 'برنامه جامع اقدام مشترک (برجام) توافقی تاریخی بود که در تیر ماه ۱۳۹۴ بین ایران و گروه ۱+۵ (آمریکا، اتحادیه اروپا، بریتانیا، فرانسه، آلمان و روسیه) امضا شد. هدف اصلی این توافق، محدود کردن برنامه هسته\\u200cای ایران در ازای لغو تحریم\\u200cهای اقتصادی بود. بر اساس این توافق، ایران متعهد به کاهش فعالیت\\u200cهای غنی\\u200cسازی اورانیوم شد و در مقابل، تحریم\\u200cها علیه این کشور برداشته شد. با این حال، خروج آمریکا از برجام در سال ۲۰۱۸ به ریاست دونالد ترامپ، و اعمال مجدد تحریم\\u200cها، مسیر این توافق را دستخوش تغییر کرد. این اقدام باعث شد ایران نیز به تدریج از تعهدات خود بکاهد و در نهایت، برجام عملاً به پایان رسید. این توافق بر حقوق بشر و بسیاری از موارد دیگر تاثیر گذاشت. از جمله نقض حقوق شهروندان، زندانیان و اقلیت\\u200cها که در پی آن پدید آمد.', 'Q&A': [{'question': 'چه زمانی برنامه جامع اقدام مشترک (برجام) امضا شد؟', 'answer': 'برجام در تیر ماه ۱۳۹۴ بین ایران و گروه ۱+۵ امضا شد.'}, {'question': 'چرا برنامه جامع اقدام مشترک (برجام) امضا شد؟', 'answer': 'هدف اصلی برجام، محدود کردن برنامه هسته\\u200cای ایران در ازای لغو تحریم\\u200cهای اقتصادی بود.'}, {'question': 'خروج آمریکا از برجام در سال ۲۰۱۸ چه نتیجه\\u200cای داشت؟', 'answer': 'خروج آمریکا به ریاست دونالد ترامپ از برجام، باعث اعمال مجدد تحریم\\u200cها علیه ایران و کاهش تعهدات ایران به برجام شد که عملاً به پایان رسیدن آن منجر شد.'}, {'question': 'برجام چه تأثیری بر وضعیت حقوق بشر در ایران داشت؟', 'answer': 'برجام بر حقوق بشر و بسیاری از موارد دیگر تأثیر گذاشت، از جمله نقض حقوق شهروندان، زندانیان و اقلیت\\u200cها که در پی آن پدید آمد.'}, {'question': 'چگونه خروج آمریکا از برجام، سرنوشت این توافق را تغییر داد؟', 'answer': 'خروج آمریکا از برجام، با اعمال مجدد تحریم\\u200cها، باعث شد ایران نیز به تدریج از تعهدات خود بکاهد و در نهایت، برجام عملاً به پایان رسید.'}]}\n"
          ]
        },
        {
          "name": "stderr",
          "output_type": "stream",
          "text": [
            "\r 98%|█████████▊| 177/181 [06:45<00:08,  2.01s/it]"
          ]
        },
        {
          "name": "stdout",
          "output_type": "stream",
          "text": [
            "{'sentence': 'در سال ۱۲۶۷ هجری شمسی، قراردادی با عنوان \"لاتاری\" میان ایران و انگلستان به امضا رسید. این قرارداد که توسط یوزی دو کار دوئل، منشی سفارت ایران در لندن، منعقد شد، بعدها با حواشی بسیاری همراه گردید. میرزا ملکم خان، با این هدف که در صورت بروز مخالفت، قرارداد به آسانی لغو نشود، این قرارداد را به نام دو کار دوئل ثبت کرد. این قرارداد که شامل اعطای امتیاز لاتاری به مبلغ بیست هزار لیره بود، با مخالفت شدید روحانیون و روشنفکران مواجه شد و در نهایت توسط ناصرالدین شاه و میرزاعلی\\u200cاصغر اتابک لغو شد. از پیامدهای این ماجرا می\\u200cتوان به لغو امتیاز لاتاری، فروش پنهانی امتیاز توسط ملکم خان به یک کمپانی دیگر و فعالیت\\u200cهای سیاسی و فرهنگی مرتبط با آن اشاره کرد. این قرارداد، با وجود سرنوشت پرفراز و نشیبش، به عنوان تلاشی اولیه برای جذب سرمایه\\u200cگذاری خارجی و توسعه اقتصادی در تاریخ ایران اهمیت دارد.', 'Q&A': [{'question': 'چه زمانی قرارداد لاتاری میان ایران و انگلستان منعقد شد؟', 'answer': 'در سال ۱۲۶۷ هجری شمسی.'}, {'question': 'چرا میرزا ملکم خان قرارداد لاتاری را به نام یوزی دو کار دوئل ثبت کرد؟', 'answer': 'با هدف جلوگیری از لغو آسان قرارداد در صورت بروز مخالفت.'}, {'question': 'پیامد اصلی امضای قرارداد لاتاری چه بود؟', 'answer': 'مخالفت شدید روحانیون و روشنفکران و در نهایت لغو قرارداد توسط ناصرالدین شاه و میرزاعلی\\u200cاصغر اتابک.'}, {'question': 'چه کسی امتیاز لاتاری را به مبلغ بیست هزار لیره دریافت کرد؟', 'answer': 'طبق قرارداد، کمپانی انگلیسی امتیاز لاتاری را دریافت کرد.'}, {'question': 'اهمیت تاریخی قرارداد لاتاری در چیست؟', 'answer': 'به عنوان تلاشی اولیه برای جذب سرمایه\\u200cگذاری خارجی و توسعه اقتصادی در تاریخ ایران.'}]}\n"
          ]
        },
        {
          "name": "stderr",
          "output_type": "stream",
          "text": [
            "\r 98%|█████████▊| 178/181 [06:47<00:06,  2.06s/it]"
          ]
        },
        {
          "name": "stdout",
          "output_type": "stream",
          "text": [
            "{'sentence': 'در تاریخ ۴ آوریل ۱۹۴۷، معاهدهٔ هوانوردی غیرنظامی بین\\u200cالمللی در شیکاگو آغاز شد، که مهم\\u200cترین قرارداد در زمینهٔ هوانوردی و حقوق هوایی به شمار می\\u200cرود. این معاهده که در کنفرانسی در شیکاگو به تصویب رسید، منجر به تأسیس سازمان بین\\u200cالمللی هوانوردی غیرنظامی (ایکائو) شد. ایران نیز یکی از کشورهای مؤسس ایکائو بود و این معاهده در ۳۰ تیر ۱۳۲۸ هجری شمسی در مجلس شورای ملی به تصویب رسید. از جمله تأثیرات این معاهده، بی\\u200cاثر شدن کنوانسیون ۱۹۱۹ پاریس و معاهده هواپیمایی بازرگانی ۱۹۲۸ هاوانا بود. این قرارداد، که توسط ایالات متحده آمریکا، ۵۰ کشور دیگر از جمله ایران، انگلیس، روسیه، فرانسه و اسپانیا به امضا رسید، نقطه عطفی در تاریخ هوانوردی بین\\u200cالمللی محسوب می\\u200cشود. اطلاعات بیشتر در این خصوص در وبسایت ویکی\\u200cپدیا موجود است.', 'Q&A': [{'question': 'چه زمانی معاهدهٔ هوانوردی غیرنظامی بین\\u200cالمللی در شیکاگو آغاز شد؟', 'answer': 'این معاهده در تاریخ ۴ آوریل ۱۹۴۷ آغاز شد.'}, {'question': 'چرا معاهدهٔ شیکاگو از اهمیت بالایی در تاریخ هوانوردی برخوردار است؟', 'answer': 'این معاهده مهم\\u200cترین قرارداد در زمینهٔ هوانوردی و حقوق هوایی محسوب می\\u200cشود و منجر به تأسیس سازمان بین\\u200cالمللی هوانوردی غیرنظامی (ایکائو) شد.'}, {'question': 'ایکائو، سازمان بین\\u200cالمللی هوانوردی غیرنظامی، از چه چیزی نشأت گرفت؟', 'answer': 'ایکائو از معاهدهٔ هوانوردی غیرنظامی بین\\u200cالمللی در شیکاگو که در سال ۱۹۴۷ به تصویب رسید، نشأت گرفت.'}, {'question': 'کدام کشورها از جمله کشورهای مؤسس ایکائو بودند؟', 'answer': 'ایالات متحده آمریکا، ایران، انگلیس، روسیه، فرانسه و اسپانیا از جمله کشورهای مؤسس ایکائو بودند.'}, {'question': 'تصویب این معاهده در ایران چه تأثیری داشت؟', 'answer': 'تصویب این معاهده در ایران باعث شد تا کنوانسیون ۱۹۱۹ پاریس و معاهده هواپیمایی بازرگانی ۱۹۲۸ هاوانا بی\\u200cاثر شوند.'}]}\n"
          ]
        },
        {
          "name": "stderr",
          "output_type": "stream",
          "text": [
            "\r 99%|█████████▉| 179/181 [06:49<00:04,  2.16s/it]"
          ]
        },
        {
          "name": "stdout",
          "output_type": "stream",
          "text": [
            "{'sentence': 'در سال ۱۹۱۷، قراردادی موسوم به \"امتیاز خوشتاریا\" بین دولت ایران و آکاکی خوشتاریا، یکی از اتباع روسیه، به امضا رسید. این قرارداد به خوشتاریا اجازه بهره\\u200cبرداری از منابع ایران را می\\u200cداد. وثوق\\u200cالدوله، نخست\\u200cوزیر وقت، این امتیازنامه را برای ۷۰ سال اعطا کرد. طبق این قرارداد، دولت ایران ۱۲ درصد از سود حاصل از بهره\\u200cبرداری از منابع نفت در پنج ایالت شمالی را دریافت می\\u200cکرد. این امتیازنامه، که در تهران منعقد شد، به دلیل اتهامات رشوه و افشای رازهای آن، چالش\\u200cهایی را برای روابط ایران با شوروینیز به وجود آورد.', 'Q&A': [{'question': 'چه کسی امتیاز خوشتاریا را دریافت کرد؟', 'answer': 'آکاکی خوشتاریا، یکی از اتباع روسیه، این امتیاز را دریافت کرد.'}, {'question': 'امتیاز خوشتاریا در چه سالی به امضا رسید؟', 'answer': 'در سال ۱۹۱۷ میلادی این قرارداد امضا شد.'}, {'question': 'چرا این امتیازنامه برای روابط ایران با شوروی چالش\\u200cبرانگیز بود؟', 'answer': 'به دلیل اتهامات رشوه و افشای رازهای امتیازنامه، این قرارداد روابط ایران و شوروی را دچار چالش کرد.'}, {'question': 'بر اساس قرارداد خوشتاریا، دولت ایران چه سهمی از سود حاصل از بهره\\u200cبرداری را دریافت می\\u200cکرد؟', 'answer': 'دولت ایران ۱۲ درصد از سود حاصل از بهره\\u200cبرداری از منابع نفت در پنج ایالت شمالی را دریافت می\\u200cکرد.'}, {'question': 'وثوق\\u200cالدوله با اعطای امتیاز خوشتاریا، چه اهدافی را دنبال می\\u200cکرد؟ (استنباطی)', 'answer': 'احتمالاً وثوق\\u200cالدوله با این کار، به دنبال منافع اقتصادی، جلب حمایت روسیه، یا تأمین بودجه دولت در آن شرایط بوده است.'}]}\n"
          ]
        },
        {
          "name": "stderr",
          "output_type": "stream",
          "text": [
            "\r 99%|█████████▉| 180/181 [06:51<00:01,  1.96s/it]"
          ]
        },
        {
          "name": "stdout",
          "output_type": "stream",
          "text": [
            "{'sentence': 'در سال ۱۹۸۹، پیمان\\u200cنامه حقوق کودک، یک پیمان بین\\u200cالمللی که حقوق مدنی، سیاسی، اقتصادی، اجتماعی و فرهنگی کودکان را مشخص می\\u200cکند، توسط مجمع عمومی سازمان ملل متحد تصویب شد. این پیمان\\u200cنامه که از ۲ سپتامبر ۱۹۹۰ لازم\\u200cالاجرا شده است، تاکنون توسط ۱۹۳ کشور (به جز ایالات متحده آمریکا) تصویب یا به آن ملحق شده است. امضای این پیمان\\u200cنامه به معنای پذیرش تعهدات مندرج در آن توسط کشورهاست و دولت\\u200cها موظف به اجرای آن هستند. این سند، اولین سند حقوق بشر است که در تاریخ به تصویب رسیده و به همین دلیل، از اهمیت تاریخی بالایی برخوردار است. رسیدگی به تخلفات و شکایت\\u200cهای مربوط به این پیمان\\u200cنامه، بر عهده کمیته حقوق کودک ملل متحد است.', 'Q&A': [{'question': 'چه زمانی پیمان\\u200cنامه حقوق کودک توسط مجمع عمومی سازمان ملل متحد تصویب شد؟', 'answer': 'در سال ۱۹۸۹.'}, {'question': 'چرا پیمان\\u200cنامه حقوق کودک از اهمیت تاریخی بالایی برخوردار است؟', 'answer': 'زیرا اولین سند حقوق بشر است که در تاریخ به تصویب رسیده است.'}, {'question': 'چه کشورهایی به پیمان\\u200cنامه حقوق کودک ملحق نشده\\u200cاند؟', 'answer': 'ایالات متحده آمریکا.'}, {'question': 'چگونه کشورها به پیمان\\u200cنامه حقوق کودک متعهد می\\u200cشوند؟', 'answer': 'با امضای این پیمان\\u200cنامه، کشورها تعهدات مندرج در آن را می\\u200cپذیرند.'}, {'question': 'کمیته حقوق کودک ملل متحد مسئول رسیدگی به چه موضوعاتی است؟', 'answer': 'رسیدگی به تخلفات و شکایت\\u200cهای مربوط به پیمان\\u200cنامه حقوق کودک.'}]}\n"
          ]
        },
        {
          "name": "stderr",
          "output_type": "stream",
          "text": [
            "100%|██████████| 181/181 [06:53<00:00,  2.28s/it]"
          ]
        },
        {
          "name": "stdout",
          "output_type": "stream",
          "text": [
            "{'sentence': 'کنوانسیون مربوط به وضعیت پناهندگان، یک معاهده بین\\u200cالمللی است که توسط سازمان ملل متحد در ۲۸ ژوئیه ۱۹۵۱ به تصویب رسید و در سال ۱۹۵۴ به اجرا درآمد. این کنوانسیون حقوق پناهندگان را مشخص می\\u200cکند و مسئولیت\\u200cهای کشورهای عضو را در قبال آنان تعیین می\\u200cکند. در ابتدا، این کنوانسیون محدود به پناهندگان اروپایی پس از جنگ جهانی دوم بود، اما با گذشت زمان و در سال ۱۹۶۷، محدودیت\\u200cهای جغرافیایی و زمانی آن برداشته شد و دامنه شمول آن گسترش یافت. هدف اصلی این کنوانسیون، تعریف پناهنده و تعیین حقوق و وظایف مربوط به حمایت از این افراد است. این سند مهم، از طریق وبسایت ویکی\\u200cپدیا قابل دسترسی است.', 'Q&A': [{'question': 'کنوانسیون مربوط به وضعیت پناهندگان در چه تاریخی به تصویب رسید؟', 'answer': 'این کنوانسیون در ۲۸ ژوئیه ۱۹۵۱ توسط سازمان ملل متحد به تصویب رسید.'}, {'question': 'هدف اصلی کنوانسیون مربوط به وضعیت پناهندگان چه بود؟', 'answer': 'هدف اصلی این کنوانسیون تعریف پناهنده و تعیین حقوق و وظایف مربوط به حمایت از این افراد بود.'}, {'question': 'در ابتدا، کنوانسیون مربوط به وضعیت پناهندگان محدود به چه کسانی بود؟', 'answer': 'در ابتدا، این کنوانسیون محدود به پناهندگان اروپایی پس از جنگ جهانی دوم بود.'}, {'question': 'چگونه محدوده شمول کنوانسیون در سال ۱۹۶۷ گسترش یافت؟', 'answer': 'با گذشت زمان و در سال ۱۹۶۷، محدودیت\\u200cهای جغرافیایی و زمانی کنوانسیون برداشته شد و دامنه شمول آن گسترش یافت.'}, {'question': 'اهمیت این کنوانسیون برای جوامع بین\\u200cالمللی در چیست؟', 'answer': 'این کنوانسیون با مشخص کردن حقوق پناهندگان و تعیین مسئولیت\\u200cهای کشورهای عضو، نقش مهمی در حمایت از افراد آواره و آسیب\\u200cپذیر در سراسر جهان ایفا می\\u200cکند.'}]}\n"
          ]
        },
        {
          "name": "stderr",
          "output_type": "stream",
          "text": [
            "\n"
          ]
        }
      ],
      "source": [
        "QUESTION_GEN_PROMPT = \"\"\"\n",
        "You are a historical data question generator. Given the following one-line summary of a historical event, generate **5 diverse Persian (Farsi) question-answer pairs** that follow these rules:\n",
        "\n",
        "- Use various **wh-questions** such as \"چه کسی؟ چه چیزی؟ چه زمانی؟ چرا؟ چگونه؟\"\n",
        "- Include different **question types**: factual, reasoning, cause-effect, and inference-based.\n",
        "- Ensure the questions span multiple fields: title, date, cause, result, impact, key figures, and significance.\n",
        "- Write questions and answers clearly and concisely in natural, formal Persian (Farsi).\n",
        "- Do not use emojis or bullet points.\n",
        "- DO not generate question form references of information.\n",
        "- Output format must be:\n",
        "  سؤال: [question]\n",
        "  پاسخ: [answer]\n",
        "\n",
        "Here is the historical event summary:\n",
        "{text}\n",
        "\"\"\"\n",
        "filename = \"/content/drive/MyDrive/NLP_HW2/History/ReadableFormats/QA_records.json\"\n",
        "\n",
        "for sentence in tqdm(all_sentences[:10]):\n",
        "  response = ask_gemini(QUESTION_GEN_PROMPT.replace('{text}', sentence))\n",
        "\n",
        "  rec = qan_parser(sentence, response)\n",
        "\n",
        "  print(rec)\n",
        "  with open(filename, \"a\", encoding=\"utf-8\") as f:\n",
        "    json.dump(rec, f, ensure_ascii=False, indent=2)\n"
      ]
    },
    {
      "cell_type": "code",
      "execution_count": null,
      "metadata": {
        "id": "v2wp5oKozCU9"
      },
      "outputs": [],
      "source": [
        "filename = \"/content/drive/MyDrive/NLP_HW2/History/ReadableFormats/QA_records_final.json\"\n",
        "\n",
        "with open(filename, 'w', encoding='utf-8') as f:\n",
        "    json.dump(records, f, ensure_ascii=False, indent=2)"
      ]
    }
  ],
  "metadata": {
    "colab": {
      "provenance": []
    },
    "kernelspec": {
      "display_name": "Python 3",
      "name": "python3"
    },
    "language_info": {
      "name": "python"
    },
    "widgets": {
      "application/vnd.jupyter.widget-state+json": {
        "0a67b69e014645a2b74176562205c292": {
          "model_module": "@jupyter-widgets/base",
          "model_module_version": "1.2.0",
          "model_name": "LayoutModel",
          "state": {
            "_model_module": "@jupyter-widgets/base",
            "_model_module_version": "1.2.0",
            "_model_name": "LayoutModel",
            "_view_count": null,
            "_view_module": "@jupyter-widgets/base",
            "_view_module_version": "1.2.0",
            "_view_name": "LayoutView",
            "align_content": null,
            "align_items": "center",
            "align_self": null,
            "border": null,
            "bottom": null,
            "display": "flex",
            "flex": null,
            "flex_flow": "column",
            "grid_area": null,
            "grid_auto_columns": null,
            "grid_auto_flow": null,
            "grid_auto_rows": null,
            "grid_column": null,
            "grid_gap": null,
            "grid_row": null,
            "grid_template_areas": null,
            "grid_template_columns": null,
            "grid_template_rows": null,
            "height": null,
            "justify_content": null,
            "justify_items": null,
            "left": null,
            "margin": null,
            "max_height": null,
            "max_width": null,
            "min_height": null,
            "min_width": null,
            "object_fit": null,
            "object_position": null,
            "order": null,
            "overflow": null,
            "overflow_x": null,
            "overflow_y": null,
            "padding": null,
            "right": null,
            "top": null,
            "visibility": null,
            "width": "50%"
          }
        },
        "0c22e1d541f7456aa7e132061ecf5a50": {
          "model_module": "@jupyter-widgets/base",
          "model_module_version": "1.2.0",
          "model_name": "LayoutModel",
          "state": {
            "_model_module": "@jupyter-widgets/base",
            "_model_module_version": "1.2.0",
            "_model_name": "LayoutModel",
            "_view_count": null,
            "_view_module": "@jupyter-widgets/base",
            "_view_module_version": "1.2.0",
            "_view_name": "LayoutView",
            "align_content": null,
            "align_items": null,
            "align_self": null,
            "border": null,
            "bottom": null,
            "display": null,
            "flex": null,
            "flex_flow": null,
            "grid_area": null,
            "grid_auto_columns": null,
            "grid_auto_flow": null,
            "grid_auto_rows": null,
            "grid_column": null,
            "grid_gap": null,
            "grid_row": null,
            "grid_template_areas": null,
            "grid_template_columns": null,
            "grid_template_rows": null,
            "height": null,
            "justify_content": null,
            "justify_items": null,
            "left": null,
            "margin": null,
            "max_height": null,
            "max_width": null,
            "min_height": null,
            "min_width": null,
            "object_fit": null,
            "object_position": null,
            "order": null,
            "overflow": null,
            "overflow_x": null,
            "overflow_y": null,
            "padding": null,
            "right": null,
            "top": null,
            "visibility": null,
            "width": null
          }
        },
        "0d419428b0fd49168da1d88f14c485ec": {
          "model_module": "@jupyter-widgets/controls",
          "model_module_version": "1.5.0",
          "model_name": "DescriptionStyleModel",
          "state": {
            "_model_module": "@jupyter-widgets/controls",
            "_model_module_version": "1.5.0",
            "_model_name": "DescriptionStyleModel",
            "_view_count": null,
            "_view_module": "@jupyter-widgets/base",
            "_view_module_version": "1.2.0",
            "_view_name": "StyleView",
            "description_width": ""
          }
        },
        "15fb5912e697464ba7bf8e905406aa18": {
          "model_module": "@jupyter-widgets/controls",
          "model_module_version": "1.5.0",
          "model_name": "HTMLModel",
          "state": {
            "_dom_classes": [],
            "_model_module": "@jupyter-widgets/controls",
            "_model_module_version": "1.5.0",
            "_model_name": "HTMLModel",
            "_view_count": null,
            "_view_module": "@jupyter-widgets/controls",
            "_view_module_version": "1.5.0",
            "_view_name": "HTMLView",
            "description": "",
            "description_tooltip": null,
            "layout": "IPY_MODEL_c15c619fcdb54b6b805732c374173420",
            "placeholder": "​",
            "style": "IPY_MODEL_0d419428b0fd49168da1d88f14c485ec",
            "value": "\n<b>Pro Tip:</b> If you don't already have one, you can create a dedicated\n'notebooks' token with 'write' access, that you can then easily reuse for all\nnotebooks. </center>"
          }
        },
        "29aefabbc84049b38679471ded864398": {
          "model_module": "@jupyter-widgets/base",
          "model_module_version": "1.2.0",
          "model_name": "LayoutModel",
          "state": {
            "_model_module": "@jupyter-widgets/base",
            "_model_module_version": "1.2.0",
            "_model_name": "LayoutModel",
            "_view_count": null,
            "_view_module": "@jupyter-widgets/base",
            "_view_module_version": "1.2.0",
            "_view_name": "LayoutView",
            "align_content": null,
            "align_items": null,
            "align_self": null,
            "border": null,
            "bottom": null,
            "display": null,
            "flex": null,
            "flex_flow": null,
            "grid_area": null,
            "grid_auto_columns": null,
            "grid_auto_flow": null,
            "grid_auto_rows": null,
            "grid_column": null,
            "grid_gap": null,
            "grid_row": null,
            "grid_template_areas": null,
            "grid_template_columns": null,
            "grid_template_rows": null,
            "height": null,
            "justify_content": null,
            "justify_items": null,
            "left": null,
            "margin": null,
            "max_height": null,
            "max_width": null,
            "min_height": null,
            "min_width": null,
            "object_fit": null,
            "object_position": null,
            "order": null,
            "overflow": null,
            "overflow_x": null,
            "overflow_y": null,
            "padding": null,
            "right": null,
            "top": null,
            "visibility": null,
            "width": null
          }
        },
        "2bab600d5b424bd899267abac2150736": {
          "model_module": "@jupyter-widgets/controls",
          "model_module_version": "1.5.0",
          "model_name": "ButtonModel",
          "state": {
            "_dom_classes": [],
            "_model_module": "@jupyter-widgets/controls",
            "_model_module_version": "1.5.0",
            "_model_name": "ButtonModel",
            "_view_count": null,
            "_view_module": "@jupyter-widgets/controls",
            "_view_module_version": "1.5.0",
            "_view_name": "ButtonView",
            "button_style": "",
            "description": "Login",
            "disabled": false,
            "icon": "",
            "layout": "IPY_MODEL_58d024aa25034276af2bc0f3fd6234d9",
            "style": "IPY_MODEL_4f14bcb91d494df993c6b4e598aaddb4",
            "tooltip": ""
          }
        },
        "41623c2d461741a48f1e18ca0e35e3be": {
          "model_module": "@jupyter-widgets/controls",
          "model_module_version": "1.5.0",
          "model_name": "CheckboxModel",
          "state": {
            "_dom_classes": [],
            "_model_module": "@jupyter-widgets/controls",
            "_model_module_version": "1.5.0",
            "_model_name": "CheckboxModel",
            "_view_count": null,
            "_view_module": "@jupyter-widgets/controls",
            "_view_module_version": "1.5.0",
            "_view_name": "CheckboxView",
            "description": "Add token as git credential?",
            "description_tooltip": null,
            "disabled": false,
            "indent": true,
            "layout": "IPY_MODEL_e20f737e23cf4e0e87d9d459845b2bde",
            "style": "IPY_MODEL_92a71e0a223d4376993ea49bd3b1d7fc",
            "value": true
          }
        },
        "4f14bcb91d494df993c6b4e598aaddb4": {
          "model_module": "@jupyter-widgets/controls",
          "model_module_version": "1.5.0",
          "model_name": "ButtonStyleModel",
          "state": {
            "_model_module": "@jupyter-widgets/controls",
            "_model_module_version": "1.5.0",
            "_model_name": "ButtonStyleModel",
            "_view_count": null,
            "_view_module": "@jupyter-widgets/base",
            "_view_module_version": "1.2.0",
            "_view_name": "StyleView",
            "button_color": null,
            "font_weight": ""
          }
        },
        "5169107c97834f14a09dcbe0faa390dc": {
          "model_module": "@jupyter-widgets/controls",
          "model_module_version": "1.5.0",
          "model_name": "PasswordModel",
          "state": {
            "_dom_classes": [],
            "_model_module": "@jupyter-widgets/controls",
            "_model_module_version": "1.5.0",
            "_model_name": "PasswordModel",
            "_view_count": null,
            "_view_module": "@jupyter-widgets/controls",
            "_view_module_version": "1.5.0",
            "_view_name": "PasswordView",
            "continuous_update": true,
            "description": "Token:",
            "description_tooltip": null,
            "disabled": false,
            "layout": "IPY_MODEL_0c22e1d541f7456aa7e132061ecf5a50",
            "placeholder": "​",
            "style": "IPY_MODEL_d8f2f32f150b40b0beb5053ce18ef667",
            "value": ""
          }
        },
        "586c3c81b9e54c0d9ec46d2a679a2283": {
          "model_module": "@jupyter-widgets/controls",
          "model_module_version": "1.5.0",
          "model_name": "LabelModel",
          "state": {
            "_dom_classes": [],
            "_model_module": "@jupyter-widgets/controls",
            "_model_module_version": "1.5.0",
            "_model_name": "LabelModel",
            "_view_count": null,
            "_view_module": "@jupyter-widgets/controls",
            "_view_module_version": "1.5.0",
            "_view_name": "LabelView",
            "description": "",
            "description_tooltip": null,
            "layout": "IPY_MODEL_dd7cd9f5240648aebce3e15979db756a",
            "placeholder": "​",
            "style": "IPY_MODEL_ddf4a0a6837242dba88fc4d34b5f7510",
            "value": "Connecting..."
          }
        },
        "58d024aa25034276af2bc0f3fd6234d9": {
          "model_module": "@jupyter-widgets/base",
          "model_module_version": "1.2.0",
          "model_name": "LayoutModel",
          "state": {
            "_model_module": "@jupyter-widgets/base",
            "_model_module_version": "1.2.0",
            "_model_name": "LayoutModel",
            "_view_count": null,
            "_view_module": "@jupyter-widgets/base",
            "_view_module_version": "1.2.0",
            "_view_name": "LayoutView",
            "align_content": null,
            "align_items": null,
            "align_self": null,
            "border": null,
            "bottom": null,
            "display": null,
            "flex": null,
            "flex_flow": null,
            "grid_area": null,
            "grid_auto_columns": null,
            "grid_auto_flow": null,
            "grid_auto_rows": null,
            "grid_column": null,
            "grid_gap": null,
            "grid_row": null,
            "grid_template_areas": null,
            "grid_template_columns": null,
            "grid_template_rows": null,
            "height": null,
            "justify_content": null,
            "justify_items": null,
            "left": null,
            "margin": null,
            "max_height": null,
            "max_width": null,
            "min_height": null,
            "min_width": null,
            "object_fit": null,
            "object_position": null,
            "order": null,
            "overflow": null,
            "overflow_x": null,
            "overflow_y": null,
            "padding": null,
            "right": null,
            "top": null,
            "visibility": null,
            "width": null
          }
        },
        "64021fe48b524be394623839e2c61ce6": {
          "model_module": "@jupyter-widgets/controls",
          "model_module_version": "1.5.0",
          "model_name": "HTMLModel",
          "state": {
            "_dom_classes": [],
            "_model_module": "@jupyter-widgets/controls",
            "_model_module_version": "1.5.0",
            "_model_name": "HTMLModel",
            "_view_count": null,
            "_view_module": "@jupyter-widgets/controls",
            "_view_module_version": "1.5.0",
            "_view_name": "HTMLView",
            "description": "",
            "description_tooltip": null,
            "layout": "IPY_MODEL_29aefabbc84049b38679471ded864398",
            "placeholder": "​",
            "style": "IPY_MODEL_fc7fea70038b43849da09ac77c0b13f1",
            "value": "<center> <img\nsrc=https://huggingface.co/front/assets/huggingface_logo-noborder.svg\nalt='Hugging Face'> <br> Copy a token from <a\nhref=\"https://huggingface.co/settings/tokens\" target=\"_blank\">your Hugging Face\ntokens page</a> and paste it below. <br> Immediately click login after copying\nyour token or it might be stored in plain text in this notebook file. </center>"
          }
        },
        "78a4b7dd249c4ee9a61f538fb6026fb0": {
          "model_module": "@jupyter-widgets/controls",
          "model_module_version": "1.5.0",
          "model_name": "VBoxModel",
          "state": {
            "_dom_classes": [],
            "_model_module": "@jupyter-widgets/controls",
            "_model_module_version": "1.5.0",
            "_model_name": "VBoxModel",
            "_view_count": null,
            "_view_module": "@jupyter-widgets/controls",
            "_view_module_version": "1.5.0",
            "_view_name": "VBoxView",
            "box_style": "",
            "children": [],
            "layout": "IPY_MODEL_0a67b69e014645a2b74176562205c292"
          }
        },
        "92a71e0a223d4376993ea49bd3b1d7fc": {
          "model_module": "@jupyter-widgets/controls",
          "model_module_version": "1.5.0",
          "model_name": "DescriptionStyleModel",
          "state": {
            "_model_module": "@jupyter-widgets/controls",
            "_model_module_version": "1.5.0",
            "_model_name": "DescriptionStyleModel",
            "_view_count": null,
            "_view_module": "@jupyter-widgets/base",
            "_view_module_version": "1.2.0",
            "_view_name": "StyleView",
            "description_width": ""
          }
        },
        "c15c619fcdb54b6b805732c374173420": {
          "model_module": "@jupyter-widgets/base",
          "model_module_version": "1.2.0",
          "model_name": "LayoutModel",
          "state": {
            "_model_module": "@jupyter-widgets/base",
            "_model_module_version": "1.2.0",
            "_model_name": "LayoutModel",
            "_view_count": null,
            "_view_module": "@jupyter-widgets/base",
            "_view_module_version": "1.2.0",
            "_view_name": "LayoutView",
            "align_content": null,
            "align_items": null,
            "align_self": null,
            "border": null,
            "bottom": null,
            "display": null,
            "flex": null,
            "flex_flow": null,
            "grid_area": null,
            "grid_auto_columns": null,
            "grid_auto_flow": null,
            "grid_auto_rows": null,
            "grid_column": null,
            "grid_gap": null,
            "grid_row": null,
            "grid_template_areas": null,
            "grid_template_columns": null,
            "grid_template_rows": null,
            "height": null,
            "justify_content": null,
            "justify_items": null,
            "left": null,
            "margin": null,
            "max_height": null,
            "max_width": null,
            "min_height": null,
            "min_width": null,
            "object_fit": null,
            "object_position": null,
            "order": null,
            "overflow": null,
            "overflow_x": null,
            "overflow_y": null,
            "padding": null,
            "right": null,
            "top": null,
            "visibility": null,
            "width": null
          }
        },
        "d8f2f32f150b40b0beb5053ce18ef667": {
          "model_module": "@jupyter-widgets/controls",
          "model_module_version": "1.5.0",
          "model_name": "DescriptionStyleModel",
          "state": {
            "_model_module": "@jupyter-widgets/controls",
            "_model_module_version": "1.5.0",
            "_model_name": "DescriptionStyleModel",
            "_view_count": null,
            "_view_module": "@jupyter-widgets/base",
            "_view_module_version": "1.2.0",
            "_view_name": "StyleView",
            "description_width": ""
          }
        },
        "dd7cd9f5240648aebce3e15979db756a": {
          "model_module": "@jupyter-widgets/base",
          "model_module_version": "1.2.0",
          "model_name": "LayoutModel",
          "state": {
            "_model_module": "@jupyter-widgets/base",
            "_model_module_version": "1.2.0",
            "_model_name": "LayoutModel",
            "_view_count": null,
            "_view_module": "@jupyter-widgets/base",
            "_view_module_version": "1.2.0",
            "_view_name": "LayoutView",
            "align_content": null,
            "align_items": null,
            "align_self": null,
            "border": null,
            "bottom": null,
            "display": null,
            "flex": null,
            "flex_flow": null,
            "grid_area": null,
            "grid_auto_columns": null,
            "grid_auto_flow": null,
            "grid_auto_rows": null,
            "grid_column": null,
            "grid_gap": null,
            "grid_row": null,
            "grid_template_areas": null,
            "grid_template_columns": null,
            "grid_template_rows": null,
            "height": null,
            "justify_content": null,
            "justify_items": null,
            "left": null,
            "margin": null,
            "max_height": null,
            "max_width": null,
            "min_height": null,
            "min_width": null,
            "object_fit": null,
            "object_position": null,
            "order": null,
            "overflow": null,
            "overflow_x": null,
            "overflow_y": null,
            "padding": null,
            "right": null,
            "top": null,
            "visibility": null,
            "width": null
          }
        },
        "ddf4a0a6837242dba88fc4d34b5f7510": {
          "model_module": "@jupyter-widgets/controls",
          "model_module_version": "1.5.0",
          "model_name": "DescriptionStyleModel",
          "state": {
            "_model_module": "@jupyter-widgets/controls",
            "_model_module_version": "1.5.0",
            "_model_name": "DescriptionStyleModel",
            "_view_count": null,
            "_view_module": "@jupyter-widgets/base",
            "_view_module_version": "1.2.0",
            "_view_name": "StyleView",
            "description_width": ""
          }
        },
        "e20f737e23cf4e0e87d9d459845b2bde": {
          "model_module": "@jupyter-widgets/base",
          "model_module_version": "1.2.0",
          "model_name": "LayoutModel",
          "state": {
            "_model_module": "@jupyter-widgets/base",
            "_model_module_version": "1.2.0",
            "_model_name": "LayoutModel",
            "_view_count": null,
            "_view_module": "@jupyter-widgets/base",
            "_view_module_version": "1.2.0",
            "_view_name": "LayoutView",
            "align_content": null,
            "align_items": null,
            "align_self": null,
            "border": null,
            "bottom": null,
            "display": null,
            "flex": null,
            "flex_flow": null,
            "grid_area": null,
            "grid_auto_columns": null,
            "grid_auto_flow": null,
            "grid_auto_rows": null,
            "grid_column": null,
            "grid_gap": null,
            "grid_row": null,
            "grid_template_areas": null,
            "grid_template_columns": null,
            "grid_template_rows": null,
            "height": null,
            "justify_content": null,
            "justify_items": null,
            "left": null,
            "margin": null,
            "max_height": null,
            "max_width": null,
            "min_height": null,
            "min_width": null,
            "object_fit": null,
            "object_position": null,
            "order": null,
            "overflow": null,
            "overflow_x": null,
            "overflow_y": null,
            "padding": null,
            "right": null,
            "top": null,
            "visibility": null,
            "width": null
          }
        },
        "fc7fea70038b43849da09ac77c0b13f1": {
          "model_module": "@jupyter-widgets/controls",
          "model_module_version": "1.5.0",
          "model_name": "DescriptionStyleModel",
          "state": {
            "_model_module": "@jupyter-widgets/controls",
            "_model_module_version": "1.5.0",
            "_model_name": "DescriptionStyleModel",
            "_view_count": null,
            "_view_module": "@jupyter-widgets/base",
            "_view_module_version": "1.2.0",
            "_view_name": "StyleView",
            "description_width": ""
          }
        }
      }
    }
  },
  "nbformat": 4,
  "nbformat_minor": 0
}
